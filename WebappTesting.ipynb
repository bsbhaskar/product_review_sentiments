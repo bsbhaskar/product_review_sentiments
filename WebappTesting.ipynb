{
 "cells": [
  {
   "cell_type": "code",
   "execution_count": 1,
   "metadata": {},
   "outputs": [
    {
     "name": "stdout",
     "output_type": "stream",
     "text": [
      "[nltk_data] Downloading package stopwords to\n",
      "[nltk_data]     /Users/bhaskarballapragada/nltk_data...\n",
      "[nltk_data]   Package stopwords is already up-to-date!\n",
      "[nltk_data] Downloading package wordnet to\n",
      "[nltk_data]     /Users/bhaskarballapragada/nltk_data...\n",
      "[nltk_data]   Package wordnet is already up-to-date!\n"
     ]
    }
   ],
   "source": [
    "import psycopg2\n",
    "from collections import Counter\n",
    "from flask import Flask, request\n",
    "from src.naive_review_analyzer import NaiveReviewAnalyzer\n",
    "from src.LdaReviewAnalyzer import LdaReviewAnalyzer\n",
    "from src.load_review_data import ReviewDataLoader\n",
    "import pickle\n",
    "import pandas as pd"
   ]
  },
  {
   "cell_type": "code",
   "execution_count": 6,
   "metadata": {},
   "outputs": [],
   "source": [
    "rdl = ReviewDataLoader()\n",
    "nra = NaiveReviewAnalyzer()\n",
    "lda = LdaReviewAnalyzer(num_topics=5)\n",
    "df_all = rdl.retrieve_all_reviews()\n",
    "lda.build_vectorize(df_all)\n",
    "lda.fit(df_all, random_state=22)"
   ]
  },
  {
   "cell_type": "code",
   "execution_count": 7,
   "metadata": {},
   "outputs": [
    {
     "data": {
      "text/html": [
       "<div>\n",
       "<style scoped>\n",
       "    .dataframe tbody tr th:only-of-type {\n",
       "        vertical-align: middle;\n",
       "    }\n",
       "\n",
       "    .dataframe tbody tr th {\n",
       "        vertical-align: top;\n",
       "    }\n",
       "\n",
       "    .dataframe thead th {\n",
       "        text-align: right;\n",
       "    }\n",
       "</style>\n",
       "<table border=\"1\" class=\"dataframe\">\n",
       "  <thead>\n",
       "    <tr style=\"text-align: right;\">\n",
       "      <th></th>\n",
       "      <th>id</th>\n",
       "      <th>product</th>\n",
       "      <th>url</th>\n",
       "      <th>p_no</th>\n",
       "      <th>r_no</th>\n",
       "      <th>r_stars</th>\n",
       "      <th>r_date</th>\n",
       "      <th>r_name</th>\n",
       "      <th>r_title</th>\n",
       "      <th>r_text</th>\n",
       "      <th>r_comments</th>\n",
       "      <th>brand_name</th>\n",
       "      <th>category</th>\n",
       "      <th>model</th>\n",
       "      <th>rating</th>\n",
       "      <th>reviews</th>\n",
       "    </tr>\n",
       "  </thead>\n",
       "  <tbody>\n",
       "    <tr>\n",
       "      <th>0</th>\n",
       "      <td>475</td>\n",
       "      <td>Samsung Electronics UN65MU6300 65-Inch 4K Ultr...</td>\n",
       "      <td>https://www.amazon.com/Samsung-Electronics-UN6...</td>\n",
       "      <td>1</td>\n",
       "      <td>1</td>\n",
       "      <td>5.0 out of 5 stars</td>\n",
       "      <td>August 28, 2017</td>\n",
       "      <td>James Barrow</td>\n",
       "      <td>Someone here complained that the television is...</td>\n",
       "      <td>Before I purchased this television, I read alm...</td>\n",
       "      <td>Verified Purchase          Helpful          No...</td>\n",
       "      <td>Samsung</td>\n",
       "      <td>tv</td>\n",
       "      <td>UN65MU6300</td>\n",
       "      <td>5</td>\n",
       "      <td>Someone here complained that the television is...</td>\n",
       "    </tr>\n",
       "    <tr>\n",
       "      <th>1</th>\n",
       "      <td>504</td>\n",
       "      <td>Samsung Electronics UN65MU6300 65-Inch 4K Ultr...</td>\n",
       "      <td>https://www.amazon.com/Samsung-Electronics-UN6...</td>\n",
       "      <td>3</td>\n",
       "      <td>30</td>\n",
       "      <td>5.0 out of 5 stars</td>\n",
       "      <td>June 25, 2017</td>\n",
       "      <td>Alex C. Tarpenning</td>\n",
       "      <td>This is a great tv, after all</td>\n",
       "      <td>This is a great tv, after all, its a Samsung. ...</td>\n",
       "      <td>Verified Purchase          Helpful          No...</td>\n",
       "      <td>Samsung</td>\n",
       "      <td>tv</td>\n",
       "      <td>UN65MU6300</td>\n",
       "      <td>5</td>\n",
       "      <td>This is a great tv, after all This is a great ...</td>\n",
       "    </tr>\n",
       "    <tr>\n",
       "      <th>2</th>\n",
       "      <td>536</td>\n",
       "      <td>Samsung Electronics UN65MU6300 65-Inch 4K Ultr...</td>\n",
       "      <td>https://www.amazon.com/Samsung-Electronics-UN6...</td>\n",
       "      <td>7</td>\n",
       "      <td>62</td>\n",
       "      <td>1.0 out of 5 stars</td>\n",
       "      <td>April 29, 2018</td>\n",
       "      <td>Alexis Mcphee</td>\n",
       "      <td>Dont waste your money on this, save more than ...</td>\n",
       "      <td>Samsung is throwing the term \"Smart\" around ve...</td>\n",
       "      <td>Verified Purchase          Helpful          No...</td>\n",
       "      <td>Samsung</td>\n",
       "      <td>tv</td>\n",
       "      <td>UN65MU6300</td>\n",
       "      <td>1</td>\n",
       "      <td>Dont waste your money on this, save more than ...</td>\n",
       "    </tr>\n",
       "  </tbody>\n",
       "</table>\n",
       "</div>"
      ],
      "text/plain": [
       "    id                                            product  \\\n",
       "0  475  Samsung Electronics UN65MU6300 65-Inch 4K Ultr...   \n",
       "1  504  Samsung Electronics UN65MU6300 65-Inch 4K Ultr...   \n",
       "2  536  Samsung Electronics UN65MU6300 65-Inch 4K Ultr...   \n",
       "\n",
       "                                                 url  p_no  r_no  \\\n",
       "0  https://www.amazon.com/Samsung-Electronics-UN6...     1     1   \n",
       "1  https://www.amazon.com/Samsung-Electronics-UN6...     3    30   \n",
       "2  https://www.amazon.com/Samsung-Electronics-UN6...     7    62   \n",
       "\n",
       "              r_stars           r_date              r_name  \\\n",
       "0  5.0 out of 5 stars  August 28, 2017        James Barrow   \n",
       "1  5.0 out of 5 stars    June 25, 2017  Alex C. Tarpenning   \n",
       "2  1.0 out of 5 stars   April 29, 2018       Alexis Mcphee   \n",
       "\n",
       "                                             r_title  \\\n",
       "0  Someone here complained that the television is...   \n",
       "1                      This is a great tv, after all   \n",
       "2  Dont waste your money on this, save more than ...   \n",
       "\n",
       "                                              r_text  \\\n",
       "0  Before I purchased this television, I read alm...   \n",
       "1  This is a great tv, after all, its a Samsung. ...   \n",
       "2  Samsung is throwing the term \"Smart\" around ve...   \n",
       "\n",
       "                                          r_comments brand_name category  \\\n",
       "0  Verified Purchase          Helpful          No...    Samsung       tv   \n",
       "1  Verified Purchase          Helpful          No...    Samsung       tv   \n",
       "2  Verified Purchase          Helpful          No...    Samsung       tv   \n",
       "\n",
       "        model  rating                                            reviews  \n",
       "0  UN65MU6300       5  Someone here complained that the television is...  \n",
       "1  UN65MU6300       5  This is a great tv, after all This is a great ...  \n",
       "2  UN65MU6300       1  Dont waste your money on this, save more than ...  "
      ]
     },
     "execution_count": 7,
     "metadata": {},
     "output_type": "execute_result"
    }
   ],
   "source": [
    "df_all.head(3)"
   ]
  },
  {
   "cell_type": "code",
   "execution_count": 8,
   "metadata": {},
   "outputs": [],
   "source": [
    "mdl = \"UN65MU6300\"\n",
    "df = rdl.retrieve_reviews(mdl)\n",
    "total_count = df['rating'].count()\n",
    "df_neg = df[df['rating'].apply(lambda x: x in [1,2])]\n",
    "neg_count = df_neg['rating'].count()\n",
    "df_pos = df[df['rating'].apply(lambda x: x in [4,5])]\n",
    "pos_count = df_pos['rating'].count()\n",
    "nra.create_bow(df)\n",
    "token_dict_neg = nra.create_word_list(rating=[1,2])\n",
    "token_dict_pos = nra.create_word_list(rating=[4,5])"
   ]
  },
  {
   "cell_type": "code",
   "execution_count": 10,
   "metadata": {},
   "outputs": [
    {
     "data": {
      "text/plain": [
       "([('remote', 100),\n",
       "  ('working', 83),\n",
       "  ('buy', 77),\n",
       "  ('broken', 77),\n",
       "  ('work', 76),\n",
       "  ('picture', 74),\n",
       "  ('box', 69),\n",
       "  ('return', 69),\n",
       "  ('cracked', 63),\n",
       "  ('service', 62),\n",
       "  ('customer', 60),\n",
       "  ('problem', 60),\n",
       "  ('received', 59),\n",
       "  ('product', 57),\n",
       "  ('day', 57),\n",
       "  ('months', 57),\n",
       "  ('experience', 56),\n",
       "  ('defective', 56),\n",
       "  ('time', 56),\n",
       "  ('bought', 55),\n",
       "  ('turn', 54),\n",
       "  ('get', 53),\n",
       "  ('terrible', 53),\n",
       "  ('damaged', 53),\n",
       "  ('didnt', 53),\n",
       "  ('would', 52),\n",
       "  ('item', 52),\n",
       "  ('quality', 50),\n",
       "  ('new', 49),\n",
       "  ('bad', 49),\n",
       "  ('sound', 48),\n",
       "  ('support', 48),\n",
       "  ('returned', 48),\n",
       "  ('arrived', 48),\n",
       "  ('dead', 48),\n",
       "  ('stopped', 47),\n",
       "  ('used', 46),\n",
       "  ('works', 46),\n",
       "  ('see', 46),\n",
       "  ('ads', 46),\n",
       "  ('smart', 46),\n",
       "  ('days', 45),\n",
       "  ('send', 45)],\n",
       " [('good', 100),\n",
       "  ('picture', 79),\n",
       "  ('remote', 67),\n",
       "  ('sound', 52),\n",
       "  ('price', 44),\n",
       "  ('quality', 44),\n",
       "  ('easy', 38),\n",
       "  ('love', 34),\n",
       "  ('get', 34),\n",
       "  ('excellent', 31),\n",
       "  ('buy', 29),\n",
       "  ('everything', 27),\n",
       "  ('smart', 27),\n",
       "  ('works', 27),\n",
       "  ('control', 26),\n",
       "  ('would', 26),\n",
       "  ('setup', 25),\n",
       "  ('better', 25),\n",
       "  ('voice', 24),\n",
       "  ('color', 24),\n",
       "  ('little', 23),\n",
       "  ('screen', 23),\n",
       "  ('bit', 22),\n",
       "  ('clarity', 22),\n",
       "  ('problem', 22),\n",
       "  ('time', 21),\n",
       "  ('expected', 21),\n",
       "  ('features', 21),\n",
       "  ('product', 21),\n",
       "  ('used', 21),\n",
       "  ('hd', 21),\n",
       "  ('beautiful', 20),\n",
       "  ('best', 20),\n",
       "  ('fine', 20),\n",
       "  ('value', 20),\n",
       "  ('seems', 20),\n",
       "  ('new', 19),\n",
       "  ('work', 19)])"
      ]
     },
     "execution_count": 10,
     "metadata": {},
     "output_type": "execute_result"
    }
   ],
   "source": [
    "token_dict_neg, token_dict_pos"
   ]
  },
  {
   "cell_type": "code",
   "execution_count": 46,
   "metadata": {},
   "outputs": [
    {
     "name": "stderr",
     "output_type": "stream",
     "text": [
      "/anaconda3/lib/python3.6/site-packages/sklearn/decomposition/online_lda.py:294: DeprecationWarning: n_topics has been renamed to n_components in version 0.19 and will be removed in 0.21\n",
      "  DeprecationWarning)\n"
     ]
    }
   ],
   "source": [
    "lda = LdaReviewAnalyzer(df)\n",
    "lda.fit_transform(num_topics=2)"
   ]
  },
  {
   "cell_type": "code",
   "execution_count": 49,
   "metadata": {},
   "outputs": [
    {
     "name": "stdout",
     "output_type": "stream",
     "text": [
      "{'Topic 0:': [('screen', 13.873610768501232), ('star', 10.089493920059724), ('return', 9.769666358113481), ('product', 9.735898249621703), ('arrived', 8.44264873359179), ('box', 7.766599661088615), ('days', 5.0107752522583064), ('picture', 4.978058199047383), ('defective', 4.920997189795073), ('broken', 4.893751932060211)], 'Topic 1:': [('star', 8.786871929505246), ('screen', 8.281345384769914), ('good', 6.809297267924743), ('came', 6.743479994493487), ('just', 6.33984009097089), ('right', 5.8275206335201855), ('buy', 5.657198290934609), ('broken', 5.124657914516982), ('like', 5.069875120580583), ('picture', 3.487413663208283)]}\n"
     ]
    }
   ],
   "source": [
    "print(lda.get_topics())"
   ]
  },
  {
   "cell_type": "code",
   "execution_count": 50,
   "metadata": {},
   "outputs": [
    {
     "name": "stderr",
     "output_type": "stream",
     "text": [
      "/anaconda3/lib/python3.6/site-packages/pyLDAvis/_prepare.py:387: DeprecationWarning: \n",
      ".ix is deprecated. Please use\n",
      ".loc for label based indexing or\n",
      ".iloc for positional indexing\n",
      "\n",
      "See the documentation here:\n",
      "http://pandas.pydata.org/pandas-docs/stable/indexing.html#ix-indexer-is-deprecated\n",
      "  topic_term_dists = topic_term_dists.ix[topic_order]\n"
     ]
    }
   ],
   "source": [
    "lda.display_topic_model()"
   ]
  },
  {
   "cell_type": "code",
   "execution_count": null,
   "metadata": {},
   "outputs": [],
   "source": [
    "from src.naive_review_analyzer import NaiveReviewAnalyzer\n",
    "from src.LdaReviewAnalyzer import LdaReviewAnalyzer"
   ]
  },
  {
   "cell_type": "code",
   "execution_count": null,
   "metadata": {},
   "outputs": [],
   "source": [
    "nra = NaiveReviewAnalyzer()"
   ]
  },
  {
   "cell_type": "code",
   "execution_count": null,
   "metadata": {},
   "outputs": [],
   "source": []
  }
 ],
 "metadata": {
  "kernelspec": {
   "display_name": "Python 3",
   "language": "python",
   "name": "python3"
  },
  "language_info": {
   "codemirror_mode": {
    "name": "ipython",
    "version": 3
   },
   "file_extension": ".py",
   "mimetype": "text/x-python",
   "name": "python",
   "nbconvert_exporter": "python",
   "pygments_lexer": "ipython3",
   "version": "3.6.4"
  }
 },
 "nbformat": 4,
 "nbformat_minor": 2
}
