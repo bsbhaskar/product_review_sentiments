{
 "cells": [
  {
   "cell_type": "code",
   "execution_count": 44,
   "metadata": {},
   "outputs": [],
   "source": [
    "import psycopg2\n",
    "from collections import Counter\n",
    "from flask import Flask, request\n",
    "from src.naive_review_analyzer import NaiveReviewAnalyzer\n",
    "from src.LdaReviewAnalyzer import LdaReviewAnalyzer\n",
    "from src.load_review_data import ReviewDataLoader\n",
    "import pickle\n",
    "import pandas as pd"
   ]
  },
  {
   "cell_type": "code",
   "execution_count": 30,
   "metadata": {},
   "outputs": [
    {
     "name": "stdout",
     "output_type": "stream",
     "text": [
      "[nltk_data] Downloading package stopwords to\n",
      "[nltk_data]     /Users/bhaskarballapragada/nltk_data...\n",
      "[nltk_data]   Package stopwords is already up-to-date!\n",
      "[nltk_data] Downloading package wordnet to\n",
      "[nltk_data]     /Users/bhaskarballapragada/nltk_data...\n",
      "[nltk_data]   Package wordnet is already up-to-date!\n"
     ]
    }
   ],
   "source": [
    "model = '65UJ6300'\n",
    "rdl = ReviewDataLoader()\n",
    "df = rdl.retrieve_reviews(model)"
   ]
  },
  {
   "cell_type": "code",
   "execution_count": 31,
   "metadata": {},
   "outputs": [
    {
     "data": {
      "text/html": [
       "<div>\n",
       "<style scoped>\n",
       "    .dataframe tbody tr th:only-of-type {\n",
       "        vertical-align: middle;\n",
       "    }\n",
       "\n",
       "    .dataframe tbody tr th {\n",
       "        vertical-align: top;\n",
       "    }\n",
       "\n",
       "    .dataframe thead th {\n",
       "        text-align: right;\n",
       "    }\n",
       "</style>\n",
       "<table border=\"1\" class=\"dataframe\">\n",
       "  <thead>\n",
       "    <tr style=\"text-align: right;\">\n",
       "      <th></th>\n",
       "      <th>id</th>\n",
       "      <th>product</th>\n",
       "      <th>url</th>\n",
       "      <th>p_no</th>\n",
       "      <th>r_no</th>\n",
       "      <th>r_stars</th>\n",
       "      <th>r_date</th>\n",
       "      <th>r_name</th>\n",
       "      <th>r_title</th>\n",
       "      <th>r_text</th>\n",
       "      <th>r_comments</th>\n",
       "      <th>brand_name</th>\n",
       "      <th>category</th>\n",
       "      <th>model</th>\n",
       "      <th>rating</th>\n",
       "      <th>reviews</th>\n",
       "    </tr>\n",
       "  </thead>\n",
       "  <tbody>\n",
       "    <tr>\n",
       "      <th>0</th>\n",
       "      <td>34</td>\n",
       "      <td>LG Electronics 65UJ6300 65-Inch 4K Ultra HD Sm...</td>\n",
       "      <td>https://www.amazon.com/LG-Electronics-65UJ6300...</td>\n",
       "      <td>4</td>\n",
       "      <td>34</td>\n",
       "      <td>4.0 out of 5 stars</td>\n",
       "      <td>February 28, 2018</td>\n",
       "      <td>LifeScore</td>\n",
       "      <td>Good but I wouldnt say great</td>\n",
       "      <td>There are pros and cons to this TVPROS:  Price...</td>\n",
       "      <td>Verified Purchase          Helpful          No...</td>\n",
       "      <td>LG</td>\n",
       "      <td>tv</td>\n",
       "      <td>65UJ6300</td>\n",
       "      <td>4</td>\n",
       "      <td>Good but I wouldnt say great There are pros an...</td>\n",
       "    </tr>\n",
       "    <tr>\n",
       "      <th>1</th>\n",
       "      <td>195</td>\n",
       "      <td>LG Electronics 65UJ6300 65-Inch 4K Ultra HD Sm...</td>\n",
       "      <td>https://www.amazon.com/LG-Electronics-65UJ6300...</td>\n",
       "      <td>20</td>\n",
       "      <td>195</td>\n",
       "      <td>4.0 out of 5 stars</td>\n",
       "      <td>September 3, 2017</td>\n",
       "      <td>TOO MANY HOBBIES</td>\n",
       "      <td>In this day and age Apps should be available f...</td>\n",
       "      <td>It was the best 4K TV at the price I found. Th...</td>\n",
       "      <td>Verified Purchase          Helpful          No...</td>\n",
       "      <td>LG</td>\n",
       "      <td>tv</td>\n",
       "      <td>65UJ6300</td>\n",
       "      <td>4</td>\n",
       "      <td>In this day and age Apps should be available f...</td>\n",
       "    </tr>\n",
       "    <tr>\n",
       "      <th>2</th>\n",
       "      <td>244</td>\n",
       "      <td>LG Electronics 65UJ6300 65-Inch 4K Ultra HD Sm...</td>\n",
       "      <td>https://www.amazon.com/LG-Electronics-65UJ6300...</td>\n",
       "      <td>25</td>\n",
       "      <td>244</td>\n",
       "      <td>5.0 out of 5 stars</td>\n",
       "      <td>February 23, 2018</td>\n",
       "      <td>Steven P.</td>\n",
       "      <td>Five Stars</td>\n",
       "      <td>Great TV</td>\n",
       "      <td>Verified Purchase          Helpful          No...</td>\n",
       "      <td>LG</td>\n",
       "      <td>tv</td>\n",
       "      <td>65UJ6300</td>\n",
       "      <td>5</td>\n",
       "      <td>Five Stars Great TV</td>\n",
       "    </tr>\n",
       "  </tbody>\n",
       "</table>\n",
       "</div>"
      ],
      "text/plain": [
       "    id                                            product  \\\n",
       "0   34  LG Electronics 65UJ6300 65-Inch 4K Ultra HD Sm...   \n",
       "1  195  LG Electronics 65UJ6300 65-Inch 4K Ultra HD Sm...   \n",
       "2  244  LG Electronics 65UJ6300 65-Inch 4K Ultra HD Sm...   \n",
       "\n",
       "                                                 url  p_no  r_no  \\\n",
       "0  https://www.amazon.com/LG-Electronics-65UJ6300...     4    34   \n",
       "1  https://www.amazon.com/LG-Electronics-65UJ6300...    20   195   \n",
       "2  https://www.amazon.com/LG-Electronics-65UJ6300...    25   244   \n",
       "\n",
       "              r_stars             r_date            r_name  \\\n",
       "0  4.0 out of 5 stars  February 28, 2018         LifeScore   \n",
       "1  4.0 out of 5 stars  September 3, 2017  TOO MANY HOBBIES   \n",
       "2  5.0 out of 5 stars  February 23, 2018         Steven P.   \n",
       "\n",
       "                                             r_title  \\\n",
       "0                       Good but I wouldnt say great   \n",
       "1  In this day and age Apps should be available f...   \n",
       "2                                         Five Stars   \n",
       "\n",
       "                                              r_text  \\\n",
       "0  There are pros and cons to this TVPROS:  Price...   \n",
       "1  It was the best 4K TV at the price I found. Th...   \n",
       "2                                           Great TV   \n",
       "\n",
       "                                          r_comments brand_name category  \\\n",
       "0  Verified Purchase          Helpful          No...         LG       tv   \n",
       "1  Verified Purchase          Helpful          No...         LG       tv   \n",
       "2  Verified Purchase          Helpful          No...         LG       tv   \n",
       "\n",
       "      model  rating                                            reviews  \n",
       "0  65UJ6300       4  Good but I wouldnt say great There are pros an...  \n",
       "1  65UJ6300       4  In this day and age Apps should be available f...  \n",
       "2  65UJ6300       5                                Five Stars Great TV  "
      ]
     },
     "execution_count": 31,
     "metadata": {},
     "output_type": "execute_result"
    }
   ],
   "source": [
    "df.head(3)"
   ]
  },
  {
   "cell_type": "code",
   "execution_count": 33,
   "metadata": {},
   "outputs": [],
   "source": [
    "nra = NaiveReviewAnalyzer(df)\n",
    "nra.create_bow()\n",
    "list_of_tokens = nra.create_word_list()"
   ]
  },
  {
   "cell_type": "code",
   "execution_count": 34,
   "metadata": {},
   "outputs": [
    {
     "name": "stdout",
     "output_type": "stream",
     "text": [
      "{'VERB': ['working', 'shattered', 'damaged', 'cracked', 'came', 'arrived', 'broken'], 'ADV': ['white'], 'ADJ': ['disappointed', 'defective', 'opened'], 'NOUN': ['arrival', 'product', 'item', 'days', 'return', 'tv', 'box', 'screen']}\n"
     ]
    }
   ],
   "source": [
    "print (list_of_tokens)"
   ]
  },
  {
   "cell_type": "code",
   "execution_count": 46,
   "metadata": {},
   "outputs": [
    {
     "name": "stderr",
     "output_type": "stream",
     "text": [
      "/anaconda3/lib/python3.6/site-packages/sklearn/decomposition/online_lda.py:294: DeprecationWarning: n_topics has been renamed to n_components in version 0.19 and will be removed in 0.21\n",
      "  DeprecationWarning)\n"
     ]
    }
   ],
   "source": [
    "lda = LdaReviewAnalyzer(df)\n",
    "lda.fit_transform(num_topics=2)"
   ]
  },
  {
   "cell_type": "code",
   "execution_count": 49,
   "metadata": {},
   "outputs": [
    {
     "name": "stdout",
     "output_type": "stream",
     "text": [
      "{'Topic 0:': [('screen', 13.873610768501232), ('star', 10.089493920059724), ('return', 9.769666358113481), ('product', 9.735898249621703), ('arrived', 8.44264873359179), ('box', 7.766599661088615), ('days', 5.0107752522583064), ('picture', 4.978058199047383), ('defective', 4.920997189795073), ('broken', 4.893751932060211)], 'Topic 1:': [('star', 8.786871929505246), ('screen', 8.281345384769914), ('good', 6.809297267924743), ('came', 6.743479994493487), ('just', 6.33984009097089), ('right', 5.8275206335201855), ('buy', 5.657198290934609), ('broken', 5.124657914516982), ('like', 5.069875120580583), ('picture', 3.487413663208283)]}\n"
     ]
    }
   ],
   "source": [
    "print(lda.get_topics())"
   ]
  },
  {
   "cell_type": "code",
   "execution_count": 50,
   "metadata": {},
   "outputs": [
    {
     "name": "stderr",
     "output_type": "stream",
     "text": [
      "/anaconda3/lib/python3.6/site-packages/pyLDAvis/_prepare.py:387: DeprecationWarning: \n",
      ".ix is deprecated. Please use\n",
      ".loc for label based indexing or\n",
      ".iloc for positional indexing\n",
      "\n",
      "See the documentation here:\n",
      "http://pandas.pydata.org/pandas-docs/stable/indexing.html#ix-indexer-is-deprecated\n",
      "  topic_term_dists = topic_term_dists.ix[topic_order]\n"
     ]
    }
   ],
   "source": [
    "lda.display_topic_model()"
   ]
  },
  {
   "cell_type": "code",
   "execution_count": null,
   "metadata": {},
   "outputs": [],
   "source": []
  }
 ],
 "metadata": {
  "kernelspec": {
   "display_name": "Python 3",
   "language": "python",
   "name": "python3"
  },
  "language_info": {
   "codemirror_mode": {
    "name": "ipython",
    "version": 3
   },
   "file_extension": ".py",
   "mimetype": "text/x-python",
   "name": "python",
   "nbconvert_exporter": "python",
   "pygments_lexer": "ipython3",
   "version": "3.6.4"
  }
 },
 "nbformat": 4,
 "nbformat_minor": 2
}
