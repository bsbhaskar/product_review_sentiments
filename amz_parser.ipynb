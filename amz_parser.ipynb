{
 "cells": [
  {
   "cell_type": "code",
   "execution_count": 1,
   "metadata": {},
   "outputs": [],
   "source": [
    "import pickle\n",
    "from bs4 import BeautifulSoup\n",
    "import psycopg2\n",
    "import pandas as pd"
   ]
  },
  {
   "cell_type": "code",
   "execution_count": 2,
   "metadata": {},
   "outputs": [],
   "source": [
    "file_name = 'data/scrape_tv_list_60_2'\n",
    "url = 'https://www.amazon.com/Samsung-Electronics-UN65MU6300-65-Inch-Ultra/product-reviews/B06XGXDDJZ/ref=cm_cr_dp_d_show_all_top?ie=UTF8&reviewerType=all_reviews'"
   ]
  },
  {
   "cell_type": "code",
   "execution_count": 13,
   "metadata": {},
   "outputs": [],
   "source": [
    "def store_reviews(file, id, url):\n",
    "    conn = psycopg2.connect(dbname='product_reviews', user='postgres', password='', host='localhost')\n",
    "    cursor = conn.cursor()\n",
    "    file_name = f'data/scraped_data/{file}_{id}'\n",
    "    documents = pickle.load(open(file_name,\"rb\"))\n",
    "    print (len(documents))\n",
    "    product_name = ''\n",
    "    p_no = 0\n",
    "    r_no = 0\n",
    "    for document in documents:\n",
    "        soup = BeautifulSoup(document,'html.parser')\n",
    "        p_no += 1\n",
    "        reviews = soup.select(\"div.review\")\n",
    "        product_name = soup.select(\"div.product-title\")[0].text.replace('\\\"','').replace('\\'','')\n",
    "        brand = soup.select(\"div.product-by-line\")[0].text\n",
    "        for review in reviews:\n",
    "            r_no += 1\n",
    "            links = review.findAll('a')\n",
    "            stars = links[0].text\n",
    "            title = links[1].text.replace('\\\"','').replace('\\'','')\n",
    "            reviewer_name = links[2].text.replace('\\\"','').replace('\\'','')\n",
    "            size = links[3].text\n",
    "            comments = links[4].text + links[5].text + links[6].text\n",
    "            comments = comments.replace('\\n','')\n",
    "            review_text = review.select('span.review-text')[0].text\n",
    "            vote_text = review.select('span.cr-vote-text')\n",
    "            review_date = review.select('span.review-date')[0].text\n",
    "            sql = '''insert into reviews (product_name, url, page_no, r_no, r_stars, r_date, r_name, r_title, r_text, r_comments) \n",
    "            values ('{}','{}',{},{},'{}','{}','{}','{}','{}','{}');'''.format(product_name.replace('\\'',''), url, p_no, r_no, stars, review_date[3:], reviewer_name, title.replace('\\'',''), review_text.replace('\\'',''), comments.replace('\\'',''))\n",
    "            cursor.execute(sql)\n",
    "            conn.commit()\n",
    "    cursor.close()\n",
    "    conn.close()"
   ]
  },
  {
   "cell_type": "code",
   "execution_count": 8,
   "metadata": {},
   "outputs": [
    {
     "name": "stdout",
     "output_type": "stream",
     "text": [
      "/Users/bhaskarballapragada/Documents/Galvanize/product_review_sentiments\r\n"
     ]
    }
   ],
   "source": [
    "!pwd"
   ]
  },
  {
   "cell_type": "code",
   "execution_count": 15,
   "metadata": {},
   "outputs": [
    {
     "name": "stdout",
     "output_type": "stream",
     "text": [
      "48\n",
      "167\n",
      "50\n",
      "15\n",
      "18\n",
      "10\n",
      "32\n",
      "15\n",
      "7\n",
      "15\n",
      "33\n",
      "22\n",
      "4\n",
      "4\n",
      "2\n",
      "4\n",
      "8\n",
      "5\n",
      "1\n",
      "7\n",
      "1\n",
      "2\n"
     ]
    }
   ],
   "source": [
    "df = pd.read_csv('data/scrape_tv_list_60.csv')\n",
    "for row in df.iterrows():\n",
    "     store_reviews('scrape_tv_list_60',int(row[1][0]), row[1][3])"
   ]
  },
  {
   "cell_type": "code",
   "execution_count": null,
   "metadata": {},
   "outputs": [],
   "source": []
  }
 ],
 "metadata": {
  "kernelspec": {
   "display_name": "Python 3",
   "language": "python",
   "name": "python3"
  },
  "language_info": {
   "codemirror_mode": {
    "name": "ipython",
    "version": 3
   },
   "file_extension": ".py",
   "mimetype": "text/x-python",
   "name": "python",
   "nbconvert_exporter": "python",
   "pygments_lexer": "ipython3",
   "version": "3.6.4"
  },
  "widgets": {
   "state": {},
   "version": "1.1.2"
  }
 },
 "nbformat": 4,
 "nbformat_minor": 2
}
