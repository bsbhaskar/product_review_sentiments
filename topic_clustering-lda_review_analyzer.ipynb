{
 "cells": [
  {
   "cell_type": "code",
   "execution_count": 162,
   "metadata": {},
   "outputs": [],
   "source": [
    "import psycopg2\n",
    "import pandas as pd\n",
    "import numpy as np\n",
    "import warnings\n",
    "warnings.filterwarnings(\"ignore\")"
   ]
  },
  {
   "cell_type": "code",
   "execution_count": 163,
   "metadata": {},
   "outputs": [
    {
     "data": {
      "text/html": [
       "<div>\n",
       "<style scoped>\n",
       "    .dataframe tbody tr th:only-of-type {\n",
       "        vertical-align: middle;\n",
       "    }\n",
       "\n",
       "    .dataframe tbody tr th {\n",
       "        vertical-align: top;\n",
       "    }\n",
       "\n",
       "    .dataframe thead th {\n",
       "        text-align: right;\n",
       "    }\n",
       "</style>\n",
       "<table border=\"1\" class=\"dataframe\">\n",
       "  <thead>\n",
       "    <tr style=\"text-align: right;\">\n",
       "      <th></th>\n",
       "      <th>id</th>\n",
       "      <th>product</th>\n",
       "      <th>url</th>\n",
       "      <th>p_no</th>\n",
       "      <th>r_no</th>\n",
       "      <th>r_stars</th>\n",
       "      <th>r_date</th>\n",
       "      <th>r_name</th>\n",
       "      <th>r_title</th>\n",
       "      <th>r_text</th>\n",
       "      <th>r_comments</th>\n",
       "      <th>brand_name</th>\n",
       "      <th>category</th>\n",
       "      <th>model</th>\n",
       "      <th>rating</th>\n",
       "      <th>reviews</th>\n",
       "    </tr>\n",
       "  </thead>\n",
       "  <tbody>\n",
       "    <tr>\n",
       "      <th>0</th>\n",
       "      <td>6897</td>\n",
       "      <td>LG Electronics 55UJ6300 55-Inch 4K Ultra HD Sm...</td>\n",
       "      <td>https://www.amazon.com/LG-Electronics-55UJ6300...</td>\n",
       "      <td>14</td>\n",
       "      <td>134</td>\n",
       "      <td>4.0 out of 5 stars</td>\n",
       "      <td>February 10, 2018</td>\n",
       "      <td>Richard Monigold</td>\n",
       "      <td>Four Stars</td>\n",
       "      <td>nice tv</td>\n",
       "      <td>Verified Purchase          Helpful          No...</td>\n",
       "      <td>LG</td>\n",
       "      <td>tv</td>\n",
       "      <td>55UJ6300</td>\n",
       "      <td>4</td>\n",
       "      <td>Four Stars nice tv</td>\n",
       "    </tr>\n",
       "    <tr>\n",
       "      <th>1</th>\n",
       "      <td>6898</td>\n",
       "      <td>LG Electronics 55UJ6300 55-Inch 4K Ultra HD Sm...</td>\n",
       "      <td>https://www.amazon.com/LG-Electronics-55UJ6300...</td>\n",
       "      <td>14</td>\n",
       "      <td>135</td>\n",
       "      <td>5.0 out of 5 stars</td>\n",
       "      <td>May 15, 2018</td>\n",
       "      <td>Amazon Customer</td>\n",
       "      <td>Five Stars</td>\n",
       "      <td>Love it</td>\n",
       "      <td>Verified Purchase          Helpful          No...</td>\n",
       "      <td>LG</td>\n",
       "      <td>tv</td>\n",
       "      <td>55UJ6300</td>\n",
       "      <td>5</td>\n",
       "      <td>Five Stars Love it</td>\n",
       "    </tr>\n",
       "  </tbody>\n",
       "</table>\n",
       "</div>"
      ],
      "text/plain": [
       "     id                                            product  \\\n",
       "0  6897  LG Electronics 55UJ6300 55-Inch 4K Ultra HD Sm...   \n",
       "1  6898  LG Electronics 55UJ6300 55-Inch 4K Ultra HD Sm...   \n",
       "\n",
       "                                                 url  p_no  r_no  \\\n",
       "0  https://www.amazon.com/LG-Electronics-55UJ6300...    14   134   \n",
       "1  https://www.amazon.com/LG-Electronics-55UJ6300...    14   135   \n",
       "\n",
       "              r_stars             r_date            r_name     r_title  \\\n",
       "0  4.0 out of 5 stars  February 10, 2018  Richard Monigold  Four Stars   \n",
       "1  5.0 out of 5 stars       May 15, 2018   Amazon Customer  Five Stars   \n",
       "\n",
       "    r_text                                         r_comments brand_name  \\\n",
       "0  nice tv  Verified Purchase          Helpful          No...         LG   \n",
       "1  Love it  Verified Purchase          Helpful          No...         LG   \n",
       "\n",
       "  category     model  rating             reviews  \n",
       "0       tv  55UJ6300       4  Four Stars nice tv  \n",
       "1       tv  55UJ6300       5  Five Stars Love it  "
      ]
     },
     "execution_count": 163,
     "metadata": {},
     "output_type": "execute_result"
    }
   ],
   "source": [
    "from src.load_review_data import ReviewDataLoader\n",
    "rdl = ReviewDataLoader()\n",
    "df = rdl.retrieve_all_reviews()\n",
    "#df = rdl.retrieve_reviews('LG Electronics 65UJ6300 65-Inch 4K Ultra HD Smart LED TV (2017 Model)')\n",
    "df.head(2)"
   ]
  },
  {
   "cell_type": "code",
   "execution_count": 191,
   "metadata": {},
   "outputs": [
    {
     "data": {
      "text/html": [
       "<div>\n",
       "<style scoped>\n",
       "    .dataframe tbody tr th:only-of-type {\n",
       "        vertical-align: middle;\n",
       "    }\n",
       "\n",
       "    .dataframe tbody tr th {\n",
       "        vertical-align: top;\n",
       "    }\n",
       "\n",
       "    .dataframe thead th {\n",
       "        text-align: right;\n",
       "    }\n",
       "</style>\n",
       "<table border=\"1\" class=\"dataframe\">\n",
       "  <thead>\n",
       "    <tr style=\"text-align: right;\">\n",
       "      <th></th>\n",
       "      <th>rating</th>\n",
       "      <th>product</th>\n",
       "      <th>reviews</th>\n",
       "      <th>model</th>\n",
       "      <th>review_length</th>\n",
       "    </tr>\n",
       "  </thead>\n",
       "  <tbody>\n",
       "    <tr>\n",
       "      <th>3</th>\n",
       "      <td>1</td>\n",
       "      <td>LG Electronics 55UJ6300 55-Inch 4K Ultra HD Sm...</td>\n",
       "      <td>Five Stars Great Value</td>\n",
       "      <td>55UJ6300</td>\n",
       "      <td>11</td>\n",
       "    </tr>\n",
       "    <tr>\n",
       "      <th>7</th>\n",
       "      <td>1</td>\n",
       "      <td>LG Electronics 55UJ6300 55-Inch 4K Ultra HD Sm...</td>\n",
       "      <td>Four Stars Very nice to, Im satisfied.</td>\n",
       "      <td>55UJ6300</td>\n",
       "      <td>27</td>\n",
       "    </tr>\n",
       "  </tbody>\n",
       "</table>\n",
       "</div>"
      ],
      "text/plain": [
       "   rating                                            product  \\\n",
       "3       1  LG Electronics 55UJ6300 55-Inch 4K Ultra HD Sm...   \n",
       "7       1  LG Electronics 55UJ6300 55-Inch 4K Ultra HD Sm...   \n",
       "\n",
       "                                  reviews     model  review_length  \n",
       "3                  Five Stars Great Value  55UJ6300             11  \n",
       "7  Four Stars Very nice to, Im satisfied.  55UJ6300             27  "
      ]
     },
     "execution_count": 191,
     "metadata": {},
     "output_type": "execute_result"
    }
   ],
   "source": [
    "df_new = df.copy()\n",
    "df_new = df_new[df_new['r_stars'].apply(lambda x: x in ['5.0 out of 5 stars','4.0 out of 5 stars','2.0 out of 5 stars','1.0 out of 5 stars'])]\n",
    "df_new['rating'] = df_new['r_stars'].apply(lambda x: 1 if x in ['4.0 out of 5 stars','5.0 out of 5 stars'] else 0)\n",
    "df_new['reviews'] = df['r_title'] + ' ' + df['r_text']\n",
    "df_new['review_length'] = df['r_text'].apply(lambda x: len(x))\n",
    "df_new = df_new[['rating','product','reviews','model','review_length']]\n",
    "df_new = df_new[df_new['review_length'] < 1000]\n",
    "df_new = df_new[df_new['review_length'] > 10]\n",
    "df_new.head(2)"
   ]
  },
  {
   "cell_type": "code",
   "execution_count": 192,
   "metadata": {},
   "outputs": [
    {
     "data": {
      "text/plain": [
       "rating           7073\n",
       "product          7073\n",
       "reviews          7073\n",
       "model            7073\n",
       "review_length    7073\n",
       "dtype: int64"
      ]
     },
     "execution_count": 192,
     "metadata": {},
     "output_type": "execute_result"
    }
   ],
   "source": [
    "df_new.count()"
   ]
  },
  {
   "cell_type": "code",
   "execution_count": 195,
   "metadata": {},
   "outputs": [],
   "source": [
    "from src.LdaReviewAnalyzer import LdaReviewAnalyzer\n",
    "lda = LdaReviewAnalyzer(num_topics=2)\n",
    "lda.build_vectorize(df_new)\n",
    "lda.fit(df_new)"
   ]
  },
  {
   "cell_type": "code",
   "execution_count": 196,
   "metadata": {},
   "outputs": [],
   "source": [
    "data_vectorized = lda.vectorize()"
   ]
  },
  {
   "cell_type": "code",
   "execution_count": 197,
   "metadata": {},
   "outputs": [],
   "source": [
    "l = np.argsort(np.sum(data_vectorized,axis=0))[:,-50:]"
   ]
  },
  {
   "cell_type": "code",
   "execution_count": 8,
   "metadata": {},
   "outputs": [
    {
     "data": {
      "text/plain": [
       "matrix([[2530, 2734, 1085, 2275, 1832,  324, 2169,  956, 2532, 1811,\n",
       "         1844, 2202,  487, 1638, 2011,  392, 2859,  736,  508,  155,\n",
       "          947, 1848,  326, 1044, 2992,  277,   98, 1273,  385,  257,\n",
       "         1034, 3216, 3160,  218,  965, 2253, 1195, 3226,  274,  103,\n",
       "         2626, 1595, 2327,  878, 2143, 2669, 2216, 1649, 1222, 1088]])"
      ]
     },
     "execution_count": 8,
     "metadata": {},
     "output_type": "execute_result"
    }
   ],
   "source": [
    "l"
   ]
  },
  {
   "cell_type": "code",
   "execution_count": 198,
   "metadata": {},
   "outputs": [
    {
     "data": {
      "text/plain": [
       "matrix([[4]], dtype=int64)"
      ]
     },
     "execution_count": 198,
     "metadata": {},
     "output_type": "execute_result"
    }
   ],
   "source": [
    "np.sum(data_vectorized,axis=0)[:,549]"
   ]
  },
  {
   "cell_type": "code",
   "execution_count": 204,
   "metadata": {},
   "outputs": [
    {
     "ename": "SyntaxError",
     "evalue": "unexpected EOF while parsing (<ipython-input-204-440b75fff593>, line 4)",
     "output_type": "error",
     "traceback": [
      "\u001b[0;36m  File \u001b[0;32m\"<ipython-input-204-440b75fff593>\"\u001b[0;36m, line \u001b[0;32m4\u001b[0m\n\u001b[0;31m    #print(np.sum(data_vectorized,axis=0)[:,int(i)])\u001b[0m\n\u001b[0m                                                    ^\u001b[0m\n\u001b[0;31mSyntaxError\u001b[0m\u001b[0;31m:\u001b[0m unexpected EOF while parsing\n"
     ]
    }
   ],
   "source": [
    "lda.transform()\n",
    "for i in l.reshape(-1,1):\n",
    "    #print(lda.vectorizer.get_feature_names()[int(i)])\n",
    "    #print(np.sum(data_vectorized,axis=0)[:,int(i)])"
   ]
  },
  {
   "cell_type": "code",
   "execution_count": 269,
   "metadata": {},
   "outputs": [],
   "source": [
    "import pickle\n",
    "from src.w2v_review_analyzer import W2VReviewAnalyzer\n",
    "w2v = W2VReviewAnalyzer(pd.DataFrame())\n",
    "w2v.model = pickle.load(open('static/w2v.pkl','rb'))\n",
    "from src.w2v_review_analyzer2 import W2VReviewAnalyzer2\n",
    "w2 = W2VReviewAnalyzer2()\n",
    "w2.fit2(df_new)\n"
   ]
  },
  {
   "cell_type": "code",
   "execution_count": 229,
   "metadata": {},
   "outputs": [
    {
     "data": {
      "text/plain": [
       "[('lg', 0.9131869077682495),\n",
       " ('panasonic', 0.8811842799186707),\n",
       " ('vizio', 0.8757293224334717),\n",
       " ('sony', 0.816213071346283),\n",
       " ('toshiba', 0.7805286645889282),\n",
       " ('westinghouse', 0.7244380712509155),\n",
       " ('tcl', 0.7110095024108887),\n",
       " ('bravia', 0.7023191452026367),\n",
       " ('lg.', 0.6951792240142822),\n",
       " ('panasonic_plasma', 0.6894485950469971)]"
      ]
     },
     "execution_count": 229,
     "metadata": {},
     "output_type": "execute_result"
    }
   ],
   "source": [
    "w2v.model.wv.most_similar('samsung')"
   ]
  },
  {
   "cell_type": "code",
   "execution_count": 267,
   "metadata": {},
   "outputs": [],
   "source": [
    "doc2 = \"Image quality is almost too good.\""
   ]
  },
  {
   "cell_type": "code",
   "execution_count": 271,
   "metadata": {},
   "outputs": [],
   "source": [
    "doc3 = \"This TV was part of my 4K upgrade plan. I updated the TV, Xbox, PS4, and Apple TV. So far the experience has been really good. The Apple TV recognized the new TV right away and configured itself to take advantage of all of the available features. The Xbox and PS4 took a little more time to setup because they each use different nomenclature for features than the TV. Plus I had to turn the features on for each connection to the TV, so it was not Plug and Play. Fortunately both the Xbox and PS4 have ways to verbosely test the connection. Once dialed in, everything is fantastic. Games like Horizon Zero Dawn and Forza 7 look fantastic. Movies and TV shows are so good, the look like high quality computer renders. Sound quality is great too. Much better than my last TV, and it was pretty good. The TV was shipped with version 3 of WebOS, not version 4, which had been out for some time. I asked the TV to look for updates and it never found them. It wasn’t until two days later when it finally found the update on its own. After the update, the Apple TV recognized the change and made configuration changes to adjust.A truly great TV, but you will need to dig around its menus and those of your devices to set it up properly. Oh, and one thing that I almost forgot. When I first started using it, everything was dark. Adjusting the image didn’t help. There is an energy saving feature that you have to turn off. Took me a while to find that.\""
   ]
  },
  {
   "cell_type": "code",
   "execution_count": 392,
   "metadata": {},
   "outputs": [
    {
     "data": {
      "text/plain": [
       "1"
      ]
     },
     "execution_count": 392,
     "metadata": {},
     "output_type": "execute_result"
    }
   ],
   "source": [
    "w2.df_prod['rating'][16]"
   ]
  },
  {
   "cell_type": "code",
   "execution_count": 294,
   "metadata": {},
   "outputs": [
    {
     "data": {
      "text/plain": [
       "'awesome uhd great_investment display pull crisp high_def_quality setting adjust your_room_lighting video need easy can_launch netflix amazon_prime push button'"
      ]
     },
     "execution_count": 294,
     "metadata": {},
     "output_type": "execute_result"
    }
   ],
   "source": [
    "w2.df_prod['review_trigrams'][16]"
   ]
  },
  {
   "cell_type": "code",
   "execution_count": 343,
   "metadata": {},
   "outputs": [
    {
     "data": {
      "text/plain": [
       "3                                  Five Stars Great Value\n",
       "7                  Four Stars Very nice to, Im satisfied.\n",
       "8                    Five Stars Great TV and great value.\n",
       "9                     One Star It was broken upon arrival\n",
       "10                      Decent television So far so good!\n",
       "11      Five Stars arrived on time great picture easy ...\n",
       "12                    Five Stars Love the quality picture\n",
       "13      Hint: Turn OFF Smart Picture Mode Hint: Turn o...\n",
       "14      43UJ6300 Needed an upgrade for my 7yr old HDTV...\n",
       "15      The quality is awesome, very good bang for the...\n",
       "16      Awesome tv! This UHD tv was definitely a great...\n",
       "17      Bargain for the price! I ordered this after an...\n",
       "18      Good price Good TV for the price. The biggest ...\n",
       "19      Great bedroom size TV Was looking for 40-43 in...\n",
       "20      Stunning Upgrade to Old TV Well Worth It This ...\n",
       "21      Bought for my mom. This is a really great tv f...\n",
       "22      Looks Amazing! Bought this after owning a 55\" ...\n",
       "23      Once the settings are tweaked properly this TV...\n",
       "25      I had trouble with setting this tv up. Before ...\n",
       "26      Amazing LG T. V. This is my first 4k tv i had ...\n",
       "28      energy saving to off) the TV looks great. The ...\n",
       "29      Great TV, Numberr of Minor Annoyances Good vie...\n",
       "31      43” Model I honestly can say this tv pretty mu...\n",
       "33      11ms. as my gaming monitor. Been using this TV...\n",
       "34      Thoroughly pleased... Replaced a 4 year old LG...\n",
       "35      Great Picture Quality I love this TV. The WebO...\n",
       "36      Good overall, disappointing in extended monito...\n",
       "37      We like it. Great set for the price. Im sure t...\n",
       "38      Good but I wouldnt say great There are pros an...\n",
       "39      Fantastic TV for the price Awesome tv, it is t...\n",
       "                              ...                        \n",
       "8349    One Star Had to return because stand couldnt b...\n",
       "8350    Not worth the money Horrible picture quality. ...\n",
       "8351    Nice TV set, needs better software Nice TV set...\n",
       "8352    75 madness. This TV rules, big and beautiful. ...\n",
       "8353                              Five Stars Excellent TV\n",
       "8354    Dont buy this TV This TV is the worst. The app...\n",
       "8355    Excellent TV, but- This TV has a superb pictur...\n",
       "8356    My first 4K TV and I love it. Setup was more o...\n",
       "8357    GREAT T.V. GREAT T.V.GREAT PRICE.WAS DELIVERED...\n",
       "8358    Great TV Ive never had a Vizio before but have...\n",
       "8359    Solid value for a 4K TV. Replacing a 2007 27 i...\n",
       "8360    Buy it... Have best contrast and rates among t...\n",
       "8361    Lasted 3-4 months warranty replaced Purchased ...\n",
       "8362    Turns on all by itself! OK, I didnt believe so...\n",
       "8363    Mind blowing I am just blown away. I bought it...\n",
       "8365                            Five Stars Nice very nice\n",
       "8366    Five Stars Love this TV, great OS and it looks...\n",
       "8367    Five Stars This is a great tv set.  Its pictur...\n",
       "8368    Five Stars Have been loving it every day for 3...\n",
       "8369                      Five Stars Sony is the best TV.\n",
       "8370    RF (Antenna) input does not work. Life footbal...\n",
       "8371    Nice 4K TV I have nothing to compare it to but...\n",
       "8372              Five Stars very good tv for money spent\n",
       "8373    Five Stars It is in my living room and doing g...\n",
       "8374    Great overall. Dosnt need soundbar! The TV arr...\n",
       "8378                  Great Tv Great TV, love the android\n",
       "8379              Five Stars Remote is the only down side\n",
       "8380    Best TV EVER! The Best TV I have ever owned. I...\n",
       "8383    So my new TV arrives and I decide towatch the ...\n",
       "8384    TV comes with 30 second ads it has ads when I ...\n",
       "Name: reviews, Length: 7073, dtype: object"
      ]
     },
     "execution_count": 343,
     "metadata": {},
     "output_type": "execute_result"
    }
   ],
   "source": [
    "w2.df_prod['reviews']"
   ]
  },
  {
   "cell_type": "code",
   "execution_count": 344,
   "metadata": {
    "scrolled": true
   },
   "outputs": [
    {
     "data": {
      "text/plain": [
       "'come constant_annoying_voice can_turn fine come annoying_voice talk what_button push talk time change_channel change volume annoying make want watch tv. can_find turn read everything can_find info my_husband can_find manual stick'"
      ]
     },
     "execution_count": 344,
     "metadata": {},
     "output_type": "execute_result"
    }
   ],
   "source": [
    "w2.df_prod['review_trigrams'][7370]"
   ]
  },
  {
   "cell_type": "code",
   "execution_count": 379,
   "metadata": {},
   "outputs": [],
   "source": [
    "df_sample = w2.df_prod[w2.df_prod['reviews'].apply(lambda x: 'mom' in x)]\n"
   ]
  },
  {
   "cell_type": "code",
   "execution_count": 377,
   "metadata": {},
   "outputs": [
    {
     "data": {
      "text/plain": [
       "'OUTFREAKINSTANDING Holy crap.  This TV is phenomenal.  The past 2 days my husband and I have missed out on the plot of movies and the content of shows simply because were in awe of and are analyzing the depth of detail in the picture.  VERY easy to set up--it connected with my satellite box and surround sound with no issues.I spent an hour last night on YouTube watching Journey videos (the real Journey with Steve Perry,) and couldnt have been more pleased seeing Steve Perry and his amazingness on a 50-inch screen.  And, since its connected to the internet, Ill be able to watch WVU games that arent on television but are streamed online.Hopefully this Samsung product will be as reliable as all of our others.'"
      ]
     },
     "execution_count": 377,
     "metadata": {},
     "output_type": "execute_result"
    }
   ],
   "source": [
    "df_sample['reviews'][833]"
   ]
  },
  {
   "cell_type": "code",
   "execution_count": 378,
   "metadata": {},
   "outputs": [
    {
     "data": {
      "text/plain": [
       "'outfreakinstanding holy crap phenomenal past day my_husband miss plot movie content show awe analyze depth detail easy connect my_satellite_box surround_sound issue spend hour_last youtube watch journey video real journey steve perry could pleased see steve perry his_amazingness connected internet ill_be able watch wvu game television stream product will_be reliable others'"
      ]
     },
     "execution_count": 378,
     "metadata": {},
     "output_type": "execute_result"
    }
   ],
   "source": [
    "df_sample['review_trigrams'][833]"
   ]
  },
  {
   "cell_type": "code",
   "execution_count": 383,
   "metadata": {},
   "outputs": [
    {
     "data": {
      "text/plain": [
       "'Unbelievable visual experience and so easy to get up and running. There have been two times in my 70, years when I have been extremely impressed with visual technology.  Once when high definition and good TVs came out - that was a wow moment.  TWO days ago the delivery and set up of this 4K Ultra HD Smart LED TV - if I may be pardoned for the language - my first and continuing impression is not just fabulous eye candy - but orgasmic, unbelievable incredible EXTREME HIGH DEFINITION.....other than adjusting text size and upscaling websites by 250%, (and that is easy to do) I feel like I own my own Imax quality visual experience.  OMG was my first impression and continues to be every time I turn my computer on.  Set up was easy and when I got stuck, I called tech support - they were extremely helpful and held my hand literally for about 10 minutes while I tweaked things.  The single greatest ever retirment present I could ever experience.'"
      ]
     },
     "execution_count": 383,
     "metadata": {},
     "output_type": "execute_result"
    }
   ],
   "source": [
    "df_sample['reviews'][5536]"
   ]
  },
  {
   "cell_type": "code",
   "execution_count": 384,
   "metadata": {},
   "outputs": [
    {
     "data": {
      "text/plain": [
       "'unbelievable visual experience easy get run time year impressed visual technology high_definition good come wow moment day delivery 4k ultra hd smart led may_be pardon language my_first continue impression fabulous eye candy orgasmic unbelievable incredible extreme high_definition adjust text size upscaling website easy feel my_own imax quality visual experience omg my_first impression continue time turn my_computer easy get stick call tech_support be_helpful hold hand minute tweak thing single great retirment present could experience'"
      ]
     },
     "execution_count": 384,
     "metadata": {},
     "output_type": "execute_result"
    }
   ],
   "source": [
    "df_sample['review_trigrams'][5536]"
   ]
  },
  {
   "cell_type": "code",
   "execution_count": 389,
   "metadata": {},
   "outputs": [
    {
     "data": {
      "text/plain": [
       "'Arrived Functionally Broken This TV, which was bought as a gift, is a very nice TV. Great picture quality, and surprisingly good sound even without a sound bar.However Im extremely unhappy that the moment this was plugged in, it looked like someone had punched the bottom of the screen. There is a fair amount of pixilated green and red that shows up near the bottom. I purchased this new, I dont expect the product to arrive broken or worn.'"
      ]
     },
     "execution_count": 389,
     "metadata": {},
     "output_type": "execute_result"
    }
   ],
   "source": [
    "df_sample['reviews'][4626]"
   ]
  },
  {
   "cell_type": "code",
   "execution_count": 390,
   "metadata": {},
   "outputs": [
    {
     "data": {
      "text/plain": [
       "'arrived broken buy gift be_nice tv. great picture_quality good sound sound_bar unhappy moment plug look someone punch bottom fair_amount pixilated_green red_that show bottom purchase new expect product arrive_broken worn'"
      ]
     },
     "execution_count": 390,
     "metadata": {},
     "output_type": "execute_result"
    }
   ],
   "source": [
    "df_sample['review_trigrams'][4626]"
   ]
  },
  {
   "cell_type": "code",
   "execution_count": 14,
   "metadata": {},
   "outputs": [],
   "source": [
    "import spacy\n",
    "\n",
    "nlp = spacy.load('en')"
   ]
  },
  {
   "cell_type": "code",
   "execution_count": 15,
   "metadata": {},
   "outputs": [
    {
     "name": "stdout",
     "output_type": "stream",
     "text": [
      "Four 0 4 CARDINAL\n"
     ]
    }
   ],
   "source": [
    "doc = nlp(df_new['reviews'][0])\n",
    "\n",
    "for ent in doc.ents:\n",
    "    print(ent.text, ent.start_char, ent.end_char, ent.label_)"
   ]
  },
  {
   "cell_type": "code",
   "execution_count": 16,
   "metadata": {},
   "outputs": [
    {
     "data": {
      "text/plain": [
       "'Four Stars nice tv'"
      ]
     },
     "execution_count": 16,
     "metadata": {},
     "output_type": "execute_result"
    }
   ],
   "source": [
    "df_new['reviews'][0]"
   ]
  },
  {
   "cell_type": "code",
   "execution_count": 124,
   "metadata": {},
   "outputs": [
    {
     "name": "stdout",
     "output_type": "stream",
     "text": [
      "dog dog -1.8446738485338954e+19\n",
      "dog cat 5.421009677109883e-20\n",
      "dog banana 0.0\n",
      "dog afskfsd 0.0\n",
      "cat dog 5.421009677109883e-20\n",
      "cat cat 0.0\n",
      "cat banana 1.8446740040282634e+19\n",
      "cat afskfsd 0.0\n",
      "banana dog 0.0\n",
      "banana cat 1.8446740040282634e+19\n",
      "banana banana 0.0\n",
      "banana afskfsd 0.0\n",
      "afskfsd dog 0.0\n",
      "afskfsd cat 0.0\n",
      "afskfsd banana 0.0\n",
      "afskfsd afskfsd 0.0\n"
     ]
    }
   ],
   "source": [
    "tokens = nlp(u'dog cat banana afskfsd')\n",
    "\n",
    "for token1 in tokens:\n",
    "    for token2 in tokens:\n",
    "        print(token1.text, token2.text, token1.similarity(token2))"
   ]
  },
  {
   "cell_type": "code",
   "execution_count": 144,
   "metadata": {},
   "outputs": [
    {
     "data": {
      "text/plain": [
       "[('fantastic', 0.7138211727142334),\n",
       " ('wonderful', 0.6782388687133789),\n",
       " ('great', 0.6676837205886841),\n",
       " ('incredible', 0.6630176901817322),\n",
       " ('beautiful', 0.6560888290405273),\n",
       " ('stunning', 0.6040709614753723),\n",
       " ('fabulous', 0.5843786001205444),\n",
       " ('unbelievable', 0.5778928995132446),\n",
       " ('spectacular', 0.5710776448249817),\n",
       " ('enjoy', 0.5689601898193359),\n",
       " ('phenomenal', 0.5594860911369324),\n",
       " ('terrific', 0.5591729879379272),\n",
       " ('gorgeous', 0.5545043349266052),\n",
       " ('sweet', 0.5541948080062866),\n",
       " ('perfect', 0.5462559461593628),\n",
       " ('superb', 0.5404124855995178),\n",
       " ('super', 0.5365245938301086),\n",
       " ('amazed', 0.5317443013191223),\n",
       " ('crisp', 0.5166585445404053),\n",
       " ('wow', 0.5119034051895142),\n",
       " ('clear_crisp', 0.5112705230712891),\n",
       " ('nice', 0.5068811178207397),\n",
       " ('outstanding', 0.5052642822265625),\n",
       " ('beauty', 0.5007622838020325),\n",
       " ('impressed', 0.4927126169204712),\n",
       " ('crisp_clear', 0.4910251498222351),\n",
       " ('excellent', 0.49011319875717163),\n",
       " ('crystal_clear', 0.47917139530181885),\n",
       " ('stun', 0.47185301780700684),\n",
       " ('impressive', 0.468038409948349),\n",
       " ('video_game', 0.4667757749557495),\n",
       " ('brilliant', 0.4644157886505127),\n",
       " ('flawless', 0.4554404616355896),\n",
       " ('breathtaking', 0.45447802543640137),\n",
       " ('cool', 0.4503762125968933),\n",
       " ('bright_clear', 0.4490474462509155),\n",
       " ('xbox', 0.44428402185440063),\n",
       " ('sharp_clear', 0.44238683581352234),\n",
       " ('can_beat', 0.4404700696468353),\n",
       " ('watch_movie', 0.4294894337654114),\n",
       " ('astounding', 0.42543691396713257),\n",
       " ('blu_ray_movie', 0.42451250553131104),\n",
       " ('play_wii', 0.42359381914138794),\n",
       " ('like_fact', 0.41934704780578613),\n",
       " ('magnificent', 0.4182754456996918),\n",
       " ('clarity', 0.41621094942092896),\n",
       " ('impress', 0.4149232506752014),\n",
       " ('play_video_game', 0.4140184223651886),\n",
       " ('ps3_game', 0.41318315267562866),\n",
       " ('bright_crisp', 0.4058804512023926),\n",
       " ('pleased', 0.40472185611724854),\n",
       " ('mind_blow', 0.4033287465572357),\n",
       " ('good', 0.3995649218559265),\n",
       " ('blow', 0.39929699897766113),\n",
       " ('remarkable', 0.3992871046066284),\n",
       " ('jaw_drop', 0.39659515023231506),\n",
       " ('bluray', 0.39249110221862793),\n",
       " ('2d_3d', 0.3917774558067322),\n",
       " ('blue_ray', 0.39033043384552),\n",
       " ('stream_netflix', 0.387363076210022),\n",
       " ('awsome', 0.38345855474472046),\n",
       " ('blue_ray_movie', 0.3824392557144165),\n",
       " ('satisfied', 0.3803299367427826),\n",
       " ('neat', 0.37997347116470337),\n",
       " ('dream', 0.37887337803840637),\n",
       " ('vibrant', 0.3780585527420044),\n",
       " ('watch_sport', 0.3768879473209381),\n",
       " ('unreal', 0.376824289560318),\n",
       " ('ps3', 0.3766494393348694),\n",
       " ('theatre_sound_system', 0.3765082061290741),\n",
       " ('play_game', 0.3731546401977539),\n",
       " ('tremendous', 0.37277650833129883),\n",
       " ('t.v', 0.3699876070022583),\n",
       " ('ease', 0.3690231144428253),\n",
       " ('vivid', 0.36765196919441223),\n",
       " ('crisp_bright', 0.3670797049999237),\n",
       " ('2d', 0.36658716201782227),\n",
       " ('pro', 0.36656850576400757),\n",
       " ('enjoyable', 0.36412107944488525),\n",
       " ('plus', 0.36107563972473145),\n",
       " ('rock', 0.3607683479785919),\n",
       " ('exceptional', 0.3575584292411804),\n",
       " ('can_go_wrong', 0.3568069040775299),\n",
       " ('breath_take', 0.35633403062820435),\n",
       " ('crisp_sharp', 0.3561785817146301),\n",
       " ('clean_crisp', 0.35518237948417664),\n",
       " ('hi_def', 0.3544670343399048),\n",
       " ('enhance', 0.3543122112751007),\n",
       " ('need_anything_fancy', 0.35417234897613525),\n",
       " ('add_bonus', 0.35407915711402893),\n",
       " ('my_son', 0.35310232639312744),\n",
       " ('gaming', 0.35240477323532104),\n",
       " ('pitch_dark_room', 0.3520411252975464),\n",
       " ('sleek', 0.3510326147079468),\n",
       " ('unbeatable', 0.3507288098335266),\n",
       " ('would_recommend_anyone', 0.34857335686683655),\n",
       " ('vivid_color', 0.3472614884376526),\n",
       " ('compliment', 0.3443162441253662),\n",
       " ('watch_dvd', 0.3442452549934387),\n",
       " ('wii', 0.3424006700515747),\n",
       " ('our_bedroom', 0.3419076204299927),\n",
       " ('sharp_vibrant', 0.34159499406814575),\n",
       " ('high_def', 0.3388303518295288),\n",
       " ('playstation', 0.3384456932544708),\n",
       " ('beat', 0.3372747600078583),\n",
       " ('like', 0.33716124296188354),\n",
       " ('watching', 0.33700937032699585),\n",
       " ('awe', 0.33605140447616577),\n",
       " ('blu_ray', 0.3353513181209564),\n",
       " ('kid', 0.3350466191768646),\n",
       " ('watch', 0.33431681990623474),\n",
       " ('good_looking', 0.3342641592025757),\n",
       " ('3d.', 0.3342309892177582),\n",
       " ('ton', 0.3331391513347626),\n",
       " ('regular', 0.332906037569046),\n",
       " ('blurays', 0.33267781138420105),\n",
       " ('x_box', 0.3318886160850525),\n",
       " ('astonishing', 0.3313646614551544),\n",
       " ('blue_ray_dvd', 0.33030736446380615),\n",
       " ('fit_bill', 0.32989057898521423),\n",
       " ('regular_dvd', 0.3298620879650116),\n",
       " ('play_music', 0.32975274324417114),\n",
       " ('sharp_crisp', 0.3287784159183502),\n",
       " ('clean', 0.32837286591529846),\n",
       " ('bedroom', 0.32754191756248474),\n",
       " ('rich', 0.32657214999198914),\n",
       " ('bluray_movie', 0.32655471563339233),\n",
       " ('plenty', 0.326541930437088),\n",
       " ('marvel', 0.32649165391921997),\n",
       " ('plenty_inputs/output', 0.3257213532924652),\n",
       " ('play_madden', 0.3249065577983856),\n",
       " ('secondary', 0.3243451416492462),\n",
       " ('top_notch', 0.3243371546268463),\n",
       " ('guest', 0.3234524130821228),\n",
       " ('real_gem', 0.32337236404418945),\n",
       " ('work_charm', 0.3228645920753479),\n",
       " ('t.v.', 0.32214319705963135),\n",
       " ('dvd/blueray', 0.3221230208873749),\n",
       " ('playing', 0.3210444450378418),\n",
       " ('listen_music', 0.3208897113800049),\n",
       " ('fun', 0.32087770104408264),\n",
       " ('pretty', 0.32061827182769775),\n",
       " ('xbox360', 0.31971120834350586),\n",
       " ('clear', 0.3166586756706238),\n",
       " ('bonus', 0.31654027104377747),\n",
       " ('men', 0.3152899146080017),\n",
       " ('vivid_colorful', 0.31506145000457764),\n",
       " ('sport_game', 0.31399595737457275),\n",
       " ('nifty', 0.31363245844841003),\n",
       " ('noticeable_blur', 0.31320133805274963),\n",
       " ('knock_your_sock', 0.3128473162651062),\n",
       " ('theatre', 0.31183433532714844),\n",
       " ('play_x_box', 0.31180745363235474),\n",
       " ('blu_ray_player', 0.3114691972732544),\n",
       " ('ps4', 0.3108726739883423),\n",
       " ('blu_rays', 0.3107677400112152),\n",
       " ('condominium', 0.3105717897415161),\n",
       " ('ray', 0.31005123257637024),\n",
       " ('lightweight', 0.3087383210659027),\n",
       " ('hd', 0.3080333471298218),\n",
       " ('xbox_game', 0.3074210286140442),\n",
       " ('light_weight', 0.30730903148651123),\n",
       " ('game', 0.3068944215774536),\n",
       " ('super_convenient', 0.3059009909629822),\n",
       " ('stylish', 0.3056703805923462),\n",
       " ('hd.', 0.305592805147171),\n",
       " ('outstanding.', 0.30494534969329834),\n",
       " ('movies', 0.30485999584198),\n",
       " ('lifelike', 0.30406123399734497),\n",
       " ('watch_football', 0.3039979338645935),\n",
       " ('blue_ray_disc', 0.30382704734802246),\n",
       " ('console', 0.30355578660964966),\n",
       " ('pros', 0.30332398414611816),\n",
       " ('pure_joy', 0.30331045389175415),\n",
       " ('sexy', 0.3029278814792633),\n",
       " ('gaming_system', 0.3019847273826599),\n",
       " ('thrilled', 0.30094265937805176),\n",
       " ('watch_star_trek', 0.3006141781806946),\n",
       " ('pleasure', 0.3002132773399353),\n",
       " ('internet_apps', 0.30021166801452637),\n",
       " ('my_liking', 0.2993409335613251),\n",
       " ('realistic', 0.29863452911376953),\n",
       " ('word_describe', 0.2985808253288269),\n",
       " ('vibrant_color', 0.2980264127254486),\n",
       " ('pleasing', 0.2979668974876404),\n",
       " ('sport', 0.2976113259792328),\n",
       " ('family', 0.29758092761039734),\n",
       " ('jaw_dropping', 0.29749688506126404),\n",
       " ('treadmill', 0.29747867584228516),\n",
       " ('decent', 0.2962286174297333),\n",
       " ('gamer', 0.29617172479629517),\n",
       " ('little_tweaking', 0.2959116995334625),\n",
       " ('play', 0.29520365595817566),\n",
       " ('insane', 0.2951873540878296),\n",
       " ('fine', 0.2950967848300934),\n",
       " ('pixar_movie', 0.29493850469589233),\n",
       " ('directv_hd', 0.2948652505874634),\n",
       " ('affordable', 0.29476022720336914),\n",
       " ('slim_design', 0.2946784794330597),\n",
       " ('ipod_iphone', 0.2934439480304718),\n",
       " ('entertainment', 0.29310351610183716),\n",
       " ('plenty_connection', 0.2919372022151947),\n",
       " ('batman_begin', 0.29191672801971436),\n",
       " ('your_liking', 0.29184165596961975),\n",
       " ('marvelous', 0.2914319932460785),\n",
       " ('pace_game', 0.2913741171360016),\n",
       " ('worth_penny', 0.29089707136154175),\n",
       " ('blue_ray_player', 0.290843665599823),\n",
       " ('razor_sharp', 0.29058849811553955),\n",
       " ('intrude', 0.29039114713668823),\n",
       " ('hdmi_cord', 0.2903696596622467),\n",
       " ('super_sharp', 0.29034245014190674),\n",
       " ('attractive', 0.29007574915885925),\n",
       " ('sony_kds', 0.28981879353523254),\n",
       " ('blu_ray_disc', 0.28965362906455994),\n",
       " ('super_thin', 0.2894585430622101),\n",
       " ('color_clarity', 0.28938376903533936),\n",
       " ('football', 0.2890254557132721),\n",
       " ('xbox_ps3', 0.2888633906841278),\n",
       " ('bed_room', 0.28882747888565063),\n",
       " ('everything', 0.28830084204673767),\n",
       " ('bright_vivid', 0.2875843346118927),\n",
       " ('bed', 0.2856409251689911),\n",
       " ('cartoon', 0.28520774841308594),\n",
       " ('games', 0.2850780785083771),\n",
       " ('ps3_xbox', 0.28465184569358826),\n",
       " ('hook', 0.28384655714035034),\n",
       " ('favorite', 0.28333404660224915),\n",
       " ('internet_connectivity', 0.28332775831222534),\n",
       " ('appreciate', 0.2829780876636505),\n",
       " ('crispy', 0.2824471890926361),\n",
       " ('super_crisp', 0.2820400893688202),\n",
       " ('vibrancy_color', 0.28148213028907776),\n",
       " ('kung_fu_panda', 0.28105464577674866),\n",
       " ('standard_def', 0.2808898687362671),\n",
       " ('cinch', 0.2802022397518158),\n",
       " ('movie', 0.28013432025909424),\n",
       " ('computer_animate', 0.2800982594490051),\n",
       " ('scale_content', 0.2799176573753357),\n",
       " ('thrilling', 0.2797088623046875),\n",
       " ('glorious', 0.27961310744285583),\n",
       " ('only_downside', 0.2795025706291199),\n",
       " ('samsung_un85s9_4k_ultra', 0.27939915657043457),\n",
       " ('wise', 0.27903130650520325),\n",
       " ('fast', 0.2788150906562805),\n",
       " ('avatar', 0.27854007482528687),\n",
       " ('ok', 0.27843230962753296),\n",
       " ('smart', 0.2780463993549347),\n",
       " ('hd_content', 0.27761754393577576),\n",
       " ('notice_degradation', 0.27703383564949036),\n",
       " ('music_video', 0.276216983795166),\n",
       " ('thx', 0.27594372630119324),\n",
       " ('computer_monitor', 0.2755949795246124),\n",
       " ('my_wife', 0.27557599544525146),\n",
       " ('love_sleek_design', 0.275142103433609),\n",
       " ('would_recommend', 0.2749979794025421),\n",
       " ('tv.even', 0.27496495842933655),\n",
       " ('easy', 0.2748057544231415),\n",
       " ('dvd_player', 0.2738933861255646),\n",
       " ('customizable', 0.27389267086982727),\n",
       " ('pioneer_a/v_receiver', 0.2736918032169342),\n",
       " ('chromecast', 0.27367377281188965),\n",
       " ('auto_update_firmware', 0.27355700731277466),\n",
       " ('looking', 0.27219104766845703),\n",
       " ('kitchen', 0.2716115117073059),\n",
       " ('gr8', 0.27145224809646606),\n",
       " ('unsurpassed', 0.27143093943595886),\n",
       " ('smooth', 0.270484060049057),\n",
       " ('hard_justify', 0.27045172452926636),\n",
       " ('more_adequate', 0.2700982093811035),\n",
       " ('3-d', 0.27009278535842896),\n",
       " ('ps3_wii', 0.26997077465057373),\n",
       " ('def', 0.26929575204849243),\n",
       " ('nothing_short', 0.26912161707878113),\n",
       " ('living_room', 0.2689996063709259),\n",
       " ('pip', 0.26885026693344116),\n",
       " ('pc_monitor', 0.26855847239494324),\n",
       " ('satellite_receiver', 0.26819562911987305),\n",
       " ('great.', 0.26818370819091797),\n",
       " ('natural', 0.267747163772583),\n",
       " ('amazon_prime_netflix', 0.26751938462257385),\n",
       " ('build_wifi', 0.26692771911621094),\n",
       " ('my_dad', 0.2667617201805115),\n",
       " ('barebones', 0.26641857624053955),\n",
       " ('only_thing_miss', 0.2663958966732025),\n",
       " ('syncs', 0.2662094533443451),\n",
       " ('fall_love', 0.26514932513237),\n",
       " ('hitch', 0.26506415009498596),\n",
       " ('sleek_design', 0.26431697607040405),\n",
       " ('make_huge_difference', 0.26418790221214294),\n",
       " ('crisp_vivid', 0.2636739909648895),\n",
       " ('wii_xbox', 0.26285848021507263),\n",
       " ('dvd.', 0.262809693813324),\n",
       " ('2d_3d_conversion', 0.2623733580112457),\n",
       " ('assassin_creed', 0.2623494267463684),\n",
       " ('full_hd', 0.26234665513038635),\n",
       " ('cod4', 0.26231878995895386),\n",
       " ('train_your_dragon', 0.2621912360191345),\n",
       " ('styling', 0.261905312538147),\n",
       " ('plenty_input', 0.2618062496185303),\n",
       " ('eye_pop', 0.2612789571285248),\n",
       " ('play_music_video', 0.2612435221672058),\n",
       " ('absolute_best', 0.26063254475593567),\n",
       " ('lead_hdtv_built', 0.25912025570869446),\n",
       " ('crisp_detailed', 0.2589587867259979),\n",
       " ('watch_football_game', 0.25866684317588806),\n",
       " ('easy_navigate', 0.25861606001853943),\n",
       " ('bright_lit_room', 0.25852900743484497),\n",
       " ('bd', 0.25821471214294434),\n",
       " ('dvd_collection', 0.25821375846862793),\n",
       " ('slim', 0.25817984342575073),\n",
       " ('hang_wall', 0.25813254714012146),\n",
       " ('high_definition', 0.2580442726612091),\n",
       " ('crisp_clean', 0.25755906105041504),\n",
       " ('joy', 0.2572682201862335),\n",
       " ('okay', 0.25717467069625854),\n",
       " ('sleek_styling', 0.25703689455986023),\n",
       " ('looks', 0.2568095922470093),\n",
       " ('standard_definition_programming', 0.2568083703517914),\n",
       " ('discovery_channel', 0.2566561698913574),\n",
       " ('mac_mini', 0.25637882947921753),\n",
       " ('upscaled', 0.2562699615955353),\n",
       " ('elegant', 0.2560415267944336),\n",
       " ('customize', 0.25593671202659607),\n",
       " ('tv/computer_monitor', 0.25575196743011475),\n",
       " ('call_duty', 0.25499647855758667),\n",
       " ('my_daughter', 0.25490787625312805),\n",
       " ('crisp_image', 0.25479862093925476),\n",
       " ('omg', 0.2546832263469696),\n",
       " ('baby', 0.25433349609375),\n",
       " ('nothing_short_amazing', 0.2537526488304138),\n",
       " ('standard_definition', 0.25370216369628906),\n",
       " ('samsung_ln52a550', 0.2534213960170746),\n",
       " ('upscaling_dvd_player', 0.253407746553421),\n",
       " ('retro_game', 0.2533436417579651),\n",
       " ('bright_vivid_color', 0.2532804012298584),\n",
       " ('sublime', 0.2530776560306549),\n",
       " ('ample_input', 0.2525014579296112),\n",
       " ('lack_qwerty', 0.25216302275657654),\n",
       " ('color_contrast_sharpness', 0.2519958019256592),\n",
       " ('kid_room', 0.2519553303718567),\n",
       " ('mindblowing', 0.2517724335193634),\n",
       " ('panel-', 0.2515626847743988),\n",
       " ('nothing_short_spectacular', 0.25117895007133484),\n",
       " ('upscales', 0.25103721022605896),\n",
       " ('netflix_youtube', 0.2509098947048187),\n",
       " ('apple', 0.2508995532989502),\n",
       " ('noticeable_lag', 0.25042256712913513),\n",
       " ('stream_movie', 0.25024905800819397),\n",
       " ('usb_thumbdrive', 0.25002381205558777),\n",
       " ('admire', 0.24998842179775238),\n",
       " ('room', 0.2499055564403534),\n",
       " ('sharp_detailed', 0.24980588257312775),\n",
       " ('family_friendly', 0.24932177364826202),\n",
       " ('hard_beat', 0.24930579960346222),\n",
       " ('detail_clarity', 0.24915574491024017),\n",
       " ('netflix_stream', 0.24904978275299072),\n",
       " ('pros:great', 0.24889492988586426),\n",
       " ('iron_man', 0.24874350428581238),\n",
       " ('samsung_un55c8000', 0.24842172861099243),\n",
       " ('can_tell_difference', 0.24803191423416138),\n",
       " ('theater', 0.24800875782966614),\n",
       " ('fancy', 0.24791312217712402),\n",
       " ('standard_def_dvd', 0.2475145310163498),\n",
       " ('full_keyboard_back', 0.24716486036777496),\n",
       " ('instant_streaming', 0.24706174433231354),\n",
       " ('respectable', 0.24700400233268738),\n",
       " ('recommend', 0.24679118394851685),\n",
       " ('delight', 0.246499702334404),\n",
       " ('wife', 0.2464829385280609),\n",
       " ('graphic', 0.24641220271587372),\n",
       " ('tv', 0.24568434059619904),\n",
       " ('upload_photo', 0.24566304683685303),\n",
       " ('worth_money', 0.2451636791229248),\n",
       " ('aspect_ration', 0.2451387494802475),\n",
       " ('tivo_premier', 0.2450544536113739),\n",
       " ('set_up', 0.24485597014427185),\n",
       " ('breeze', 0.2448304444551468),\n",
       " ('dvd', 0.2444889396429062),\n",
       " ('nhl', 0.24403148889541626),\n",
       " ('convenient', 0.24381589889526367),\n",
       " ('must_say', 0.24324549734592438),\n",
       " ('qualityi', 0.24265357851982117),\n",
       " ('large_viewing_area', 0.24254903197288513),\n",
       " ('stream_video', 0.24243086576461792),\n",
       " ('avatar_3d', 0.2419111132621765),\n",
       " ('all_bell_whistle', 0.24186185002326965),\n",
       " ('game_console', 0.24150687456130981),\n",
       " ('color_sharpness', 0.24138689041137695),\n",
       " ('epitome', 0.24137112498283386),\n",
       " ('real_life', 0.24126869440078735),\n",
       " ('hookup', 0.24125532805919647),\n",
       " ('lighted_room', 0.2410706877708435),\n",
       " ('blueray', 0.24032795429229736),\n",
       " ('look', 0.23945866525173187),\n",
       " ('hug_wall', 0.2392340749502182),\n",
       " ('avengers_3d', 0.2388794720172882),\n",
       " ('access_rear', 0.23882678151130676),\n",
       " ('bluray_player', 0.23837390542030334),\n",
       " ('blu_ray_disk', 0.23798523843288422),\n",
       " ('amaze', 0.23798227310180664),\n",
       " ('70&#34_vizio', 0.23786409199237823),\n",
       " ('football_game', 0.23768633604049683),\n",
       " ('video_games', 0.2376459687948227),\n",
       " ('catch_news', 0.23755426704883575),\n",
       " ('onthe', 0.2374541461467743),\n",
       " ('full_hd.', 0.23745156824588776),\n",
       " ('automatic_brightness_adjustment', 0.23733791708946228),\n",
       " ('admission', 0.2371208220720291),\n",
       " ('integrate', 0.23659206926822662),\n",
       " ('wicked', 0.23658987879753113),\n",
       " ('lovely', 0.23635344207286835),\n",
       " ('brilliant_color', 0.23633863031864166),\n",
       " ('perfect_companion', 0.23622356355190277),\n",
       " ('bright_colorful', 0.23621021211147308),\n",
       " ('ps3_xbox360', 0.23615902662277222),\n",
       " ('only_complaint', 0.2361147254705429),\n",
       " ('watch_her_favorite', 0.23596583306789398),\n",
       " ('worth_extra_money', 0.23557177186012268),\n",
       " ('upconverting', 0.23552824556827545),\n",
       " ('addict', 0.23545080423355103),\n",
       " ('fine_tune', 0.23528800904750824),\n",
       " ('watch_planet_earth', 0.2352159470319748),\n",
       " ('high_speed_action', 0.23518744111061096),\n",
       " ('fallout', 0.2342650294303894),\n",
       " ('hung', 0.23423205316066742),\n",
       " ('our_guest_room', 0.23404642939567566),\n",
       " ('cars', 0.23377828299999237),\n",
       " ('our_living_room', 0.23350593447685242),\n",
       " ('complement', 0.2332909107208252),\n",
       " ('low_profile', 0.23321174085140228),\n",
       " ('easy_install', 0.23308196663856506),\n",
       " ('playing_game', 0.2329215109348297),\n",
       " ('loads', 0.23292092978954315),\n",
       " ('ipad', 0.2327139526605606),\n",
       " ('full_benefit', 0.23236706852912903),\n",
       " ('hardcore_gaming', 0.23208726942539215),\n",
       " ('sit_front', 0.23196621239185333),\n",
       " ('dmp_bd60', 0.23165269196033478),\n",
       " ('continue_amaze', 0.23160366714000702),\n",
       " ('pop', 0.23157429695129395),\n",
       " ('delicious', 0.23147380352020264),\n",
       " ('amazon_prime', 0.2312382459640503),\n",
       " ('thrill', 0.23080572485923767),\n",
       " ('nature_show', 0.23077863454818726),\n",
       " ('record_gameplay', 0.2307213842868805),\n",
       " ('planet_earth', 0.23058797419071198),\n",
       " ('big_fan', 0.23052337765693665),\n",
       " ('65in', 0.23045536875724792),\n",
       " ('non_hd_channel', 0.2302960902452469),\n",
       " ('visuals', 0.23026038706302643),\n",
       " ('cook', 0.23012934625148773),\n",
       " ('hide', 0.22983914613723755),\n",
       " ('sunday_football', 0.22983017563819885),\n",
       " ('primary', 0.2296581268310547),\n",
       " ('absolutley', 0.22959557175636292),\n",
       " ('wide_viewing_angle', 0.22943608462810516),\n",
       " ('watch_tennis', 0.22934508323669434),\n",
       " ('only_drawback', 0.22882305085659027),\n",
       " ('tv.', 0.22878830134868622),\n",
       " ('mesmerizing', 0.22870008647441864),\n",
       " ('wd_medium_player', 0.228689506649971),\n",
       " ('killer', 0.22842155396938324),\n",
       " ('presentation', 0.22807064652442932),\n",
       " ('definition', 0.22740235924720764),\n",
       " ('amazing.', 0.22736792266368866),\n",
       " ('picture', 0.22671793401241302),\n",
       " ('upconverting_dvd_player', 0.22666719555854797),\n",
       " ('upconverted_dvd', 0.22648796439170837),\n",
       " ('nice_bonus', 0.22631984949111938),\n",
       " ('night_dark_room', 0.22613289952278137),\n",
       " ('laptop', 0.22610007226467133),\n",
       " ('slick', 0.22592486441135406),\n",
       " ('xbox360_ps3', 0.22584089636802673),\n",
       " ('high_definition_source', 0.22581543028354645),\n",
       " ('features', 0.2253565937280655),\n",
       " ('dish_receiver', 0.22531922161579132),\n",
       " ('breath_taking', 0.22522777318954468),\n",
       " ('view_distance_foot', 0.22522303462028503),\n",
       " ('lay_bed_watch', 0.2250516712665558),\n",
       " ('bam', 0.22480446100234985),\n",
       " ('par', 0.22451546788215637),\n",
       " ('view', 0.22425633668899536),\n",
       " ('effortless', 0.22408054769039154),\n",
       " ('ipad_mini', 0.22365273535251617),\n",
       " ('notice_blur', 0.22335124015808105),\n",
       " ('hdmi_cable', 0.22309860587120056),\n",
       " ('netflix_amazon_prime', 0.22298580408096313),\n",
       " ('versatile', 0.2229546457529068),\n",
       " ('netflix', 0.22250817716121674),\n",
       " ('colorful', 0.2224566638469696),\n",
       " ('real', 0.22239309549331665),\n",
       " ('big_sport_fan', 0.22228367626667023),\n",
       " ('set', 0.22196488082408905),\n",
       " ('crisp_vibrant', 0.2219197154045105),\n",
       " ('watch_avatar', 0.22178256511688232),\n",
       " ('play_game_watch_movie', 0.2217274010181427),\n",
       " ('provides', 0.22136792540550232),\n",
       " ('jvc_rear_projection', 0.2211744785308838),\n",
       " ('less_min', 0.22104093432426453)]"
      ]
     },
     "execution_count": 144,
     "metadata": {},
     "output_type": "execute_result"
    }
   ],
   "source": [
    "w2v.model.wv.most_similar(positive=['awesome','love','amazing','happy'],negative=['disappointed','unhappy'],topn=500)"
   ]
  },
  {
   "cell_type": "code",
   "execution_count": 146,
   "metadata": {},
   "outputs": [
    {
     "data": {
      "text/plain": [
       "[('lemon', 0.7603925466537476),\n",
       " ('dissatisfied', 0.7114630937576294),\n",
       " ('reluctant', 0.7107396721839905),\n",
       " ('failure_rate', 0.7047886848449707),\n",
       " ('roll_dice', 0.7047635316848755),\n",
       " ('batch', 0.7031652927398682),\n",
       " ('investigate', 0.6991201639175415),\n",
       " ('warranty_period', 0.694896936416626),\n",
       " ('bad_luck', 0.6935930252075195),\n",
       " ('unlucky', 0.692277729511261),\n",
       " ('angry', 0.6845244765281677),\n",
       " ('bad_batch', 0.6818355321884155),\n",
       " ('defective_unit', 0.6796002388000488),\n",
       " ('wary', 0.679261326789856),\n",
       " ('faith', 0.6779637336730957),\n",
       " ('return_refund', 0.6767770648002625),\n",
       " ('rma', 0.6734148859977722),\n",
       " ('doa', 0.6719262003898621),\n",
       " ('service_agreement', 0.6714597940444946),\n",
       " ('lawyer', 0.6708142161369324),\n",
       " ('asap.', 0.6701151728630066),\n",
       " ('frustrated', 0.669638454914093),\n",
       " ('class_action_lawsuit', 0.6680878400802612),\n",
       " ('pay_shipping', 0.6655493974685669),\n",
       " ('drop_ball', 0.6645709872245789),\n",
       " ('charge_restocking_fee', 0.6638422012329102),\n",
       " ('upset', 0.6623504757881165),\n",
       " ('grateful', 0.6574167609214783),\n",
       " ('warrantee', 0.6565720438957214),\n",
       " ('piece_junk', 0.6562982201576233),\n",
       " ('refurb', 0.655120849609375),\n",
       " ('broke', 0.654371976852417),\n",
       " ('give_chance', 0.6536833643913269),\n",
       " ('repairable', 0.6533660888671875),\n",
       " ('piece_crap', 0.6533535718917847),\n",
       " ('return_period', 0.6528322696685791),\n",
       " ('hopeful', 0.6526875495910645),\n",
       " ('repurchase', 0.6504088044166565),\n",
       " ('lesson', 0.6500020027160645),\n",
       " ('day_return_policy', 0.6484304070472717),\n",
       " ('po', 0.6480948328971863),\n",
       " ('full_refund', 0.6478620171546936),\n",
       " ('refuse_replace', 0.647735059261322),\n",
       " ('symptom', 0.646817684173584),\n",
       " (\"w'house\", 0.6465088129043579),\n",
       " ('dishonest', 0.6464190483093262),\n",
       " ('manufacturer_warranty', 0.6460181474685669),\n",
       " ('year_warranty_expire', 0.6446033120155334),\n",
       " ('cover_warranty', 0.6438134908676147),\n",
       " ('responsibility', 0.642310619354248),\n",
       " ('local_shop', 0.6422382593154907),\n",
       " ('warranty_expire', 0.641136646270752),\n",
       " ('repairman', 0.6410639882087708),\n",
       " ('class_action', 0.6403473615646362),\n",
       " ('warranty_square_trade', 0.6402586698532104),\n",
       " ('contact_company', 0.6399881839752197),\n",
       " ('power_supply_board', 0.6399194002151489),\n",
       " ('ln52a750', 0.6377558708190918),\n",
       " ('little_leary', 0.6375542879104614),\n",
       " ('attitude', 0.6375110745429993),\n",
       " ('iti', 0.6374309659004211),\n",
       " ('give_3-star', 0.6370712518692017),\n",
       " ('devastate', 0.6364515423774719),\n",
       " ('bum', 0.6361207962036133),\n",
       " ('lose_transit', 0.6359423995018005),\n",
       " ('7th_gen', 0.6358727812767029),\n",
       " ('30th', 0.6353081464767456),\n",
       " ('hesitant', 0.6352429986000061),\n",
       " ('several_e_mail', 0.6347229480743408),\n",
       " ('dime', 0.6346112489700317),\n",
       " ('receipt', 0.6339786052703857),\n",
       " ('retirement', 0.6338858604431152),\n",
       " ('reconsider', 0.633804202079773),\n",
       " ('buyer_beware', 0.6332532167434692),\n",
       " ('hassle_return', 0.6331448554992676),\n",
       " ('hope_help_someone', 0.6328933238983154),\n",
       " ('day_return_period', 0.6327944993972778),\n",
       " ('goodwill', 0.6327788829803467),\n",
       " ('prayer', 0.6322425007820129),\n",
       " ('panel_lottery', 0.6315579414367676),\n",
       " ('ordeal', 0.6312962174415588),\n",
       " ('sue', 0.6311175227165222),\n",
       " ('researching', 0.6308436393737793),\n",
       " ('replacement_bulb', 0.630591630935669),\n",
       " ('discourage', 0.6305456161499023),\n",
       " ('typo', 0.6298283338546753),\n",
       " ('decide_bite_bullet', 0.6296069025993347),\n",
       " ('make_mexico', 0.629518985748291),\n",
       " ('costumer_service', 0.6294634342193604),\n",
       " ('caveat_emptor', 0.6293823719024658),\n",
       " ('piece_garbage', 0.6292250156402588),\n",
       " ('excuse', 0.6287764310836792),\n",
       " ('their_policy', 0.6282925605773926),\n",
       " ('obligation', 0.6276014447212219),\n",
       " ('6ave', 0.6271399855613708),\n",
       " ('thinking', 0.6269425749778748),\n",
       " ('amazon_return_policy', 0.6268822550773621),\n",
       " ('logitech/harmony', 0.6257641315460205),\n",
       " ('fan_boy', 0.6256594657897949),\n",
       " ('gamble', 0.6256005167961121),\n",
       " ('refurbished', 0.6252515912055969),\n",
       " ('capacitor_power_supply', 0.6243398785591125),\n",
       " ('replacement_board', 0.6242278218269348),\n",
       " ('cost_dollar', 0.6240930557250977),\n",
       " ('require_constant', 0.6238256096839905),\n",
       " ('postage', 0.6234834790229797),\n",
       " ('trend', 0.6232687830924988),\n",
       " ('months', 0.6230324506759644),\n",
       " ('panasonic_g10', 0.6214365363121033),\n",
       " ('unlucky_one', 0.621306836605072),\n",
       " ('worth_risk', 0.621269941329956),\n",
       " ('wait_write_review', 0.6210944056510925),\n",
       " ('replacement_lamp', 0.6209438443183899),\n",
       " ('ship_replacement', 0.620844841003418),\n",
       " ('authorized_dealer', 0.620713472366333),\n",
       " ('sol', 0.6206793785095215),\n",
       " ('purchaser', 0.6204187273979187),\n",
       " ('return_next_day', 0.6196690201759338),\n",
       " ('flip_flop', 0.6193439960479736),\n",
       " ('online_research', 0.6191461682319641),\n",
       " ('accuse', 0.6181228756904602),\n",
       " ('cancel_order', 0.616462767124176),\n",
       " ('damage_transit', 0.6163352727890015),\n",
       " ('die_few_month', 0.6163257360458374),\n",
       " ('repair_shop', 0.6156119704246521),\n",
       " ('clog', 0.6156098246574402),\n",
       " ('poor_customer_service', 0.6155456304550171),\n",
       " ('law', 0.6154860258102417),\n",
       " ('never', 0.6154233813285828),\n",
       " ('warrenty', 0.6150650978088379),\n",
       " ('cost_repair', 0.6149801015853882),\n",
       " ('attempt_contact', 0.6144277453422546),\n",
       " ('honor_warranty', 0.6144070625305176),\n",
       " ('offer_refund', 0.6139059662818909),\n",
       " ('exchange', 0.6138581037521362),\n",
       " ('dissatisfied_customer', 0.6138261556625366),\n",
       " ('mistake', 0.6132605075836182),\n",
       " ('squaretrade_warranty', 0.6128555536270142),\n",
       " ('lord', 0.6125958561897278),\n",
       " ('hesitant_order', 0.6125370264053345),\n",
       " ('cross_your_finger', 0.6123635172843933),\n",
       " ('affair', 0.6122770309448242),\n",
       " ('schedule_appointment', 0.6121187210083008),\n",
       " ('authorization', 0.6120802760124207),\n",
       " ('fluke', 0.6120286583900452),\n",
       " ('contact_seller', 0.6116732954978943),\n",
       " ('willing', 0.6115846633911133),\n",
       " ('take_chance', 0.611535906791687),\n",
       " ('purchase_extended_warranty', 0.6115058064460754),\n",
       " ('customer_rep', 0.6113801598548889),\n",
       " ('samdung', 0.6113412380218506),\n",
       " ('cautious', 0.6112728714942932),\n",
       " ('comparative_review', 0.6110461354255676),\n",
       " ('repair_person', 0.610735297203064),\n",
       " ('throw_trash', 0.610441267490387),\n",
       " ('merchandise', 0.6099789142608643),\n",
       " ('receive_reply', 0.6098403930664062),\n",
       " ('grief', 0.6096583604812622),\n",
       " ('buyer_remorse', 0.609180748462677),\n",
       " ('extended_warranty', 0.6091693639755249),\n",
       " ('many_positive_review', 0.6089640855789185),\n",
       " ('upper_tier', 0.6088971495628357),\n",
       " ('earn_money', 0.6088711619377136),\n",
       " ('voucher', 0.6087515354156494),\n",
       " ('short_circuit', 0.6082693934440613),\n",
       " ('sight_unseen', 0.6080362796783447),\n",
       " ('repair_man', 0.6080124974250793),\n",
       " ('illegal', 0.6078655123710632),\n",
       " ('tvfor', 0.607724666595459),\n",
       " ('ask_speak_supervisor', 0.6076114773750305),\n",
       " ('make_long_story', 0.6075142621994019),\n",
       " ('escalate', 0.6075140237808228),\n",
       " ('sneaky', 0.6074758768081665),\n",
       " ('die_year', 0.6073642373085022),\n",
       " ('strategy', 0.6072973012924194),\n",
       " ('persistent', 0.606999397277832),\n",
       " ('sorry', 0.6069867610931396),\n",
       " ('luck_draw', 0.6067625880241394),\n",
       " ('warranty_service', 0.606700599193573),\n",
       " ('mixed_review', 0.606696367263794),\n",
       " ('mail_today', 0.6066024303436279),\n",
       " ('oct', 0.606579601764679),\n",
       " ('slow_boat', 0.6063147187232971),\n",
       " ('willing_risk', 0.6060476303100586),\n",
       " ('high_hope', 0.6060014367103577),\n",
       " ('call_tomorrow', 0.6059536933898926),\n",
       " ('worth_gamble', 0.6058308482170105),\n",
       " ('knowledgeable_helpful', 0.6057689189910889),\n",
       " ('last_decade', 0.6056833267211914),\n",
       " ('solve_issue', 0.6053354144096375),\n",
       " ('refusal', 0.6051821708679199),\n",
       " ('red_blinking_light', 0.6051687598228455),\n",
       " ('many_negative_review', 0.6049902439117432),\n",
       " ('drawing_board', 0.6048091650009155),\n",
       " ('15th', 0.6047206521034241),\n",
       " ('refurbished_unit', 0.6046763062477112),\n",
       " ('user_feedback', 0.6046135425567627),\n",
       " ('swell', 0.6042081713676453),\n",
       " ('local_repair_shop', 0.6041568517684937),\n",
       " ('email_customer_support', 0.6039864420890808),\n",
       " ('robot_sound', 0.6037769317626953),\n",
       " ('killer_deal', 0.6036295890808105),\n",
       " ('deter', 0.6036003828048706),\n",
       " ('finally', 0.6035405397415161),\n",
       " ('communist', 0.6034849286079407),\n",
       " ('partial_refund', 0.6034480929374695),\n",
       " ('extend_warranty_expire', 0.6031706929206848),\n",
       " ('eager', 0.6031078696250916),\n",
       " ('send_repair_guy', 0.6028563380241394),\n",
       " ('outcome', 0.6026429533958435),\n",
       " ('throw_garbage', 0.6022810935974121),\n",
       " ('panasonic_tc_l32x2', 0.6019257307052612),\n",
       " ('brand/model', 0.6018384099006653),\n",
       " ('faulty', 0.601742684841156),\n",
       " ('reject', 0.6016481518745422),\n",
       " ('dud', 0.6016210317611694),\n",
       " ('consternation', 0.6008142828941345),\n",
       " ('hl61a750', 0.6003618836402893),\n",
       " ('follow_up', 0.5999884009361267),\n",
       " ('ces', 0.5991979837417603),\n",
       " ('unsure', 0.5990196466445923),\n",
       " ('further_research', 0.5987781286239624),\n",
       " ('scared', 0.5985924601554871),\n",
       " ('carefull', 0.5985276699066162),\n",
       " ('thank_god', 0.598462700843811),\n",
       " ('verbose', 0.598397433757782),\n",
       " ('apr', 0.5983486175537109),\n",
       " ('phone_tech_support', 0.5983325242996216),\n",
       " ('whim', 0.5980961322784424),\n",
       " ('power_board', 0.5980604887008667),\n",
       " ('addendum', 0.5980493426322937),\n",
       " ('mother_board', 0.5979309678077698),\n",
       " ('offer_discount_new', 0.597658097743988),\n",
       " ('shipper_ceva', 0.597565770149231),\n",
       " ('pn50b650', 0.597525417804718),\n",
       " ('income', 0.597274124622345),\n",
       " ('8th', 0.5971749424934387),\n",
       " ('crap_shoot', 0.5970718860626221),\n",
       " ('speculation', 0.5968248248100281),\n",
       " ('best_buys', 0.5965752601623535),\n",
       " ('ln52a850', 0.5965143442153931),\n",
       " ('tempt', 0.5961238145828247),\n",
       " ('uninformed', 0.5956013798713684),\n",
       " ('fred_meyer', 0.5955626964569092),\n",
       " ('expiration_date', 0.5954811573028564),\n",
       " ('send_someone', 0.5954749584197998),\n",
       " ('bad_capacitor', 0.5954452753067017),\n",
       " ('whoever', 0.5953965187072754),\n",
       " ('24th', 0.5950203537940979),\n",
       " ('ask_refund', 0.5947874784469604),\n",
       " ('refuse_delivery', 0.5942491292953491),\n",
       " ('55lm7600', 0.5937122702598572),\n",
       " ('adorama', 0.5935092568397522),\n",
       " ('vann', 0.5931106209754944),\n",
       " ('f.', 0.5926406979560852),\n",
       " ('week_ownership', 0.5926228165626526),\n",
       " ('reimburse', 0.592602014541626),\n",
       " ('responsible', 0.5925512313842773),\n",
       " ('bite_bullet', 0.592117190361023),\n",
       " ('lucky', 0.5920804142951965),\n",
       " ('impulse', 0.5920065641403198),\n",
       " ('year_warranty_square_trade', 0.5919128060340881),\n",
       " ('take_risk', 0.5918679237365723),\n",
       " ('infuriate', 0.5917961001396179),\n",
       " ('pleasant_helpful', 0.5913529396057129),\n",
       " ('last_couple_week', 0.5911059379577637),\n",
       " ('reputable_brand', 0.5910804867744446),\n",
       " ('need_arise', 0.5910148620605469),\n",
       " ('wait_few_month', 0.5904994606971741),\n",
       " ('local_bb', 0.5903943777084351),\n",
       " ('repair', 0.5901543498039246),\n",
       " ('long_term', 0.5900839567184448),\n",
       " ('leery', 0.5900119543075562),\n",
       " ('chalk_bad', 0.589828610420227),\n",
       " ('rave_review', 0.5897886157035828),\n",
       " ('professional_installers', 0.5895559787750244),\n",
       " ('tracking_information', 0.5894358158111572),\n",
       " ('customer_feedback', 0.5892875790596008),\n",
       " ('tcl_customer_service', 0.589235246181488),\n",
       " ('25th', 0.5892348885536194),\n",
       " ('loyal', 0.588978111743927),\n",
       " ('return/exchange', 0.5888262987136841),\n",
       " ('keep_secret', 0.5887622833251953),\n",
       " ('local_retail', 0.5887356996536255),\n",
       " ('big_mistake', 0.5884639024734497),\n",
       " ('repackaging', 0.5884445905685425),\n",
       " ('restock', 0.588437557220459),\n",
       " ('csr', 0.5883400440216064),\n",
       " ('september', 0.5883370637893677),\n",
       " ('pursue', 0.5882894396781921),\n",
       " ('gotcha', 0.5876982808113098),\n",
       " ('bait_switch', 0.5876970291137695),\n",
       " ('outsource', 0.5876490473747253),\n",
       " ('consumer_report_rating', 0.5876333713531494),\n",
       " ('loyal_customer', 0.5875791311264038),\n",
       " ('bit_biased', 0.5874903798103333),\n",
       " ('jan.', 0.5874278545379639),\n",
       " ('cooperate', 0.5873386859893799),\n",
       " ('artec_antenna', 0.5870790481567383),\n",
       " ('next_business_day', 0.5870755910873413),\n",
       " ('repair_company', 0.5869134664535522),\n",
       " ('their_reputation', 0.5868916511535645),\n",
       " (':)update', 0.5868486166000366),\n",
       " ('make_informed_decision', 0.5867816805839539),\n",
       " ('ashamed', 0.5867503881454468),\n",
       " ('apprehensive', 0.5863218307495117),\n",
       " ('encourage', 0.5861549377441406),\n",
       " ('clarification', 0.5861334204673767),\n",
       " ('extravagant', 0.5859667062759399),\n",
       " ('piece_electronic_equipment', 0.5859304666519165),\n",
       " ('expertise', 0.5858551263809204),\n",
       " ('repair_guy', 0.58562833070755),\n",
       " ('bricked', 0.5856099724769592),\n",
       " ('long_tooth', 0.5855790376663208),\n",
       " (\"i'll\", 0.5855517387390137),\n",
       " ('potential_buyer', 0.5855411291122437),\n",
       " ('fanboy', 0.5854913592338562),\n",
       " ('return_authorization', 0.5854629278182983),\n",
       " ('research_web', 0.5854536890983582),\n",
       " ('disgusted', 0.5854306221008301),\n",
       " ('helpful_information', 0.5853304862976074),\n",
       " ('damn', 0.5853077173233032),\n",
       " ('big_ticket', 0.5851427316665649),\n",
       " ('authorize', 0.5851337909698486),\n",
       " ('inventory', 0.5849127769470215),\n",
       " ('bb_cc', 0.5848268270492554),\n",
       " ('huge_mistake', 0.5848008394241333),\n",
       " ('previous_version', 0.5847972631454468),\n",
       " ('diagnose_problem', 0.584700882434845),\n",
       " ('save_headache', 0.5843504667282104),\n",
       " ('vizparts', 0.5843318104743958),\n",
       " ('rca_ant1500', 0.5843235850334167),\n",
       " ('local_electronic_store', 0.5842794179916382),\n",
       " ('tht', 0.584035336971283),\n",
       " ('ms-2002', 0.5840004682540894),\n",
       " ('short_period', 0.5837762951850891),\n",
       " ('talk_someone', 0.5837480425834656),\n",
       " ('common_theme', 0.58369380235672),\n",
       " ('repair_estimate', 0.5836812257766724),\n",
       " ('yr', 0.5834500789642334),\n",
       " ('restocking_fee', 0.5831869840621948),\n",
       " ('pay_sale_tax', 0.5831380486488342),\n",
       " ('misunderstanding', 0.5831056237220764),\n",
       " ('osram', 0.5827080011367798),\n",
       " ('idiot', 0.5827022194862366),\n",
       " ('little_worried', 0.5826790928840637),\n",
       " ('arrive_doa', 0.5825813412666321),\n",
       " ('holiday_season', 0.5824358463287354),\n",
       " ('evil', 0.5819498300552368),\n",
       " ('bottom_leave_right', 0.5818378925323486),\n",
       " ('shopping_cart', 0.5817320346832275),\n",
       " ('modia', 0.5817139148712158),\n",
       " ('antennna', 0.5817039608955383),\n",
       " ('rough_handling', 0.5816963315010071),\n",
       " ('warranty_coverage', 0.5816149115562439),\n",
       " ('obvious_reason', 0.5816082954406738),\n",
       " ('technologies', 0.5815041661262512),\n",
       " ('houston_area', 0.5813344717025757),\n",
       " ('31st', 0.5812957286834717),\n",
       " ('wait_long_time', 0.581291675567627),\n",
       " ('fortunate', 0.5811846852302551),\n",
       " ('untold', 0.5811726450920105),\n",
       " ('panasonic_plasmas', 0.5811150074005127),\n",
       " ('scam', 0.5810577869415283),\n",
       " ('wad', 0.5809639692306519),\n",
       " ('cooperative', 0.5807570815086365),\n",
       " ('malfunction', 0.5806572437286377),\n",
       " ('bitter', 0.5805173516273499),\n",
       " ('legitimate', 0.5802566409111023),\n",
       " ('extensive_research', 0.5799762010574341),\n",
       " ('dept', 0.5797958374023438),\n",
       " ('widespread', 0.5797203779220581),\n",
       " ('early_adopter', 0.579423725605011),\n",
       " ('reorder', 0.5794128179550171),\n",
       " ('eligible', 0.579392671585083),\n",
       " ('huge_saving', 0.5793129205703735),\n",
       " ('refurbish', 0.5793027281761169),\n",
       " ('extra_money_spend', 0.5792345404624939),\n",
       " ('diagnose_issue', 0.5791603922843933),\n",
       " ('jail', 0.5791586637496948),\n",
       " ('hurry', 0.5791544318199158),\n",
       " ('past_week', 0.5790895819664001),\n",
       " ('local_target', 0.5790203809738159),\n",
       " ('send_technician', 0.5789796710014343),\n",
       " ('waiting', 0.5789545774459839),\n",
       " ('authorize_repair', 0.5785813927650452),\n",
       " ('telephone_call', 0.5785025954246521),\n",
       " ('contact_logitech', 0.5783485174179077),\n",
       " ('long_story_short', 0.5783455967903137),\n",
       " ('worth_hassle', 0.5782278776168823),\n",
       " ('23rd', 0.5781698822975159),\n",
       " ('lifetime', 0.5780766606330872),\n",
       " ('deformed', 0.5780326724052429),\n",
       " ('displeased', 0.5778444409370422),\n",
       " ('confirmation_email', 0.5776411890983582),\n",
       " ('their_customer_support', 0.5775234699249268),\n",
       " ('hdtvi', 0.5774936676025391),\n",
       " ('unlikely', 0.577427864074707),\n",
       " ('micro_flies', 0.5773859620094299),\n",
       " ('phase', 0.5773096680641174),\n",
       " ('retrospect', 0.5772913098335266),\n",
       " ('backordered', 0.5772507190704346),\n",
       " ('search_web', 0.5771461725234985),\n",
       " ('potential_customer', 0.5769748687744141),\n",
       " ('educate', 0.5766147971153259),\n",
       " ('main_drawback', 0.5765790939331055),\n",
       " ('pn64d8000', 0.576489269733429),\n",
       " ('tigerdirect', 0.5763745307922363),\n",
       " ('t_shirt', 0.5762475728988647),\n",
       " ('repair/replacement', 0.5761033892631531),\n",
       " ('approve', 0.5760869979858398),\n",
       " ('should_need_arise', 0.5758301019668579),\n",
       " ('yourself', 0.5755208730697632),\n",
       " ('frustrate', 0.5754786133766174),\n",
       " ('low_energy_usage', 0.5754474401473999),\n",
       " ('unsolicited', 0.575390636920929),\n",
       " ('money_drain', 0.5752846002578735),\n",
       " ('jan', 0.5751292705535889),\n",
       " ('dealer', 0.57499098777771),\n",
       " ('fatal_flaw', 0.5749708414077759),\n",
       " ('saturday_night', 0.5748299956321716),\n",
       " ('uneducated', 0.5747497081756592),\n",
       " ('mx-850', 0.5747451782226562),\n",
       " ('paperweight', 0.5746973752975464),\n",
       " ('professional_consumer', 0.5745443105697632),\n",
       " ('nothing.', 0.5745232701301575),\n",
       " ('anger', 0.5745061039924622),\n",
       " ('contractor', 0.5744749307632446),\n",
       " ('shipping_fee', 0.5743005275726318),\n",
       " ('multidirectional_antenna', 0.5739559531211853),\n",
       " ('last_few_month', 0.5738705992698669),\n",
       " ('refresh_rate_240hz', 0.5738027095794678),\n",
       " ('customer_care', 0.5737690925598145),\n",
       " ('month_ownership', 0.573671817779541),\n",
       " ('syntax', 0.5736271142959595),\n",
       " ('vote', 0.5736232995986938),\n",
       " ('hind_sight', 0.5735542178153992),\n",
       " ('proof', 0.573513388633728),\n",
       " ('make_mistake', 0.5734217762947083),\n",
       " ('trouble_ticket', 0.5732948184013367),\n",
       " ('ignorance', 0.5732163190841675),\n",
       " ('settlement', 0.5731312036514282),\n",
       " ('odds', 0.5728811621665955),\n",
       " ('run_juice', 0.5728285312652588),\n",
       " ('warranty_repair', 0.572810709476471),\n",
       " ('insurance', 0.5728057026863098),\n",
       " ('july', 0.5727798938751221),\n",
       " ('question_ask', 0.5727383494377136),\n",
       " ('china', 0.5726569890975952),\n",
       " ('costumer', 0.5725827813148499),\n",
       " ('merchant', 0.5725548267364502),\n",
       " ('double_warranty', 0.572272539138794),\n",
       " ('disconcerting', 0.5722600817680359),\n",
       " ('ups_pickup', 0.572241485118866),\n",
       " ('riddle', 0.5721762180328369),\n",
       " ('countless', 0.5720385313034058),\n",
       " ('service_contract', 0.5720125436782837),\n",
       " ('mitz', 0.5719712376594543),\n",
       " ('contact_manufacturer', 0.5719558596611023),\n",
       " ('lawsuit', 0.5719413161277771),\n",
       " ('finger_cross', 0.5718892812728882),\n",
       " ('hh_greg', 0.5717936158180237),\n",
       " ('inlaws', 0.5715776681900024),\n",
       " ('17th', 0.571537435054779),\n",
       " ('misunderstand', 0.5714856386184692),\n",
       " ('suspicious', 0.5713136196136475),\n",
       " ('notify', 0.5713124871253967),\n",
       " ('local_wal_mart', 0.5713101029396057),\n",
       " ('tcl.', 0.5712813138961792),\n",
       " ('until', 0.5712664127349854),\n",
       " ('shady', 0.5712605714797974),\n",
       " ('frustration', 0.5712335109710693),\n",
       " ('revive', 0.5712316632270813),\n",
       " ('big_ticket_item', 0.5711780786514282),\n",
       " ('ocosmo', 0.5711656212806702),\n",
       " ('image_retention_burn', 0.5710756778717041),\n",
       " ('exact_same_thing', 0.5710365772247314),\n",
       " ('fret', 0.5708967447280884),\n",
       " ('shipper_pilot', 0.5708624124526978),\n",
       " ('contact_customer_service', 0.5708133578300476),\n",
       " ('repair_facility', 0.5706740021705627),\n",
       " ('willingness', 0.5704753994941711),\n",
       " ('june', 0.5702117681503296),\n",
       " ('corporation', 0.5700832605361938),\n",
       " ('bite_dust', 0.5699766874313354),\n",
       " ('physical_damage', 0.5698719024658203),\n",
       " ('terk_amplify_antenna', 0.5698628425598145),\n",
       " ('backorder', 0.5698023438453674),\n",
       " ('agreement', 0.5696621537208557),\n",
       " ('current_pricing', 0.5694032907485962),\n",
       " ('cnet_consumer_report', 0.5693802833557129),\n",
       " ('little_hesitant', 0.5693597197532654),\n",
       " ('shell_money', 0.5693017244338989),\n",
       " ('last_november', 0.56892329454422),\n",
       " ('day_ownership', 0.5687332153320312),\n",
       " ('jolt', 0.5686934590339661),\n",
       " ('ta', 0.5686595439910889),\n",
       " ('cs.', 0.5685024261474609),\n",
       " ('glad_take_chance', 0.5684201717376709),\n",
       " ('forewarn', 0.5683059692382812)]"
      ]
     },
     "execution_count": 146,
     "metadata": {},
     "output_type": "execute_result"
    }
   ],
   "source": [
    "w2v.model.wv.most_similar(positive=['unhappy','disappointed','pissed'],negative=['awesome','excellent'],topn=500)"
   ]
  },
  {
   "cell_type": "code",
   "execution_count": 17,
   "metadata": {},
   "outputs": [],
   "source": [
    "doc = \"This TV really exceeded my expectations considering the price. For starters, the picture quality is excellent. The picture is really crisp and when you're watching HDR movies or TV shows, you'll really notice the difference! There's even a Dolby Vision or HDR logo that will pop up in the corner of the screen to let you know when you're watching HDR content. It's little details like this that make this TV especially enjoyable.\""
   ]
  },
  {
   "cell_type": "code",
   "execution_count": 18,
   "metadata": {},
   "outputs": [],
   "source": [
    "pos_vec = w2v.model.wv.get_vector('happy')"
   ]
  },
  {
   "cell_type": "code",
   "execution_count": 19,
   "metadata": {},
   "outputs": [],
   "source": [
    "vec = []\n",
    "for word in doc.split():\n",
    "    try:\n",
    "        vec.append(w2v.model.wv.get_vector(word))\n",
    "    except:\n",
    "        pass"
   ]
  },
  {
   "cell_type": "code",
   "execution_count": 20,
   "metadata": {},
   "outputs": [
    {
     "ename": "KeyError",
     "evalue": "\"word '-1.9310207' not in vocabulary\"",
     "output_type": "error",
     "traceback": [
      "\u001b[0;31m---------------------------------------------------------------------------\u001b[0m",
      "\u001b[0;31mKeyError\u001b[0m                                  Traceback (most recent call last)",
      "\u001b[0;32m<ipython-input-20-2273fed02054>\u001b[0m in \u001b[0;36m<module>\u001b[0;34m()\u001b[0m\n\u001b[0;32m----> 1\u001b[0;31m \u001b[0mw2v\u001b[0m\u001b[0;34m.\u001b[0m\u001b[0mmodel\u001b[0m\u001b[0;34m.\u001b[0m\u001b[0mwv\u001b[0m\u001b[0;34m.\u001b[0m\u001b[0msimilarity\u001b[0m\u001b[0;34m(\u001b[0m\u001b[0mpos_vec\u001b[0m\u001b[0;34m,\u001b[0m\u001b[0mvec\u001b[0m\u001b[0;34m)\u001b[0m\u001b[0;34m\u001b[0m\u001b[0m\n\u001b[0m",
      "\u001b[0;32m/anaconda3/lib/python3.6/site-packages/gensim/models/keyedvectors.py\u001b[0m in \u001b[0;36msimilarity\u001b[0;34m(self, w1, w2)\u001b[0m\n\u001b[1;32m    826\u001b[0m \u001b[0;34m\u001b[0m\u001b[0m\n\u001b[1;32m    827\u001b[0m         \"\"\"\n\u001b[0;32m--> 828\u001b[0;31m         \u001b[0;32mreturn\u001b[0m \u001b[0mdot\u001b[0m\u001b[0;34m(\u001b[0m\u001b[0mmatutils\u001b[0m\u001b[0;34m.\u001b[0m\u001b[0munitvec\u001b[0m\u001b[0;34m(\u001b[0m\u001b[0mself\u001b[0m\u001b[0;34m[\u001b[0m\u001b[0mw1\u001b[0m\u001b[0;34m]\u001b[0m\u001b[0;34m)\u001b[0m\u001b[0;34m,\u001b[0m \u001b[0mmatutils\u001b[0m\u001b[0;34m.\u001b[0m\u001b[0munitvec\u001b[0m\u001b[0;34m(\u001b[0m\u001b[0mself\u001b[0m\u001b[0;34m[\u001b[0m\u001b[0mw2\u001b[0m\u001b[0;34m]\u001b[0m\u001b[0;34m)\u001b[0m\u001b[0;34m)\u001b[0m\u001b[0;34m\u001b[0m\u001b[0m\n\u001b[0m\u001b[1;32m    829\u001b[0m \u001b[0;34m\u001b[0m\u001b[0m\n\u001b[1;32m    830\u001b[0m     \u001b[0;32mdef\u001b[0m \u001b[0mn_similarity\u001b[0m\u001b[0;34m(\u001b[0m\u001b[0mself\u001b[0m\u001b[0;34m,\u001b[0m \u001b[0mws1\u001b[0m\u001b[0;34m,\u001b[0m \u001b[0mws2\u001b[0m\u001b[0;34m)\u001b[0m\u001b[0;34m:\u001b[0m\u001b[0;34m\u001b[0m\u001b[0m\n",
      "\u001b[0;32m/anaconda3/lib/python3.6/site-packages/gensim/models/keyedvectors.py\u001b[0m in \u001b[0;36m__getitem__\u001b[0;34m(self, entities)\u001b[0m\n\u001b[1;32m    169\u001b[0m             \u001b[0;32mreturn\u001b[0m \u001b[0mself\u001b[0m\u001b[0;34m.\u001b[0m\u001b[0mget_vector\u001b[0m\u001b[0;34m(\u001b[0m\u001b[0mentities\u001b[0m\u001b[0;34m)\u001b[0m\u001b[0;34m\u001b[0m\u001b[0m\n\u001b[1;32m    170\u001b[0m \u001b[0;34m\u001b[0m\u001b[0m\n\u001b[0;32m--> 171\u001b[0;31m         \u001b[0;32mreturn\u001b[0m \u001b[0mvstack\u001b[0m\u001b[0;34m(\u001b[0m\u001b[0;34m[\u001b[0m\u001b[0mself\u001b[0m\u001b[0;34m.\u001b[0m\u001b[0mget_vector\u001b[0m\u001b[0;34m(\u001b[0m\u001b[0mentity\u001b[0m\u001b[0;34m)\u001b[0m \u001b[0;32mfor\u001b[0m \u001b[0mentity\u001b[0m \u001b[0;32min\u001b[0m \u001b[0mentities\u001b[0m\u001b[0;34m]\u001b[0m\u001b[0;34m)\u001b[0m\u001b[0;34m\u001b[0m\u001b[0m\n\u001b[0m\u001b[1;32m    172\u001b[0m \u001b[0;34m\u001b[0m\u001b[0m\n\u001b[1;32m    173\u001b[0m     \u001b[0;32mdef\u001b[0m \u001b[0m__contains__\u001b[0m\u001b[0;34m(\u001b[0m\u001b[0mself\u001b[0m\u001b[0;34m,\u001b[0m \u001b[0mentity\u001b[0m\u001b[0;34m)\u001b[0m\u001b[0;34m:\u001b[0m\u001b[0;34m\u001b[0m\u001b[0m\n",
      "\u001b[0;32m/anaconda3/lib/python3.6/site-packages/gensim/models/keyedvectors.py\u001b[0m in \u001b[0;36m<listcomp>\u001b[0;34m(.0)\u001b[0m\n\u001b[1;32m    169\u001b[0m             \u001b[0;32mreturn\u001b[0m \u001b[0mself\u001b[0m\u001b[0;34m.\u001b[0m\u001b[0mget_vector\u001b[0m\u001b[0;34m(\u001b[0m\u001b[0mentities\u001b[0m\u001b[0;34m)\u001b[0m\u001b[0;34m\u001b[0m\u001b[0m\n\u001b[1;32m    170\u001b[0m \u001b[0;34m\u001b[0m\u001b[0m\n\u001b[0;32m--> 171\u001b[0;31m         \u001b[0;32mreturn\u001b[0m \u001b[0mvstack\u001b[0m\u001b[0;34m(\u001b[0m\u001b[0;34m[\u001b[0m\u001b[0mself\u001b[0m\u001b[0;34m.\u001b[0m\u001b[0mget_vector\u001b[0m\u001b[0;34m(\u001b[0m\u001b[0mentity\u001b[0m\u001b[0;34m)\u001b[0m \u001b[0;32mfor\u001b[0m \u001b[0mentity\u001b[0m \u001b[0;32min\u001b[0m \u001b[0mentities\u001b[0m\u001b[0;34m]\u001b[0m\u001b[0;34m)\u001b[0m\u001b[0;34m\u001b[0m\u001b[0m\n\u001b[0m\u001b[1;32m    172\u001b[0m \u001b[0;34m\u001b[0m\u001b[0m\n\u001b[1;32m    173\u001b[0m     \u001b[0;32mdef\u001b[0m \u001b[0m__contains__\u001b[0m\u001b[0;34m(\u001b[0m\u001b[0mself\u001b[0m\u001b[0;34m,\u001b[0m \u001b[0mentity\u001b[0m\u001b[0;34m)\u001b[0m\u001b[0;34m:\u001b[0m\u001b[0;34m\u001b[0m\u001b[0m\n",
      "\u001b[0;32m/anaconda3/lib/python3.6/site-packages/gensim/models/keyedvectors.py\u001b[0m in \u001b[0;36mget_vector\u001b[0;34m(self, word)\u001b[0m\n\u001b[1;32m    275\u001b[0m \u001b[0;34m\u001b[0m\u001b[0m\n\u001b[1;32m    276\u001b[0m     \u001b[0;32mdef\u001b[0m \u001b[0mget_vector\u001b[0m\u001b[0;34m(\u001b[0m\u001b[0mself\u001b[0m\u001b[0;34m,\u001b[0m \u001b[0mword\u001b[0m\u001b[0;34m)\u001b[0m\u001b[0;34m:\u001b[0m\u001b[0;34m\u001b[0m\u001b[0m\n\u001b[0;32m--> 277\u001b[0;31m         \u001b[0;32mreturn\u001b[0m \u001b[0mself\u001b[0m\u001b[0;34m.\u001b[0m\u001b[0mword_vec\u001b[0m\u001b[0;34m(\u001b[0m\u001b[0mword\u001b[0m\u001b[0;34m)\u001b[0m\u001b[0;34m\u001b[0m\u001b[0m\n\u001b[0m\u001b[1;32m    278\u001b[0m \u001b[0;34m\u001b[0m\u001b[0m\n\u001b[1;32m    279\u001b[0m     \u001b[0;32mdef\u001b[0m \u001b[0mwords_closer_than\u001b[0m\u001b[0;34m(\u001b[0m\u001b[0mself\u001b[0m\u001b[0;34m,\u001b[0m \u001b[0mw1\u001b[0m\u001b[0;34m,\u001b[0m \u001b[0mw2\u001b[0m\u001b[0;34m)\u001b[0m\u001b[0;34m:\u001b[0m\u001b[0;34m\u001b[0m\u001b[0m\n",
      "\u001b[0;32m/anaconda3/lib/python3.6/site-packages/gensim/models/keyedvectors.py\u001b[0m in \u001b[0;36mword_vec\u001b[0;34m(self, word, use_norm)\u001b[0m\n\u001b[1;32m    272\u001b[0m             \u001b[0;32mreturn\u001b[0m \u001b[0mresult\u001b[0m\u001b[0;34m\u001b[0m\u001b[0m\n\u001b[1;32m    273\u001b[0m         \u001b[0;32melse\u001b[0m\u001b[0;34m:\u001b[0m\u001b[0;34m\u001b[0m\u001b[0m\n\u001b[0;32m--> 274\u001b[0;31m             \u001b[0;32mraise\u001b[0m \u001b[0mKeyError\u001b[0m\u001b[0;34m(\u001b[0m\u001b[0;34m\"word '%s' not in vocabulary\"\u001b[0m \u001b[0;34m%\u001b[0m \u001b[0mword\u001b[0m\u001b[0;34m)\u001b[0m\u001b[0;34m\u001b[0m\u001b[0m\n\u001b[0m\u001b[1;32m    275\u001b[0m \u001b[0;34m\u001b[0m\u001b[0m\n\u001b[1;32m    276\u001b[0m     \u001b[0;32mdef\u001b[0m \u001b[0mget_vector\u001b[0m\u001b[0;34m(\u001b[0m\u001b[0mself\u001b[0m\u001b[0;34m,\u001b[0m \u001b[0mword\u001b[0m\u001b[0;34m)\u001b[0m\u001b[0;34m:\u001b[0m\u001b[0;34m\u001b[0m\u001b[0m\n",
      "\u001b[0;31mKeyError\u001b[0m: \"word '-1.9310207' not in vocabulary\""
     ]
    }
   ],
   "source": [
    "w2v.model.wv.similarity(pos_vec,vec)"
   ]
  },
  {
   "cell_type": "code",
   "execution_count": 162,
   "metadata": {},
   "outputs": [],
   "source": []
  },
  {
   "cell_type": "code",
   "execution_count": 96,
   "metadata": {},
   "outputs": [],
   "source": [
    "from src.w2v_review_analyzer2 import W2VReviewAnalyzer2\n",
    "w2 = W2VReviewAnalyzer2()\n",
    "w2.fit2(df_new)"
   ]
  },
  {
   "cell_type": "code",
   "execution_count": 513,
   "metadata": {},
   "outputs": [
    {
     "data": {
      "text/plain": [
       "'great'"
      ]
     },
     "execution_count": 513,
     "metadata": {},
     "output_type": "execute_result"
    }
   ],
   "source": [
    "w2.get_trigrams('great tv')"
   ]
  },
  {
   "cell_type": "code",
   "execution_count": 514,
   "metadata": {},
   "outputs": [
    {
     "data": {
      "text/plain": [
       "\"exceed expectation consider price starter picture_quality excellent crisp 're watch hdr movie tv_show notice difference dolby vision hdr logo pop corner let know 're watch hdr content little detail make enjoyable\""
      ]
     },
     "execution_count": 514,
     "metadata": {},
     "output_type": "execute_result"
    }
   ],
   "source": [
    "w2.get_trigrams2(doc)"
   ]
  },
  {
   "cell_type": "code",
   "execution_count": 515,
   "metadata": {},
   "outputs": [],
   "source": [
    "doc2 = \"Image quality is almost too good.\""
   ]
  },
  {
   "cell_type": "code",
   "execution_count": 516,
   "metadata": {},
   "outputs": [
    {
     "data": {
      "text/plain": [
       "'image_quality good'"
      ]
     },
     "execution_count": 516,
     "metadata": {},
     "output_type": "execute_result"
    }
   ],
   "source": [
    "w2.get_trigrams(doc2)"
   ]
  },
  {
   "cell_type": "code",
   "execution_count": 398,
   "metadata": {},
   "outputs": [
    {
     "data": {
      "text/plain": [
       "['image quality good']"
      ]
     },
     "execution_count": 398,
     "metadata": {},
     "output_type": "execute_result"
    }
   ],
   "source": [
    "w2.lemmatized_sentence_corpus([doc2])"
   ]
  },
  {
   "cell_type": "code",
   "execution_count": 91,
   "metadata": {},
   "outputs": [],
   "source": [
    "doc3 = \"This TV was part of my 4K upgrade plan. I updated the TV, Xbox, PS4, and Apple TV. So far the experience has been really good. The Apple TV recognized the new TV right away and configured itself to take advantage of all of the available features. The Xbox and PS4 took a little more time to setup because they each use different nomenclature for features than the TV. Plus I had to turn the features on for each connection to the TV, so it was not Plug and Play. Fortunately both the Xbox and PS4 have ways to verbosely test the connection. Once dialed in, everything is fantastic. Games like Horizon Zero Dawn and Forza 7 look fantastic. Movies and TV shows are so good, the look like high quality computer renders. Sound quality is great too. Much better than my last TV, and it was pretty good. The TV was shipped with version 3 of WebOS, not version 4, which had been out for some time. I asked the TV to look for updates and it never found them. It wasn’t until two days later when it finally found the update on its own. After the update, the Apple TV recognized the change and made configuration changes to adjust.A truly great TV, but you will need to dig around its menus and those of your devices to set it up properly. Oh, and one thing that I almost forgot. When I first started using it, everything was dark. Adjusting the image didn’t help. There is an energy saving feature that you have to turn off. Took me a while to find that.\""
   ]
  },
  {
   "cell_type": "code",
   "execution_count": 92,
   "metadata": {},
   "outputs": [
    {
     "data": {
      "text/plain": [
       "['part upgrade plan',\n",
       " 'updated tv xbox ps4 apple tv',\n",
       " 'far experience good',\n",
       " 'apple recognize new configured take advantage available feature',\n",
       " 'xbox ps4 take little time setup different nomenclature feature tv',\n",
       " 'turn feature connection tv plug play',\n",
       " 'xbox ps4 way test connection',\n",
       " 'dial everything fantastic',\n",
       " 'game horizon dawn forza look fantastic',\n",
       " 'movie show good look high quality computer render',\n",
       " 'sound quality',\n",
       " 'better last tv good',\n",
       " 'ship version webos version time',\n",
       " 'ask look find',\n",
       " 'day find update own',\n",
       " 'update apple recognize change make configuration change adjust.a great tv need dig menu device',\n",
       " 'thing forget',\n",
       " 'start use everything dark',\n",
       " 'adjust image didn’t help',\n",
       " 'energy save feature turn',\n",
       " 'take find']"
      ]
     },
     "execution_count": 92,
     "metadata": {},
     "output_type": "execute_result"
    }
   ],
   "source": [
    "w2.lemmatized_sentence_corpus([doc3])"
   ]
  },
  {
   "cell_type": "code",
   "execution_count": 95,
   "metadata": {},
   "outputs": [
    {
     "data": {
      "text/plain": [
       "'part upgrade plan updated tv xbox ps4 apple tv far experience good apple recognize new configured take_advantage available feature xbox ps4 take little time setup different nomenclature feature tv turn feature connection tv plug play xbox ps4 way test connection dial everything fantastic game horizon dawn forza look fantastic movie show good look high_quality computer render sound_quality better last tv good ship version webos version time ask look find day find update own update apple recognize change make configuration change adjust.a great tv need dig menu device thing forget start use everything dark adjust image didn’t help energy_save feature turn take find'"
      ]
     },
     "execution_count": 95,
     "metadata": {},
     "output_type": "execute_result"
    }
   ],
   "source": [
    "w2.get_trigrams(doc3)"
   ]
  },
  {
   "cell_type": "code",
   "execution_count": 94,
   "metadata": {},
   "outputs": [
    {
     "data": {
      "text/plain": [
       "'part 4k upgrade plan update xbox ps4 apple tv. experience good apple recognize new configure take_advantage available feature xbox ps4 take little time setup different nomenclature feature tv. plus turn feature connection plug play xbox ps4 test connection dial everything fantastic game horizon_zero_dawn forza look fantastic movie show good look high_quality computer render sound_quality great better my_last good ship version webos version time ask look update find wasn’t day find update its_own update apple recognize change make configuration change adjust great will_need dig menu device thing forget start everything dark adjust image didn’t help energy_save feature turn take find'"
      ]
     },
     "execution_count": 94,
     "metadata": {},
     "output_type": "execute_result"
    }
   ],
   "source": [
    "w2.get_trigrams2(doc3)"
   ]
  },
  {
   "cell_type": "code",
   "execution_count": 457,
   "metadata": {},
   "outputs": [
    {
     "data": {
      "text/plain": [
       "'part 4k upgrade plan update xbox ps4 apple tv. experience good apple recognize new configure take_advantage available feature xbox ps4 take little time setup different nomenclature feature tv. plus turn feature connection plug play_xbox ps4 test connection dial everything fantastic game horizon zero dawn forza look fantastic movie show good look high_quality computer render sound_quality great better last good ship version webos version time ask look update find wasn’t day find update update apple recognize change make configuration change adjust great will_need dig menu device thing forget start everything dark adjust image didn’t help energy_save feature turn take find'"
      ]
     },
     "execution_count": 457,
     "metadata": {},
     "output_type": "execute_result"
    }
   ],
   "source": [
    "w2.get_trigrams2(doc3)"
   ]
  },
  {
   "cell_type": "code",
   "execution_count": 402,
   "metadata": {},
   "outputs": [],
   "source": [
    "clean_doc3 = ' '.join(w2.clean_document(doc3))"
   ]
  },
  {
   "cell_type": "code",
   "execution_count": null,
   "metadata": {},
   "outputs": [],
   "source": []
  },
  {
   "cell_type": "code",
   "execution_count": 97,
   "metadata": {},
   "outputs": [],
   "source": [
    "doc4 = \"Great TV but few annoyances\""
   ]
  },
  {
   "cell_type": "code",
   "execution_count": 98,
   "metadata": {},
   "outputs": [
    {
     "data": {
      "text/plain": [
       "'great annoyance'"
      ]
     },
     "execution_count": 98,
     "metadata": {},
     "output_type": "execute_result"
    }
   ],
   "source": [
    "w2.get_trigrams2(doc4)"
   ]
  },
  {
   "cell_type": "code",
   "execution_count": 25,
   "metadata": {},
   "outputs": [
    {
     "data": {
      "text/html": [
       "<div>\n",
       "<style scoped>\n",
       "    .dataframe tbody tr th:only-of-type {\n",
       "        vertical-align: middle;\n",
       "    }\n",
       "\n",
       "    .dataframe tbody tr th {\n",
       "        vertical-align: top;\n",
       "    }\n",
       "\n",
       "    .dataframe thead th {\n",
       "        text-align: right;\n",
       "    }\n",
       "</style>\n",
       "<table border=\"1\" class=\"dataframe\">\n",
       "  <thead>\n",
       "    <tr style=\"text-align: right;\">\n",
       "      <th></th>\n",
       "      <th>rating</th>\n",
       "      <th>product</th>\n",
       "      <th>reviews</th>\n",
       "      <th>model</th>\n",
       "      <th>review_trigrams</th>\n",
       "    </tr>\n",
       "  </thead>\n",
       "  <tbody>\n",
       "    <tr>\n",
       "      <th>0</th>\n",
       "      <td>1</td>\n",
       "      <td>LG Electronics 55UJ6300 55-Inch 4K Ultra HD Sm...</td>\n",
       "      <td>Four Stars nice tv</td>\n",
       "      <td>55UJ6300</td>\n",
       "      <td></td>\n",
       "    </tr>\n",
       "    <tr>\n",
       "      <th>1</th>\n",
       "      <td>1</td>\n",
       "      <td>LG Electronics 55UJ6300 55-Inch 4K Ultra HD Sm...</td>\n",
       "      <td>Five Stars Love it</td>\n",
       "      <td>55UJ6300</td>\n",
       "      <td></td>\n",
       "    </tr>\n",
       "  </tbody>\n",
       "</table>\n",
       "</div>"
      ],
      "text/plain": [
       "   rating                                            product  \\\n",
       "0       1  LG Electronics 55UJ6300 55-Inch 4K Ultra HD Sm...   \n",
       "1       1  LG Electronics 55UJ6300 55-Inch 4K Ultra HD Sm...   \n",
       "\n",
       "              reviews     model review_trigrams  \n",
       "0  Four Stars nice tv  55UJ6300                  \n",
       "1  Five Stars Love it  55UJ6300                  "
      ]
     },
     "execution_count": 25,
     "metadata": {},
     "output_type": "execute_result"
    }
   ],
   "source": [
    "w2.df_prod.head(2)"
   ]
  },
  {
   "cell_type": "code",
   "execution_count": 26,
   "metadata": {},
   "outputs": [
    {
     "data": {
      "text/plain": [
       "'Four Stars nice tv'"
      ]
     },
     "execution_count": 26,
     "metadata": {},
     "output_type": "execute_result"
    }
   ],
   "source": [
    "w2.df_prod['reviews'][0]"
   ]
  },
  {
   "cell_type": "code",
   "execution_count": 27,
   "metadata": {},
   "outputs": [
    {
     "data": {
      "text/plain": [
       "''"
      ]
     },
     "execution_count": 27,
     "metadata": {},
     "output_type": "execute_result"
    }
   ],
   "source": [
    "w2.df_prod['review_trigrams'][0]"
   ]
  },
  {
   "cell_type": "code",
   "execution_count": 28,
   "metadata": {},
   "outputs": [
    {
     "data": {
      "text/plain": [
       "'Five Stars Love it'"
      ]
     },
     "execution_count": 28,
     "metadata": {},
     "output_type": "execute_result"
    }
   ],
   "source": [
    "w2.df_prod['reviews'][1]"
   ]
  },
  {
   "cell_type": "code",
   "execution_count": 29,
   "metadata": {},
   "outputs": [
    {
     "data": {
      "text/plain": [
       "''"
      ]
     },
     "execution_count": 29,
     "metadata": {},
     "output_type": "execute_result"
    }
   ],
   "source": [
    "w2.df_prod['review_trigrams'][1]"
   ]
  },
  {
   "cell_type": "code",
   "execution_count": 90,
   "metadata": {},
   "outputs": [
    {
     "data": {
      "text/plain": [
       "'great great thing easy excellent need make adjustment default good level weigh 30lb easy_put wall_mount recommend buy deliver day free_shipp'"
      ]
     },
     "execution_count": 90,
     "metadata": {},
     "output_type": "execute_result"
    }
   ],
   "source": [
    "w2.get_trigrams2('great tv great tv samsung thing easy picture excellent do need make picture adjustment default good level weigh 30lb easy_put wall_mount recommend tv buy deliver day free_shipping')"
   ]
  },
  {
   "cell_type": "code",
   "execution_count": 31,
   "metadata": {},
   "outputs": [
    {
     "data": {
      "text/plain": [
       "'Nice picture Love it'"
      ]
     },
     "execution_count": 31,
     "metadata": {},
     "output_type": "execute_result"
    }
   ],
   "source": [
    "w2.df_prod['reviews'][2]"
   ]
  },
  {
   "cell_type": "code",
   "execution_count": 32,
   "metadata": {},
   "outputs": [
    {
     "data": {
      "text/plain": [
       "''"
      ]
     },
     "execution_count": 32,
     "metadata": {},
     "output_type": "execute_result"
    }
   ],
   "source": [
    "w2.df_prod['review_trigrams'][2]"
   ]
  },
  {
   "cell_type": "code",
   "execution_count": 33,
   "metadata": {},
   "outputs": [],
   "source": [
    "df_trigrams = w2.df_prod.copy()"
   ]
  },
  {
   "cell_type": "code",
   "execution_count": 34,
   "metadata": {},
   "outputs": [
    {
     "data": {
      "text/html": [
       "<div>\n",
       "<style scoped>\n",
       "    .dataframe tbody tr th:only-of-type {\n",
       "        vertical-align: middle;\n",
       "    }\n",
       "\n",
       "    .dataframe tbody tr th {\n",
       "        vertical-align: top;\n",
       "    }\n",
       "\n",
       "    .dataframe thead th {\n",
       "        text-align: right;\n",
       "    }\n",
       "</style>\n",
       "<table border=\"1\" class=\"dataframe\">\n",
       "  <thead>\n",
       "    <tr style=\"text-align: right;\">\n",
       "      <th></th>\n",
       "      <th>rating</th>\n",
       "      <th>product</th>\n",
       "      <th>reviews</th>\n",
       "      <th>model</th>\n",
       "      <th>review_trigrams</th>\n",
       "    </tr>\n",
       "  </thead>\n",
       "  <tbody>\n",
       "    <tr>\n",
       "      <th>0</th>\n",
       "      <td>1</td>\n",
       "      <td>LG Electronics 55UJ6300 55-Inch 4K Ultra HD Sm...</td>\n",
       "      <td>Four Stars nice tv</td>\n",
       "      <td>55UJ6300</td>\n",
       "      <td></td>\n",
       "    </tr>\n",
       "    <tr>\n",
       "      <th>1</th>\n",
       "      <td>1</td>\n",
       "      <td>LG Electronics 55UJ6300 55-Inch 4K Ultra HD Sm...</td>\n",
       "      <td>Five Stars Love it</td>\n",
       "      <td>55UJ6300</td>\n",
       "      <td></td>\n",
       "    </tr>\n",
       "    <tr>\n",
       "      <th>2</th>\n",
       "      <td>1</td>\n",
       "      <td>LG Electronics 55UJ6300 55-Inch 4K Ultra HD Sm...</td>\n",
       "      <td>Nice picture Love it</td>\n",
       "      <td>55UJ6300</td>\n",
       "      <td></td>\n",
       "    </tr>\n",
       "    <tr>\n",
       "      <th>3</th>\n",
       "      <td>1</td>\n",
       "      <td>LG Electronics 55UJ6300 55-Inch 4K Ultra HD Sm...</td>\n",
       "      <td>Five Stars Great Value</td>\n",
       "      <td>55UJ6300</td>\n",
       "      <td>great_value</td>\n",
       "    </tr>\n",
       "    <tr>\n",
       "      <th>4</th>\n",
       "      <td>1</td>\n",
       "      <td>LG Electronics 55UJ6300 55-Inch 4K Ultra HD Sm...</td>\n",
       "      <td>Five Stars Its good!</td>\n",
       "      <td>55UJ6300</td>\n",
       "      <td>good</td>\n",
       "    </tr>\n",
       "  </tbody>\n",
       "</table>\n",
       "</div>"
      ],
      "text/plain": [
       "   rating                                            product  \\\n",
       "0       1  LG Electronics 55UJ6300 55-Inch 4K Ultra HD Sm...   \n",
       "1       1  LG Electronics 55UJ6300 55-Inch 4K Ultra HD Sm...   \n",
       "2       1  LG Electronics 55UJ6300 55-Inch 4K Ultra HD Sm...   \n",
       "3       1  LG Electronics 55UJ6300 55-Inch 4K Ultra HD Sm...   \n",
       "4       1  LG Electronics 55UJ6300 55-Inch 4K Ultra HD Sm...   \n",
       "\n",
       "                  reviews     model review_trigrams  \n",
       "0      Four Stars nice tv  55UJ6300                  \n",
       "1      Five Stars Love it  55UJ6300                  \n",
       "2    Nice picture Love it  55UJ6300                  \n",
       "3  Five Stars Great Value  55UJ6300     great_value  \n",
       "4    Five Stars Its good!  55UJ6300            good  "
      ]
     },
     "execution_count": 34,
     "metadata": {},
     "output_type": "execute_result"
    }
   ],
   "source": [
    "df_trigrams.head()"
   ]
  },
  {
   "cell_type": "code",
   "execution_count": 35,
   "metadata": {},
   "outputs": [
    {
     "data": {
      "text/html": [
       "<div>\n",
       "<style scoped>\n",
       "    .dataframe tbody tr th:only-of-type {\n",
       "        vertical-align: middle;\n",
       "    }\n",
       "\n",
       "    .dataframe tbody tr th {\n",
       "        vertical-align: top;\n",
       "    }\n",
       "\n",
       "    .dataframe thead th {\n",
       "        text-align: right;\n",
       "    }\n",
       "</style>\n",
       "<table border=\"1\" class=\"dataframe\">\n",
       "  <thead>\n",
       "    <tr style=\"text-align: right;\">\n",
       "      <th></th>\n",
       "      <th>rating</th>\n",
       "      <th>product</th>\n",
       "      <th>model</th>\n",
       "      <th>reviews</th>\n",
       "    </tr>\n",
       "  </thead>\n",
       "  <tbody>\n",
       "    <tr>\n",
       "      <th>0</th>\n",
       "      <td>1</td>\n",
       "      <td>LG Electronics 55UJ6300 55-Inch 4K Ultra HD Sm...</td>\n",
       "      <td>55UJ6300</td>\n",
       "      <td></td>\n",
       "    </tr>\n",
       "    <tr>\n",
       "      <th>1</th>\n",
       "      <td>1</td>\n",
       "      <td>LG Electronics 55UJ6300 55-Inch 4K Ultra HD Sm...</td>\n",
       "      <td>55UJ6300</td>\n",
       "      <td></td>\n",
       "    </tr>\n",
       "  </tbody>\n",
       "</table>\n",
       "</div>"
      ],
      "text/plain": [
       "   rating                                            product     model reviews\n",
       "0       1  LG Electronics 55UJ6300 55-Inch 4K Ultra HD Sm...  55UJ6300        \n",
       "1       1  LG Electronics 55UJ6300 55-Inch 4K Ultra HD Sm...  55UJ6300        "
      ]
     },
     "execution_count": 35,
     "metadata": {},
     "output_type": "execute_result"
    }
   ],
   "source": [
    "df_trigrams = df_trigrams.drop(['reviews'],axis=1)\n",
    "\n",
    "df_trigrams = df_trigrams.rename(columns={'review_trigrams':'reviews'})\n",
    "\n",
    "df_trigrams.head(2)"
   ]
  },
  {
   "cell_type": "code",
   "execution_count": 56,
   "metadata": {},
   "outputs": [
    {
     "name": "stdout",
     "output_type": "stream",
     "text": [
      "[nltk_data] Downloading package stopwords to\n",
      "[nltk_data]     /Users/bhaskarballapragada/nltk_data...\n",
      "[nltk_data]   Package stopwords is already up-to-date!\n",
      "[nltk_data] Downloading package wordnet to\n",
      "[nltk_data]     /Users/bhaskarballapragada/nltk_data...\n",
      "[nltk_data]   Package wordnet is already up-to-date!\n"
     ]
    }
   ],
   "source": [
    "from src.naive_review_analyzer import NaiveReviewAnalyzer\n",
    "from src.LdaReviewAnalyzer import LdaReviewAnalyzer"
   ]
  },
  {
   "cell_type": "code",
   "execution_count": 113,
   "metadata": {},
   "outputs": [
    {
     "name": "stdout",
     "output_type": "stream",
     "text": [
      "[nltk_data] Downloading package stopwords to\n",
      "[nltk_data]     /Users/bhaskarballapragada/nltk_data...\n",
      "[nltk_data]   Package stopwords is already up-to-date!\n",
      "[nltk_data] Downloading package wordnet to\n",
      "[nltk_data]     /Users/bhaskarballapragada/nltk_data...\n",
      "[nltk_data]   Package wordnet is already up-to-date!\n"
     ]
    }
   ],
   "source": [
    "nra = NaiveReviewAnalyzer()"
   ]
  },
  {
   "cell_type": "code",
   "execution_count": 114,
   "metadata": {},
   "outputs": [
    {
     "data": {
      "text/html": [
       "<div>\n",
       "<style scoped>\n",
       "    .dataframe tbody tr th:only-of-type {\n",
       "        vertical-align: middle;\n",
       "    }\n",
       "\n",
       "    .dataframe tbody tr th {\n",
       "        vertical-align: top;\n",
       "    }\n",
       "\n",
       "    .dataframe thead th {\n",
       "        text-align: right;\n",
       "    }\n",
       "</style>\n",
       "<table border=\"1\" class=\"dataframe\">\n",
       "  <thead>\n",
       "    <tr style=\"text-align: right;\">\n",
       "      <th></th>\n",
       "      <th>product</th>\n",
       "      <th>model</th>\n",
       "      <th>reviews</th>\n",
       "    </tr>\n",
       "    <tr>\n",
       "      <th>rating</th>\n",
       "      <th></th>\n",
       "      <th></th>\n",
       "      <th></th>\n",
       "    </tr>\n",
       "  </thead>\n",
       "  <tbody>\n",
       "    <tr>\n",
       "      <th>0</th>\n",
       "      <td>64</td>\n",
       "      <td>64</td>\n",
       "      <td>64</td>\n",
       "    </tr>\n",
       "    <tr>\n",
       "      <th>1</th>\n",
       "      <td>270</td>\n",
       "      <td>270</td>\n",
       "      <td>270</td>\n",
       "    </tr>\n",
       "  </tbody>\n",
       "</table>\n",
       "</div>"
      ],
      "text/plain": [
       "        product  model  reviews\n",
       "rating                         \n",
       "0            64     64       64\n",
       "1           270    270      270"
      ]
     },
     "execution_count": 114,
     "metadata": {},
     "output_type": "execute_result"
    }
   ],
   "source": [
    "df_test = df_trigrams[df_trigrams['model'] == 'XBR55X850D']\n",
    "df_test.groupby('rating').count()"
   ]
  },
  {
   "cell_type": "code",
   "execution_count": 115,
   "metadata": {},
   "outputs": [],
   "source": [
    "total_count = df_test['rating'].count()\n",
    "df_neg = df_test[df_test['rating'].apply(lambda x: x in [1,2])]\n",
    "neg_count = df_neg['rating'].count()\n",
    "df_pos = df_test[df_test['rating'].apply(lambda x: x in [4,5])]\n",
    "pos_count = df_pos['rating'].count()\n",
    "nra.create_bow(df_test)\n",
    "neg_nouns,neg_adjs, neg_verbs  = nra.create_word_list(rating=[0])\n",
    "pos_nouns, pos_adjs, pos_verbs = nra.create_word_list(rating=[1])"
   ]
  },
  {
   "cell_type": "code",
   "execution_count": 106,
   "metadata": {},
   "outputs": [
    {
     "data": {
      "text/plain": [
       "['awesome',\n",
       " 'best',\n",
       " 'amazing',\n",
       " 'good',\n",
       " 'easy',\n",
       " 'excellent',\n",
       " 'happy',\n",
       " 'remote',\n",
       " 'fantastic',\n",
       " 'beautiful',\n",
       " 'thin',\n",
       " 'better']"
      ]
     },
     "execution_count": 106,
     "metadata": {},
     "output_type": "execute_result"
    }
   ],
   "source": [
    "objects = [x[0] for x in pos_adjs]"
   ]
  },
  {
   "cell_type": "code",
   "execution_count": 161,
   "metadata": {},
   "outputs": [
    {
     "data": {
      "image/png": "[encoded data removed]",
      "text/plain": [
       "<matplotlib.figure.Figure at 0x1b3dba7668>"
      ]
     },
     "metadata": {},
     "output_type": "display_data"
    }
   ],
   "source": [
    "import matplotlib.pyplot as plt; plt.rcdefaults()\n",
    "import numpy as np\n",
    "import matplotlib.pyplot as plt\n",
    "%matplotlib inline\n",
    " \n",
    "objects = [x[0] for x in pos_adjs]\n",
    "y_pos = np.arange(len(objects))\n",
    "performance = [x[1] for x in pos_adjs]\n",
    " \n",
    "fig, ax = plt.subplots(1,1, figsize=(10,15))\n",
    "ax.barh(y_pos, performance, align='center', alpha=0.5)\n",
    "plt.yticks(y_pos, objects, fontsize=20)\n",
    "ax.set_xlabel('Usage', fontsize=20)\n",
    "ax.set_title('Programming language usage')\n",
    " \n",
    "plt.show()"
   ]
  },
  {
   "cell_type": "code",
   "execution_count": 67,
   "metadata": {},
   "outputs": [
    {
     "data": {
      "text/plain": [
       "array([[0.2       , 0.2       , 0.2       , 0.2       , 0.2       ],\n",
       "       [0.10042531, 0.10009948, 0.59908752, 0.1000016 , 0.10038608],\n",
       "       [0.10042531, 0.10009948, 0.59908752, 0.1000016 , 0.10038608],\n",
       "       ...,\n",
       "       [0.79990274, 0.05000319, 0.05000242, 0.05008474, 0.05000691],\n",
       "       [0.05063298, 0.05021021, 0.79742264, 0.05008245, 0.05165172],\n",
       "       [0.05004939, 0.05004513, 0.05012115, 0.79965195, 0.05013238]])"
      ]
     },
     "execution_count": 67,
     "metadata": {},
     "output_type": "execute_result"
    }
   ],
   "source": [
    "w2 = W2VReviewAnalyzer2()\n",
    "w2.fit2(df_new)\n",
    "df_trigrams = w2.df_prod.copy()\n",
    "df_trigrams = df_trigrams.drop(['reviews'],axis=1)\n",
    "df_trigrams = df_trigrams.rename(columns={'review_trigrams':'reviews'})\n",
    "df_test = df_trigrams[df_trigrams['model'] == '55UJ6300']\n",
    "lda = LdaReviewAnalyzer(num_topics=5)\n",
    "lda.build_vectorize(df_test)\n",
    "lda.fit(df_test, random_state=29)\n",
    "lda.transform()"
   ]
  },
  {
   "cell_type": "code",
   "execution_count": 49,
   "metadata": {},
   "outputs": [
    {
     "data": {
      "text/html": [
       "<div>\n",
       "<style scoped>\n",
       "    .dataframe tbody tr th:only-of-type {\n",
       "        vertical-align: middle;\n",
       "    }\n",
       "\n",
       "    .dataframe tbody tr th {\n",
       "        vertical-align: top;\n",
       "    }\n",
       "\n",
       "    .dataframe thead th {\n",
       "        text-align: right;\n",
       "    }\n",
       "</style>\n",
       "<table border=\"1\" class=\"dataframe\">\n",
       "  <thead>\n",
       "    <tr style=\"text-align: right;\">\n",
       "      <th></th>\n",
       "      <th>rating</th>\n",
       "      <th>product</th>\n",
       "      <th>model</th>\n",
       "      <th>reviews</th>\n",
       "    </tr>\n",
       "  </thead>\n",
       "  <tbody>\n",
       "    <tr>\n",
       "      <th>2780</th>\n",
       "      <td>1</td>\n",
       "      <td>LG Electronics 65UJ6300 65-Inch 4K Ultra HD Sm...</td>\n",
       "      <td>65UJ6300</td>\n",
       "      <td>good would say great pro con tvpros price righ...</td>\n",
       "    </tr>\n",
       "    <tr>\n",
       "      <th>2897</th>\n",
       "      <td>1</td>\n",
       "      <td>LG Electronics 65UJ6300 65-Inch 4K Ultra HD Sm...</td>\n",
       "      <td>65UJ6300</td>\n",
       "      <td>day age apps should_be_available manufacturer ...</td>\n",
       "    </tr>\n",
       "  </tbody>\n",
       "</table>\n",
       "</div>"
      ],
      "text/plain": [
       "      rating                                            product     model  \\\n",
       "2780       1  LG Electronics 65UJ6300 65-Inch 4K Ultra HD Sm...  65UJ6300   \n",
       "2897       1  LG Electronics 65UJ6300 65-Inch 4K Ultra HD Sm...  65UJ6300   \n",
       "\n",
       "                                                reviews  \n",
       "2780  good would say great pro con tvpros price righ...  \n",
       "2897  day age apps should_be_available manufacturer ...  "
      ]
     },
     "execution_count": 49,
     "metadata": {},
     "output_type": "execute_result"
    }
   ],
   "source": [
    "df_test.head(2)"
   ]
  },
  {
   "cell_type": "code",
   "execution_count": 50,
   "metadata": {},
   "outputs": [
    {
     "name": "stdout",
     "output_type": "stream",
     "text": [
      "{'Topic 0:': [('price', 21.942089764295922), ('sound', 13.956453358524815), ('purchase', 13.342592234252152), ('happy', 12.487345423721075), ('television', 10.975187814556302), ('problem', 7.298069234605074), ('fantastic', 7.239208284750789), ('easy', 6.930573549768275), ('delivery', 6.397953169524066), ('awesome', 6.2320341942111)], 'Topic 1:': [('good', 63.38456705606963), ('quality', 20.52828705611699), ('price', 18.0037429312599), ('easy', 17.204113249114275), ('awesome', 17.012568468165743), ('delivery', 16.193226325713752), ('look', 15.995190379351829), ('excellent', 13.11050300590642), ('sound', 12.300538576717212), ('lot', 11.676734987122158)], 'Topic 2:': [('love', 55.587022933403716), ('amazing', 24.14636509599245), ('quality', 15.770059034603348), ('apps', 15.613460348828472), ('best', 15.474824633488225), ('look', 14.865690625532345), ('smart', 14.514405526525785), ('get', 12.86788784880833), ('old', 12.616234706097922), ('price', 11.910566626321215)], 'Topic 3:': [('work', 20.085123174974925), ('sound', 9.670966764032544), ('clear', 9.664605717109488), ('value', 8.39495523525464), ('like', 7.734868760787591), ('big', 6.105320944793035), ('color', 5.389684207916486), ('year', 5.354423696900747), ('sharp', 4.485466140073039), ('replace', 3.7905787088039706)], 'Topic 4:': [('turn', 23.163076052333945), ('energy', 22.610860670730766), ('mode', 19.075564053433432), ('smart', 18.60589561619337), ('setting', 16.34346980166618), ('look', 13.42601601989184), ('youtube', 13.07727674794891), ('video', 11.888291512793447), ('product', 9.454272150320078), ('save', 9.327290987948835)]}\n"
     ]
    }
   ],
   "source": [
    "import numpy as np\n",
    "import warnings\n",
    "warnings.filterwarnings(\"ignore\")\n",
    "print(lda.get_topics())"
   ]
  },
  {
   "cell_type": "code",
   "execution_count": 51,
   "metadata": {},
   "outputs": [
    {
     "data": {
      "text/html": [
       "\n",
       "<link rel=\"stylesheet\" type=\"text/css\" href=\"https://cdn.rawgit.com/bmabey/pyLDAvis/files/ldavis.v1.0.0.css\">\n",
       "\n",
       "\n",
       "<div id=\"ldavis_el9904847037172008651820845\"></div>\n",
       "<script type=\"text/javascript\">\n",
       "\n",
       "var ldavis_el9904847037172008651820845_data = {\"mdsDat\": {\"Freq\": [29.270976980442796, 22.441888595464366, 20.03432519020775, 16.857443905382823, 11.395365328502258], \"cluster\": [1, 1, 1, 1, 1], \"topics\": [1, 2, 3, 4, 5], \"x\": [78.8646011352539, -6.984838485717773, -3.545283079147339, 75.2370834350586, 142.68612670898438], \"y\": [-68.63369750976562, -75.80464172363281, 13.251423835754395, 47.48349380493164, -10.769027709960938]}, \"tinfo\": {\"Category\": [\"Default\", \"Default\", \"Default\", \"Default\", \"Default\", \"Default\", \"Default\", \"Default\", \"Default\", \"Default\", \"Default\", \"Default\", \"Default\", \"Default\", \"Default\", \"Default\", \"Default\", \"Default\", \"Default\", \"Default\", \"Default\", \"Default\", \"Default\", \"Default\", \"Default\", \"Default\", \"Default\", \"Default\", \"Default\", \"Default\", \"Topic1\", \"Topic1\", \"Topic1\", \"Topic1\", \"Topic1\", \"Topic1\", \"Topic1\", \"Topic1\", \"Topic1\", \"Topic1\", \"Topic1\", \"Topic1\", \"Topic1\", \"Topic1\", \"Topic1\", \"Topic1\", \"Topic1\", \"Topic1\", \"Topic1\", \"Topic1\", \"Topic1\", \"Topic1\", \"Topic1\", \"Topic1\", \"Topic1\", \"Topic1\", \"Topic1\", \"Topic1\", \"Topic1\", \"Topic1\", \"Topic1\", \"Topic1\", \"Topic1\", \"Topic1\", \"Topic1\", \"Topic1\", \"Topic1\", \"Topic1\", \"Topic1\", \"Topic1\", \"Topic1\", \"Topic1\", \"Topic1\", \"Topic1\", \"Topic1\", \"Topic1\", \"Topic2\", \"Topic2\", \"Topic2\", \"Topic2\", \"Topic2\", \"Topic2\", \"Topic2\", \"Topic2\", \"Topic2\", \"Topic2\", \"Topic2\", \"Topic2\", \"Topic2\", \"Topic2\", \"Topic2\", \"Topic2\", \"Topic2\", \"Topic2\", \"Topic2\", \"Topic2\", \"Topic2\", \"Topic2\", \"Topic2\", \"Topic2\", \"Topic2\", \"Topic2\", \"Topic2\", \"Topic2\", \"Topic2\", \"Topic2\", \"Topic2\", \"Topic2\", \"Topic2\", \"Topic2\", \"Topic2\", \"Topic2\", \"Topic2\", \"Topic2\", \"Topic2\", \"Topic2\", \"Topic2\", \"Topic2\", \"Topic2\", \"Topic3\", \"Topic3\", \"Topic3\", \"Topic3\", \"Topic3\", \"Topic3\", \"Topic3\", \"Topic3\", \"Topic3\", \"Topic3\", \"Topic3\", \"Topic3\", \"Topic3\", \"Topic3\", \"Topic3\", \"Topic3\", \"Topic3\", \"Topic3\", \"Topic3\", \"Topic3\", \"Topic3\", \"Topic3\", \"Topic3\", \"Topic3\", \"Topic3\", \"Topic3\", \"Topic3\", \"Topic3\", \"Topic3\", \"Topic3\", \"Topic3\", \"Topic3\", \"Topic3\", \"Topic3\", \"Topic3\", \"Topic3\", \"Topic3\", \"Topic3\", \"Topic3\", \"Topic4\", \"Topic4\", \"Topic4\", \"Topic4\", \"Topic4\", \"Topic4\", \"Topic4\", \"Topic4\", \"Topic4\", \"Topic4\", \"Topic4\", \"Topic4\", \"Topic4\", \"Topic4\", \"Topic4\", \"Topic4\", \"Topic4\", \"Topic4\", \"Topic4\", \"Topic4\", \"Topic4\", \"Topic4\", \"Topic4\", \"Topic4\", \"Topic4\", \"Topic4\", \"Topic4\", \"Topic4\", \"Topic4\", \"Topic4\", \"Topic4\", \"Topic4\", \"Topic4\", \"Topic4\", \"Topic4\", \"Topic4\", \"Topic4\", \"Topic4\", \"Topic4\", \"Topic4\", \"Topic4\", \"Topic5\", \"Topic5\", \"Topic5\", \"Topic5\", \"Topic5\", \"Topic5\", \"Topic5\", \"Topic5\", \"Topic5\", \"Topic5\", \"Topic5\", \"Topic5\", \"Topic5\", \"Topic5\", \"Topic5\", \"Topic5\", \"Topic5\", \"Topic5\", \"Topic5\", \"Topic5\", \"Topic5\", \"Topic5\", \"Topic5\", \"Topic5\", \"Topic5\", \"Topic5\", \"Topic5\", \"Topic5\", \"Topic5\", \"Topic5\", \"Topic5\", \"Topic5\", \"Topic5\", \"Topic5\", \"Topic5\", \"Topic5\", \"Topic5\", \"Topic5\"], \"Freq\": [73.0, 35.0, 62.0, 23.0, 29.0, 20.0, 20.0, 17.0, 27.0, 62.0, 23.0, 13.0, 25.0, 26.0, 22.0, 54.0, 14.0, 36.0, 9.0, 30.0, 19.0, 8.0, 17.0, 26.0, 45.0, 9.0, 10.0, 11.0, 14.0, 18.0, 55.48945645980541, 7.365025293534557, 4.972823605809542, 9.482207207250045, 24.103983339094697, 7.49478963714814, 3.6228568848238787, 6.758901277738889, 3.5982904002410785, 9.875214976496547, 7.637023363404583, 6.022223577144038, 7.405523894848623, 9.590081573492808, 12.594090661221886, 15.44766318483769, 8.557658803791734, 8.815906383380245, 3.8950246757118347, 5.004597562940563, 6.841616626635962, 5.251894208201764, 7.021526729065531, 8.045558861637096, 3.951907481039667, 15.58605556644379, 2.0883539460921487, 4.690793340387953, 6.933976795822913, 4.15740047867615, 9.876269024912204, 7.301555845385691, 9.02811711293401, 10.63971016586694, 10.986740777983742, 14.488929807754236, 12.845302101743393, 9.710942628401588, 15.742379389836495, 14.839598330327503, 8.686761880141752, 7.748231670886761, 11.889661171721134, 10.757011002485978, 8.970498064419726, 7.965568565126966, 9.485125767429256, 66.15473360540548, 12.187056381889626, 6.010137363108165, 3.021820266660268, 7.568356024110294, 13.68348596625073, 2.33655378646902, 17.75608775492067, 4.6332798156770165, 3.5656970892316147, 16.900936987421613, 7.843769046083597, 6.041210208444385, 4.246816562411967, 2.6071602405502796, 5.936609784079871, 5.091258773312968, 5.09680675627618, 2.533054244623249, 5.128821880491963, 2.8435427572709564, 2.833943231911458, 17.95600383143101, 2.6564480137405946, 2.7204818132025217, 2.186175523204475, 21.42545772019545, 1.8037920717965628, 3.3494472775357362, 9.370782128284894, 9.079313444956478, 12.161559230869761, 16.69424605484368, 5.639617569042866, 18.790580622947537, 5.338917303639759, 5.765947942635517, 12.83812275669426, 5.90452785140004, 5.164858984187924, 5.387301916264861, 5.359056811200426, 22.437048203686174, 18.928927846316988, 12.976750113121241, 9.255590954895395, 8.773118086952978, 7.37115274125812, 6.504226254696623, 22.98501863773012, 6.7330082870340044, 5.243423303988409, 3.3754193924338924, 11.79690475371007, 16.21783553910255, 1.5281138143594548, 2.7959394829762574, 6.844047446127646, 6.569468528518868, 3.5570725938739263, 6.054738002150378, 9.381595997453182, 6.0459294233803975, 2.843091467052383, 2.699483495584358, 6.330646600514272, 2.6766553869438523, 3.830457539290867, 18.46286980812181, 8.205027062234281, 9.155741559370227, 7.436131788672381, 5.7045705084964125, 13.322808583386852, 4.868190484641604, 8.049611010381735, 5.842351278867043, 4.976233257420307, 4.229484631021016, 5.604503643377225, 4.750845377940792, 12.756407299302309, 8.414096502502362, 14.513980717559559, 3.9760459128647336, 2.510015890476364, 4.128653311989045, 3.371451318112121, 3.356726623425319, 4.32511558012056, 6.5950982222116235, 6.232392126982096, 5.527304716854862, 4.220190317957771, 3.685344808200252, 15.508029916616906, 3.0854198331300178, 3.445500892561413, 5.109170808972244, 2.5922768856239196, 8.482510297605641, 1.0158067676818285, 2.4509382319992623, 2.58673144737798, 6.942514023581952, 5.015926584596498, 1.832657163923367, 2.5397468965937247, 25.503183978316883, 7.133780478033443, 4.582417370545333, 16.22151770914871, 7.436309782696017, 7.243462966446737, 5.380983499696026, 8.055371854444177, 4.74382696049656, 4.28079552540015, 5.1616904951115, 3.9508239849932516, 4.180737128674159, 3.7068262506509413, 4.179409360200266, 3.4425923595977284, 6.470600284978963, 7.378028650988569, 4.4516224527927175, 2.672962428040051, 24.272043285453023, 11.679277555777853, 4.576297712580283, 3.2698495893115296, 3.764816328556103, 4.5807580912244745, 5.4205009030233455, 3.561571761242989, 4.39208123918705, 10.144957293735665, 9.347270003454643, 6.513211158817544, 2.0773687592960757, 2.8683140007849457, 1.7759935919093168, 2.7285331808661284, 2.0335251424752974, 1.5211348144445132, 1.3802054068598704, 2.9461429538418917, 1.2158645181740895, 1.4614495882290257, 2.999821782435289, 1.2742103663627369, 11.686964618730476, 2.8795241733403345, 2.8720581085273476, 4.1267268791444085, 3.3141732774498163, 3.6795426008625243, 2.262863221172685, 2.2311799826384933], \"Term\": [\"good\", \"work\", \"love\", \"energy\", \"turn\", \"mode\", \"clear\", \"happy\", \"purchase\", \"price\", \"value\", \"television\", \"delivery\", \"awesome\", \"like\", \"sound\", \"youtube\", \"smart\", \"big\", \"amazing\", \"excellent\", \"year\", \"color\", \"setting\", \"look\", \"fantastic\", \"save\", \"sharp\", \"lot\", \"video\", \"love\", \"feel\", \"leg\", \"enjoy\", \"amazing\", \"mount\", \"user\", \"shipping\", \"must\", \"upgrade\", \"money\", \"effect\", \"wall\", \"pleased\", \"old\", \"best\", \"inch\", \"give\", \"stop\", \"first\", \"know\", \"better\", \"wifi\", \"xbox\", \"stand\", \"apps\", \"many\", \"sure\", \"movie\", \"worth\", \"find\", \"available\", \"say\", \"watch\", \"buy\", \"smart\", \"get\", \"would\", \"quality\", \"look\", \"need\", \"take\", \"price\", \"sound\", \"work\", \"easy\", \"people\", \"good\", \"lot\", \"right\", \"fix\", \"setup\", \"excellent\", \"may\", \"awesome\", \"issue\", \"seem\", \"delivery\", \"monitor\", \"buck\", \"input\", \"learn\", \"order\", \"decent\", \"everything\", \"service\", \"little\", \"crystal\", \"box\", \"easy\", \"image\", \"stream\", \"move\", \"quality\", \"try\", \"speaker\", \"buy\", \"value\", \"get\", \"look\", \"could\", \"price\", \"perfect\", \"problem\", \"sound\", \"color\", \"product\", \"clear\", \"like\", \"energy\", \"mode\", \"youtube\", \"save\", \"computer\", \"item\", \"help\", \"turn\", \"simple\", \"switch\", \"return\", \"video\", \"setting\", \"open\", \"pro\", \"change\", \"level\", \"deliver\", \"wish\", \"product\", \"bright\", \"motion\", \"play\", \"hdr\", \"hard\", \"prime\", \"smart\", \"netflix\", \"remote\", \"make\", \"perfect\", \"look\", \"sharp\", \"purchase\", \"would\", \"say\", \"thing\", \"quality\", \"price\", \"television\", \"fantastic\", \"happy\", \"see\", \"arrive\", \"fine\", \"damage\", \"flat\", \"bedroom\", \"cable\", \"adjust\", \"control\", \"deal\", \"small\", \"purchase\", \"complaint\", \"uhd\", \"bar\", \"volume\", \"problem\", \"arrived\", \"wait\", \"put\", \"recommend\", \"beautiful\", \"anything\", \"button\", \"price\", \"netflix\", \"feature\", \"sound\", \"delivery\", \"awesome\", \"need\", \"easy\", \"take\", \"remote\", \"quality\", \"amazing\", \"love\", \"would\", \"resolution\", \"large\", \"year\", \"big\", \"range\", \"disappointed\", \"work\", \"clear\", \"internet\", \"free\", \"crisp\", \"replace\", \"sharp\", \"build\", \"audio\", \"value\", \"like\", \"color\", \"crystal\", \"hdmi\", \"system\", \"bad\", \"stream\", \"anything\", \"try\", \"bit\", \"leave\", \"wait\", \"wifi\", \"surround\", \"sound\", \"connect\", \"monitor\", \"watch\", \"excellent\", \"purchase\", \"movie\", \"need\"], \"Total\": [73.0, 35.0, 62.0, 23.0, 29.0, 20.0, 20.0, 17.0, 27.0, 62.0, 23.0, 13.0, 25.0, 26.0, 22.0, 54.0, 14.0, 36.0, 9.0, 30.0, 19.0, 8.0, 17.0, 26.0, 45.0, 9.0, 10.0, 11.0, 14.0, 18.0, 62.6985826135717, 8.387412285592907, 5.977010275741886, 11.690461674391447, 30.485547092779814, 9.53361779948369, 4.612398856614601, 8.609400732367298, 4.616662978334658, 12.873644288336532, 10.381968119139152, 8.38047923434013, 10.36720594677628, 13.47382261303771, 17.762560845366522, 22.06043355367893, 12.248617659818803, 12.872589490138356, 5.714488238381726, 7.387758392446776, 10.402477702600558, 8.063216868091947, 10.787886603500576, 12.4116011316473, 6.111339686758232, 24.450358445848554, 3.3245346473688384, 7.490265962690579, 11.119207897231725, 6.725712198750402, 16.31585742795947, 12.001897324485935, 15.129937941563336, 21.829503000125605, 23.458113620197484, 36.48960779357787, 31.779992297903313, 21.067569341536448, 48.20416068893956, 45.64901101410144, 18.456489435462103, 15.429414504285207, 62.663868717917325, 54.72963454947406, 35.10503575615811, 36.989849745860276, 10.470124412918915, 73.4702894973675, 14.818957323164168, 7.586610011020752, 4.065141103676189, 10.678236264832204, 19.449458484174556, 3.330752045641081, 26.511165297285363, 6.927319141561133, 5.362721905517469, 25.500172039429028, 12.150247861872092, 9.655704656446861, 6.85393693096829, 4.248215148519562, 10.17070265947219, 9.057195296092997, 9.171940463924411, 4.730940325120357, 9.686712617986375, 5.636786106842786, 5.633881505454712, 36.989849745860276, 5.546892069793973, 5.7818200707411505, 4.840339939761603, 48.20416068893956, 4.21217337554082, 7.829147272998979, 23.458113620197484, 23.0282928049419, 31.779992297903313, 45.64901101410144, 13.81562840425537, 62.663868717917325, 13.654447132029633, 16.215506743579954, 54.72963454947406, 17.67301862927008, 17.330989157769345, 20.60589933943887, 22.620173978106493, 23.535212961232837, 20.512822487070586, 14.265577338209118, 10.255231325654663, 10.023818871251807, 8.437396723602202, 7.719804942073058, 29.067128397233322, 8.58628711401813, 6.722623480518, 4.646948137613728, 18.385956793295122, 26.469050824994582, 2.5003091287627894, 4.60623040016977, 11.327480309111444, 11.123422626264327, 6.081870505926307, 10.730394506192038, 17.330989157769345, 11.198089077911039, 5.357460704081438, 5.210674306520504, 12.426964496879469, 5.272092850848848, 7.567343434696637, 36.48960779357787, 17.609222086338534, 19.772324805176122, 16.190691507599798, 13.654447132029633, 45.64901101410144, 11.773306070337917, 27.909862819769288, 21.067569341536448, 15.129937941563336, 12.295949162292079, 48.20416068893956, 62.663868717917325, 13.923653587825989, 9.585529515660316, 17.311763356876597, 5.716905328108871, 3.615831396605339, 5.957615094126395, 5.018764930313407, 5.079985396544249, 6.562772680611482, 10.782070776981866, 10.420677541455424, 9.3865515288769, 7.323135551193312, 6.480995413326293, 27.909862819769288, 5.675096883534932, 6.38497095337447, 9.502012315354467, 4.88952014391693, 16.215506743579954, 1.9635834451620646, 5.128238982260433, 5.584274991129887, 15.836732839720549, 11.720934413807349, 4.387376967913731, 6.183370677244776, 62.663868717917325, 17.609222086338534, 11.712536033611922, 54.72963454947406, 25.500172039429028, 26.511165297285363, 18.456489435462103, 36.989849745860276, 15.429414504285207, 19.772324805176122, 48.20416068893956, 30.485547092779814, 62.6985826135717, 21.067569341536448, 5.293257497570691, 4.403989326579659, 8.356490257980829, 9.92741014040456, 6.003376780383018, 3.7017531784424174, 35.10503575615811, 20.60589933943887, 8.211241503069175, 5.956067792578224, 6.874457582724708, 8.655183908928272, 11.773306070337917, 7.9113174979310585, 9.907919081008888, 23.0282928049419, 22.620173978106493, 17.67301862927008, 5.636786106842786, 7.856533942163058, 4.961037942542285, 7.666283998839614, 5.7818200707411505, 4.387376967913731, 4.21217337554082, 9.339433164460022, 4.071790065370387, 5.128238982260433, 10.787886603500576, 5.076679272494482, 54.72963454947406, 12.178634239644635, 12.150247861872092, 21.829503000125605, 19.449458484174556, 27.909862819769288, 11.119207897231725, 18.456489435462103], \"loglift\": [30.0, 29.0, 28.0, 27.0, 26.0, 25.0, 24.0, 23.0, 22.0, 21.0, 20.0, 19.0, 18.0, 17.0, 16.0, 15.0, 14.0, 13.0, 12.0, 11.0, 10.0, 9.0, 8.0, 7.0, 6.0, 5.0, 4.0, 3.0, 2.0, 1.0, 1.1064, 1.0986, 1.0446, 1.0192, 0.9937, 0.988, 0.9871, 0.9866, 0.9794, 0.9634, 0.9215, 0.8981, 0.8922, 0.8886, 0.8847, 0.8722, 0.87, 0.85, 0.8453, 0.8391, 0.8096, 0.7998, 0.7991, 0.7951, 0.7926, 0.7783, 0.7636, 0.7606, 0.7563, 0.7475, 0.7266, 0.7316, 0.7122, 0.5099, 0.47, 0.3049, 0.3227, 0.4541, 0.1095, 0.1049, 0.475, 0.5398, -0.4335, -0.3983, -0.1358, -0.3069, 1.3954, 1.3894, 1.2987, 1.2613, 1.1977, 1.15, 1.1426, 1.1397, 1.0934, 1.092, 1.0861, 1.0829, 1.0566, 1.0253, 1.0156, 1.006, 0.9559, 0.9182, 0.9067, 0.8695, 0.8584, 0.81, 0.8071, 0.7715, 0.758, 0.7403, 0.6994, 0.6834, 0.6462, 0.6452, 0.5766, 0.5635, 0.5337, 0.4883, 0.5983, 0.2898, 0.5552, 0.4602, 0.0443, 0.3979, 0.2836, 0.1527, 0.0542, 1.5599, 1.5274, 1.513, 1.5052, 1.4745, 1.4726, 1.4364, 1.373, 1.3646, 1.3592, 1.288, 1.164, 1.1179, 1.1153, 1.1085, 1.1039, 1.0811, 1.0713, 1.0355, 0.994, 0.9914, 0.9741, 0.9501, 0.9333, 0.9299, 0.9269, 0.9265, 0.844, 0.8378, 0.8296, 0.7349, 0.3762, 0.7246, 0.3644, 0.3251, 0.4957, 0.5405, -0.5442, -0.9717, 1.6928, 1.65, 1.6041, 1.4172, 1.4153, 1.4137, 1.3825, 1.366, 1.3634, 1.2888, 1.2663, 1.2508, 1.2292, 1.2159, 1.1928, 1.171, 1.1635, 1.1599, 1.1458, 1.1324, 1.1213, 1.0421, 1.0108, 0.9557, 0.9316, 0.9074, 0.8906, 0.8814, 0.8768, 0.8419, 0.5643, 0.5481, 0.4829, 0.5478, 0.2561, 0.6009, 0.2502, -0.4538, -0.263, -0.9275, 0.0428, 1.9357, 1.9257, 1.9162, 1.8752, 1.8729, 1.8463, 1.8029, 1.6042, 1.5873, 1.5723, 1.5698, 1.5357, 1.3963, 1.3739, 1.3584, 1.3522, 1.2882, 1.1738, 1.1738, 1.1643, 1.1447, 1.1389, 1.127, 1.1127, 1.0562, 1.0182, 0.9633, 0.9166, 0.8921, 0.7896, 0.628, 0.7299, 0.7296, 0.5062, 0.4024, 0.1458, 0.5799, 0.0591], \"logprob\": [30.0, 29.0, 28.0, 27.0, 26.0, 25.0, 24.0, 23.0, 22.0, 21.0, 20.0, 19.0, 18.0, 17.0, 16.0, 15.0, 14.0, 13.0, 12.0, 11.0, 10.0, 9.0, 8.0, 7.0, 6.0, 5.0, 4.0, 3.0, 2.0, 1.0, -2.4788, -4.4982, -4.891, -4.2456, -3.3126, -4.4808, -5.2077, -4.5841, -5.2145, -4.205, -4.462, -4.6995, -4.4928, -4.2343, -3.9618, -3.7575, -4.3482, -4.3184, -5.1353, -4.8846, -4.572, -4.8364, -4.546, -4.4099, -5.1208, -3.7486, -5.7586, -4.9494, -4.5586, -5.0701, -4.2049, -4.5069, -4.2946, -4.1304, -4.0983, -3.8216, -3.942, -4.2217, -3.7386, -3.7977, -4.3332, -4.4475, -4.0193, -4.1194, -4.301, -4.4199, -3.9796, -2.0373, -3.7289, -4.4359, -5.1235, -4.2053, -3.6131, -5.3806, -3.3526, -4.6961, -4.958, -3.402, -4.1696, -4.4307, -4.7832, -5.2711, -4.4482, -4.6018, -4.6007, -5.2999, -4.5944, -5.1843, -5.1877, -3.3414, -5.2523, -5.2285, -5.4472, -3.1647, -5.6394, -5.0205, -3.9917, -4.0233, -3.731, -3.4143, -4.4995, -3.296, -4.5543, -4.4774, -3.6769, -4.4536, -4.5874, -4.5453, -4.5505, -3.0051, -3.1751, -3.5527, -3.8906, -3.9441, -4.1183, -4.2434, -2.981, -4.2088, -4.4589, -4.8993, -3.648, -3.3297, -5.6918, -5.0877, -4.1925, -4.2334, -4.8469, -4.315, -3.8771, -4.3165, -5.0709, -5.1228, -4.2704, -5.1313, -4.7729, -3.2001, -4.0111, -3.9015, -4.1095, -4.3746, -3.5264, -4.5331, -4.0302, -4.3507, -4.5112, -4.6738, -4.3923, -4.5575, -3.3972, -3.8133, -3.2681, -4.5629, -5.0229, -4.5252, -4.7278, -4.7322, -4.4787, -4.0569, -4.1134, -4.2335, -4.5033, -4.6388, -3.2018, -4.8165, -4.7061, -4.3121, -4.9906, -3.8052, -5.9275, -5.0467, -4.9928, -4.0055, -4.3306, -5.3374, -5.0111, -2.7044, -3.9783, -4.421, -3.1568, -3.9368, -3.9631, -4.2603, -3.8568, -4.3863, -4.489, -4.3019, -4.5693, -4.5127, -4.633, -4.1214, -4.3154, -3.6843, -3.5531, -4.0583, -4.5684, -2.3623, -3.0938, -4.0307, -4.3669, -4.2259, -4.0297, -3.8614, -4.2814, -4.0718, -3.2346, -3.3165, -3.6778, -4.8205, -4.4979, -4.9772, -4.5478, -4.8418, -5.1321, -5.2294, -4.4711, -5.3561, -5.1722, -4.453, -5.3093, -3.0931, -4.494, -4.4966, -4.1341, -4.3534, -4.2488, -4.735, -4.7491]}, \"token.table\": {\"Topic\": [1, 2, 3, 4, 1, 2, 3, 4, 5, 4, 5, 1, 2, 3, 5, 4, 4, 1, 2, 3, 5, 1, 2, 4, 5, 1, 2, 4, 1, 3, 5, 2, 4, 1, 4, 5, 3, 4, 1, 2, 3, 4, 1, 2, 4, 2, 5, 1, 2, 3, 4, 5, 1, 2, 4, 5, 1, 3, 5, 2, 4, 2, 3, 4, 5, 1, 3, 4, 1, 2, 3, 5, 1, 2, 3, 4, 1, 3, 5, 2, 3, 4, 5, 1, 2, 5, 2, 4, 3, 1, 2, 3, 5, 2, 3, 4, 1, 2, 4, 5, 2, 4, 5, 2, 5, 2, 4, 2, 4, 5, 2, 4, 5, 3, 4, 1, 2, 4, 5, 1, 2, 3, 4, 5, 1, 3, 3, 1, 4, 1, 2, 4, 2, 4, 5, 4, 1, 2, 3, 4, 1, 1, 3, 4, 5, 4, 5, 1, 3, 2, 2, 4, 1, 4, 5, 1, 2, 3, 4, 5, 1, 4, 1, 2, 3, 3, 4, 2, 3, 2, 3, 5, 1, 2, 3, 3, 2, 3, 4, 1, 3, 5, 2, 3, 1, 2, 3, 5, 1, 2, 5, 3, 1, 2, 3, 5, 2, 4, 1, 3, 5, 1, 1, 3, 4, 1, 2, 3, 5, 1, 2, 3, 1, 2, 3, 1, 2, 4, 1, 3, 4, 1, 2, 3, 4, 1, 2, 2, 3, 1, 2, 2, 3, 5, 3, 4, 1, 5, 1, 2, 4, 1, 2, 3, 5, 1, 1, 2, 3, 4, 5, 1, 2, 3, 4, 1, 3, 5, 3, 1, 2, 4, 5, 2, 1, 2, 3, 1, 3, 1, 3, 4, 1, 2, 3, 4, 5, 2, 3, 4, 3, 4, 2, 3, 4, 1, 2, 3, 3, 4, 5, 1, 3, 4, 1, 2, 3, 4, 3, 5, 1, 3, 4, 5, 1, 2, 3, 4, 5, 1, 5, 5, 3, 2, 3, 3, 1, 2, 3, 2, 4, 1, 2, 1, 2, 4, 1, 2, 3, 4, 1, 2, 5, 3, 4, 5, 1, 4, 3, 5, 1, 4, 1, 2, 3, 4, 1, 2, 3, 4, 5, 1, 2, 4, 5, 1, 5, 1, 2, 2, 4, 5, 1, 2, 1, 2, 4, 5, 2, 3, 1, 2, 5, 1, 2, 3, 4, 4, 1, 3, 4, 2, 5, 1, 3, 2, 3, 4, 1, 3, 1, 1, 2, 3, 4, 5, 1, 3, 4, 1, 3, 4, 3, 4, 5, 1, 5, 1, 2, 3, 4, 5, 1, 5, 1, 3, 4, 5, 1, 2, 4, 5, 1, 2, 5, 1, 3, 4, 5, 1, 2, 3, 1, 5, 3], \"Freq\": [0.09596305000531981, 0.19192610001063962, 0.09596305000531981, 0.5757783000319189, 0.7872583006943691, 0.03280242919559871, 0.03280242919559871, 0.13120971678239485, 0.03280242919559871, 0.4558532386495689, 0.4558532386495689, 0.6543871344641433, 0.16359678361603583, 0.08179839180801791, 0.08179839180801791, 0.8296847034451049, 0.5092729837704782, 0.30278810065680517, 0.10092936688560172, 0.20185873377120345, 0.4037174675424069, 0.5832411168623144, 0.08332015955175921, 0.16664031910351843, 0.08332015955175921, 0.037719956432937185, 0.6789592157928693, 0.2640396950305603, 0.13044129335038493, 0.39132388005115476, 0.39132388005115476, 0.3157225964811946, 0.5262043274686576, 0.4265871494093476, 0.4265871494093476, 0.08531742988186952, 0.15237462101259702, 0.6094984840503881, 0.6799503719408321, 0.09066004959211094, 0.04533002479605547, 0.1359900743881664, 0.6200999032763438, 0.12401998065526876, 0.12401998065526876, 0.20146241282608038, 0.7051184448912814, 0.21414575861099747, 0.10707287930549873, 0.21414575861099747, 0.10707287930549873, 0.3212186379164962, 0.17749752085339426, 0.5324925625601828, 0.17749752085339426, 0.17749752085339426, 0.26790285191762725, 0.5358057038352545, 0.08930095063920908, 0.6213943169848258, 0.3106971584924129, 0.126401196799587, 0.252802393599174, 0.126401196799587, 0.505604787198348, 0.16172409066143614, 0.3234481813228723, 0.48517227198430846, 0.4689209106110296, 0.38366256322720604, 0.08525834738382357, 0.042629173691911784, 0.09274656238900349, 0.09274656238900349, 0.2782396871670105, 0.6492259367230244, 0.1765617723820952, 0.6179662033373332, 0.1765617723820952, 0.24264895783656476, 0.0970595831346259, 0.0970595831346259, 0.5823574988077554, 0.28291714646410165, 0.339500575756922, 0.39608400504974234, 0.3524168910318638, 0.5286253365477956, 0.8978613955018574, 0.49266608077188434, 0.08211101346198071, 0.16422202692396143, 0.24633304038594217, 0.10653539768290708, 0.31960619304872123, 0.6392123860974425, 0.289527184935573, 0.4342907774033595, 0.21714538870167974, 0.07238179623389325, 0.14546602229577618, 0.29093204459155236, 0.5818640891831047, 0.5322181724011392, 0.35481211493409276, 0.19925220923577966, 0.597756627707339, 0.27310705721869344, 0.5462141144373869, 0.13655352860934672, 0.5520472769486212, 0.3312283661691727, 0.11040945538972424, 0.6576923984327375, 0.16442309960818438, 0.039215421702009465, 0.6666621689341609, 0.27450795191406624, 0.81042680464782, 0.21627554734512866, 0.4866199815265395, 0.027034443418141083, 0.21627554734512866, 0.054068886836282165, 0.7159495098340201, 0.11932491830567, 0.9347695317751474, 0.7698583897430638, 0.08553982108256264, 0.21805636526605376, 0.5451409131651344, 0.10902818263302688, 0.7198143851352664, 0.10283062644789522, 0.1542459396718428, 0.834591348024127, 0.17075721212387496, 0.25613581818581244, 0.08537860606193748, 0.4268930303096874, 0.834583988678359, 0.6129006731122584, 0.06129006731122583, 0.1838702019336775, 0.12258013462245167, 0.6714096054885443, 0.16785240137213608, 0.6767952786750561, 0.1353590557350112, 0.7379817633604501, 0.1968509595874563, 0.5905528787623688, 0.1678960070343871, 0.1678960070343871, 0.5036880211031612, 0.40906240247445486, 0.3775960638225737, 0.12586535460752457, 0.03146633865188114, 0.03146633865188114, 0.6991600257970525, 0.23305334193235083, 0.040832832162822665, 0.8983223075820986, 0.040832832162822665, 0.11552838141156532, 0.8664628605867399, 0.3793559894678229, 0.5690339842017343, 0.38184777436015777, 0.2545651829067718, 0.38184777436015777, 0.24141052312117967, 0.24141052312117967, 0.48282104624235933, 0.9067586619773111, 0.5408434060465555, 0.18028113534885182, 0.18028113534885182, 0.7347767927742745, 0.16328373172761657, 0.08164186586380828, 0.5836061872595755, 0.29180309362978774, 0.12178426363738332, 0.12178426363738332, 0.12178426363738332, 0.6089213181869165, 0.1443559881629246, 0.721779940814623, 0.1443559881629246, 0.8296397845580349, 0.6729166069973926, 0.09613094385677037, 0.19226188771354075, 0.6812005610217813, 0.7061789234110363, 0.23539297447034543, 0.24559222944836076, 0.24559222944836076, 0.24559222944836076, 0.836538632080465, 0.2697011613059168, 0.6293027097138059, 0.08990038710197226, 0.3094582741394972, 0.22104162438535513, 0.04420832487707103, 0.39787492389363927, 0.3097025914064564, 0.5161709856774274, 0.10323419713548547, 0.3285941944145591, 0.37240675366983367, 0.28478163515928456, 0.06748113097247778, 0.8097735716697334, 0.06748113097247778, 0.8772128125922695, 0.031898647730627984, 0.06379729546125597, 0.24705553793810647, 0.12352776896905324, 0.4323471913916863, 0.12352776896905324, 0.6015879550489495, 0.6004649918679411, 0.04874999530807176, 0.9262499108533635, 0.7705668046939967, 0.19264170117349919, 0.6584227820655645, 0.08230284775819556, 0.2469085432745867, 0.5599667763712257, 0.3733111842474838, 0.7342438250859079, 0.10489197501227256, 0.20659705980263282, 0.41319411960526564, 0.20659705980263282, 0.62954124652555, 0.08993446378936429, 0.08993446378936429, 0.17986892757872858, 0.8664266849825144, 0.48763336231794413, 0.05418148470199379, 0.05418148470199379, 0.270907423509969, 0.10836296940398758, 0.05678842569518237, 0.05678842569518237, 0.45430740556145893, 0.39751897986627655, 0.7318764514403413, 0.16889456571700184, 0.1125963771446679, 0.7999010910261508, 0.19664324746897974, 0.5899297424069392, 0.19664324746897974, 0.09832162373448987, 0.8595886395480695, 0.14647242621113102, 0.36618106552782753, 0.4394172786333931, 0.38382748226985736, 0.5757412234047861, 0.7421798762827465, 0.07421798762827465, 0.1484359752565493, 0.19149791172355227, 0.3032050268956244, 0.07979079655148011, 0.41491214206769655, 0.03191631862059204, 0.13214677100750463, 0.5285870840300185, 0.39644031302251387, 0.6512917807779285, 0.2170972602593095, 0.3700161885089111, 0.06166936475148519, 0.4933549180118815, 0.11540022221428808, 0.28850055553572024, 0.5193009999642965, 0.2866370233225722, 0.5732740466451444, 0.1433185116612861, 0.3581485516341545, 0.17907427581707724, 0.5372228274512317, 0.3319215555530085, 0.43564704166332363, 0.12447058333237819, 0.10372548611031515, 0.16657291997191614, 0.6662916798876646, 0.37886602373888845, 0.06314433728981475, 0.4420103610287032, 0.06314433728981475, 0.2023029683870485, 0.050575742096762126, 0.45518167887085914, 0.2023029683870485, 0.10115148419352425, 0.3466130854718574, 0.577688475786429, 0.7556783326403025, 0.6455849971117908, 0.7908670659601654, 0.13181117766002756, 0.8776008764897819, 0.5948471193180621, 0.06609412436867357, 0.33047062184336784, 0.17491981108786278, 0.6996792443514511, 0.18647247006620724, 0.7458898802648289, 0.21137446919171607, 0.6341234075751482, 0.21137446919171607, 0.1888998601823125, 0.1133399161093875, 0.6044795525834, 0.075559944072925, 0.09364842425274, 0.74918739402192, 0.09364842425274, 0.42468954515649404, 0.0849379090312988, 0.42468954515649404, 0.8130647204843529, 0.11615210292633613, 0.8152534275928964, 0.11646477537041378, 0.3085945711190565, 0.617189142238113, 0.38367088183567666, 0.05481012597652524, 0.49329113378872713, 0.02740506298826262, 0.20098800385842713, 0.23753127728723206, 0.0548149101432074, 0.29234618743043944, 0.2192596405728296, 0.12772783103068988, 0.3831834930920696, 0.25545566206137976, 0.12772783103068988, 0.6545209733091772, 0.1636302433272943, 0.6999751916774881, 0.17499379791937203, 0.5188677550139399, 0.17295591833797996, 0.3459118366759599, 0.6675330388674142, 0.2670132155469657, 0.19697915631937077, 0.19697915631937077, 0.39395831263874154, 0.19697915631937077, 0.14875145140851273, 0.7437572570425637, 0.4031414440211073, 0.20157072201055365, 0.4031414440211073, 0.5184901862464167, 0.06481127328080209, 0.12962254656160418, 0.3240563664040104, 0.9336629870888503, 0.48796558287668984, 0.3253103885844599, 0.08132759714611497, 0.47481426372750174, 0.23740713186375087, 0.17201561611692992, 0.7912718341378777, 0.15661778374598526, 0.3132355674919705, 0.46985335123795574, 0.7767808225880498, 0.15535616451760995, 0.8672276887467428, 0.04342484301682142, 0.3908235871513927, 0.04342484301682142, 0.08684968603364283, 0.43424843016821413, 0.2175573479786864, 0.6526720439360592, 0.1087786739893432, 0.20451904697521364, 0.20451904697521364, 0.613557140925641, 0.19499871270804517, 0.38999742541609034, 0.19499871270804517, 0.6752060329405026, 0.19291600941157216, 0.5039051965560878, 0.13742868996984212, 0.13742868996984212, 0.09161912664656141, 0.18323825329312282, 0.6488759343955803, 0.27808968616953444, 0.1863864370360184, 0.5591593111080552, 0.0931932185180092, 0.0931932185180092, 0.2563734748061387, 0.028485941645126526, 0.028485941645126526, 0.6836625994830365, 0.5947325549765833, 0.14868313874414582, 0.14868313874414582, 0.4746632057018641, 0.2847979234211184, 0.18986528228074562, 0.047466320570186404, 0.6445582576450569, 0.08056978220563212, 0.24170934661689633, 0.11966746434544748, 0.7180047860726848, 0.9112845342179473], \"Term\": [\"adjust\", \"adjust\", \"adjust\", \"adjust\", \"amazing\", \"amazing\", \"amazing\", \"amazing\", \"amazing\", \"anything\", \"anything\", \"apps\", \"apps\", \"apps\", \"apps\", \"arrive\", \"arrived\", \"audio\", \"audio\", \"audio\", \"audio\", \"available\", \"available\", \"available\", \"available\", \"awesome\", \"awesome\", \"awesome\", \"bad\", \"bad\", \"bad\", \"bar\", \"bar\", \"beautiful\", \"beautiful\", \"beautiful\", \"bedroom\", \"bedroom\", \"best\", \"best\", \"best\", \"best\", \"better\", \"better\", \"better\", \"big\", \"big\", \"bit\", \"bit\", \"bit\", \"bit\", \"bit\", \"box\", \"box\", \"box\", \"box\", \"bright\", \"bright\", \"bright\", \"buck\", \"buck\", \"build\", \"build\", \"build\", \"build\", \"button\", \"button\", \"button\", \"buy\", \"buy\", \"buy\", \"buy\", \"cable\", \"cable\", \"cable\", \"cable\", \"change\", \"change\", \"change\", \"clear\", \"clear\", \"clear\", \"clear\", \"color\", \"color\", \"color\", \"complaint\", \"complaint\", \"computer\", \"connect\", \"connect\", \"connect\", \"connect\", \"control\", \"control\", \"control\", \"could\", \"could\", \"could\", \"could\", \"crisp\", \"crisp\", \"crisp\", \"crystal\", \"crystal\", \"damage\", \"damage\", \"deal\", \"deal\", \"deal\", \"decent\", \"decent\", \"decent\", \"deliver\", \"deliver\", \"delivery\", \"delivery\", \"delivery\", \"disappointed\", \"easy\", \"easy\", \"easy\", \"easy\", \"easy\", \"effect\", \"effect\", \"energy\", \"enjoy\", \"enjoy\", \"everything\", \"everything\", \"everything\", \"excellent\", \"excellent\", \"excellent\", \"fantastic\", \"feature\", \"feature\", \"feature\", \"feature\", \"feel\", \"find\", \"find\", \"find\", \"find\", \"fine\", \"fine\", \"first\", \"first\", \"fix\", \"flat\", \"flat\", \"free\", \"free\", \"free\", \"get\", \"get\", \"get\", \"get\", \"get\", \"give\", \"give\", \"good\", \"good\", \"good\", \"happy\", \"happy\", \"hard\", \"hard\", \"hdmi\", \"hdmi\", \"hdmi\", \"hdr\", \"hdr\", \"hdr\", \"help\", \"image\", \"image\", \"image\", \"inch\", \"inch\", \"inch\", \"input\", \"input\", \"internet\", \"internet\", \"internet\", \"internet\", \"issue\", \"issue\", \"issue\", \"item\", \"know\", \"know\", \"know\", \"large\", \"learn\", \"learn\", \"leave\", \"leave\", \"leave\", \"leg\", \"level\", \"level\", \"level\", \"like\", \"like\", \"like\", \"like\", \"little\", \"little\", \"little\", \"look\", \"look\", \"look\", \"lot\", \"lot\", \"lot\", \"love\", \"love\", \"love\", \"make\", \"make\", \"make\", \"make\", \"many\", \"may\", \"mode\", \"mode\", \"money\", \"money\", \"monitor\", \"monitor\", \"monitor\", \"motion\", \"motion\", \"mount\", \"mount\", \"move\", \"move\", \"move\", \"movie\", \"movie\", \"movie\", \"movie\", \"must\", \"need\", \"need\", \"need\", \"need\", \"need\", \"netflix\", \"netflix\", \"netflix\", \"netflix\", \"old\", \"old\", \"old\", \"open\", \"order\", \"order\", \"order\", \"order\", \"people\", \"perfect\", \"perfect\", \"perfect\", \"play\", \"play\", \"pleased\", \"pleased\", \"pleased\", \"price\", \"price\", \"price\", \"price\", \"price\", \"prime\", \"prime\", \"prime\", \"pro\", \"pro\", \"problem\", \"problem\", \"problem\", \"product\", \"product\", \"product\", \"purchase\", \"purchase\", \"purchase\", \"put\", \"put\", \"put\", \"quality\", \"quality\", \"quality\", \"quality\", \"range\", \"range\", \"recommend\", \"recommend\", \"recommend\", \"recommend\", \"remote\", \"remote\", \"remote\", \"remote\", \"remote\", \"replace\", \"replace\", \"resolution\", \"return\", \"right\", \"right\", \"save\", \"say\", \"say\", \"say\", \"see\", \"see\", \"seem\", \"seem\", \"service\", \"service\", \"service\", \"setting\", \"setting\", \"setting\", \"setting\", \"setup\", \"setup\", \"setup\", \"sharp\", \"sharp\", \"sharp\", \"shipping\", \"shipping\", \"simple\", \"simple\", \"small\", \"small\", \"smart\", \"smart\", \"smart\", \"smart\", \"sound\", \"sound\", \"sound\", \"sound\", \"sound\", \"speaker\", \"speaker\", \"speaker\", \"speaker\", \"stand\", \"stand\", \"stop\", \"stop\", \"stream\", \"stream\", \"stream\", \"sure\", \"sure\", \"surround\", \"surround\", \"surround\", \"surround\", \"switch\", \"switch\", \"system\", \"system\", \"system\", \"take\", \"take\", \"take\", \"take\", \"television\", \"thing\", \"thing\", \"thing\", \"try\", \"try\", \"turn\", \"turn\", \"uhd\", \"uhd\", \"uhd\", \"upgrade\", \"upgrade\", \"user\", \"value\", \"value\", \"value\", \"value\", \"value\", \"video\", \"video\", \"video\", \"volume\", \"volume\", \"volume\", \"wait\", \"wait\", \"wait\", \"wall\", \"wall\", \"watch\", \"watch\", \"watch\", \"watch\", \"watch\", \"wifi\", \"wifi\", \"wish\", \"wish\", \"wish\", \"wish\", \"work\", \"work\", \"work\", \"work\", \"worth\", \"worth\", \"worth\", \"would\", \"would\", \"would\", \"would\", \"xbox\", \"xbox\", \"xbox\", \"year\", \"year\", \"youtube\"]}, \"R\": 30, \"lambda.step\": 0.01, \"plot.opts\": {\"xlab\": \"PC1\", \"ylab\": \"PC2\"}, \"topic.order\": [3, 2, 5, 1, 4]};\n",
       "\n",
       "function LDAvis_load_lib(url, callback){\n",
       "  var s = document.createElement('script');\n",
       "  s.src = url;\n",
       "  s.async = true;\n",
       "  s.onreadystatechange = s.onload = callback;\n",
       "  s.onerror = function(){console.warn(\"failed to load library \" + url);};\n",
       "  document.getElementsByTagName(\"head\")[0].appendChild(s);\n",
       "}\n",
       "\n",
       "if(typeof(LDAvis) !== \"undefined\"){\n",
       "   // already loaded: just create the visualization\n",
       "   !function(LDAvis){\n",
       "       new LDAvis(\"#\" + \"ldavis_el9904847037172008651820845\", ldavis_el9904847037172008651820845_data);\n",
       "   }(LDAvis);\n",
       "}else if(typeof define === \"function\" && define.amd){\n",
       "   // require.js is available: use it to load d3/LDAvis\n",
       "   require.config({paths: {d3: \"https://cdnjs.cloudflare.com/ajax/libs/d3/3.5.5/d3.min\"}});\n",
       "   require([\"d3\"], function(d3){\n",
       "      window.d3 = d3;\n",
       "      LDAvis_load_lib(\"https://cdn.rawgit.com/bmabey/pyLDAvis/files/ldavis.v1.0.0.js\", function(){\n",
       "        new LDAvis(\"#\" + \"ldavis_el9904847037172008651820845\", ldavis_el9904847037172008651820845_data);\n",
       "      });\n",
       "    });\n",
       "}else{\n",
       "    // require.js not available: dynamically load d3 & LDAvis\n",
       "    LDAvis_load_lib(\"https://cdnjs.cloudflare.com/ajax/libs/d3/3.5.5/d3.min.js\", function(){\n",
       "         LDAvis_load_lib(\"https://cdn.rawgit.com/bmabey/pyLDAvis/files/ldavis.v1.0.0.js\", function(){\n",
       "                 new LDAvis(\"#\" + \"ldavis_el9904847037172008651820845\", ldavis_el9904847037172008651820845_data);\n",
       "            })\n",
       "         });\n",
       "}\n",
       "</script>"
      ],
      "text/plain": [
       "<IPython.core.display.HTML object>"
      ]
     },
     "execution_count": 51,
     "metadata": {},
     "output_type": "execute_result"
    }
   ],
   "source": [
    "import ipywidgets\n",
    "import pyLDAvis.sklearn\n",
    "pyLDAvis.enable_notebook()\n",
    "panel = pyLDAvis.sklearn.prepare(lda.lda_model, lda.data_vectorized, lda.vectorizer, mds='tsne')\n",
    "pyLDAvis.display(panel)"
   ]
  },
  {
   "cell_type": "code",
   "execution_count": 132,
   "metadata": {},
   "outputs": [],
   "source": [
    "sentence_stream = [[u'the', u'mayor', u'of', u'new', u'york', u'was', u'there'],\n",
    " [u'new', u'york', u'can', u'be', u'useful', u'sometimes']]"
   ]
  },
  {
   "cell_type": "code",
   "execution_count": 134,
   "metadata": {},
   "outputs": [],
   "source": [
    "import spacy\n",
    "from gensim.models import Phrases"
   ]
  },
  {
   "cell_type": "code",
   "execution_count": 135,
   "metadata": {},
   "outputs": [],
   "source": [
    "bigram = Phrases(sentence_stream)"
   ]
  },
  {
   "cell_type": "code",
   "execution_count": 136,
   "metadata": {},
   "outputs": [
    {
     "name": "stdout",
     "output_type": "stream",
     "text": [
      "['the', 'mayor', 'of', 'new', 'york', 'was', 'there']\n"
     ]
    }
   ],
   "source": [
    "\n",
    "sent = [u'the', u'mayor', u'of', u'new', u'york', u'was', u'there']\n",
    "print(bigram[sent])\n"
   ]
  },
  {
   "cell_type": "code",
   "execution_count": 152,
   "metadata": {},
   "outputs": [
    {
     "name": "stdout",
     "output_type": "stream",
     "text": [
      "['the', 'mayor', 'of', 'new', 'york', 'was', 'there', 'great_tv']\n"
     ]
    }
   ],
   "source": [
    "from gensim.models import Phrases\n",
    "documents = [\"great tv the mayor of new york was there\", \"machine learning can be useful sometimes\",\"new york mayor was present great tv\",u\"I love testing great tv\"]\n",
    "\n",
    "sentence_stream = [doc.split(\" \") for doc in documents]\n",
    "bigram = Phrases(sentence_stream, min_count=2, threshold=1)\n",
    "sent = [u'the', u'mayor', u'of', u'new', u'york', u'was', u'there', u'great', u'tv']\n",
    "print(bigram[sent])"
   ]
  },
  {
   "cell_type": "code",
   "execution_count": null,
   "metadata": {},
   "outputs": [],
   "source": []
  }
 ],
 "metadata": {
  "kernelspec": {
   "display_name": "Python 3",
   "language": "python",
   "name": "python3"
  },
  "language_info": {
   "codemirror_mode": {
    "name": "ipython",
    "version": 3
   },
   "file_extension": ".py",
   "mimetype": "text/x-python",
   "name": "python",
   "nbconvert_exporter": "python",
   "pygments_lexer": "ipython3",
   "version": "3.6.4"
  },
  "widgets": {
   "state": {},
   "version": "1.1.2"
  }
 },
 "nbformat": 4,
 "nbformat_minor": 2
}
