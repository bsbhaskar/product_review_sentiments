{
 "cells": [
  {
   "cell_type": "code",
   "execution_count": 16,
   "metadata": {},
   "outputs": [],
   "source": [
    "import psycopg2\n",
    "import pandas as pd\n",
    "import numpy as np\n",
    "import warnings\n",
    "warnings.filterwarnings(\"ignore\")"
   ]
  },
  {
   "cell_type": "code",
   "execution_count": 9,
   "metadata": {},
   "outputs": [
    {
     "data": {
      "text/html": [
       "<div>\n",
       "<style scoped>\n",
       "    .dataframe tbody tr th:only-of-type {\n",
       "        vertical-align: middle;\n",
       "    }\n",
       "\n",
       "    .dataframe tbody tr th {\n",
       "        vertical-align: top;\n",
       "    }\n",
       "\n",
       "    .dataframe thead th {\n",
       "        text-align: right;\n",
       "    }\n",
       "</style>\n",
       "<table border=\"1\" class=\"dataframe\">\n",
       "  <thead>\n",
       "    <tr style=\"text-align: right;\">\n",
       "      <th></th>\n",
       "      <th>id</th>\n",
       "      <th>product</th>\n",
       "      <th>url</th>\n",
       "      <th>p_no</th>\n",
       "      <th>r_no</th>\n",
       "      <th>r_stars</th>\n",
       "      <th>r_date</th>\n",
       "      <th>r_name</th>\n",
       "      <th>r_title</th>\n",
       "      <th>r_text</th>\n",
       "      <th>r_comments</th>\n",
       "    </tr>\n",
       "  </thead>\n",
       "  <tbody>\n",
       "    <tr>\n",
       "      <th>0</th>\n",
       "      <td>1</td>\n",
       "      <td>LG Electronics 65UJ6300 65-Inch 4K Ultra HD Sm...</td>\n",
       "      <td>https://www.amazon.com/LG-Electronics-65UJ6300...</td>\n",
       "      <td>1</td>\n",
       "      <td>1</td>\n",
       "      <td>5.0 out of 5 stars</td>\n",
       "      <td>September 22, 2017</td>\n",
       "      <td>Prime Customer</td>\n",
       "      <td>TV Great, TruMotion Bad!</td>\n",
       "      <td>Now that I found the TruMotion setting so that...</td>\n",
       "      <td>Verified Purchase          Helpful          No...</td>\n",
       "    </tr>\n",
       "    <tr>\n",
       "      <th>1</th>\n",
       "      <td>2</td>\n",
       "      <td>LG Electronics 65UJ6300 65-Inch 4K Ultra HD Sm...</td>\n",
       "      <td>https://www.amazon.com/LG-Electronics-65UJ6300...</td>\n",
       "      <td>1</td>\n",
       "      <td>2</td>\n",
       "      <td>5.0 out of 5 stars</td>\n",
       "      <td>December 30, 2017</td>\n",
       "      <td>GMC</td>\n",
       "      <td>Hint: Turn OFF Smart Picture Mode</td>\n",
       "      <td>Hint: Turn off Smart Picture Mode and then tur...</td>\n",
       "      <td>Verified Purchase          Helpful          No...</td>\n",
       "    </tr>\n",
       "  </tbody>\n",
       "</table>\n",
       "</div>"
      ],
      "text/plain": [
       "   id                                            product  \\\n",
       "0   1  LG Electronics 65UJ6300 65-Inch 4K Ultra HD Sm...   \n",
       "1   2  LG Electronics 65UJ6300 65-Inch 4K Ultra HD Sm...   \n",
       "\n",
       "                                                 url  p_no  r_no  \\\n",
       "0  https://www.amazon.com/LG-Electronics-65UJ6300...     1     1   \n",
       "1  https://www.amazon.com/LG-Electronics-65UJ6300...     1     2   \n",
       "\n",
       "              r_stars              r_date          r_name  \\\n",
       "0  5.0 out of 5 stars  September 22, 2017  Prime Customer   \n",
       "1  5.0 out of 5 stars   December 30, 2017             GMC   \n",
       "\n",
       "                             r_title  \\\n",
       "0           TV Great, TruMotion Bad!   \n",
       "1  Hint: Turn OFF Smart Picture Mode   \n",
       "\n",
       "                                              r_text  \\\n",
       "0  Now that I found the TruMotion setting so that...   \n",
       "1  Hint: Turn off Smart Picture Mode and then tur...   \n",
       "\n",
       "                                          r_comments  \n",
       "0  Verified Purchase          Helpful          No...  \n",
       "1  Verified Purchase          Helpful          No...  "
      ]
     },
     "execution_count": 9,
     "metadata": {},
     "output_type": "execute_result"
    }
   ],
   "source": [
    "from src.load_review_data import ReviewDataLoader\n",
    "rdl = ReviewDataLoader()\n",
    "df = rdl.retrieve_all_reviews()\n",
    "df.head(2)"
   ]
  },
  {
   "cell_type": "code",
   "execution_count": 19,
   "metadata": {},
   "outputs": [
    {
     "data": {
      "text/html": [
       "<div>\n",
       "<style scoped>\n",
       "    .dataframe tbody tr th:only-of-type {\n",
       "        vertical-align: middle;\n",
       "    }\n",
       "\n",
       "    .dataframe tbody tr th {\n",
       "        vertical-align: top;\n",
       "    }\n",
       "\n",
       "    .dataframe thead th {\n",
       "        text-align: right;\n",
       "    }\n",
       "</style>\n",
       "<table border=\"1\" class=\"dataframe\">\n",
       "  <thead>\n",
       "    <tr style=\"text-align: right;\">\n",
       "      <th></th>\n",
       "      <th>rating</th>\n",
       "      <th>product</th>\n",
       "      <th>reviews</th>\n",
       "    </tr>\n",
       "  </thead>\n",
       "  <tbody>\n",
       "    <tr>\n",
       "      <th>0</th>\n",
       "      <td>1</td>\n",
       "      <td>LG Electronics 65UJ6300 65-Inch 4K Ultra HD Sm...</td>\n",
       "      <td>TV Great, TruMotion Bad! Now that I found the ...</td>\n",
       "    </tr>\n",
       "    <tr>\n",
       "      <th>1</th>\n",
       "      <td>1</td>\n",
       "      <td>LG Electronics 65UJ6300 65-Inch 4K Ultra HD Sm...</td>\n",
       "      <td>Hint: Turn OFF Smart Picture Mode Hint: Turn o...</td>\n",
       "    </tr>\n",
       "    <tr>\n",
       "      <th>2</th>\n",
       "      <td>1</td>\n",
       "      <td>LG Electronics 65UJ6300 65-Inch 4K Ultra HD Sm...</td>\n",
       "      <td>43UJ6300 Needed an upgrade for my 7yr old HDTV...</td>\n",
       "    </tr>\n",
       "  </tbody>\n",
       "</table>\n",
       "</div>"
      ],
      "text/plain": [
       "   rating                                            product  \\\n",
       "0       1  LG Electronics 65UJ6300 65-Inch 4K Ultra HD Sm...   \n",
       "1       1  LG Electronics 65UJ6300 65-Inch 4K Ultra HD Sm...   \n",
       "2       1  LG Electronics 65UJ6300 65-Inch 4K Ultra HD Sm...   \n",
       "\n",
       "                                             reviews  \n",
       "0  TV Great, TruMotion Bad! Now that I found the ...  \n",
       "1  Hint: Turn OFF Smart Picture Mode Hint: Turn o...  \n",
       "2  43UJ6300 Needed an upgrade for my 7yr old HDTV...  "
      ]
     },
     "execution_count": 19,
     "metadata": {},
     "output_type": "execute_result"
    }
   ],
   "source": [
    "df_new = df.copy()\n",
    "df_new = df_new[df_new['r_stars'].apply(lambda x: x in ['5.0 out of 5 stars','1.0 out of 5 stars'])]\n",
    "df_new['rating'] = df_new['r_stars'].apply(lambda x: 1 if x == '5.0 out of 5 stars' else 0)\n",
    "df_new['reviews'] = df['r_title'] + ' ' + df['r_text']\n",
    "df_new = df_new[['rating','product','reviews']]\n",
    "df_new.head(3)"
   ]
  },
  {
   "cell_type": "code",
   "execution_count": 5,
   "metadata": {},
   "outputs": [],
   "source": [
    "from src.LdaReviewAnalyzer import LdaReviewAnalyzer"
   ]
  },
  {
   "cell_type": "code",
   "execution_count": 13,
   "metadata": {},
   "outputs": [
    {
     "name": "stdout",
     "output_type": "stream",
     "text": [
      "Topic 0:\n",
      "[('great', 254.29354568923878), ('picture', 253.11311981366373), ('samsung', 203.83808797237322), ('quality', 182.45487275799618), ('love', 171.563016182366), ('remote', 148.068290944625), ('price', 120.59535164746147), ('smart', 105.04065780060523), ('good', 99.60263897617126), ('use', 89.4555797053181)]\n",
      "Topic 1:\n",
      "[('great', 429.2885084134207), ('stars', 399.18039260168547), ('picture', 283.41964833909833), ('set', 131.35618557508522), ('easy', 119.20706536723523), ('good', 107.26057922498289), ('excellent', 104.62356882155433), ('nice', 86.24003940903329), ('sound', 85.81805434378728), ('price', 70.8374360058537)]\n"
     ]
    }
   ],
   "source": [
    "lda = LdaReviewAnalyzer(df_new)\n",
    "lda.fit_transform(num_topics=2, rating=[1])\n",
    "lda.print_topics()"
   ]
  },
  {
   "cell_type": "code",
   "execution_count": 14,
   "metadata": {},
   "outputs": [
    {
     "data": {
      "text/html": [
       "\n",
       "<link rel=\"stylesheet\" type=\"text/css\" href=\"https://cdn.rawgit.com/bmabey/pyLDAvis/files/ldavis.v1.0.0.css\">\n",
       "\n",
       "\n",
       "<div id=\"ldavis_el602781122120996242489942154\"></div>\n",
       "<script type=\"text/javascript\">\n",
       "\n",
       "var ldavis_el602781122120996242489942154_data = {\"mdsDat\": {\"Freq\": [66.44518039551669, 33.5548196044833], \"cluster\": [1, 1], \"topics\": [1, 2], \"x\": [2352.8154296875, -2352.815185546875], \"y\": [-5514.8720703125, 5514.8720703125]}, \"tinfo\": {\"Category\": [\"Default\", \"Default\", \"Default\", \"Default\", \"Default\", \"Default\", \"Default\", \"Default\", \"Default\", \"Default\", \"Default\", \"Default\", \"Default\", \"Default\", \"Default\", \"Default\", \"Default\", \"Default\", \"Default\", \"Default\", \"Default\", \"Default\", \"Default\", \"Default\", \"Default\", \"Default\", \"Default\", \"Default\", \"Default\", \"Default\", \"Topic1\", \"Topic1\", \"Topic1\", \"Topic1\", \"Topic1\", \"Topic1\", \"Topic1\", \"Topic1\", \"Topic1\", \"Topic1\", \"Topic1\", \"Topic1\", \"Topic1\", \"Topic1\", \"Topic1\", \"Topic1\", \"Topic1\", \"Topic1\", \"Topic1\", \"Topic1\", \"Topic1\", \"Topic1\", \"Topic1\", \"Topic1\", \"Topic1\", \"Topic1\", \"Topic1\", \"Topic1\", \"Topic1\", \"Topic1\", \"Topic1\", \"Topic1\", \"Topic1\", \"Topic1\", \"Topic1\", \"Topic1\", \"Topic1\", \"Topic1\", \"Topic1\", \"Topic1\", \"Topic1\", \"Topic1\", \"Topic1\", \"Topic1\", \"Topic1\", \"Topic1\", \"Topic1\", \"Topic1\", \"Topic1\", \"Topic1\", \"Topic1\", \"Topic1\", \"Topic1\", \"Topic1\", \"Topic1\", \"Topic1\", \"Topic1\", \"Topic1\", \"Topic1\", \"Topic1\", \"Topic1\", \"Topic1\", \"Topic1\", \"Topic1\", \"Topic1\", \"Topic2\", \"Topic2\", \"Topic2\", \"Topic2\", \"Topic2\", \"Topic2\", \"Topic2\", \"Topic2\", \"Topic2\", \"Topic2\", \"Topic2\", \"Topic2\", \"Topic2\", \"Topic2\", \"Topic2\", \"Topic2\", \"Topic2\", \"Topic2\", \"Topic2\", \"Topic2\", \"Topic2\", \"Topic2\", \"Topic2\", \"Topic2\", \"Topic2\", \"Topic2\", \"Topic2\", \"Topic2\", \"Topic2\", \"Topic2\", \"Topic2\", \"Topic2\", \"Topic2\", \"Topic2\", \"Topic2\", \"Topic2\", \"Topic2\", \"Topic2\", \"Topic2\", \"Topic2\", \"Topic2\", \"Topic2\", \"Topic2\", \"Topic2\", \"Topic2\", \"Topic2\", \"Topic2\", \"Topic2\", \"Topic2\", \"Topic2\", \"Topic2\", \"Topic2\", \"Topic2\", \"Topic2\", \"Topic2\", \"Topic2\", \"Topic2\", \"Topic2\", \"Topic2\"], \"Freq\": [386.0, 691.0, 550.0, 144.0, 116.0, 93.0, 69.0, 201.0, 75.0, 212.0, 103.0, 170.0, 53.0, 238.0, 30.0, 26.0, 26.0, 82.0, 71.0, 62.0, 29.0, 97.0, 21.0, 18.0, 19.0, 25.0, 58.0, 52.0, 19.0, 44.0, 37.883544987212204, 43.98320482402921, 32.225138559553585, 34.689248679895755, 60.86605194102472, 39.643777110325864, 21.76829054510662, 25.554311653169478, 43.56977315334363, 29.455818454037114, 20.45669112097569, 20.94445649391982, 69.79801345187553, 19.189156208986, 20.175007390402534, 56.506838185521566, 43.392681435601276, 17.04987062592073, 30.182137696675866, 14.60822106205031, 14.220870759973806, 14.885662964082492, 41.11145040758045, 14.38385184836128, 15.353429966874721, 14.077867761903615, 19.59827168207527, 12.326970646171986, 24.971159187738714, 17.58542672202536, 92.44111118176657, 26.772882326802296, 223.4993159722598, 19.77370661915365, 37.186994363885184, 162.35023627081145, 29.213993545453782, 200.0535800882546, 63.92739223342851, 67.77222303047901, 46.36028348794641, 60.768282067110874, 29.62712049780107, 41.32660122131667, 51.2177079838096, 188.1111481387789, 94.96483820160007, 62.669107973095905, 115.17236744731107, 71.76563802533032, 44.81292185525393, 77.5881655338491, 98.08402871572417, 132.2273912140247, 277.52717710747794, 63.53162729093946, 278.82146110695663, 50.63687376278276, 85.72486779519599, 71.1085931545536, 109.20982384422355, 64.6676510279489, 88.27195176642192, 62.55799484338346, 87.08835716456672, 384.178842551351, 66.75219406807607, 10.990790864675704, 9.897966139023548, 9.411961403408831, 28.46897214430863, 8.528034240580093, 24.945134948655856, 8.764976517259827, 11.823572941607068, 6.6237610792081645, 6.333874395678088, 9.357269198951716, 6.183854534043028, 5.527953204691275, 5.585606394329019, 10.779881235833386, 6.376506179131937, 82.9990629194181, 7.438581025257854, 5.250479560022566, 12.77520082419714, 16.067646161847804, 23.054716257098363, 126.41970465355877, 5.326489994158066, 5.576874948739443, 8.724046398804049, 100.69172313672064, 4.322154425376204, 18.18187855527779, 16.24410655238314, 59.07669835278583, 42.54274870940702, 413.15546890458046, 15.6756122065297, 67.11340107871679, 13.44413197866746, 272.7684888167175, 114.7271590627077, 21.638049955764405, 12.3193062826651, 103.22963237114523, 82.59293642386666, 18.75502298121423, 42.159457728611365, 68.17530289166655, 50.44973473010005, 27.425544306735897, 31.483608583317714, 66.21778618804466, 30.085222973618986, 33.97795122140177, 31.578491593698253, 35.3652138939471, 26.842806138089944, 33.53439422690898, 26.12671142145232, 27.647100119946046], \"Term\": [\"stars\", \"great\", \"picture\", \"set\", \"excellent\", \"nice\", \"delivery\", \"easy\", \"beautiful\", \"good\", \"happy\", \"sound\", \"product\", \"samsung\", \"monitor\", \"service\", \"arrived\", \"works\", \"cable\", \"television\", \"fast\", \"best\", \"unit\", \"delivered\", \"expected\", \"came\", \"better\", \"time\", \"shipping\", \"ive\", \"look\", \"ive\", \"absolutely\", \"inch\", \"television\", \"voice\", \"owned\", \"looking\", \"control\", \"highly\", \"viewing\", \"high\", \"cable\", \"upgrade\", \"second\", \"better\", \"hdmi\", \"living\", \"interface\", \"crystal\", \"isnt\", \"app\", \"room\", \"universal\", \"lots\", \"probably\", \"older\", \"button\", \"bad\", \"definitely\", \"best\", \"know\", \"samsung\", \"sony\", \"speakers\", \"remote\", \"hdr\", \"quality\", \"tvs\", \"buy\", \"settings\", \"recommend\", \"makes\", \"size\", \"dont\", \"love\", \"just\", \"purchase\", \"smart\", \"screen\", \"old\", \"like\", \"use\", \"price\", \"picture\", \"features\", \"great\", \"apps\", \"amazing\", \"awesome\", \"good\", \"amazon\", \"sound\", \"really\", \"easy\", \"stars\", \"delivery\", \"quickly\", \"condition\", \"bigger\", \"monitor\", \"promised\", \"service\", \"roku\", \"vivid\", \"professional\", \"depth\", \"customer\", \"trouble\", \"men\", \"fabulous\", \"thanks\", \"wife\", \"nice\", \"loves\", \"function\", \"hooked\", \"delivered\", \"arrived\", \"set\", \"early\", \"response\", \"thats\", \"excellent\", \"spend\", \"unit\", \"expected\", \"beautiful\", \"product\", \"great\", \"shipping\", \"happy\", \"expectations\", \"picture\", \"easy\", \"fast\", \"ordered\", \"good\", \"sound\", \"came\", \"works\", \"price\", \"amazing\", \"time\", \"box\", \"love\", \"clear\", \"awesome\", \"really\", \"use\", \"far\", \"smart\", \"amazon\", \"quality\"], \"Total\": [386.0, 691.0, 550.0, 144.0, 116.0, 93.0, 69.0, 201.0, 75.0, 212.0, 103.0, 170.0, 53.0, 238.0, 30.0, 26.0, 26.0, 82.0, 71.0, 62.0, 29.0, 97.0, 21.0, 18.0, 19.0, 25.0, 58.0, 52.0, 19.0, 44.0, 38.50438103455149, 44.729818909332415, 32.8349245908964, 35.39602098876497, 62.220696823780834, 40.53820549713863, 22.29597032453679, 26.231292025875113, 44.75720851224179, 30.25973680388041, 21.024568664740247, 21.539671543913986, 71.86389487913672, 19.760235962026844, 20.780604605472174, 58.212703907612166, 44.7200725116642, 17.577721877690323, 31.130548048049427, 15.142355964508518, 14.779112382167245, 15.475853145911959, 42.75358429375978, 14.960510141330621, 15.978289204524945, 14.652677380374948, 20.401683182118724, 12.848845385036702, 26.033853732194864, 18.334550802020626, 97.08017388890076, 27.91536985065987, 238.63143746969445, 20.65786555159145, 39.35527109813066, 179.59577415525928, 30.801995716722995, 227.70068020820065, 69.59754975437, 74.8281409672639, 50.35427838039046, 67.17853094815504, 31.50636160863811, 45.40321134336593, 58.107313724231666, 254.32893432682357, 117.17010313955758, 73.66778244436496, 148.70676167422005, 87.27045206321978, 50.47377050150514, 99.60413826478458, 133.44924260967127, 200.40269410569124, 550.2956659241954, 81.4207164634612, 691.9769300115371, 60.629205217686966, 136.17460252529605, 105.08654437595537, 212.43945621536878, 90.79436244940123, 170.86488819028858, 94.13648643708171, 201.81551622727443, 386.2144780223166, 69.76962690267221, 11.629934298458496, 10.54121358746454, 10.028670330030018, 30.4578756689423, 9.130234884207598, 26.773081819603565, 9.418078298917308, 12.721884968784426, 7.201324423996604, 6.975282807521108, 10.354169523373647, 6.868236317173789, 6.156683313730764, 6.236150748990005, 12.055842669281041, 7.159553610740985, 93.19542031225808, 8.360596186795853, 5.935883961769344, 14.513079352208514, 18.269289798609492, 26.269438992692283, 144.51495828223727, 6.110024601133548, 6.407216756967164, 10.090202561012234, 116.47934431922288, 5.012503373467927, 21.404124593898473, 19.47500357816194, 75.00378315556532, 53.883042488574546, 691.9769300115371, 19.616681241470495, 103.42658426982493, 16.72695133744402, 550.2956659241954, 201.81551622727443, 29.689349465715466, 15.361899987641165, 212.43945621536878, 170.86488819028858, 25.816279374739754, 82.35194314749293, 200.40269410569124, 136.17460252529605, 52.196070370845504, 67.87871365364583, 254.32893432682357, 77.52938522869385, 105.08654437595537, 94.13648643708171, 133.44924260967127, 76.31521738294528, 148.70676167422005, 90.79436244940123, 227.70068020820065], \"loglift\": [30.0, 29.0, 28.0, 27.0, 26.0, 25.0, 24.0, 23.0, 22.0, 21.0, 20.0, 19.0, 18.0, 17.0, 16.0, 15.0, 14.0, 13.0, 12.0, 11.0, 10.0, 9.0, 8.0, 7.0, 6.0, 5.0, 4.0, 3.0, 2.0, 1.0, 0.3925, 0.392, 0.39, 0.3886, 0.3868, 0.3865, 0.3848, 0.3826, 0.3819, 0.3819, 0.3814, 0.3808, 0.3796, 0.3795, 0.3792, 0.3791, 0.3787, 0.3783, 0.3779, 0.3729, 0.3703, 0.3699, 0.3696, 0.3695, 0.3689, 0.3688, 0.3686, 0.3673, 0.3671, 0.3671, 0.3598, 0.367, 0.3433, 0.365, 0.3521, 0.3078, 0.3559, 0.2793, 0.3238, 0.3098, 0.3262, 0.3085, 0.3473, 0.3147, 0.2826, 0.1072, 0.1987, 0.2471, 0.1532, 0.2132, 0.2898, 0.159, 0.1009, -0.007, -0.2757, 0.1607, -0.5002, 0.2287, -0.054, 0.0182, -0.2566, 0.0695, -0.2517, 0.0001, -0.4316, 1.0867, 1.0478, 1.0355, 1.029, 1.0285, 1.0245, 1.0238, 1.0213, 1.0201, 1.0188, 1.0084, 0.9955, 0.9908, 0.987, 0.9843, 0.9818, 0.9801, 0.9762, 0.9761, 0.9751, 0.9693, 0.9644, 0.9636, 0.9615, 0.9582, 0.9548, 0.9532, 0.9465, 0.9463, 0.9438, 0.9288, 0.9106, 0.8533, 0.8557, 0.5763, 0.8677, 0.6595, 0.8735, 0.3902, 0.5272, 0.7757, 0.8713, 0.3703, 0.365, 0.7724, 0.4224, 0.0137, 0.099, 0.4485, 0.3237, -0.2537, 0.1454, -0.0371, -0.0003, -0.236, 0.0471, -0.3974, -0.1536, -1.0165], \"logprob\": [30.0, 29.0, 28.0, 27.0, 26.0, 25.0, 24.0, 23.0, 22.0, 21.0, 20.0, 19.0, 18.0, 17.0, 16.0, 15.0, 14.0, 13.0, 12.0, 11.0, 10.0, 9.0, 8.0, 7.0, 6.0, 5.0, 4.0, 3.0, 2.0, 1.0, -5.5187, -5.3695, -5.6805, -5.6068, -5.0446, -5.4733, -6.0728, -5.9125, -5.3789, -5.7704, -6.135, -6.1114, -4.9077, -6.1989, -6.1488, -5.1189, -5.383, -6.3171, -5.746, -6.4717, -6.4985, -6.4529, -5.437, -6.4872, -6.4219, -6.5087, -6.1778, -6.6415, -5.9355, -6.2862, -4.6267, -5.8659, -3.7439, -6.1689, -5.5373, -4.0635, -5.7786, -3.8547, -4.9955, -4.9371, -5.3168, -5.0462, -5.7646, -5.4318, -5.2172, -3.9162, -4.5998, -5.0154, -4.4068, -4.8799, -5.3508, -4.8018, -4.5674, -4.2687, -3.5273, -5.0017, -3.5227, -5.2286, -4.7021, -4.8891, -4.46, -4.984, -4.6728, -5.0172, -4.6863, -2.519, -4.2691, -6.073, -6.1777, -6.2281, -5.1212, -6.3267, -5.2534, -6.2993, -6.0, -6.5794, -6.6242, -6.2339, -6.6481, -6.7602, -6.7499, -6.0924, -6.6174, -4.0512, -6.4634, -6.8117, -5.9226, -5.6933, -5.3322, -3.6305, -6.7974, -6.7514, -6.304, -3.858, -7.0063, -5.5696, -5.6823, -4.3912, -4.7196, -2.4462, -5.718, -4.2637, -5.8715, -2.8614, -3.7275, -5.3956, -5.9589, -3.8331, -4.0561, -5.5386, -4.7286, -4.248, -4.5491, -5.1586, -5.0206, -4.2771, -5.066, -4.9444, -5.0176, -4.9043, -5.1801, -4.9575, -5.2071, -5.1505]}, \"token.table\": {\"Topic\": [1, 2, 1, 2, 1, 2, 1, 2, 1, 2, 1, 2, 1, 2, 1, 2, 1, 2, 1, 2, 1, 2, 1, 2, 1, 2, 1, 2, 1, 2, 1, 2, 1, 2, 1, 2, 1, 2, 1, 2, 1, 2, 1, 2, 1, 2, 1, 2, 1, 2, 1, 2, 1, 2, 1, 2, 1, 2, 1, 2, 1, 2, 1, 2, 1, 2, 1, 2, 1, 2, 1, 2, 1, 2, 1, 2, 1, 2, 1, 2, 1, 2, 1, 2, 1, 2, 1, 2, 1, 2, 1, 2, 1, 2, 1, 2, 1, 2, 1, 2, 1, 2, 1, 2, 1, 2, 1, 2, 1, 2, 1, 2, 1, 2, 1, 2, 1, 2, 1, 2, 1, 2, 1, 2, 1, 2, 1, 2, 1, 2, 1, 2, 1, 2, 1, 2, 1, 2, 1, 2, 1, 2, 1, 2, 1, 2, 1, 2, 1, 2, 1, 2, 1, 2, 1, 2, 1, 2, 1, 2, 1, 2, 1, 2, 1, 2, 1, 2, 1, 2, 1, 2, 1, 2, 1, 2, 1, 2, 1, 2, 1, 2, 1, 2, 1, 2, 1, 2, 1, 2, 1, 2, 1, 2, 1, 2, 1, 2, 1, 2, 1, 2, 1, 2, 1, 2, 1, 2, 1, 2, 1, 2, 1, 2, 1, 2, 1, 2, 1, 2], \"Freq\": [0.974572057000311, 0.03045537678125972, 0.6315421407896122, 0.3671756632497745, 0.7159034795384331, 0.2863613918153733, 0.9692518957484643, 0.06461679304989762, 0.8411787655286977, 0.16493701284876425, 0.11420114456325274, 0.8755421083182711, 0.6756335972566756, 0.3235428493905207, 0.9602881024519108, 0.03841152409807643, 0.21332257290028167, 0.7866269875697887, 0.9476703256144293, 0.05150382204426246, 0.979167710375783, 0.03435676176757133, 0.09971411633759496, 0.8974270470383546, 0.5303577228008711, 0.4566969279674168, 0.9339360573187971, 0.07782800477656643, 0.9087490230413301, 0.09354769354837221, 0.9740635421685467, 0.027830386919101335, 0.2711467403335135, 0.7359697237623938, 0.6062217552913751, 0.38695005656896286, 0.09486573739376514, 0.9486573739376514, 0.9830818646333879, 0.022342769650758817, 0.9905988232714791, 0.06603992155143194, 0.0965794502149676, 0.8692150519347084, 0.9817529861716735, 0.05454183256509297, 0.10947333049324247, 0.8757866439459397, 0.042998653327829366, 0.9603032576548559, 0.14336336283336765, 0.860180177000206, 0.8776864172733594, 0.12046676315516698, 0.16366546213487868, 0.8183273106743935, 0.4310867748247117, 0.5698273460326648, 0.13736341059879645, 0.8671065294049025, 0.17935127205663398, 0.7771888455787472, 0.15404361739702138, 0.8215659594507807, 0.16035532819054416, 0.9621319691432648, 0.6420737787343366, 0.35379575562912424, 0.26945689764062375, 0.7410064685117154, 0.7860407372946784, 0.22107395736412827, 0.16846690508786902, 0.8423345254393452, 0.5130873611797283, 0.48484402019735795, 0.40319263244129877, 0.5968407068037863, 0.3480729858203693, 0.6478025013879095, 0.9615369024454162, 0.0223613233126841, 0.9414974362929134, 0.06493085767537334, 0.9749452287230225, 0.04642596327252488, 0.9583692081644654, 0.03304721407463674, 0.13780672946542194, 0.8957437415252427, 0.9888117088389492, 0.028251763109684264, 0.9636836445569655, 0.03212278815189885, 0.9472828704444161, 0.06766306217460115, 0.9836838393910835, 0.0223564508952519, 0.8107870306032634, 0.18776120708707153, 0.9672091089762784, 0.035822559591714015, 0.783099993221639, 0.22087435706251357, 0.967133290553222, 0.05689019356195423, 0.9869006845195384, 0.02597107064525101, 0.9911825911721405, 0.03812240735277463, 0.9387738454347228, 0.06258492302898151, 0.7392002034593985, 0.2595064544059591, 0.11960869508078034, 0.8372608655654624, 0.9521886523315625, 0.06347924348877083, 0.16242511577130808, 0.9745506946278485, 0.06566446136095391, 0.9193024590533548, 0.10730140994583498, 0.8906017025504303, 0.8915521775544406, 0.11887362367392541, 0.98031127243115, 0.0490155636215575, 0.19528834339590392, 0.7811533735836157, 0.9867253893762554, 0.04485115406255707, 0.5051829720176193, 0.4960969473410434, 0.6586737797565932, 0.3393167956321844, 0.9554567835330142, 0.06824691310950101, 0.2041458591046053, 0.7980247219543661, 0.13886334528517438, 0.9720434169962208, 0.10952620745055332, 0.9857358670549798, 0.8551906669320278, 0.1493190053373382, 0.8783460805524506, 0.12296845127734309, 0.08598500854235662, 0.9458350939659228, 0.6692410390960098, 0.3399319563662272, 0.9080281920287403, 0.08931424839626954, 0.902025678287687, 0.09465701562278198, 0.15607400809604371, 0.9364440485762623, 0.10617877323391534, 0.955608959105238, 0.9589839232727038, 0.04677970357427823, 0.9344954812515865, 0.06285844044293183, 0.8250215084006018, 0.18333811297791153, 0.9624359050041009, 0.048121795250205046, 0.07470189698279622, 0.9337737122849528, 0.12455458046665353, 0.8718820632665747, 0.9135271416760854, 0.0794371427544422, 0.20390808979165295, 0.8156323591666118, 0.9030198258430171, 0.08809949520419678, 0.7733340347491173, 0.22863788853452166, 0.9681542340398877, 0.04840771170199438, 0.5150268199163088, 0.485763932421064, 0.9401536050340528, 0.05081911378562447, 0.19950111261633818, 0.7980044504653527, 0.0051784697721363885, 0.9942661962501865, 0.980381177227281, 0.01607182257749641, 0.08294733329160439, 0.9124206662076483, 0.09910603815466729, 0.8919543433920056, 0.4789632595400119, 0.5172803203032128, 0.14559778578083202, 0.8735867146849922, 0.9195726031429932, 0.08620993154465562, 0.14015990174413342, 0.8409594104648006, 0.9357969659953593, 0.06684264042823995, 0.9615269795619958, 0.05060668313484189, 0.7343616050833831, 0.262272001815494, 0.9512680292719382, 0.04756340146359691, 0.07860470381973197, 0.9432564458367837, 0.9867234997075385, 0.02466808749268846, 0.13967351239604783, 0.838041074376287, 0.48572017211979696, 0.5100061807257869], \"Term\": [\"absolutely\", \"absolutely\", \"amazing\", \"amazing\", \"amazon\", \"amazon\", \"app\", \"app\", \"apps\", \"apps\", \"arrived\", \"arrived\", \"awesome\", \"awesome\", \"bad\", \"bad\", \"beautiful\", \"beautiful\", \"best\", \"best\", \"better\", \"better\", \"bigger\", \"bigger\", \"box\", \"box\", \"button\", \"button\", \"buy\", \"buy\", \"cable\", \"cable\", \"came\", \"came\", \"clear\", \"clear\", \"condition\", \"condition\", \"control\", \"control\", \"crystal\", \"crystal\", \"customer\", \"customer\", \"definitely\", \"definitely\", \"delivered\", \"delivered\", \"delivery\", \"delivery\", \"depth\", \"depth\", \"dont\", \"dont\", \"early\", \"early\", \"easy\", \"easy\", \"excellent\", \"excellent\", \"expectations\", \"expectations\", \"expected\", \"expected\", \"fabulous\", \"fabulous\", \"far\", \"far\", \"fast\", \"fast\", \"features\", \"features\", \"function\", \"function\", \"good\", \"good\", \"great\", \"great\", \"happy\", \"happy\", \"hdmi\", \"hdmi\", \"hdr\", \"hdr\", \"high\", \"high\", \"highly\", \"highly\", \"hooked\", \"hooked\", \"inch\", \"inch\", \"interface\", \"interface\", \"isnt\", \"isnt\", \"ive\", \"ive\", \"just\", \"just\", \"know\", \"know\", \"like\", \"like\", \"living\", \"living\", \"look\", \"look\", \"looking\", \"looking\", \"lots\", \"lots\", \"love\", \"love\", \"loves\", \"loves\", \"makes\", \"makes\", \"men\", \"men\", \"monitor\", \"monitor\", \"nice\", \"nice\", \"old\", \"old\", \"older\", \"older\", \"ordered\", \"ordered\", \"owned\", \"owned\", \"picture\", \"picture\", \"price\", \"price\", \"probably\", \"probably\", \"product\", \"product\", \"professional\", \"professional\", \"promised\", \"promised\", \"purchase\", \"purchase\", \"quality\", \"quality\", \"quickly\", \"quickly\", \"really\", \"really\", \"recommend\", \"recommend\", \"remote\", \"remote\", \"response\", \"response\", \"roku\", \"roku\", \"room\", \"room\", \"samsung\", \"samsung\", \"screen\", \"screen\", \"second\", \"second\", \"service\", \"service\", \"set\", \"set\", \"settings\", \"settings\", \"shipping\", \"shipping\", \"size\", \"size\", \"smart\", \"smart\", \"sony\", \"sony\", \"sound\", \"sound\", \"speakers\", \"speakers\", \"spend\", \"spend\", \"stars\", \"stars\", \"television\", \"television\", \"thanks\", \"thanks\", \"thats\", \"thats\", \"time\", \"time\", \"trouble\", \"trouble\", \"tvs\", \"tvs\", \"unit\", \"unit\", \"universal\", \"universal\", \"upgrade\", \"upgrade\", \"use\", \"use\", \"viewing\", \"viewing\", \"vivid\", \"vivid\", \"voice\", \"voice\", \"wife\", \"wife\", \"works\", \"works\"]}, \"R\": 30, \"lambda.step\": 0.01, \"plot.opts\": {\"xlab\": \"PC1\", \"ylab\": \"PC2\"}, \"topic.order\": [1, 2]};\n",
       "\n",
       "function LDAvis_load_lib(url, callback){\n",
       "  var s = document.createElement('script');\n",
       "  s.src = url;\n",
       "  s.async = true;\n",
       "  s.onreadystatechange = s.onload = callback;\n",
       "  s.onerror = function(){console.warn(\"failed to load library \" + url);};\n",
       "  document.getElementsByTagName(\"head\")[0].appendChild(s);\n",
       "}\n",
       "\n",
       "if(typeof(LDAvis) !== \"undefined\"){\n",
       "   // already loaded: just create the visualization\n",
       "   !function(LDAvis){\n",
       "       new LDAvis(\"#\" + \"ldavis_el602781122120996242489942154\", ldavis_el602781122120996242489942154_data);\n",
       "   }(LDAvis);\n",
       "}else if(typeof define === \"function\" && define.amd){\n",
       "   // require.js is available: use it to load d3/LDAvis\n",
       "   require.config({paths: {d3: \"https://cdnjs.cloudflare.com/ajax/libs/d3/3.5.5/d3.min\"}});\n",
       "   require([\"d3\"], function(d3){\n",
       "      window.d3 = d3;\n",
       "      LDAvis_load_lib(\"https://cdn.rawgit.com/bmabey/pyLDAvis/files/ldavis.v1.0.0.js\", function(){\n",
       "        new LDAvis(\"#\" + \"ldavis_el602781122120996242489942154\", ldavis_el602781122120996242489942154_data);\n",
       "      });\n",
       "    });\n",
       "}else{\n",
       "    // require.js not available: dynamically load d3 & LDAvis\n",
       "    LDAvis_load_lib(\"https://cdnjs.cloudflare.com/ajax/libs/d3/3.5.5/d3.min.js\", function(){\n",
       "         LDAvis_load_lib(\"https://cdn.rawgit.com/bmabey/pyLDAvis/files/ldavis.v1.0.0.js\", function(){\n",
       "                 new LDAvis(\"#\" + \"ldavis_el602781122120996242489942154\", ldavis_el602781122120996242489942154_data);\n",
       "            })\n",
       "         });\n",
       "}\n",
       "</script>"
      ],
      "text/plain": [
       "<IPython.core.display.HTML object>"
      ]
     },
     "execution_count": 14,
     "metadata": {},
     "output_type": "execute_result"
    }
   ],
   "source": [
    "import warnings\n",
    "warnings.filterwarnings('ignore')\n",
    "widget = lda.display_topic_model()\n",
    "widget"
   ]
  },
  {
   "cell_type": "code",
   "execution_count": 36,
   "metadata": {},
   "outputs": [],
   "source": [
    "from src.w2v_review_analyzer import W2VReviewAnalyzer"
   ]
  },
  {
   "cell_type": "code",
   "execution_count": 37,
   "metadata": {},
   "outputs": [],
   "source": [
    "w2v = W2VReviewAnalyzer(df_new)\n"
   ]
  },
  {
   "cell_type": "code",
   "execution_count": 46,
   "metadata": {},
   "outputs": [],
   "source": [
    "w2v.fit()"
   ]
  },
  {
   "cell_type": "code",
   "execution_count": 56,
   "metadata": {},
   "outputs": [
    {
     "data": {
      "text/plain": [
       "[('picture_quality', 0.9997904300689697),\n",
       " ('easy_set', 0.9997736215591431),\n",
       " ('fantastic', 0.9997535943984985),\n",
       " ('amazing', 0.9997393488883972),\n",
       " ('quality', 0.999700665473938),\n",
       " ('nice', 0.9996711611747742),\n",
       " ('feature', 0.9996548295021057),\n",
       " ('tv.', 0.9996519684791565),\n",
       " ('sound', 0.9996477365493774),\n",
       " ('clear', 0.9996407628059387)]"
      ]
     },
     "execution_count": 56,
     "metadata": {},
     "output_type": "execute_result"
    }
   ],
   "source": [
    "w2v.model.wv.most_similar('tv')"
   ]
  },
  {
   "cell_type": "code",
   "execution_count": null,
   "metadata": {},
   "outputs": [],
   "source": []
  }
 ],
 "metadata": {
  "kernelspec": {
   "display_name": "Python 3",
   "language": "python",
   "name": "python3"
  },
  "language_info": {
   "codemirror_mode": {
    "name": "ipython",
    "version": 3
   },
   "file_extension": ".py",
   "mimetype": "text/x-python",
   "name": "python",
   "nbconvert_exporter": "python",
   "pygments_lexer": "ipython3",
   "version": "3.6.4"
  },
  "widgets": {
   "state": {},
   "version": "1.1.2"
  }
 },
 "nbformat": 4,
 "nbformat_minor": 2
}
