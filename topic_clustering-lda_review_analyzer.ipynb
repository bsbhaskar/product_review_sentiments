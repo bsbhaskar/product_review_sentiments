{
 "cells": [
  {
   "cell_type": "code",
   "execution_count": 1,
   "metadata": {},
   "outputs": [],
   "source": [
    "import psycopg2\n",
    "import pandas as pd\n",
    "import numpy as np\n",
    "import warnings\n",
    "warnings.filterwarnings(\"ignore\")"
   ]
  },
  {
   "cell_type": "code",
   "execution_count": 15,
   "metadata": {},
   "outputs": [
    {
     "data": {
      "text/html": [
       "<div>\n",
       "<style scoped>\n",
       "    .dataframe tbody tr th:only-of-type {\n",
       "        vertical-align: middle;\n",
       "    }\n",
       "\n",
       "    .dataframe tbody tr th {\n",
       "        vertical-align: top;\n",
       "    }\n",
       "\n",
       "    .dataframe thead th {\n",
       "        text-align: right;\n",
       "    }\n",
       "</style>\n",
       "<table border=\"1\" class=\"dataframe\">\n",
       "  <thead>\n",
       "    <tr style=\"text-align: right;\">\n",
       "      <th></th>\n",
       "      <th>id</th>\n",
       "      <th>product</th>\n",
       "      <th>url</th>\n",
       "      <th>p_no</th>\n",
       "      <th>r_no</th>\n",
       "      <th>r_stars</th>\n",
       "      <th>r_date</th>\n",
       "      <th>r_name</th>\n",
       "      <th>r_title</th>\n",
       "      <th>r_text</th>\n",
       "      <th>r_comments</th>\n",
       "      <th>brand_name</th>\n",
       "      <th>category</th>\n",
       "      <th>model</th>\n",
       "      <th>rating</th>\n",
       "      <th>reviews</th>\n",
       "    </tr>\n",
       "  </thead>\n",
       "  <tbody>\n",
       "    <tr>\n",
       "      <th>0</th>\n",
       "      <td>475</td>\n",
       "      <td>Samsung Electronics UN65MU6300 65-Inch 4K Ultr...</td>\n",
       "      <td>https://www.amazon.com/Samsung-Electronics-UN6...</td>\n",
       "      <td>1</td>\n",
       "      <td>1</td>\n",
       "      <td>5.0 out of 5 stars</td>\n",
       "      <td>August 28, 2017</td>\n",
       "      <td>James Barrow</td>\n",
       "      <td>Someone here complained that the television is...</td>\n",
       "      <td>Before I purchased this television, I read alm...</td>\n",
       "      <td>Verified Purchase          Helpful          No...</td>\n",
       "      <td>Samsung</td>\n",
       "      <td>tv</td>\n",
       "      <td>UN65MU6300</td>\n",
       "      <td>5</td>\n",
       "      <td>Someone here complained that the television is...</td>\n",
       "    </tr>\n",
       "    <tr>\n",
       "      <th>1</th>\n",
       "      <td>504</td>\n",
       "      <td>Samsung Electronics UN65MU6300 65-Inch 4K Ultr...</td>\n",
       "      <td>https://www.amazon.com/Samsung-Electronics-UN6...</td>\n",
       "      <td>3</td>\n",
       "      <td>30</td>\n",
       "      <td>5.0 out of 5 stars</td>\n",
       "      <td>June 25, 2017</td>\n",
       "      <td>Alex C. Tarpenning</td>\n",
       "      <td>This is a great tv, after all</td>\n",
       "      <td>This is a great tv, after all, its a Samsung. ...</td>\n",
       "      <td>Verified Purchase          Helpful          No...</td>\n",
       "      <td>Samsung</td>\n",
       "      <td>tv</td>\n",
       "      <td>UN65MU6300</td>\n",
       "      <td>5</td>\n",
       "      <td>This is a great tv, after all This is a great ...</td>\n",
       "    </tr>\n",
       "  </tbody>\n",
       "</table>\n",
       "</div>"
      ],
      "text/plain": [
       "    id                                            product  \\\n",
       "0  475  Samsung Electronics UN65MU6300 65-Inch 4K Ultr...   \n",
       "1  504  Samsung Electronics UN65MU6300 65-Inch 4K Ultr...   \n",
       "\n",
       "                                                 url  p_no  r_no  \\\n",
       "0  https://www.amazon.com/Samsung-Electronics-UN6...     1     1   \n",
       "1  https://www.amazon.com/Samsung-Electronics-UN6...     3    30   \n",
       "\n",
       "              r_stars           r_date              r_name  \\\n",
       "0  5.0 out of 5 stars  August 28, 2017        James Barrow   \n",
       "1  5.0 out of 5 stars    June 25, 2017  Alex C. Tarpenning   \n",
       "\n",
       "                                             r_title  \\\n",
       "0  Someone here complained that the television is...   \n",
       "1                      This is a great tv, after all   \n",
       "\n",
       "                                              r_text  \\\n",
       "0  Before I purchased this television, I read alm...   \n",
       "1  This is a great tv, after all, its a Samsung. ...   \n",
       "\n",
       "                                          r_comments brand_name category  \\\n",
       "0  Verified Purchase          Helpful          No...    Samsung       tv   \n",
       "1  Verified Purchase          Helpful          No...    Samsung       tv   \n",
       "\n",
       "        model  rating                                            reviews  \n",
       "0  UN65MU6300       5  Someone here complained that the television is...  \n",
       "1  UN65MU6300       5  This is a great tv, after all This is a great ...  "
      ]
     },
     "execution_count": 15,
     "metadata": {},
     "output_type": "execute_result"
    }
   ],
   "source": [
    "from src.load_review_data import ReviewDataLoader\n",
    "rdl = ReviewDataLoader()\n",
    "df = rdl.retrieve_reviews()\n",
    "#df = rdl.retrieve_reviews('LG Electronics 65UJ6300 65-Inch 4K Ultra HD Smart LED TV (2017 Model)')\n",
    "df.head(2)"
   ]
  },
  {
   "cell_type": "code",
   "execution_count": 16,
   "metadata": {},
   "outputs": [
    {
     "data": {
      "text/html": [
       "<div>\n",
       "<style scoped>\n",
       "    .dataframe tbody tr th:only-of-type {\n",
       "        vertical-align: middle;\n",
       "    }\n",
       "\n",
       "    .dataframe tbody tr th {\n",
       "        vertical-align: top;\n",
       "    }\n",
       "\n",
       "    .dataframe thead th {\n",
       "        text-align: right;\n",
       "    }\n",
       "</style>\n",
       "<table border=\"1\" class=\"dataframe\">\n",
       "  <thead>\n",
       "    <tr style=\"text-align: right;\">\n",
       "      <th></th>\n",
       "      <th>rating</th>\n",
       "      <th>product</th>\n",
       "      <th>reviews</th>\n",
       "    </tr>\n",
       "  </thead>\n",
       "  <tbody>\n",
       "    <tr>\n",
       "      <th>0</th>\n",
       "      <td>1</td>\n",
       "      <td>Samsung Electronics UN65MU6300 65-Inch 4K Ultr...</td>\n",
       "      <td>Someone here complained that the television is...</td>\n",
       "    </tr>\n",
       "    <tr>\n",
       "      <th>1</th>\n",
       "      <td>1</td>\n",
       "      <td>Samsung Electronics UN65MU6300 65-Inch 4K Ultr...</td>\n",
       "      <td>This is a great tv, after all This is a great ...</td>\n",
       "    </tr>\n",
       "    <tr>\n",
       "      <th>2</th>\n",
       "      <td>0</td>\n",
       "      <td>Samsung Electronics UN65MU6300 65-Inch 4K Ultr...</td>\n",
       "      <td>Dont waste your money on this, save more than ...</td>\n",
       "    </tr>\n",
       "  </tbody>\n",
       "</table>\n",
       "</div>"
      ],
      "text/plain": [
       "   rating                                            product  \\\n",
       "0       1  Samsung Electronics UN65MU6300 65-Inch 4K Ultr...   \n",
       "1       1  Samsung Electronics UN65MU6300 65-Inch 4K Ultr...   \n",
       "2       0  Samsung Electronics UN65MU6300 65-Inch 4K Ultr...   \n",
       "\n",
       "                                             reviews  \n",
       "0  Someone here complained that the television is...  \n",
       "1  This is a great tv, after all This is a great ...  \n",
       "2  Dont waste your money on this, save more than ...  "
      ]
     },
     "execution_count": 16,
     "metadata": {},
     "output_type": "execute_result"
    }
   ],
   "source": [
    "df_new = df.copy()\n",
    "df_new = df_new[df_new['r_stars'].apply(lambda x: x in ['5.0 out of 5 stars','1.0 out of 5 stars'])]\n",
    "df_new['rating'] = df_new['r_stars'].apply(lambda x: 1 if x == '5.0 out of 5 stars' else 0)\n",
    "df_new['reviews'] = df['r_title'] + ' ' + df['r_text']\n",
    "df_new = df_new[['rating','product','reviews']]\n",
    "df_new.head(3)"
   ]
  },
  {
   "cell_type": "code",
   "execution_count": 17,
   "metadata": {},
   "outputs": [],
   "source": [
    "from src.LdaReviewAnalyzer import LdaReviewAnalyzer\n",
    "lda = LdaReviewAnalyzer(df_new)\n",
    "lda.fit_transform(num_topics=2, rating=[0,1])\n",
    "lda.print_topics()"
   ]
  },
  {
   "cell_type": "code",
   "execution_count": 13,
   "metadata": {},
   "outputs": [
    {
     "data": {
      "text/html": [
       "\n",
       "<link rel=\"stylesheet\" type=\"text/css\" href=\"https://cdn.rawgit.com/bmabey/pyLDAvis/files/ldavis.v1.0.0.css\">\n",
       "\n",
       "\n",
       "<div id=\"ldavis_el797971122352853847573593707\"></div>\n",
       "<script type=\"text/javascript\">\n",
       "\n",
       "var ldavis_el797971122352853847573593707_data = {\"mdsDat\": {\"Freq\": [52.76362893093146, 47.23637106906853], \"cluster\": [1, 1], \"topics\": [1, 2], \"x\": [2352.8154296875, -2352.815185546875], \"y\": [-5514.8720703125, 5514.8720703125]}, \"tinfo\": {\"Category\": [\"Default\", \"Default\", \"Default\", \"Default\", \"Default\", \"Default\", \"Default\", \"Default\", \"Default\", \"Default\", \"Default\", \"Default\", \"Default\", \"Default\", \"Default\", \"Default\", \"Default\", \"Default\", \"Default\", \"Default\", \"Default\", \"Default\", \"Default\", \"Default\", \"Default\", \"Default\", \"Default\", \"Default\", \"Default\", \"Default\", \"Topic1\", \"Topic1\", \"Topic1\", \"Topic1\", \"Topic1\", \"Topic1\", \"Topic1\", \"Topic1\", \"Topic1\", \"Topic1\", \"Topic1\", \"Topic1\", \"Topic1\", \"Topic1\", \"Topic1\", \"Topic1\", \"Topic1\", \"Topic1\", \"Topic1\", \"Topic1\", \"Topic1\", \"Topic1\", \"Topic1\", \"Topic1\", \"Topic1\", \"Topic1\", \"Topic1\", \"Topic1\", \"Topic1\", \"Topic1\", \"Topic1\", \"Topic1\", \"Topic1\", \"Topic1\", \"Topic1\", \"Topic1\", \"Topic1\", \"Topic1\", \"Topic1\", \"Topic1\", \"Topic1\", \"Topic1\", \"Topic1\", \"Topic1\", \"Topic1\", \"Topic1\", \"Topic1\", \"Topic1\", \"Topic1\", \"Topic1\", \"Topic1\", \"Topic1\", \"Topic1\", \"Topic1\", \"Topic1\", \"Topic1\", \"Topic1\", \"Topic1\", \"Topic1\", \"Topic1\", \"Topic1\", \"Topic1\", \"Topic1\", \"Topic1\", \"Topic1\", \"Topic1\", \"Topic2\", \"Topic2\", \"Topic2\", \"Topic2\", \"Topic2\", \"Topic2\", \"Topic2\", \"Topic2\", \"Topic2\", \"Topic2\", \"Topic2\", \"Topic2\", \"Topic2\", \"Topic2\", \"Topic2\", \"Topic2\", \"Topic2\", \"Topic2\", \"Topic2\", \"Topic2\", \"Topic2\", \"Topic2\", \"Topic2\", \"Topic2\", \"Topic2\", \"Topic2\", \"Topic2\", \"Topic2\", \"Topic2\", \"Topic2\", \"Topic2\", \"Topic2\", \"Topic2\", \"Topic2\", \"Topic2\", \"Topic2\", \"Topic2\", \"Topic2\", \"Topic2\", \"Topic2\", \"Topic2\", \"Topic2\", \"Topic2\", \"Topic2\", \"Topic2\", \"Topic2\", \"Topic2\", \"Topic2\", \"Topic2\", \"Topic2\", \"Topic2\", \"Topic2\", \"Topic2\", \"Topic2\", \"Topic2\", \"Topic2\", \"Topic2\", \"Topic2\"], \"Freq\": [1663.0, 1455.0, 910.0, 646.0, 572.0, 550.0, 449.0, 435.0, 271.0, 285.0, 359.0, 512.0, 232.0, 304.0, 410.0, 267.0, 238.0, 253.0, 203.0, 170.0, 968.0, 164.0, 164.0, 179.0, 125.0, 120.0, 408.0, 175.0, 124.0, 115.0, 88.98610650026589, 124.60380663282794, 100.22539808931614, 85.8679823038836, 74.83528260905707, 75.5830959251497, 61.62085638115934, 66.91663994266985, 88.25701254299479, 66.76410743377862, 59.75289535185102, 95.76943137317977, 59.68913383734697, 64.28572300316246, 55.12609801133394, 54.68475832997041, 52.91752087450912, 58.197968208484696, 58.82547190662154, 100.15112108649352, 46.378982118820296, 114.30920974151746, 112.67152842105332, 52.20154053796043, 42.0976743786115, 46.231250057902706, 69.16304031094383, 39.97431918248872, 98.18991079690176, 43.98863583109396, 73.81980566335115, 257.3081379594081, 81.87373375305567, 82.68772941833696, 86.51787666157105, 240.53390194937617, 169.927516939466, 370.6819641182907, 96.13890146663665, 163.67979724903935, 99.38589280197982, 190.1099163658771, 75.9079280776038, 746.7133053996988, 91.84045223207703, 288.93233736808065, 111.45307459190921, 327.8192119803105, 137.96696773423463, 108.97982741131837, 110.95258627451724, 146.693137135381, 154.98585701592756, 131.61470256934024, 199.50694554267167, 271.2832145951746, 121.94276517512392, 101.21142948403343, 145.65193427433834, 215.91597535037621, 120.02035707307174, 136.34716553362426, 123.40546154630935, 145.50325631695344, 111.49300315220889, 130.07475743811193, 909.2652721216404, 270.0323232755075, 642.2178982982217, 91.16102618204846, 53.386535589837464, 281.263628500489, 38.73267120643983, 41.315322502650154, 38.9657024136715, 227.72900790579914, 32.449899945556126, 41.18582190087111, 425.97072572337095, 1623.415264649845, 24.71164698978099, 438.7957002581361, 31.85732776318231, 48.2400676793332, 24.988695039455134, 18.88746257719812, 41.14985795505311, 42.25989951251415, 19.29006210727076, 19.807649025920995, 158.78894924456637, 17.93890797896577, 16.883246922291985, 164.45884588808505, 15.912069654125316, 18.194291570320143, 1386.9431058404514, 158.5432122584793, 521.9499413080667, 115.32312554429394, 539.2277611352489, 86.2888581936899, 337.9815048958521, 74.04874725156932, 190.2348830797653, 117.04401909270214, 218.5162516939344, 63.22736344436869, 272.1758379803023, 445.26531238909325, 56.04514096613242, 300.65214070972223, 152.00465293284347, 124.37724760199413, 135.90764641468894, 206.8198226534466, 126.810749380904, 157.06406850708484, 226.99876015772384, 212.32981758043002, 138.10516550133138, 223.20177926267803, 221.22515962736676, 222.03242305204833], \"Term\": [\"great\", \"picture\", \"stars\", \"love\", \"good\", \"quality\", \"price\", \"easy\", \"excellent\", \"awesome\", \"amazing\", \"sound\", \"beautiful\", \"best\", \"screen\", \"new\", \"nice\", \"box\", \"happy\", \"clear\", \"samsung\", \"perfect\", \"features\", \"service\", \"problem\", \"colors\", \"set\", \"work\", \"fantastic\", \"support\", \"return\", \"problem\", \"star\", \"worked\", \"update\", \"received\", \"broken\", \"called\", \"day\", \"review\", \"warranty\", \"weeks\", \"tech\", \"wont\", \"power\", \"later\", \"replacement\", \"week\", \"line\", \"issues\", \"told\", \"support\", \"days\", \"returned\", \"refund\", \"hours\", \"times\", \"repair\", \"customer\", \"fix\", \"disappointed\", \"new\", \"went\", \"said\", \"going\", \"box\", \"service\", \"screen\", \"working\", \"work\", \"months\", \"time\", \"phone\", \"samsung\", \"arrived\", \"amazon\", \"turn\", \"just\", \"sony\", \"purchased\", \"thing\", \"did\", \"cable\", \"does\", \"buy\", \"remote\", \"ive\", \"hdmi\", \"tvs\", \"like\", \"old\", \"dont\", \"bought\", \"smart\", \"hdr\", \"use\", \"stars\", \"excellent\", \"love\", \"value\", \"expected\", \"awesome\", \"sleek\", \"bedroom\", \"clarity\", \"beautiful\", \"vibrant\", \"expectations\", \"easy\", \"great\", \"vivid\", \"price\", \"happier\", \"wonderful\", \"loving\", \"beat\", \"outstanding\", \"crisp\", \"crystal\", \"lots\", \"perfect\", \"energy\", \"bigger\", \"clear\", \"buck\", \"fits\", \"picture\", \"features\", \"quality\", \"colors\", \"good\", \"pleased\", \"amazing\", \"highly\", \"happy\", \"fantastic\", \"nice\", \"wow\", \"best\", \"sound\", \"movie\", \"set\", \"far\", \"setup\", \"delivery\", \"really\", \"color\", \"works\", \"smart\", \"use\", \"looks\", \"like\", \"remote\", \"samsung\"], \"Total\": [1663.0, 1455.0, 910.0, 646.0, 572.0, 550.0, 449.0, 435.0, 271.0, 285.0, 359.0, 512.0, 232.0, 304.0, 410.0, 267.0, 238.0, 253.0, 203.0, 170.0, 968.0, 164.0, 164.0, 179.0, 125.0, 120.0, 408.0, 175.0, 124.0, 115.0, 89.5016910799061, 125.3732432660506, 100.88109133791625, 86.4686821422015, 75.38886637553094, 76.1719244762923, 62.12072522887238, 67.46905525037685, 88.9898245853531, 67.34330769168135, 60.29096422994827, 96.65007429933387, 60.23914655858793, 64.9111944213438, 55.680223248878015, 55.23826046082118, 53.46236548657231, 58.798716677110725, 59.44406359376917, 101.26696751197161, 46.91015835222952, 115.61859348559587, 113.96699383270918, 52.80222361471562, 42.59906756036451, 46.793810677899934, 70.02283884647083, 40.47254890832881, 99.43757521236508, 44.5478016263903, 74.9214206029844, 267.42682166679043, 83.54555962032502, 84.4400677343655, 88.55102117837365, 253.84131706416457, 179.63148585366133, 410.4021578062965, 99.8129649084824, 175.3776979439841, 104.79255822693248, 213.35503094445863, 78.41865842312839, 968.7457284517471, 96.96049279443636, 354.9059805741999, 121.2941427039899, 420.77873198233135, 155.9399692037761, 118.68980793346336, 122.13365792275056, 177.0795110848944, 191.51586107370028, 156.47839243392556, 304.3366545750889, 492.5083742225414, 150.16193801071367, 112.13132319246299, 209.5174375044576, 439.1177546130542, 160.05886647099277, 220.09076512374799, 198.8638814187454, 372.50201647467725, 160.3511100977709, 342.40457501854195, 910.1569382242849, 271.7458423769365, 646.6752528874022, 91.89446321647522, 54.0244379190752, 285.32765742921055, 39.30402989203749, 41.95588893593233, 39.66916827975806, 232.16882612344304, 33.117709809966286, 42.120273014477085, 435.889678438734, 1663.225245091122, 25.33212628988637, 449.9695565961827, 32.697491462740246, 49.615562527879256, 25.730992249225938, 19.45408765795085, 42.38586728876553, 43.594664156084235, 19.90493437049821, 20.449253456940863, 164.0244633433198, 18.556053602417908, 17.491075825741145, 170.63964392865122, 16.530676280930873, 18.913631574759492, 1455.6057378065718, 164.98718539768453, 550.1670861313391, 120.27962834844323, 572.3606792027157, 90.11012452871543, 359.7106430291555, 77.45116257391874, 203.59607601923943, 124.39915901022017, 238.15448993134822, 66.07583817578892, 304.2021622221032, 512.5874781745955, 59.028322122083125, 408.3633741470176, 186.9785445270814, 151.0954341233176, 168.47008968287682, 285.45885045628876, 159.48427280395927, 215.0005579412469, 372.50201647467725, 342.40457501854195, 185.10712725096457, 439.1177546130542, 492.5083742225414, 968.7457284517471], \"loglift\": [30.0, 29.0, 28.0, 27.0, 26.0, 25.0, 24.0, 23.0, 22.0, 21.0, 20.0, 19.0, 18.0, 17.0, 16.0, 15.0, 14.0, 13.0, 12.0, 11.0, 10.0, 9.0, 8.0, 7.0, 6.0, 5.0, 4.0, 3.0, 2.0, 1.0, 0.6336, 0.6332, 0.6328, 0.6324, 0.632, 0.6316, 0.6313, 0.6311, 0.6311, 0.6307, 0.6304, 0.6302, 0.6302, 0.6297, 0.6293, 0.6293, 0.6291, 0.6291, 0.6289, 0.6283, 0.628, 0.628, 0.6279, 0.6279, 0.6275, 0.6273, 0.627, 0.627, 0.6267, 0.6267, 0.6245, 0.6008, 0.6191, 0.6184, 0.6161, 0.5855, 0.5838, 0.5376, 0.6018, 0.5703, 0.5864, 0.524, 0.6068, 0.379, 0.5851, 0.4337, 0.5547, 0.3897, 0.5169, 0.554, 0.5433, 0.4511, 0.4277, 0.4663, 0.2171, 0.043, 0.4312, 0.5369, 0.2758, -0.0705, 0.3515, 0.1605, 0.1622, -0.3007, 0.2759, -0.3285, 0.749, 0.7437, 0.7431, 0.742, 0.7381, 0.7357, 0.7354, 0.7346, 0.7321, 0.7307, 0.7296, 0.7276, 0.727, 0.7258, 0.7252, 0.7249, 0.724, 0.7219, 0.7207, 0.7204, 0.7204, 0.7189, 0.7186, 0.7181, 0.7176, 0.7162, 0.7146, 0.7131, 0.7119, 0.7112, 0.7017, 0.7102, 0.6974, 0.7079, 0.6904, 0.7067, 0.6877, 0.7051, 0.6821, 0.6891, 0.6639, 0.7059, 0.6388, 0.6092, 0.6981, 0.4438, 0.5429, 0.5554, 0.5352, 0.4278, 0.5208, 0.436, 0.2547, 0.2722, 0.4571, 0.0733, -0.0503, -0.7232], \"logprob\": [30.0, 29.0, 28.0, 27.0, 26.0, 25.0, 24.0, 23.0, 22.0, 21.0, 20.0, 19.0, 18.0, 17.0, 16.0, 15.0, 14.0, 13.0, 12.0, 11.0, 10.0, 9.0, 8.0, 7.0, 6.0, 5.0, 4.0, 3.0, 2.0, 1.0, -5.7753, -5.4387, -5.6564, -5.811, -5.9485, -5.9386, -6.1428, -6.0604, -5.7836, -6.0626, -6.1736, -5.7019, -6.1747, -6.1005, -6.2542, -6.2622, -6.2951, -6.2, -6.1892, -5.6571, -6.427, -5.5249, -5.5393, -6.3087, -6.5238, -6.4302, -6.0273, -6.5756, -5.6769, -6.4799, -5.9622, -4.7135, -5.8586, -5.8487, -5.8035, -4.781, -5.1284, -4.3485, -5.698, -5.1659, -5.6648, -5.0162, -5.9343, -3.6481, -5.7438, -4.5976, -5.5502, -4.4714, -5.3368, -5.5727, -5.5547, -5.2755, -5.2205, -5.3839, -4.968, -4.6607, -5.4603, -5.6466, -5.2826, -4.8889, -5.4762, -5.3486, -5.4483, -5.2836, -5.5499, -5.3957, -3.3405, -4.5546, -3.6882, -5.6405, -6.1756, -4.5139, -6.4965, -6.4319, -6.4905, -4.725, -6.6735, -6.4351, -4.0988, -2.7609, -6.9459, -4.0691, -6.6919, -6.277, -6.9347, -7.2147, -6.4359, -6.4093, -7.1936, -7.1671, -5.0856, -7.2662, -7.3268, -5.0505, -7.3861, -7.252, -2.9183, -5.0871, -3.8956, -5.4054, -3.863, -5.6955, -4.3302, -5.8484, -4.9049, -5.3906, -4.7663, -6.0064, -4.5467, -4.0545, -6.127, -4.4472, -5.1292, -5.3298, -5.2412, -4.8213, -5.3105, -5.0965, -4.7282, -4.795, -5.2251, -4.7451, -4.754, -4.7503]}, \"token.table\": {\"Topic\": [1, 2, 1, 2, 1, 2, 1, 2, 1, 2, 1, 2, 1, 2, 1, 2, 1, 2, 1, 2, 1, 2, 1, 1, 2, 1, 2, 1, 2, 1, 2, 1, 2, 1, 2, 1, 2, 1, 2, 1, 2, 1, 2, 1, 2, 1, 2, 1, 2, 1, 2, 1, 2, 1, 2, 1, 2, 1, 2, 1, 2, 1, 2, 1, 2, 1, 2, 1, 2, 1, 2, 1, 2, 1, 2, 1, 2, 1, 2, 1, 2, 1, 2, 1, 2, 1, 2, 1, 2, 1, 2, 1, 2, 1, 2, 1, 2, 1, 2, 1, 2, 1, 2, 1, 2, 1, 2, 1, 2, 1, 2, 1, 2, 1, 2, 1, 2, 1, 2, 1, 2, 1, 2, 1, 2, 1, 2, 1, 2, 1, 2, 1, 2, 1, 2, 1, 2, 1, 2, 1, 2, 1, 2, 1, 2, 1, 2, 1, 2, 1, 2, 1, 2, 1, 2, 1, 1, 2, 1, 2, 1, 2, 1, 2, 1, 2, 1, 2, 1, 2, 1, 2, 1, 2, 1, 2, 1, 2, 1, 2, 1, 2, 1, 2, 1, 2, 1, 2, 1, 2, 1, 2, 1, 2, 1, 2, 1, 2, 1, 2, 1, 2, 1, 2, 1, 2, 1, 2, 1, 2, 1, 2, 1, 2, 1, 2, 1, 2, 1, 2, 1, 2, 1, 2, 1, 2, 1, 2, 1, 2, 1, 2, 1, 2, 1, 2], \"Freq\": [0.061160269862287175, 0.9396441460660484, 0.8143001691107852, 0.1859647445028091, 0.9488400620554499, 0.05156739467692662, 0.014018970456771774, 0.9848326745882171, 0.05140307875560033, 0.9766584963564063, 0.017228841902630024, 0.9820439884499115, 0.023834556372456427, 0.9772168112707135, 0.10519320364539766, 0.8941422309858802, 0.05717201217139125, 0.9719242069136512, 0.6185135235342224, 0.3771423923989161, 0.9494120294809272, 0.05121309702594213, 0.9980566030350162, 0.06049359282133908, 0.9678974851414253, 0.6571669793743299, 0.34501266417152315, 0.8093324444827678, 0.1931954867474994, 0.9930478461772408, 0.01482160964443643, 0.0252084942378353, 0.9831312752755768, 0.03516181739402101, 0.9610896754365742, 0.20691695437934593, 0.7963167638235434, 0.04156979921417187, 0.9561053819259531, 0.022938587080741077, 0.9634206573911253, 0.05023879915334634, 0.9545371839135804, 0.985542937774831, 0.010056560589539092, 0.9888771037591637, 0.011237239815445043, 0.9915151413563771, 0.008774470277490063, 0.1958804679342086, 0.8072649587591627, 0.8301355650881944, 0.1694154214465703, 0.987701506517514, 0.013347317655642081, 0.8435669484254078, 0.15976646750481208, 0.6179268808645051, 0.38166072053395905, 0.02294158475102672, 0.9773115103937382, 0.05389076909487355, 0.9700338437077239, 0.007359818212879283, 0.9935754587387032, 0.023741536519867566, 0.9734029973145701, 0.01851014167880709, 0.9810375089767758, 0.05627047687215398, 0.940520827720288, 0.18718725235841543, 0.812927495956547, 0.03636646073776955, 0.9637112095508931, 0.052871919178890746, 0.9516945452200335, 0.9877030603892745, 0.022447796827028965, 0.9824844348745643, 0.02258584907757619, 0.05765595226766483, 0.9417138870385257, 0.024049659009239336, 0.975814914299886, 0.030583385919361106, 0.9786683494195554, 0.06385191824017043, 0.9332203435101832, 0.9007295831749251, 0.09809926153390273, 0.6922309420391287, 0.3055794248641199, 0.03873408610408947, 0.9554407905675402, 0.9830359898798573, 0.021370347606083855, 0.9874888372477251, 0.00987488837247725, 0.8124562163768532, 0.18646536113567122, 0.7795070783515096, 0.22101877526429997, 0.9956866769729258, 0.01810339412678047, 0.49189539190993736, 0.507836446277389, 0.9925297234589507, 0.016822537685744928, 0.2539070250724508, 0.7455142438297492, 0.048901540689769346, 0.9780308137953869, 0.0061854848815383265, 0.9927703234869014, 0.03886363923762337, 0.9715909809405843, 0.9447235726950337, 0.047713311752274425, 0.050823060729989274, 0.9486971336264665, 0.9610105613124248, 0.037393407054958167, 0.08397910115305958, 0.9195711576260023, 0.7497241649012142, 0.24990805496707139, 0.02359276957074445, 0.9673035524005225, 0.03048325779023885, 0.9693675977295954, 0.969157105314428, 0.03825620152556953, 0.047402945871850545, 0.9528679119457494, 0.04439012842253168, 0.9543877610844311, 0.987783395805768, 0.01795969810555942, 0.024446098272092123, 0.9756215583134946, 0.9970229432028128, 0.007976183545622503, 0.9183602357929891, 0.08425323264155864, 0.050893629782345205, 0.9488026695137213, 0.276747418669007, 0.725148299550436, 0.9977429416747136, 0.013128196600983074, 0.9859370733991863, 0.02347469222379015, 0.5502444510264263, 0.44872333460088637, 0.9883242118157879, 0.991351570728975, 0.01870474661752783, 0.9943946189859341, 0.011172973247032968, 0.9848070107696744, 0.018938596360955275, 0.994902126084256, 0.01484928546394412, 0.982945682387469, 0.02368543812981853, 0.7711001742364925, 0.2291623007771102, 0.9039913483474088, 0.09746537448489583, 0.9463819730272246, 0.05566952782513086, 0.2644703390101733, 0.7370886300190942, 0.17869500926125775, 0.8206733758665171, 0.025442683682738283, 0.992264663626793, 0.3919441869918712, 0.6093926742955806, 0.8849559269802545, 0.11542903395394623, 0.13070939664503223, 0.8681445001050647, 0.9912660407789909, 0.00991266040778991, 0.0010987116155495105, 0.998728858534505, 0.9860005779624234, 0.008649127876863363, 0.9960300473653733, 0.01660050078942289, 0.9088403793670653, 0.09006526282015963, 0.8905344259234341, 0.10780153576967887, 0.9853927823647158, 0.014281054816879938, 0.9805978409751783, 0.021317344369025618, 0.9151307517864893, 0.0824442118726567, 0.6968393740348879, 0.30546383519337555, 0.9948418593589948, 0.013264558124786597, 0.3796678242192302, 0.6191506056498215, 0.010882048439026258, 0.9902664079513894, 0.030195324668829147, 0.9662503894025327, 0.03947556508113735, 0.9868891270284339, 0.9951739993933661, 0.016586233323222767, 0.9864160865704463, 0.017007173906387004, 0.9932739389592136, 0.010346603530825142, 0.9815003977787825, 0.023939034092165426, 0.020154966487341438, 0.967438391392389, 0.9859624456233365, 0.015405663212864632, 0.935124602059618, 0.06842375137021595, 0.9945797469026909, 0.011564880777938267, 0.9617989014555527, 0.0400749542273147, 0.2697667417953847, 0.7302306631357827, 0.045402375252793094, 0.953449880308655], \"Term\": [\"amazing\", \"amazing\", \"amazon\", \"amazon\", \"arrived\", \"arrived\", \"awesome\", \"awesome\", \"beat\", \"beat\", \"beautiful\", \"beautiful\", \"bedroom\", \"bedroom\", \"best\", \"best\", \"bigger\", \"bigger\", \"bought\", \"bought\", \"box\", \"box\", \"broken\", \"buck\", \"buck\", \"buy\", \"buy\", \"cable\", \"cable\", \"called\", \"called\", \"clarity\", \"clarity\", \"clear\", \"clear\", \"color\", \"color\", \"colors\", \"colors\", \"crisp\", \"crisp\", \"crystal\", \"crystal\", \"customer\", \"customer\", \"day\", \"day\", \"days\", \"days\", \"delivery\", \"delivery\", \"did\", \"did\", \"disappointed\", \"disappointed\", \"does\", \"does\", \"dont\", \"dont\", \"easy\", \"easy\", \"energy\", \"energy\", \"excellent\", \"excellent\", \"expectations\", \"expectations\", \"expected\", \"expected\", \"fantastic\", \"fantastic\", \"far\", \"far\", \"features\", \"features\", \"fits\", \"fits\", \"fix\", \"fix\", \"going\", \"going\", \"good\", \"good\", \"great\", \"great\", \"happier\", \"happier\", \"happy\", \"happy\", \"hdmi\", \"hdmi\", \"hdr\", \"hdr\", \"highly\", \"highly\", \"hours\", \"hours\", \"issues\", \"issues\", \"ive\", \"ive\", \"just\", \"just\", \"later\", \"later\", \"like\", \"like\", \"line\", \"line\", \"looks\", \"looks\", \"lots\", \"lots\", \"love\", \"love\", \"loving\", \"loving\", \"months\", \"months\", \"movie\", \"movie\", \"new\", \"new\", \"nice\", \"nice\", \"old\", \"old\", \"outstanding\", \"outstanding\", \"perfect\", \"perfect\", \"phone\", \"phone\", \"picture\", \"picture\", \"pleased\", \"pleased\", \"power\", \"power\", \"price\", \"price\", \"problem\", \"problem\", \"purchased\", \"purchased\", \"quality\", \"quality\", \"really\", \"really\", \"received\", \"received\", \"refund\", \"refund\", \"remote\", \"remote\", \"repair\", \"replacement\", \"replacement\", \"return\", \"return\", \"returned\", \"returned\", \"review\", \"review\", \"said\", \"said\", \"samsung\", \"samsung\", \"screen\", \"screen\", \"service\", \"service\", \"set\", \"set\", \"setup\", \"setup\", \"sleek\", \"sleek\", \"smart\", \"smart\", \"sony\", \"sony\", \"sound\", \"sound\", \"star\", \"star\", \"stars\", \"stars\", \"support\", \"support\", \"tech\", \"tech\", \"thing\", \"thing\", \"time\", \"time\", \"times\", \"times\", \"told\", \"told\", \"turn\", \"turn\", \"tvs\", \"tvs\", \"update\", \"update\", \"use\", \"use\", \"value\", \"value\", \"vibrant\", \"vibrant\", \"vivid\", \"vivid\", \"warranty\", \"warranty\", \"week\", \"week\", \"weeks\", \"weeks\", \"went\", \"went\", \"wonderful\", \"wonderful\", \"wont\", \"wont\", \"work\", \"work\", \"worked\", \"worked\", \"working\", \"working\", \"works\", \"works\", \"wow\", \"wow\"]}, \"R\": 30, \"lambda.step\": 0.01, \"plot.opts\": {\"xlab\": \"PC1\", \"ylab\": \"PC2\"}, \"topic.order\": [2, 1]};\n",
       "\n",
       "function LDAvis_load_lib(url, callback){\n",
       "  var s = document.createElement('script');\n",
       "  s.src = url;\n",
       "  s.async = true;\n",
       "  s.onreadystatechange = s.onload = callback;\n",
       "  s.onerror = function(){console.warn(\"failed to load library \" + url);};\n",
       "  document.getElementsByTagName(\"head\")[0].appendChild(s);\n",
       "}\n",
       "\n",
       "if(typeof(LDAvis) !== \"undefined\"){\n",
       "   // already loaded: just create the visualization\n",
       "   !function(LDAvis){\n",
       "       new LDAvis(\"#\" + \"ldavis_el797971122352853847573593707\", ldavis_el797971122352853847573593707_data);\n",
       "   }(LDAvis);\n",
       "}else if(typeof define === \"function\" && define.amd){\n",
       "   // require.js is available: use it to load d3/LDAvis\n",
       "   require.config({paths: {d3: \"https://cdnjs.cloudflare.com/ajax/libs/d3/3.5.5/d3.min\"}});\n",
       "   require([\"d3\"], function(d3){\n",
       "      window.d3 = d3;\n",
       "      LDAvis_load_lib(\"https://cdn.rawgit.com/bmabey/pyLDAvis/files/ldavis.v1.0.0.js\", function(){\n",
       "        new LDAvis(\"#\" + \"ldavis_el797971122352853847573593707\", ldavis_el797971122352853847573593707_data);\n",
       "      });\n",
       "    });\n",
       "}else{\n",
       "    // require.js not available: dynamically load d3 & LDAvis\n",
       "    LDAvis_load_lib(\"https://cdnjs.cloudflare.com/ajax/libs/d3/3.5.5/d3.min.js\", function(){\n",
       "         LDAvis_load_lib(\"https://cdn.rawgit.com/bmabey/pyLDAvis/files/ldavis.v1.0.0.js\", function(){\n",
       "                 new LDAvis(\"#\" + \"ldavis_el797971122352853847573593707\", ldavis_el797971122352853847573593707_data);\n",
       "            })\n",
       "         });\n",
       "}\n",
       "</script>"
      ],
      "text/plain": [
       "<IPython.core.display.HTML object>"
      ]
     },
     "execution_count": 13,
     "metadata": {},
     "output_type": "execute_result"
    }
   ],
   "source": [
    "import warnings\n",
    "warnings.filterwarnings('ignore')\n",
    "widget = lda.display_topic_model()\n",
    "widget"
   ]
  },
  {
   "cell_type": "code",
   "execution_count": 14,
   "metadata": {},
   "outputs": [],
   "source": [
    "lda.save_lda_analyzer()"
   ]
  },
  {
   "cell_type": "code",
   "execution_count": 32,
   "metadata": {},
   "outputs": [],
   "source": [
    "from src.w2v_review_analyzer import W2VReviewAnalyzer\n",
    "w2v = W2VReviewAnalyzer(df_new)\n",
    "w2v.fit()"
   ]
  },
  {
   "cell_type": "code",
   "execution_count": 44,
   "metadata": {},
   "outputs": [
    {
     "data": {
      "text/plain": [
       "[('be', 0.9931262731552124),\n",
       " ('tv', 0.9911623597145081),\n",
       " ('have', 0.9903398156166077),\n",
       " ('do', 0.9896236658096313),\n",
       " ('lg', 0.9872663021087646),\n",
       " ('picture', 0.9871290326118469),\n",
       " ('get', 0.9868883490562439),\n",
       " ('good', 0.98671555519104),\n",
       " ('look', 0.9861980676651001),\n",
       " ('great', 0.9857960939407349)]"
      ]
     },
     "execution_count": 44,
     "metadata": {},
     "output_type": "execute_result"
    }
   ],
   "source": [
    "w2v.model.wv.most_similar('screen')"
   ]
  },
  {
   "cell_type": "code",
   "execution_count": null,
   "metadata": {},
   "outputs": [],
   "source": []
  }
 ],
 "metadata": {
  "kernelspec": {
   "display_name": "Python 3",
   "language": "python",
   "name": "python3"
  },
  "language_info": {
   "codemirror_mode": {
    "name": "ipython",
    "version": 3
   },
   "file_extension": ".py",
   "mimetype": "text/x-python",
   "name": "python",
   "nbconvert_exporter": "python",
   "pygments_lexer": "ipython3",
   "version": "3.6.4"
  },
  "widgets": {
   "state": {},
   "version": "1.1.2"
  }
 },
 "nbformat": 4,
 "nbformat_minor": 2
}
