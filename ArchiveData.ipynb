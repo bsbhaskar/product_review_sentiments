{
 "cells": [
  {
   "cell_type": "code",
   "execution_count": 1,
   "metadata": {},
   "outputs": [],
   "source": [
    "import pandas as pd\n",
    "import gzip\n",
    "\n",
    "def parse(path):\n",
    "  g = gzip.open(path, 'rb')\n",
    "  for l in g:\n",
    "    yield eval(l)\n",
    "\n",
    "def getDF(path):\n",
    "  i = 0\n",
    "  df = {}\n",
    "  for d in parse(path):\n",
    "    df[i] = d\n",
    "    i += 1\n",
    "  return pd.DataFrame.from_dict(df, orient='index')\n",
    "\n",
    "df = getDF('data/scraped_data/reviews_Electronics_5.json.gz')"
   ]
  },
  {
   "cell_type": "code",
   "execution_count": 2,
   "metadata": {},
   "outputs": [
    {
     "data": {
      "text/plain": [
       "(1689188, 9)"
      ]
     },
     "execution_count": 2,
     "metadata": {},
     "output_type": "execute_result"
    }
   ],
   "source": [
    "df.shape"
   ]
  },
  {
   "cell_type": "code",
   "execution_count": 3,
   "metadata": {},
   "outputs": [
    {
     "data": {
      "text/html": [
       "<div>\n",
       "<style scoped>\n",
       "    .dataframe tbody tr th:only-of-type {\n",
       "        vertical-align: middle;\n",
       "    }\n",
       "\n",
       "    .dataframe tbody tr th {\n",
       "        vertical-align: top;\n",
       "    }\n",
       "\n",
       "    .dataframe thead th {\n",
       "        text-align: right;\n",
       "    }\n",
       "</style>\n",
       "<table border=\"1\" class=\"dataframe\">\n",
       "  <thead>\n",
       "    <tr style=\"text-align: right;\">\n",
       "      <th></th>\n",
       "      <th>reviewerID</th>\n",
       "      <th>asin</th>\n",
       "      <th>reviewerName</th>\n",
       "      <th>helpful</th>\n",
       "      <th>reviewText</th>\n",
       "      <th>overall</th>\n",
       "      <th>summary</th>\n",
       "      <th>unixReviewTime</th>\n",
       "      <th>reviewTime</th>\n",
       "    </tr>\n",
       "  </thead>\n",
       "  <tbody>\n",
       "    <tr>\n",
       "      <th>0</th>\n",
       "      <td>AO94DHGC771SJ</td>\n",
       "      <td>0528881469</td>\n",
       "      <td>amazdnu</td>\n",
       "      <td>[0, 0]</td>\n",
       "      <td>We got this GPS for my husband who is an (OTR)...</td>\n",
       "      <td>5.0</td>\n",
       "      <td>Gotta have GPS!</td>\n",
       "      <td>1370131200</td>\n",
       "      <td>06 2, 2013</td>\n",
       "    </tr>\n",
       "    <tr>\n",
       "      <th>1</th>\n",
       "      <td>AMO214LNFCEI4</td>\n",
       "      <td>0528881469</td>\n",
       "      <td>Amazon Customer</td>\n",
       "      <td>[12, 15]</td>\n",
       "      <td>I'm a professional OTR truck driver, and I bou...</td>\n",
       "      <td>1.0</td>\n",
       "      <td>Very Disappointed</td>\n",
       "      <td>1290643200</td>\n",
       "      <td>11 25, 2010</td>\n",
       "    </tr>\n",
       "    <tr>\n",
       "      <th>2</th>\n",
       "      <td>A3N7T0DY83Y4IG</td>\n",
       "      <td>0528881469</td>\n",
       "      <td>C. A. Freeman</td>\n",
       "      <td>[43, 45]</td>\n",
       "      <td>Well, what can I say.  I've had this unit in m...</td>\n",
       "      <td>3.0</td>\n",
       "      <td>1st impression</td>\n",
       "      <td>1283990400</td>\n",
       "      <td>09 9, 2010</td>\n",
       "    </tr>\n",
       "    <tr>\n",
       "      <th>3</th>\n",
       "      <td>A1H8PY3QHMQQA0</td>\n",
       "      <td>0528881469</td>\n",
       "      <td>Dave M. Shaw \"mack dave\"</td>\n",
       "      <td>[9, 10]</td>\n",
       "      <td>Not going to write a long review, even thought...</td>\n",
       "      <td>2.0</td>\n",
       "      <td>Great grafics, POOR GPS</td>\n",
       "      <td>1290556800</td>\n",
       "      <td>11 24, 2010</td>\n",
       "    </tr>\n",
       "    <tr>\n",
       "      <th>4</th>\n",
       "      <td>A24EV6RXELQZ63</td>\n",
       "      <td>0528881469</td>\n",
       "      <td>Wayne Smith</td>\n",
       "      <td>[0, 0]</td>\n",
       "      <td>I've had mine for a year and here's what we go...</td>\n",
       "      <td>1.0</td>\n",
       "      <td>Major issues, only excuses for support</td>\n",
       "      <td>1317254400</td>\n",
       "      <td>09 29, 2011</td>\n",
       "    </tr>\n",
       "  </tbody>\n",
       "</table>\n",
       "</div>"
      ],
      "text/plain": [
       "       reviewerID        asin              reviewerName   helpful  \\\n",
       "0   AO94DHGC771SJ  0528881469                   amazdnu    [0, 0]   \n",
       "1   AMO214LNFCEI4  0528881469           Amazon Customer  [12, 15]   \n",
       "2  A3N7T0DY83Y4IG  0528881469             C. A. Freeman  [43, 45]   \n",
       "3  A1H8PY3QHMQQA0  0528881469  Dave M. Shaw \"mack dave\"   [9, 10]   \n",
       "4  A24EV6RXELQZ63  0528881469               Wayne Smith    [0, 0]   \n",
       "\n",
       "                                          reviewText  overall  \\\n",
       "0  We got this GPS for my husband who is an (OTR)...      5.0   \n",
       "1  I'm a professional OTR truck driver, and I bou...      1.0   \n",
       "2  Well, what can I say.  I've had this unit in m...      3.0   \n",
       "3  Not going to write a long review, even thought...      2.0   \n",
       "4  I've had mine for a year and here's what we go...      1.0   \n",
       "\n",
       "                                  summary  unixReviewTime   reviewTime  \n",
       "0                         Gotta have GPS!      1370131200   06 2, 2013  \n",
       "1                       Very Disappointed      1290643200  11 25, 2010  \n",
       "2                          1st impression      1283990400   09 9, 2010  \n",
       "3                 Great grafics, POOR GPS      1290556800  11 24, 2010  \n",
       "4  Major issues, only excuses for support      1317254400  09 29, 2011  "
      ]
     },
     "execution_count": 3,
     "metadata": {},
     "output_type": "execute_result"
    }
   ],
   "source": [
    "df.head(5)"
   ]
  },
  {
   "cell_type": "code",
   "execution_count": 4,
   "metadata": {},
   "outputs": [],
   "source": [
    "df['reviewText_len'] = df['reviewText'].apply(lambda x:len(x))"
   ]
  },
  {
   "cell_type": "code",
   "execution_count": 5,
   "metadata": {},
   "outputs": [
    {
     "data": {
      "text/plain": [
       "634.201737166023"
      ]
     },
     "execution_count": 5,
     "metadata": {},
     "output_type": "execute_result"
    }
   ],
   "source": [
    "df['reviewText_len'].mean()"
   ]
  },
  {
   "cell_type": "code",
   "execution_count": 6,
   "metadata": {},
   "outputs": [],
   "source": [
    "g = df.groupby('overall')"
   ]
  },
  {
   "cell_type": "code",
   "execution_count": 7,
   "metadata": {},
   "outputs": [
    {
     "data": {
      "text/plain": [
       "63001"
      ]
     },
     "execution_count": 7,
     "metadata": {},
     "output_type": "execute_result"
    }
   ],
   "source": [
    "df['asin'].nunique()"
   ]
  },
  {
   "cell_type": "code",
   "execution_count": 8,
   "metadata": {},
   "outputs": [
    {
     "name": "stdout",
     "output_type": "stream",
     "text": [
      "1.0 108725\n",
      "2.0 82139\n",
      "3.0 142257\n",
      "4.0 347041\n",
      "5.0 1009026\n"
     ]
    }
   ],
   "source": [
    "for name, group in g:\n",
    "    print (name,(group['reviewText_len']).count())"
   ]
  },
  {
   "cell_type": "code",
   "execution_count": 10,
   "metadata": {},
   "outputs": [],
   "source": [
    "df_meta = getDF('data/scraped_data/meta_Electronics.json.gz')"
   ]
  },
  {
   "cell_type": "code",
   "execution_count": 11,
   "metadata": {},
   "outputs": [
    {
     "data": {
      "text/html": [
       "<div>\n",
       "<style scoped>\n",
       "    .dataframe tbody tr th:only-of-type {\n",
       "        vertical-align: middle;\n",
       "    }\n",
       "\n",
       "    .dataframe tbody tr th {\n",
       "        vertical-align: top;\n",
       "    }\n",
       "\n",
       "    .dataframe thead th {\n",
       "        text-align: right;\n",
       "    }\n",
       "</style>\n",
       "<table border=\"1\" class=\"dataframe\">\n",
       "  <thead>\n",
       "    <tr style=\"text-align: right;\">\n",
       "      <th></th>\n",
       "      <th>asin</th>\n",
       "      <th>imUrl</th>\n",
       "      <th>description</th>\n",
       "      <th>categories</th>\n",
       "      <th>title</th>\n",
       "      <th>price</th>\n",
       "      <th>salesRank</th>\n",
       "      <th>related</th>\n",
       "      <th>brand</th>\n",
       "    </tr>\n",
       "  </thead>\n",
       "  <tbody>\n",
       "    <tr>\n",
       "      <th>0</th>\n",
       "      <td>0132793040</td>\n",
       "      <td>http://ecx.images-amazon.com/images/I/31JIPhp%...</td>\n",
       "      <td>The Kelby Training DVD Mastering Blend Modes i...</td>\n",
       "      <td>[[Electronics, Computers &amp; Accessories, Cables...</td>\n",
       "      <td>Kelby Training DVD: Mastering Blend Modes in A...</td>\n",
       "      <td>NaN</td>\n",
       "      <td>NaN</td>\n",
       "      <td>NaN</td>\n",
       "      <td>NaN</td>\n",
       "    </tr>\n",
       "    <tr>\n",
       "      <th>1</th>\n",
       "      <td>0321732944</td>\n",
       "      <td>http://ecx.images-amazon.com/images/I/31uogm6Y...</td>\n",
       "      <td>NaN</td>\n",
       "      <td>[[Electronics, Computers &amp; Accessories, Cables...</td>\n",
       "      <td>Kelby Training DVD: Adobe Photoshop CS5 Crash ...</td>\n",
       "      <td>NaN</td>\n",
       "      <td>NaN</td>\n",
       "      <td>NaN</td>\n",
       "      <td>NaN</td>\n",
       "    </tr>\n",
       "    <tr>\n",
       "      <th>2</th>\n",
       "      <td>0439886341</td>\n",
       "      <td>http://ecx.images-amazon.com/images/I/51k0qa8f...</td>\n",
       "      <td>Digital Organizer and Messenger</td>\n",
       "      <td>[[Electronics, Computers &amp; Accessories, PDAs, ...</td>\n",
       "      <td>Digital Organizer and Messenger</td>\n",
       "      <td>8.15</td>\n",
       "      <td>{'Electronics': 144944}</td>\n",
       "      <td>{'also_viewed': ['0545016266', 'B009ECM8QY', '...</td>\n",
       "      <td>NaN</td>\n",
       "    </tr>\n",
       "  </tbody>\n",
       "</table>\n",
       "</div>"
      ],
      "text/plain": [
       "         asin                                              imUrl  \\\n",
       "0  0132793040  http://ecx.images-amazon.com/images/I/31JIPhp%...   \n",
       "1  0321732944  http://ecx.images-amazon.com/images/I/31uogm6Y...   \n",
       "2  0439886341  http://ecx.images-amazon.com/images/I/51k0qa8f...   \n",
       "\n",
       "                                         description  \\\n",
       "0  The Kelby Training DVD Mastering Blend Modes i...   \n",
       "1                                                NaN   \n",
       "2                    Digital Organizer and Messenger   \n",
       "\n",
       "                                          categories  \\\n",
       "0  [[Electronics, Computers & Accessories, Cables...   \n",
       "1  [[Electronics, Computers & Accessories, Cables...   \n",
       "2  [[Electronics, Computers & Accessories, PDAs, ...   \n",
       "\n",
       "                                               title  price  \\\n",
       "0  Kelby Training DVD: Mastering Blend Modes in A...    NaN   \n",
       "1  Kelby Training DVD: Adobe Photoshop CS5 Crash ...    NaN   \n",
       "2                    Digital Organizer and Messenger   8.15   \n",
       "\n",
       "                 salesRank                                            related  \\\n",
       "0                      NaN                                                NaN   \n",
       "1                      NaN                                                NaN   \n",
       "2  {'Electronics': 144944}  {'also_viewed': ['0545016266', 'B009ECM8QY', '...   \n",
       "\n",
       "  brand  \n",
       "0   NaN  \n",
       "1   NaN  \n",
       "2   NaN  "
      ]
     },
     "execution_count": 11,
     "metadata": {},
     "output_type": "execute_result"
    }
   ],
   "source": [
    "df_meta.head(3)"
   ]
  },
  {
   "cell_type": "code",
   "execution_count": 12,
   "metadata": {},
   "outputs": [],
   "source": [
    "df_comb = df.merge?"
   ]
  },
  {
   "cell_type": "code",
   "execution_count": null,
   "metadata": {},
   "outputs": [],
   "source": [
    "df_comb = df.merge"
   ]
  },
  {
   "cell_type": "code",
   "execution_count": 13,
   "metadata": {},
   "outputs": [],
   "source": [
    "df_comb = df.merge(df_meta, how=\"left\", on=\"asin\")"
   ]
  },
  {
   "cell_type": "code",
   "execution_count": 14,
   "metadata": {},
   "outputs": [
    {
     "data": {
      "text/plain": [
       "(1689188, 18)"
      ]
     },
     "execution_count": 14,
     "metadata": {},
     "output_type": "execute_result"
    }
   ],
   "source": [
    "df_comb.shape"
   ]
  },
  {
   "cell_type": "code",
   "execution_count": 15,
   "metadata": {},
   "outputs": [
    {
     "data": {
      "text/html": [
       "<div>\n",
       "<style scoped>\n",
       "    .dataframe tbody tr th:only-of-type {\n",
       "        vertical-align: middle;\n",
       "    }\n",
       "\n",
       "    .dataframe tbody tr th {\n",
       "        vertical-align: top;\n",
       "    }\n",
       "\n",
       "    .dataframe thead th {\n",
       "        text-align: right;\n",
       "    }\n",
       "</style>\n",
       "<table border=\"1\" class=\"dataframe\">\n",
       "  <thead>\n",
       "    <tr style=\"text-align: right;\">\n",
       "      <th></th>\n",
       "      <th>reviewerID</th>\n",
       "      <th>asin</th>\n",
       "      <th>reviewerName</th>\n",
       "      <th>helpful</th>\n",
       "      <th>reviewText</th>\n",
       "      <th>overall</th>\n",
       "      <th>summary</th>\n",
       "      <th>unixReviewTime</th>\n",
       "      <th>reviewTime</th>\n",
       "      <th>reviewText_len</th>\n",
       "      <th>imUrl</th>\n",
       "      <th>description</th>\n",
       "      <th>categories</th>\n",
       "      <th>title</th>\n",
       "      <th>price</th>\n",
       "      <th>salesRank</th>\n",
       "      <th>related</th>\n",
       "      <th>brand</th>\n",
       "    </tr>\n",
       "  </thead>\n",
       "  <tbody>\n",
       "    <tr>\n",
       "      <th>0</th>\n",
       "      <td>AO94DHGC771SJ</td>\n",
       "      <td>0528881469</td>\n",
       "      <td>amazdnu</td>\n",
       "      <td>[0, 0]</td>\n",
       "      <td>We got this GPS for my husband who is an (OTR)...</td>\n",
       "      <td>5.0</td>\n",
       "      <td>Gotta have GPS!</td>\n",
       "      <td>1370131200</td>\n",
       "      <td>06 2, 2013</td>\n",
       "      <td>805</td>\n",
       "      <td>http://ecx.images-amazon.com/images/I/51FnRkJq...</td>\n",
       "      <td>Like its award-winning predecessor, the Intell...</td>\n",
       "      <td>[[Electronics, GPS &amp; Navigation, Vehicle GPS, ...</td>\n",
       "      <td>Rand McNally 528881469 7-inch Intelliroute TND...</td>\n",
       "      <td>299.99</td>\n",
       "      <td>NaN</td>\n",
       "      <td>{'also_viewed': ['B006ZOI9OY', 'B00C7FKT2A', '...</td>\n",
       "      <td>NaN</td>\n",
       "    </tr>\n",
       "    <tr>\n",
       "      <th>1</th>\n",
       "      <td>AMO214LNFCEI4</td>\n",
       "      <td>0528881469</td>\n",
       "      <td>Amazon Customer</td>\n",
       "      <td>[12, 15]</td>\n",
       "      <td>I'm a professional OTR truck driver, and I bou...</td>\n",
       "      <td>1.0</td>\n",
       "      <td>Very Disappointed</td>\n",
       "      <td>1290643200</td>\n",
       "      <td>11 25, 2010</td>\n",
       "      <td>2175</td>\n",
       "      <td>http://ecx.images-amazon.com/images/I/51FnRkJq...</td>\n",
       "      <td>Like its award-winning predecessor, the Intell...</td>\n",
       "      <td>[[Electronics, GPS &amp; Navigation, Vehicle GPS, ...</td>\n",
       "      <td>Rand McNally 528881469 7-inch Intelliroute TND...</td>\n",
       "      <td>299.99</td>\n",
       "      <td>NaN</td>\n",
       "      <td>{'also_viewed': ['B006ZOI9OY', 'B00C7FKT2A', '...</td>\n",
       "      <td>NaN</td>\n",
       "    </tr>\n",
       "    <tr>\n",
       "      <th>2</th>\n",
       "      <td>A3N7T0DY83Y4IG</td>\n",
       "      <td>0528881469</td>\n",
       "      <td>C. A. Freeman</td>\n",
       "      <td>[43, 45]</td>\n",
       "      <td>Well, what can I say.  I've had this unit in m...</td>\n",
       "      <td>3.0</td>\n",
       "      <td>1st impression</td>\n",
       "      <td>1283990400</td>\n",
       "      <td>09 9, 2010</td>\n",
       "      <td>4607</td>\n",
       "      <td>http://ecx.images-amazon.com/images/I/51FnRkJq...</td>\n",
       "      <td>Like its award-winning predecessor, the Intell...</td>\n",
       "      <td>[[Electronics, GPS &amp; Navigation, Vehicle GPS, ...</td>\n",
       "      <td>Rand McNally 528881469 7-inch Intelliroute TND...</td>\n",
       "      <td>299.99</td>\n",
       "      <td>NaN</td>\n",
       "      <td>{'also_viewed': ['B006ZOI9OY', 'B00C7FKT2A', '...</td>\n",
       "      <td>NaN</td>\n",
       "    </tr>\n",
       "  </tbody>\n",
       "</table>\n",
       "</div>"
      ],
      "text/plain": [
       "       reviewerID        asin     reviewerName   helpful  \\\n",
       "0   AO94DHGC771SJ  0528881469          amazdnu    [0, 0]   \n",
       "1   AMO214LNFCEI4  0528881469  Amazon Customer  [12, 15]   \n",
       "2  A3N7T0DY83Y4IG  0528881469    C. A. Freeman  [43, 45]   \n",
       "\n",
       "                                          reviewText  overall  \\\n",
       "0  We got this GPS for my husband who is an (OTR)...      5.0   \n",
       "1  I'm a professional OTR truck driver, and I bou...      1.0   \n",
       "2  Well, what can I say.  I've had this unit in m...      3.0   \n",
       "\n",
       "             summary  unixReviewTime   reviewTime  reviewText_len  \\\n",
       "0    Gotta have GPS!      1370131200   06 2, 2013             805   \n",
       "1  Very Disappointed      1290643200  11 25, 2010            2175   \n",
       "2     1st impression      1283990400   09 9, 2010            4607   \n",
       "\n",
       "                                               imUrl  \\\n",
       "0  http://ecx.images-amazon.com/images/I/51FnRkJq...   \n",
       "1  http://ecx.images-amazon.com/images/I/51FnRkJq...   \n",
       "2  http://ecx.images-amazon.com/images/I/51FnRkJq...   \n",
       "\n",
       "                                         description  \\\n",
       "0  Like its award-winning predecessor, the Intell...   \n",
       "1  Like its award-winning predecessor, the Intell...   \n",
       "2  Like its award-winning predecessor, the Intell...   \n",
       "\n",
       "                                          categories  \\\n",
       "0  [[Electronics, GPS & Navigation, Vehicle GPS, ...   \n",
       "1  [[Electronics, GPS & Navigation, Vehicle GPS, ...   \n",
       "2  [[Electronics, GPS & Navigation, Vehicle GPS, ...   \n",
       "\n",
       "                                               title   price salesRank  \\\n",
       "0  Rand McNally 528881469 7-inch Intelliroute TND...  299.99       NaN   \n",
       "1  Rand McNally 528881469 7-inch Intelliroute TND...  299.99       NaN   \n",
       "2  Rand McNally 528881469 7-inch Intelliroute TND...  299.99       NaN   \n",
       "\n",
       "                                             related brand  \n",
       "0  {'also_viewed': ['B006ZOI9OY', 'B00C7FKT2A', '...   NaN  \n",
       "1  {'also_viewed': ['B006ZOI9OY', 'B00C7FKT2A', '...   NaN  \n",
       "2  {'also_viewed': ['B006ZOI9OY', 'B00C7FKT2A', '...   NaN  "
      ]
     },
     "execution_count": 15,
     "metadata": {},
     "output_type": "execute_result"
    }
   ],
   "source": [
    "df_comb.head(3)"
   ]
  },
  {
   "cell_type": "code",
   "execution_count": 16,
   "metadata": {},
   "outputs": [],
   "source": [
    "df_sample = df_comb[df_comb['categories'].apply(lambda x:'tv' in (str(x)).lower())]\n",
    "#df_sample = df_sample[df_sample['brand'].apply(lambda x:'samsung' in (str(x)).lower())]"
   ]
  },
  {
   "cell_type": "code",
   "execution_count": 17,
   "metadata": {},
   "outputs": [],
   "source": [
    "df_prod = df_sample[['overall','reviewText','title','brand','categories']]"
   ]
  },
  {
   "cell_type": "code",
   "execution_count": 18,
   "metadata": {},
   "outputs": [
    {
     "data": {
      "text/plain": [
       "rating      64262\n",
       "reviews     64262\n",
       "product     63611\n",
       "brand       31268\n",
       "category    64262\n",
       "dtype: int64"
      ]
     },
     "execution_count": 18,
     "metadata": {},
     "output_type": "execute_result"
    }
   ],
   "source": [
    "df_prod = df_prod.rename(columns={'overall':'rating', 'reviewText':'reviews','title':'product','categories':'category'})\n",
    "df_prod.count()"
   ]
  },
  {
   "cell_type": "code",
   "execution_count": 19,
   "metadata": {},
   "outputs": [
    {
     "name": "stdout",
     "output_type": "stream",
     "text": [
      "[nltk_data] Downloading package stopwords to\n",
      "[nltk_data]     /Users/bhaskarballapragada/nltk_data...\n",
      "[nltk_data]   Package stopwords is already up-to-date!\n",
      "[nltk_data] Downloading package wordnet to\n",
      "[nltk_data]     /Users/bhaskarballapragada/nltk_data...\n",
      "[nltk_data]   Package wordnet is already up-to-date!\n"
     ]
    },
    {
     "name": "stderr",
     "output_type": "stream",
     "text": [
      "/Users/bhaskarballapragada/Documents/Galvanize/product_review_sentiments/src/naive_review_analyzer.py:48: UserWarning: Boolean Series key will be reindexed to match DataFrame index.\n",
      "  df_prod = df_prod[self.df['rating'].apply(lambda x: x in rating)]\n",
      "/anaconda3/lib/python3.6/site-packages/sklearn/naive_bayes.py:461: RuntimeWarning: divide by zero encountered in log\n",
      "  self.class_log_prior_ = (np.log(self.class_count_) -\n"
     ]
    },
    {
     "name": "stdout",
     "output_type": "stream",
     "text": [
      "1-Port Bi-Directional Cable TV HDTV Amplifier Splitter Signal Booster with Passive Return \n",
      "\t ([('amp', 100), ('signal', 99), ('port', 95), ('booster', 91), ('antenna', 85), ('air', 81), ('reg', 80), ('strenthen', 80), ('hd', 80), ('item', 79), ('power', 79), ('unit', 78), ('strength', 78), ('pct', 77), ('quality', 77), ('splitter', 75), ('warner', 75), ('feet', 75), ('channels', 74), ('boost', 73), ('brick', 73), ('rca', 72), ('amplifier', 71), ('issue', 71), ('bedroom', 71), ('output', 71), ('mini', 71), ('rating', 70), ('split', 70)], [('hot', 80), ('digital', 80), ('cool', 80), ('excellent', 79), ('fine', 75), ('short', 72)])\n",
      "10&quot; to 24&quot; Universal Tilt Wall Mount \n",
      "\t ([('monitor', 100), ('tilt', 97), ('wall', 91), ('degrees', 85), ('screw', 85), ('computer', 85), ('invert', 85), ('monitors', 85), ('option', 84), ('laptop', 76), ('desk', 76), ('bang', 74), ('dollar', 74), ('buck', 74), ('mind', 74), ('cost', 74), ('trade', 74), ('addition', 74), ('problem', 74), ('quality', 74)], [('peerless', 95), ('heavy', 84), ('less', 77), ('sturdy', 74), ('2nd', 74), ('second', 74), ('shy', 74), ('sure', 74)])\n",
      "13&quot; To 27&quot; Tilt and Pan LCD Mount (Discontinued by Manufacturer) \n",
      "\t ([('price', 100), ('delivery', 93), ('hardware', 92), ('plate', 91), ('product', 89), ('level', 85), ('stud', 85), ('wall', 85), ('hdtv', 85), ('levelcon', 84), ('tilt', 84), ('con', 84), ('account', 84), ('notes', 84), ('pan', 84), ('placement', 84), ('holes', 80)], [('excellent', 95), ('inexpensive', 95), ('easy', 92), ('perfect', 92), ('much', 84), ('sure', 84), ('minor', 84), ('simple', 84), ('pro', 84)])\n",
      "13.3 Inch Naxa NTD-1352 12V AC/DC Widescreen HD LED 1080i HDTV ATSC Digital Tuner with DVD Player \n",
      "\t ([('office', 100), ('complaint', 100), ('inputis', 100), ('side', 100), ('operation', 96), ('12volts', 96), ('travel', 96), ('camper', 96), ('volt', 96), ('stations', 96)], [('little', 100), ('super', 100), ('perfect', 100), ('easy', 96), ('best', 96), ('fine', 96)])\n",
      "1Byone&reg; 0.02&quot; Paper Thin Digital Indoor TV Antenna Aerial Ultra Thin Lightweight Soft Design with High Gain and Low Noise Excellent Reception for Digital Freeview and Analog TV HDTV Digital Terrestrial Signals Type#0189 \n",
      "\t ([('channels', 100), ('reception', 84), ('cable', 83), ('stations', 82), ('window', 81), ('product', 80), ('problems', 77), ('installation', 73), ('antennas', 72), ('miles', 71), ('service', 71), ('unit', 70), ('satellite', 69), ('review', 68), ('price', 68), ('air', 67), ('home', 67), ('performance', 66), ('ones', 65), ('paper', 64)], [('digital', 80), ('easy', 74), ('thin', 74), ('local', 73), ('best', 71), ('good', 70), ('different', 67), ('indoor', 66), ('flat', 66), ('simple', 65), ('expensive', 65)])\n",
      "1Byone&reg; New Conception Rectangle Anti-UV Coating And Waterproof Design Lightweight Portable Digital TV Antenna Reception HDTV Antenna Indoor/Outdoor Aerial For VHF/UHF/FM Color White \n",
      "\t ([('fm', 100), ('apartment', 100), ('reception', 87), ('antennas', 87), ('product', 87), ('tuners', 87), ('exterior', 81), ('dvd', 81), ('drywalls', 81), ('distortion', 81), ('dipole', 81), ('cd', 81), ('difference', 81), ('amplifier', 81), ('balcony', 81), ('block', 81), ('cabinet', 81), ('results', 81), ('reviews', 81)], [('excellent', 87), ('different', 87), ('high', 87), ('digital', 81), ('able', 81), ('afraid', 81), ('amazing', 81), ('concrete', 81), ('internal', 81), ('reasonable', 81)])\n",
      "1Byone&reg; Sector Digital TV Antenna Reception HDTV Antenna Indoor Aerial For VHF/UHF/FM \n",
      "\t ([('stations', 92), ('wall', 88), ('antennas', 85), ('directv', 84), ('part', 84), ('mohu', 84), ('ota', 84), ('thumb', 84), ('leaf', 84), ('none', 84), ('hdtv', 82), ('difference', 82), ('kitchen', 77), ('house', 77), ('station', 77), ('hd', 77), ('auto', 75), ('cable', 75), ('connections', 75)], [('small', 87), ('sore', 84), ('easy', 84), ('better', 82), ('active', 82), ('older', 77), ('indoor', 77), ('good', 77), ('handsome', 77), ('free', 77)])\n",
      "2 WAY EXTREME HD DIGITAL 1GHz HIGH PERFORMANCE COAX CABLE SPLITTER - BDS102H \n",
      "\t ([('signal', 100), ('splitter', 94), ('internet', 88), ('split', 81), ('quality', 80), ('modem', 74), ('loss', 73), ('product', 67), ('box', 61), ('price', 54), ('antenna', 54), ('job', 52), ('speed', 50), ('issues', 48), ('item', 48), ('type', 48), ('tivo', 47), ('strength', 46), ('dvr', 46), ('comcast', 46), ('cables', 46), ('hd', 46), ('space', 45)], [('good', 68), ('digital', 67), ('high', 62), ('different', 50), ('easy', 49), ('much', 47)])\n",
      "2-Port Bi-Directional Cable TV HDTV Amplifier Splitter Signal Booster \n",
      "\t ([('antenna', 99), ('signal', 93), ('quality', 90), ('amplification', 89), ('booster', 87), ('port', 87), ('bottom', 85), ('miles', 85), ('box', 83), ('house', 83), ('cable', 83), ('router', 83), ('voltage', 83), ('input', 81), ('output', 81), ('indoors', 80), ('loop', 80), ('strength', 80), ('dropouts', 80), ('problems', 78), ('size', 78), ('signals', 78), ('components', 78), ('sight', 78)], [('better', 83), ('enough', 83), ('close', 83), ('available', 81), ('extra', 80), ('electronic', 78), ('excellent', 78)])\n",
      "3 Way 2 GigaHertz RF Splitter 1 In 3 out \n",
      "\t ([('cable', 100), ('brands', 96), ('care', 96), ('gold', 96), ('company', 87), ('folks', 87), ('crap', 87), ('hd', 87), ('quality', 87), ('signals', 87), ('split', 87), ('splitter', 87), ('unit', 87), ('internet', 87)], [('cheaper', 99), ('better', 96), ('fine', 87), ('poor', 87), ('simple', 87)])\n",
      "3 Way Adjustable Tilting Desk Mount Bracket for LCD (Max 33Lbs, 10~25inch) - Black \n",
      "\t ([('desk', 100), ('treadmill', 87), ('monitors', 80), ('table', 74), ('grip', 74), ('damage', 73), ('minimum', 73), ('vibrations', 73), ('lifespan', 73), ('ease', 72), ('problems', 72)], [('easy', 85), ('functional', 76), ('secure', 74), ('resistant', 73), ('solid', 73), ('sturdy', 72), ('compatible', 71)])\n",
      "3 feet Satellite Tripod Mount with 2-Inch OD Mast \n",
      "\t ([('level', 100), ('home', 94), ('station', 89), ('weather', 89), ('poles', 89), ('flag', 89), ('feeder', 89), ('cases', 89), ('tripods', 89), ('bird', 89), ('usefulness', 89), ('item', 85), ('gate', 85), ('base', 85), ('mast', 85), ('motor', 85), ('parties', 85), ('purchase', 85), ('stakes', 85), ('tail', 85), ('tent', 85), ('times', 85), ('adjustment', 85)], [('happy', 89), ('easy', 85), ('long', 85), ('several', 85), ('useig', 85)])\n",
      "3 prong wall power cord for Sony PS3 Playstation 3 Thick 1st gen.,Westinhouse Samsung LG Vizio LCD TV Plasma TV,Dell HP Compaq Desktop PC Computer Monitor,Standard Power Supply Cord -5 Feet \n",
      "\t ([('nothing', 98), ('cord', 92), ('power', 92), ('troubles', 92), ('ps3', 92), ('perfct', 91), ('review', 88), ('cable', 88), ('anything', 88), ('item', 84), ('becausei', 84), ('price', 84), ('notice', 84), ('backup', 84), ('mail', 82), ('brand', 82)], [('special', 92), ('pleased', 91), ('perfect', 88), ('enough', 88), ('good', 84), ('new', 82), ('cheap', 82)])\n",
      "32&quot; Outdoor TV Cover (Soft Non Scratch Interior) fits 30&quot; &amp; Some 36&quot; \n",
      "\t ([('product', 99), ('roof', 85), ('protection', 82), ('rain', 79), ('quality', 77), ('scratch', 74), ('brand', 73), ('flatscreen', 72), ('house', 72), ('year', 71), ('elements', 69), ('nevada', 69)], [('easy', 86), ('outdoor', 83), ('new', 82), ('perfect', 82), ('good', 78), ('remote', 75), ('soft', 74), ('little', 74), ('better', 72), ('much', 69), ('sure', 69)])\n",
      "36 db High Performance VHF / UHF / FM / HDTV Signal Amplifier - Great for Cable TV \n",
      "\t ([('signal', 100), ('channels', 98), ('booster', 89), ('cable', 77), ('item', 77), ('boost', 76), ('channel', 73), ('hd', 72), ('power', 70), ('job', 69), ('amplifier', 68), ('feet', 67), ('air', 66), ('definition', 65), ('house', 64), ('ohio', 64), ('ampifier', 64), ('screw', 64), ('area', 63), ('problem', 63)], [('siginal', 73), ('least', 71), ('remote', 69), ('good', 68), ('digital', 67), ('high', 67), ('many', 67), ('free', 66), ('low', 65), ('available', 64), ('adjustable', 64), ('extra', 63), ('enough', 63)])\n",
      "37-Inch Vizio VX37L 1080i HDTV Widescreen LCD TV (Black/Gray) \n",
      "\t ([('lcd', 100), ('definition', 96), ('problem', 95), ('compliment', 91), ('others', 90), ('standard', 89), ('years', 89), ('equipment', 84), ('dvd', 84), ('sound', 84), ('stereo', 84), ('hdmi', 84), ('side', 82), ('size', 82), ('friends', 81), ('market', 81), ('family', 81), ('people', 81), ('control', 81), ('purchase', 81), ('color', 80), ('bedroom', 80), ('year', 80)], [('expensive', 95), ('solid', 90), ('remote', 86), ('best', 81), ('good', 81)])\n",
      "38&quot; Outdoor TV Cover (Soft Non Scratch Interior fits 36&quot;,37&quot;-some 40&quot; \n",
      "\t ([('material', 92), ('quality', 86), ('construction', 82), ('store', 82), ('others', 79), ('elements', 76), ('cottony', 76), ('hdtv', 72), ('arm', 72), ('rice', 72), ('product', 72), ('times', 70), ('logic', 70)], [('high', 91), ('protective', 82), ('bulky', 82), ('better', 82), ('fit', 82), ('much', 82), ('local', 82), ('easy', 76), ('soft', 76), ('loose', 72)])\n",
      "4 Way Audio Video Game AV RCA Switch Selector Box Splitter Port Svideo DVD Cable \n",
      "\t ([('system', 98), ('output', 96), ('rca', 95), ('sound', 95), ('inputs', 86), ('selector', 86), ('splitter', 86), ('box', 86), ('adapter', 80), ('item', 80), ('anyone', 80), ('dose', 77), ('design', 77), ('channels', 77), ('hook', 77), ('input', 77), ('cabinet', 77), ('job', 77), ('cables', 77), ('toy', 77), ('workbench', 77), ('seller', 77), ('plastic', 77), ('talk', 77), ('replacement', 77), ('cords', 77)], [('different', 88), ('fine', 77), ('cheap', 77), ('yellow', 77)])\n"
     ]
    },
    {
     "name": "stdout",
     "output_type": "stream",
     "text": [
      "4-Way Coax Cable Splitter 2Ghz Cable TV Video HDTV \n",
      "\t ([('job', 100), ('dose', 100), ('splitter', 95), ('split', 94), ('cable', 83), ('loss', 77), ('issues', 77), ('connections', 75), ('blu', 75), ('vcr', 75), ('ray', 75), ('cd', 75), ('antenna', 72), ('degradation', 65), ('broadcasts', 65), ('conjunction', 65), ('dvr', 65), ('anything', 65), ('item', 65), ('rooms', 65), ('tvs', 65), ('receivers', 65), ('rca', 65), ('quality', 65)], [('sure', 77), ('separate', 75), ('different', 65), ('fine', 65), ('worth', 65), ('terrestrial', 65), ('outdoor', 65)])\n",
      "40, 42, 43 inch TV-ProtectorTM Stalysh TV Screen Protector for LCD, LED and Plasma TVs \n",
      "\t ([('product', 100), ('television', 99), ('year', 96), ('things', 95), ('velcro', 93), ('price', 91), ('edge', 89), ('issue', 88), ('adhesive', 88), ('lcd', 86), ('shipping', 86), ('saturday', 86), ('pets', 86), ('wii', 86), ('children', 86), ('cat', 86), ('wednesday', 86)], [('good', 99), ('old', 96), ('thick', 96), ('transparent', 96), ('expensive', 86), ('free', 86), ('small', 86), ('worth', 86), ('easy', 86)])\n",
      "42&quot; Outdoor TV Cover (Soft Non Scratch Interior) fits 40&quot;, 42&quot; &amp; some 46&quot;) \n",
      "\t ([('cover', 97), ('problems', 84), ('love', 77), ('interior', 77), ('pocket', 77), ('year', 77), ('thing', 76), ('job', 76), ('elements', 75), ('lcd', 71), ('42inch', 71), ('dust', 71), ('gatherings', 71), ('duty', 71), ('family', 71), ('color', 69), ('fireplace', 69)], [('outdoor', 100), ('easy', 80), ('fit', 77), ('remote', 77), ('little', 74), ('heavy', 71), ('durable', 71), ('perfect', 71), ('impressed', 69)])\n",
      "5 Pack of Black Speaker Wall Mount Brackets for Bose,Sony,Panasonic,Samsung and more \n",
      "\t ([('wall', 100), ('mounts', 92), ('product', 83), ('sound', 82), ('job', 79), ('speaker', 79), ('price', 77), ('keyhole', 77), ('direction', 72), ('aim', 72), ('hardware', 71), ('bracket', 71), ('bose', 71), ('love', 71), ('value', 71), ('cost', 69)], [('easy', 85), ('perfect', 81), ('sturdy', 74), ('skeptical', 72), ('necessary', 71), ('new', 69), ('effective', 69)])\n",
      "75 to 300 Ohm UHF/VHF Matching Transformer \n",
      "\t ([('job', 93), ('radio', 81), ('hdtv', 81), ('price', 81), ('ohm', 78), ('antennae', 76), ('home', 74), ('money', 73), ('diy', 73), ('thanks', 73), ('mountains', 72), ('sets', 72), ('signal', 72), ('transformer', 72), ('device', 71), ('regret', 68), ('guy', 68)], [('future', 77), ('sure', 77), ('new', 73), ('worth', 73), ('easier', 72), ('cheap', 71), ('compact', 71), ('small', 71), ('enough', 68), ('little', 68)])\n",
      "8 Functions Jumbo Universal Remote Control TV VCR Cable DVD Satellite \n",
      "\t ([('code', 100), ('idea', 92), ('insignia', 81), ('remotes', 81), ('auto', 81), ('problems', 81), ('jvc', 75), ('glass', 75), ('gift', 75), ('gag', 75), ('functions', 75), ('brand', 75), ('codes', 75), ('downside', 75), ('fingers', 75), ('dvd', 75), ('envelope', 75), ('file', 75), ('buttons', 75), ('mailer', 75), ('year', 75), ('measure', 75)], [('misplaced', 92), ('bad', 92), ('big', 90), ('manual', 81), ('hard', 75), ('future', 75), ('fumble', 75), ('fortunate', 75), ('best', 75), ('different', 75), ('easy', 75)])\n"
     ]
    },
    {
     "ename": "ValueError",
     "evalue": "empty vocabulary; perhaps the documents only contain stop words",
     "output_type": "error",
     "traceback": [
      "\u001b[0;31m---------------------------------------------------------------------------\u001b[0m",
      "\u001b[0;31mValueError\u001b[0m                                Traceback (most recent call last)",
      "\u001b[0;32m<ipython-input-19-93e36ecf5e1e>\u001b[0m in \u001b[0;36m<module>\u001b[0;34m()\u001b[0m\n\u001b[1;32m      4\u001b[0m \u001b[0;34m\u001b[0m\u001b[0m\n\u001b[1;32m      5\u001b[0m \u001b[0;32mfor\u001b[0m \u001b[0mname\u001b[0m\u001b[0;34m,\u001b[0m \u001b[0mgroup\u001b[0m \u001b[0;32min\u001b[0m \u001b[0mdf_prod\u001b[0m\u001b[0;34m.\u001b[0m\u001b[0mgroupby\u001b[0m\u001b[0;34m(\u001b[0m\u001b[0;34m'product'\u001b[0m\u001b[0;34m)\u001b[0m\u001b[0;34m:\u001b[0m\u001b[0;34m\u001b[0m\u001b[0m\n\u001b[0;32m----> 6\u001b[0;31m     \u001b[0mprint\u001b[0m\u001b[0;34m(\u001b[0m\u001b[0mname\u001b[0m\u001b[0;34m,\u001b[0m \u001b[0;34m'\\n\\t'\u001b[0m\u001b[0;34m,\u001b[0m\u001b[0mnra\u001b[0m\u001b[0;34m.\u001b[0m\u001b[0mcreate_word_list\u001b[0m\u001b[0;34m(\u001b[0m\u001b[0mproduct\u001b[0m\u001b[0;34m=\u001b[0m\u001b[0mname\u001b[0m\u001b[0;34m,\u001b[0m \u001b[0mrating\u001b[0m\u001b[0;34m=\u001b[0m\u001b[0;34m[\u001b[0m\u001b[0;36m5.0\u001b[0m\u001b[0;34m]\u001b[0m\u001b[0;34m)\u001b[0m\u001b[0;34m)\u001b[0m\u001b[0;34m\u001b[0m\u001b[0m\n\u001b[0m",
      "\u001b[0;32m~/Documents/Galvanize/product_review_sentiments/src/naive_review_analyzer.py\u001b[0m in \u001b[0;36mcreate_word_list\u001b[0;34m(self, product, rating)\u001b[0m\n\u001b[1;32m     49\u001b[0m \u001b[0;34m\u001b[0m\u001b[0m\n\u001b[1;32m     50\u001b[0m         \u001b[0mtfidf\u001b[0m \u001b[0;34m=\u001b[0m \u001b[0mTfidfVectorizer\u001b[0m\u001b[0;34m(\u001b[0m\u001b[0mstop_words\u001b[0m\u001b[0;34m=\u001b[0m\u001b[0mself\u001b[0m\u001b[0;34m.\u001b[0m\u001b[0mstop_words\u001b[0m\u001b[0;34m,\u001b[0m\u001b[0mmax_features\u001b[0m\u001b[0;34m=\u001b[0m\u001b[0;36m10000\u001b[0m\u001b[0;34m)\u001b[0m\u001b[0;34m\u001b[0m\u001b[0m\n\u001b[0;32m---> 51\u001b[0;31m         \u001b[0mX_descr_vectors\u001b[0m \u001b[0;34m=\u001b[0m \u001b[0mtfidf\u001b[0m\u001b[0;34m.\u001b[0m\u001b[0mfit_transform\u001b[0m\u001b[0;34m(\u001b[0m\u001b[0mdf_prod\u001b[0m\u001b[0;34m[\u001b[0m\u001b[0;34m'bow'\u001b[0m\u001b[0;34m]\u001b[0m\u001b[0;34m)\u001b[0m\u001b[0;34m\u001b[0m\u001b[0m\n\u001b[0m\u001b[1;32m     52\u001b[0m         \u001b[0mnb\u001b[0m \u001b[0;34m=\u001b[0m \u001b[0mMultinomialNB\u001b[0m\u001b[0;34m(\u001b[0m\u001b[0;34m)\u001b[0m\u001b[0;34m\u001b[0m\u001b[0m\n\u001b[1;32m     53\u001b[0m         \u001b[0mnb\u001b[0m\u001b[0;34m.\u001b[0m\u001b[0mfit\u001b[0m\u001b[0;34m(\u001b[0m\u001b[0mX_descr_vectors\u001b[0m\u001b[0;34m,\u001b[0m \u001b[0mdf_prod\u001b[0m\u001b[0;34m[\u001b[0m\u001b[0;34m'rating'\u001b[0m\u001b[0;34m]\u001b[0m\u001b[0;34m.\u001b[0m\u001b[0mtranspose\u001b[0m\u001b[0;34m(\u001b[0m\u001b[0;34m)\u001b[0m\u001b[0;34m)\u001b[0m\u001b[0;34m\u001b[0m\u001b[0m\n",
      "\u001b[0;32m/anaconda3/lib/python3.6/site-packages/sklearn/feature_extraction/text.py\u001b[0m in \u001b[0;36mfit_transform\u001b[0;34m(self, raw_documents, y)\u001b[0m\n\u001b[1;32m   1379\u001b[0m             \u001b[0mTf\u001b[0m\u001b[0;34m-\u001b[0m\u001b[0midf\u001b[0m\u001b[0;34m-\u001b[0m\u001b[0mweighted\u001b[0m \u001b[0mdocument\u001b[0m\u001b[0;34m-\u001b[0m\u001b[0mterm\u001b[0m \u001b[0mmatrix\u001b[0m\u001b[0;34m.\u001b[0m\u001b[0;34m\u001b[0m\u001b[0m\n\u001b[1;32m   1380\u001b[0m         \"\"\"\n\u001b[0;32m-> 1381\u001b[0;31m         \u001b[0mX\u001b[0m \u001b[0;34m=\u001b[0m \u001b[0msuper\u001b[0m\u001b[0;34m(\u001b[0m\u001b[0mTfidfVectorizer\u001b[0m\u001b[0;34m,\u001b[0m \u001b[0mself\u001b[0m\u001b[0;34m)\u001b[0m\u001b[0;34m.\u001b[0m\u001b[0mfit_transform\u001b[0m\u001b[0;34m(\u001b[0m\u001b[0mraw_documents\u001b[0m\u001b[0;34m)\u001b[0m\u001b[0;34m\u001b[0m\u001b[0m\n\u001b[0m\u001b[1;32m   1382\u001b[0m         \u001b[0mself\u001b[0m\u001b[0;34m.\u001b[0m\u001b[0m_tfidf\u001b[0m\u001b[0;34m.\u001b[0m\u001b[0mfit\u001b[0m\u001b[0;34m(\u001b[0m\u001b[0mX\u001b[0m\u001b[0;34m)\u001b[0m\u001b[0;34m\u001b[0m\u001b[0m\n\u001b[1;32m   1383\u001b[0m         \u001b[0;31m# X is already a transformed view of raw_documents so\u001b[0m\u001b[0;34m\u001b[0m\u001b[0;34m\u001b[0m\u001b[0m\n",
      "\u001b[0;32m/anaconda3/lib/python3.6/site-packages/sklearn/feature_extraction/text.py\u001b[0m in \u001b[0;36mfit_transform\u001b[0;34m(self, raw_documents, y)\u001b[0m\n\u001b[1;32m    867\u001b[0m \u001b[0;34m\u001b[0m\u001b[0m\n\u001b[1;32m    868\u001b[0m         vocabulary, X = self._count_vocab(raw_documents,\n\u001b[0;32m--> 869\u001b[0;31m                                           self.fixed_vocabulary_)\n\u001b[0m\u001b[1;32m    870\u001b[0m \u001b[0;34m\u001b[0m\u001b[0m\n\u001b[1;32m    871\u001b[0m         \u001b[0;32mif\u001b[0m \u001b[0mself\u001b[0m\u001b[0;34m.\u001b[0m\u001b[0mbinary\u001b[0m\u001b[0;34m:\u001b[0m\u001b[0;34m\u001b[0m\u001b[0m\n",
      "\u001b[0;32m/anaconda3/lib/python3.6/site-packages/sklearn/feature_extraction/text.py\u001b[0m in \u001b[0;36m_count_vocab\u001b[0;34m(self, raw_documents, fixed_vocab)\u001b[0m\n\u001b[1;32m    809\u001b[0m             \u001b[0mvocabulary\u001b[0m \u001b[0;34m=\u001b[0m \u001b[0mdict\u001b[0m\u001b[0;34m(\u001b[0m\u001b[0mvocabulary\u001b[0m\u001b[0;34m)\u001b[0m\u001b[0;34m\u001b[0m\u001b[0m\n\u001b[1;32m    810\u001b[0m             \u001b[0;32mif\u001b[0m \u001b[0;32mnot\u001b[0m \u001b[0mvocabulary\u001b[0m\u001b[0;34m:\u001b[0m\u001b[0;34m\u001b[0m\u001b[0m\n\u001b[0;32m--> 811\u001b[0;31m                 raise ValueError(\"empty vocabulary; perhaps the documents only\"\n\u001b[0m\u001b[1;32m    812\u001b[0m                                  \" contain stop words\")\n\u001b[1;32m    813\u001b[0m \u001b[0;34m\u001b[0m\u001b[0m\n",
      "\u001b[0;31mValueError\u001b[0m: empty vocabulary; perhaps the documents only contain stop words"
     ]
    }
   ],
   "source": [
    "from src.naive_review_analyzer import NaiveReviewAnalyzer\n",
    "nra = NaiveReviewAnalyzer()\n",
    "nra.create_bow(df_prod)\n",
    "\n",
    "for name, group in df_prod.groupby('product'):\n",
    "    print(name, '\\n\\t',nra.create_word_list(product=name, rating=[5.0]))"
   ]
  },
  {
   "cell_type": "code",
   "execution_count": 29,
   "metadata": {},
   "outputs": [
    {
     "name": "stderr",
     "output_type": "stream",
     "text": [
      "/anaconda3/lib/python3.6/site-packages/sklearn/decomposition/online_lda.py:294: DeprecationWarning: n_topics has been renamed to n_components in version 0.19 and will be removed in 0.21\n",
      "  DeprecationWarning)\n"
     ]
    }
   ],
   "source": [
    "import ipywidgets\n",
    "import pyLDAvis.sklearn\n",
    "from src.LdaReviewAnalyzer import LdaReviewAnalyzer\n",
    "lda = LdaReviewAnalyzer(num_topics=5)\n",
    "lda.build_vectorize(df_prod)\n",
    "lda.fit(df_prod, rating=[5])\n",
    "lda.transform()\n",
    "topics_dict = lda.get_topics()\n",
    "#lda.display_topic_model()"
   ]
  },
  {
   "cell_type": "code",
   "execution_count": 30,
   "metadata": {},
   "outputs": [
    {
     "name": "stdout",
     "output_type": "stream",
     "text": [
      "{'Topic 0:': [('would', 5300.158212403265), ('like', 5282.252313740159), ('good', 5045.357059550335), ('price', 4672.704170510319), ('get', 4427.02868046432), ('really', 4051.7575958682855), ('well', 4036.568083135732), ('smart', 3488.733400902889), ('buy', 3302.4942106337057), ('works', 3285.196633491496)], 'Topic 1:': [('antenna', 10912.485909226147), ('channels', 8085.649643923279), ('cable', 6581.637832312293), ('get', 3967.363126317774), ('signal', 3893.334433241468), ('stations', 2579.2760667453376), ('digital', 2171.439119653906), ('reception', 2006.8055614095251), ('local', 1810.5481909990851), ('channel', 1774.5743551758446)], 'Topic 2:': [('mount', 10947.629996696167), ('wall', 8927.870948624342), ('easy', 5132.73864743966), ('would', 3010.9979333188444), ('well', 2878.188525087894), ('install', 2849.5555573843862), ('price', 2437.7119428302894), ('mounting', 2299.225657565528), ('mounted', 2214.4119562251803), ('product', 2164.3658917856746)], 'Topic 3:': [('sound', 11224.482531000307), ('quality', 9135.480849042), ('good', 6810.891790302235), ('hdmi', 5721.291673581316), ('also', 5260.843205331644), ('like', 5238.954486501345), ('better', 5229.056461176285), ('lcd', 4888.283796656563), ('plasma', 4824.3779407036245), ('best', 4592.564172660582)], 'Topic 4:': [('remote', 21109.77343283105), ('control', 4188.417894632517), ('button', 4073.143525857647), ('buttons', 3728.4182649044305), ('harmony', 3285.4582404417097), ('remotes', 3253.0303896470073), ('device', 2960.2054912403946), ('easy', 2921.622614798167), ('works', 2775.885288672624), ('devices', 2746.126282368012)]}\n"
     ]
    }
   ],
   "source": [
    "print (topics_dict)"
   ]
  },
  {
   "cell_type": "code",
   "execution_count": 31,
   "metadata": {},
   "outputs": [
    {
     "name": "stderr",
     "output_type": "stream",
     "text": [
      "/anaconda3/lib/python3.6/site-packages/pyLDAvis/_prepare.py:387: DeprecationWarning: \n",
      ".ix is deprecated. Please use\n",
      ".loc for label based indexing or\n",
      ".iloc for positional indexing\n",
      "\n",
      "See the documentation here:\n",
      "http://pandas.pydata.org/pandas-docs/stable/indexing.html#ix-indexer-is-deprecated\n",
      "  topic_term_dists = topic_term_dists.ix[topic_order]\n"
     ]
    },
    {
     "data": {
      "text/html": [
       "\n",
       "<link rel=\"stylesheet\" type=\"text/css\" href=\"https://cdn.rawgit.com/bmabey/pyLDAvis/files/ldavis.v1.0.0.css\">\n",
       "\n",
       "\n",
       "<div id=\"ldavis_el3696565345283606424892354\"></div>\n",
       "<script type=\"text/javascript\">\n",
       "\n",
       "var ldavis_el3696565345283606424892354_data = {\"mdsDat\": {\"Freq\": [30.953904988312757, 23.956057500299178, 18.241290900142705, 15.425480679992887, 11.42326593125247], \"cluster\": [1, 1, 1, 1, 1], \"topics\": [1, 2, 3, 4, 5], \"x\": [510.8230895996094, -13.263086318969727, 471.25, -13.603468894958496, -411.6973571777344], \"y\": [-391.7527160644531, -364.2423400878906, 149.33297729492188, 345.5476379394531, -23.306711196899414]}, \"tinfo\": {\"Category\": [\"Default\", \"Default\", \"Default\", \"Default\", \"Default\", \"Default\", \"Default\", \"Default\", \"Default\", \"Default\", \"Default\", \"Default\", \"Default\", \"Default\", \"Default\", \"Default\", \"Default\", \"Default\", \"Default\", \"Default\", \"Default\", \"Default\", \"Default\", \"Default\", \"Default\", \"Default\", \"Default\", \"Default\", \"Default\", \"Default\", \"Topic1\", \"Topic1\", \"Topic1\", \"Topic1\", \"Topic1\", \"Topic1\", \"Topic1\", \"Topic1\", \"Topic1\", \"Topic1\", \"Topic1\", \"Topic1\", \"Topic1\", \"Topic1\", \"Topic1\", \"Topic1\", \"Topic1\", \"Topic1\", \"Topic1\", \"Topic1\", \"Topic1\", \"Topic1\", \"Topic1\", \"Topic1\", \"Topic1\", \"Topic1\", \"Topic1\", \"Topic1\", \"Topic1\", \"Topic1\", \"Topic1\", \"Topic1\", \"Topic1\", \"Topic1\", \"Topic1\", \"Topic1\", \"Topic1\", \"Topic1\", \"Topic1\", \"Topic1\", \"Topic1\", \"Topic1\", \"Topic1\", \"Topic1\", \"Topic1\", \"Topic1\", \"Topic1\", \"Topic1\", \"Topic1\", \"Topic1\", \"Topic1\", \"Topic1\", \"Topic1\", \"Topic1\", \"Topic1\", \"Topic1\", \"Topic1\", \"Topic1\", \"Topic1\", \"Topic1\", \"Topic1\", \"Topic1\", \"Topic1\", \"Topic1\", \"Topic1\", \"Topic1\", \"Topic1\", \"Topic1\", \"Topic1\", \"Topic1\", \"Topic1\", \"Topic2\", \"Topic2\", \"Topic2\", \"Topic2\", \"Topic2\", \"Topic2\", \"Topic2\", \"Topic2\", \"Topic2\", \"Topic2\", \"Topic2\", \"Topic2\", \"Topic2\", \"Topic2\", \"Topic2\", \"Topic2\", \"Topic2\", \"Topic2\", \"Topic2\", \"Topic2\", \"Topic2\", \"Topic2\", \"Topic2\", \"Topic2\", \"Topic2\", \"Topic2\", \"Topic2\", \"Topic2\", \"Topic2\", \"Topic2\", \"Topic2\", \"Topic2\", \"Topic2\", \"Topic2\", \"Topic2\", \"Topic2\", \"Topic2\", \"Topic2\", \"Topic2\", \"Topic2\", \"Topic2\", \"Topic2\", \"Topic2\", \"Topic2\", \"Topic2\", \"Topic2\", \"Topic2\", \"Topic2\", \"Topic2\", \"Topic2\", \"Topic2\", \"Topic2\", \"Topic2\", \"Topic2\", \"Topic2\", \"Topic2\", \"Topic2\", \"Topic2\", \"Topic2\", \"Topic2\", \"Topic2\", \"Topic2\", \"Topic2\", \"Topic2\", \"Topic2\", \"Topic2\", \"Topic2\", \"Topic2\", \"Topic2\", \"Topic2\", \"Topic2\", \"Topic2\", \"Topic2\", \"Topic2\", \"Topic2\", \"Topic2\", \"Topic2\", \"Topic2\", \"Topic2\", \"Topic2\", \"Topic2\", \"Topic2\", \"Topic2\", \"Topic2\", \"Topic2\", \"Topic2\", \"Topic3\", \"Topic3\", \"Topic3\", \"Topic3\", \"Topic3\", \"Topic3\", \"Topic3\", \"Topic3\", \"Topic3\", \"Topic3\", \"Topic3\", \"Topic3\", \"Topic3\", \"Topic3\", \"Topic3\", \"Topic3\", \"Topic3\", \"Topic3\", \"Topic3\", \"Topic3\", \"Topic3\", \"Topic3\", \"Topic3\", \"Topic3\", \"Topic3\", \"Topic3\", \"Topic3\", \"Topic3\", \"Topic3\", \"Topic3\", \"Topic3\", \"Topic3\", \"Topic3\", \"Topic3\", \"Topic3\", \"Topic3\", \"Topic3\", \"Topic3\", \"Topic3\", \"Topic3\", \"Topic3\", \"Topic3\", \"Topic3\", \"Topic3\", \"Topic3\", \"Topic3\", \"Topic3\", \"Topic3\", \"Topic3\", \"Topic3\", \"Topic3\", \"Topic3\", \"Topic3\", \"Topic3\", \"Topic3\", \"Topic3\", \"Topic3\", \"Topic3\", \"Topic3\", \"Topic3\", \"Topic3\", \"Topic3\", \"Topic3\", \"Topic3\", \"Topic3\", \"Topic4\", \"Topic4\", \"Topic4\", \"Topic4\", \"Topic4\", \"Topic4\", \"Topic4\", \"Topic4\", \"Topic4\", \"Topic4\", \"Topic4\", \"Topic4\", \"Topic4\", \"Topic4\", \"Topic4\", \"Topic4\", \"Topic4\", \"Topic4\", \"Topic4\", \"Topic4\", \"Topic4\", \"Topic4\", \"Topic4\", \"Topic4\", \"Topic4\", \"Topic4\", \"Topic4\", \"Topic4\", \"Topic4\", \"Topic4\", \"Topic4\", \"Topic4\", \"Topic4\", \"Topic4\", \"Topic4\", \"Topic4\", \"Topic4\", \"Topic4\", \"Topic4\", \"Topic4\", \"Topic4\", \"Topic4\", \"Topic4\", \"Topic4\", \"Topic4\", \"Topic4\", \"Topic4\", \"Topic4\", \"Topic4\", \"Topic4\", \"Topic4\", \"Topic4\", \"Topic4\", \"Topic4\", \"Topic4\", \"Topic4\", \"Topic4\", \"Topic4\", \"Topic4\", \"Topic4\", \"Topic4\", \"Topic4\", \"Topic4\", \"Topic4\", \"Topic4\", \"Topic4\", \"Topic4\", \"Topic5\", \"Topic5\", \"Topic5\", \"Topic5\", \"Topic5\", \"Topic5\", \"Topic5\", \"Topic5\", \"Topic5\", \"Topic5\", \"Topic5\", \"Topic5\", \"Topic5\", \"Topic5\", \"Topic5\", \"Topic5\", \"Topic5\", \"Topic5\", \"Topic5\", \"Topic5\", \"Topic5\", \"Topic5\", \"Topic5\", \"Topic5\", \"Topic5\", \"Topic5\", \"Topic5\", \"Topic5\", \"Topic5\", \"Topic5\", \"Topic5\", \"Topic5\", \"Topic5\", \"Topic5\", \"Topic5\", \"Topic5\", \"Topic5\", \"Topic5\", \"Topic5\", \"Topic5\", \"Topic5\", \"Topic5\", \"Topic5\", \"Topic5\", \"Topic5\", \"Topic5\", \"Topic5\", \"Topic5\", \"Topic5\", \"Topic5\", \"Topic5\", \"Topic5\", \"Topic5\", \"Topic5\", \"Topic5\", \"Topic5\", \"Topic5\", \"Topic5\", \"Topic5\", \"Topic5\", \"Topic5\", \"Topic5\", \"Topic5\"], \"Freq\": [47214.0, 20889.0, 20703.0, 16986.0, 17312.0, 22662.0, 19149.0, 8591.0, 9111.0, 9795.0, 8340.0, 7349.0, 7276.0, 22352.0, 4938.0, 6143.0, 7349.0, 27820.0, 6212.0, 11414.0, 6465.0, 3842.0, 7008.0, 4930.0, 18964.0, 8420.0, 4596.0, 4464.0, 5387.0, 6529.0, 5977.977138734694, 3885.9791119265046, 3836.875973950164, 3761.788578909827, 3505.5820835905583, 3154.8969595603885, 2941.0024955418626, 2483.968061990616, 2215.9919219988974, 2136.3845172364454, 1589.2662496700964, 1495.0511010097237, 1402.4585801253388, 1312.7001569820377, 1248.6548135412415, 1242.2509376265336, 1131.8895590382272, 1102.3043199774017, 1071.5977017577434, 1056.2166189257755, 978.3913602257995, 1005.6313720782993, 962.7961695434499, 908.5357563859865, 898.7391894870892, 883.1828631415833, 849.0749905853282, 835.388120252176, 827.249937306186, 821.3290961824189, 1421.538291170205, 1352.1877982562175, 18505.490812179818, 6081.759021685361, 5848.795748676056, 1513.9251243318568, 7953.817150109427, 3724.8341961537403, 5605.466233020085, 7311.012191326821, 5802.731511463868, 1821.6818625304427, 9432.533767757088, 4865.581287472801, 5298.202934358955, 7262.367093587929, 3229.2459649956777, 3980.168159190839, 8059.176949718487, 6602.055502770691, 2664.9120142327133, 5713.59463151985, 15061.412091816526, 3756.0070874527514, 5304.177495529266, 6866.480885500197, 5280.62953944084, 7571.632266057137, 8620.999322811864, 11228.927044083215, 4737.050442537302, 8673.40523999259, 4987.191265424942, 5330.715108020436, 8637.31792068092, 7068.435296121995, 6488.2885320166915, 6657.456323001446, 5889.845667248942, 5730.3725753711615, 5808.8094367344775, 5385.793474404094, 4937.971355893813, 2768.928677403039, 2263.8554805664094, 1662.4941320189698, 1328.9965008187503, 1298.0331036408672, 2660.491370544217, 1169.0481349988581, 1110.9057911256048, 965.4938532375414, 858.8744072893692, 809.9490565511749, 767.6299587017155, 742.8427277546022, 692.9633938978058, 628.0187424527965, 599.7423490240466, 684.7032824266338, 540.7539443316243, 514.1853556815996, 504.48388037727284, 500.12736347778014, 493.9803046114369, 470.0472950231148, 465.261831626621, 466.87265384077045, 508.0660732504601, 438.33665133024334, 666.8004750092283, 3043.0432790253685, 2137.9523550300414, 782.3486654955527, 6523.756911768251, 1905.2354617758995, 858.3152246190211, 1362.0039502693915, 1097.1420003126486, 959.9479637418023, 4724.039848775691, 1766.2226458065597, 3518.9252018227503, 1810.0659257709765, 1859.393066753185, 1827.7539870395742, 2396.4248813932495, 2831.3822736199645, 3434.924886815632, 1521.5108442321973, 1214.6487951419404, 2564.422574806039, 2381.319155487786, 2907.440235887995, 4794.611344190613, 1860.520209397921, 3046.4555567505763, 3740.8209486633255, 3713.9085563823232, 4014.6699857373656, 4033.711108420035, 4618.352260990874, 3239.7410513264113, 9911.030680269949, 8737.723014640738, 6175.49894386326, 7576.583987189856, 9877.547545635864, 4361.568427468988, 4139.6445541957955, 9434.565272617812, 4748.774381927205, 5465.600203439155, 7548.180358339987, 8278.32213986342, 5852.142909322992, 4692.167958530273, 4663.029351474629, 6143.1533400377775, 5080.532392113223, 4443.905694651331, 4850.798266999062, 4295.245063057556, 3982.5784954334326, 4436.125946644513, 4084.072129092528, 4107.530894135577, 47212.529365407696, 9109.686038837055, 8338.69948336606, 7348.0084544361835, 7275.482765670578, 6141.779217098398, 3776.1914576055115, 2376.8574580233685, 2331.6799547784462, 2288.5833444495984, 2030.8987187862451, 1657.4536523362187, 1635.0900966091492, 1551.3957559910475, 1533.4930808154675, 1334.4447420525591, 1245.005058553047, 1220.5845420460012, 1219.9298421619098, 1060.8599148736637, 982.60063691701, 754.0406586933274, 585.1088524243881, 548.0271400143357, 538.4321150433727, 531.00479233385, 509.9719438963871, 524.8237383650358, 492.5291179308827, 488.7249686163275, 4581.601409380127, 9367.500010084994, 3015.193077817693, 873.1366732758028, 1424.1461826741506, 3292.3793451270767, 6620.572652166314, 1176.9906525221306, 2426.179250405248, 4923.5847179331195, 2612.7109512517864, 1831.099304155447, 2228.453970467118, 2418.494895945464, 2449.6598557386224, 4841.151579429328, 5097.999570665325, 3971.8187987788797, 2887.0068561322837, 6208.335969282991, 6534.281096606672, 2431.4482090265906, 4552.300918508769, 3518.643698616141, 4336.791157683943, 4243.048049004419, 5077.398736536251, 4254.317928316285, 4053.041720244106, 2980.480572126608, 3114.038492236969, 3048.7245184815247, 2891.0473851759148, 3181.2091452034297, 3033.897184799594, 20695.715376213873, 3847.1874101024387, 3036.5772983165766, 2603.8208608892537, 2359.01771147946, 2072.5878527211953, 2076.842256562846, 2040.6889433899055, 1935.8650596149635, 1711.4842414885968, 1721.080302805722, 1679.0340625932104, 1488.9304303881759, 1256.2465227393482, 1274.7372295974044, 1238.6630965556474, 1157.9206680817126, 1133.9026611852744, 1037.6959979684768, 938.0335312213713, 916.9501133554758, 882.3612688979132, 787.4499202464995, 741.60910871285, 713.2777236412145, 697.6633836514413, 677.5813526311368, 652.9655656507484, 644.2521678095952, 579.2922338882603, 16877.50464018773, 2607.621841806953, 2486.908417517406, 879.0508089355146, 4346.522471897984, 1286.4797674096124, 1596.2967837700437, 2960.5264287240484, 1615.584022110927, 5386.881981043669, 3110.47050552779, 4186.188205625489, 4063.731926644927, 2361.3495063951705, 2254.7414558862374, 9703.077120797972, 2071.2914056377886, 2738.528864020305, 2881.84659450537, 4091.5796825339853, 3010.9993349747515, 5441.010568705742, 5692.077303045561, 2969.9081506339844, 2617.449660516393, 4608.320938252219, 3973.685434873179, 3499.508681066754, 3328.668304555161, 3284.345578205507, 3933.2284174838746, 3069.281356632929, 3311.75807218174, 2791.9332388933685, 2634.2755702624827, 2652.655100660339, 2655.5979752533767, 20888.309110399277, 4937.162458801478, 3841.3589020765266, 3172.922553950284, 2397.6414579465913, 1990.570117776716, 1566.271049373146, 1485.821508853132, 1410.5247499826576, 1316.4387793214084, 1309.9925666274305, 1260.73716188372, 1229.1902020459368, 1198.0406252716023, 1139.1063366553062, 1072.64701703545, 1036.774708660113, 924.3900556035221, 1226.9054869624763, 815.2292499112874, 790.4640798929184, 776.021599188566, 751.5116343463473, 673.6924544238814, 658.9307713912632, 692.1202978261367, 490.1328044681088, 471.23894924215307, 432.1805765576991, 431.43940840611157, 15477.275345470427, 1707.4062083657293, 7452.488258697426, 1233.9489466093773, 1673.8979486845474, 1004.5581107401703, 2804.4554107425174, 2024.6436564091944, 12598.347126185356, 3465.689723446805, 4156.4948558050955, 2971.9480325876784, 1324.6069710263741, 3396.8298313183495, 1629.0078213808079, 1881.7348976464914, 7594.191463345725, 2157.815572487237, 2507.5692625984616, 1454.234856878377, 1367.0163297522358, 3272.711262397002, 2211.5300809491305, 1525.8346144648872, 2782.63882299672, 2095.058114075477, 2549.74877556278, 2762.4156251346576, 2603.9002559766886, 2116.9061366322867, 1900.7493156502976, 1847.0049382112772, 1816.2191502287258], \"Term\": [\"remote\", \"antenna\", \"mount\", \"channels\", \"wall\", \"cable\", \"sound\", \"signal\", \"button\", \"control\", \"buttons\", \"harmony\", \"remotes\", \"easy\", \"stations\", \"devices\", \"device\", \"get\", \"digital\", \"hdmi\", \"install\", \"reception\", \"smart\", \"local\", \"works\", \"dvd\", \"program\", \"mounting\", \"apps\", \"receiver\", \"speakers\", \"colors\", \"glasses\", \"image\", \"bright\", \"contrast\", \"games\", \"brightness\", \"blacks\", \"resolution\", \"sports\", \"outstanding\", \"bezel\", \"plasmas\", \"calibration\", \"refresh\", \"stunning\", \"energy\", \"optical\", \"vivid\", \"sharpness\", \"xbr\", \"ratio\", \"cinema\", \"dlp\", \"scenes\", \"cnet\", \"blur\", \"pixels\", \"composite\", \"glare\", \"images\", \"sound\", \"color\", \"panasonic\", \"effect\", \"plasma\", \"sharp\", \"amazing\", \"settings\", \"movies\", \"watched\", \"hdmi\", \"viewing\", \"audio\", \"look\", \"seen\", \"movie\", \"lcd\", \"led\", \"content\", \"watching\", \"quality\", \"blu-ray\", \"tvs\", \"see\", \"hdtv\", \"best\", \"better\", \"good\", \"features\", \"also\", \"model\", \"looks\", \"like\", \"price\", \"even\", \"get\", \"really\", \"much\", \"cable\", \"apps\", \"delivery\", \"card\", \"option\", \"laptop\", \"guess\", \"feels\", \"wifi\", \"guy\", \"capture\", \"speed\", \"friday\", \"professional\", \"sleek\", \"iphone\", \"android\", \"guys\", \"dimming\", \"soap\", \"services\", \"skype\", \"lol\", \"tablet\", \"lighter\", \"facebook\", \"pairs\", \"speak\", \"snap\", \"hauppauge\", \"cant\", \"windows\", \"youtube\", \"pop\", \"smart\", \"videos\", \"flash\", \"stream\", \"shipped\", \"browser\", \"update\", \"drive\", \"said\", \"prime\", \"customer\", \"called\", \"arrived\", \"shipping\", \"service\", \"record\", \"recording\", \"wireless\", \"cheap\", \"media\", \"pretty\", \"yes\", \"days\", \"problems\", \"something\", \"vizio\", \"netflix\", \"say\", \"usb\", \"would\", \"price\", \"buy\", \"really\", \"like\", \"happy\", \"purchase\", \"good\", \"video\", \"first\", \"well\", \"get\", \"bought\", \"love\", \"thing\", \"works\", \"want\", \"product\", \"much\", \"new\", \"sure\", \"easy\", \"could\", \"even\", \"remote\", \"button\", \"buttons\", \"harmony\", \"remotes\", \"devices\", \"logitech\", \"battery\", \"batteries\", \"press\", \"tivo\", \"learning\", \"code\", \"keys\", \"codes\", \"programmed\", \"controller\", \"commands\", \"activity\", \"activities\", \"bluetooth\", \"command\", \"controlling\", \"blaster\", \"pressing\", \"charging\", \"macro\", \"pad\", \"macros\", \"database\", \"program\", \"control\", \"functions\", \"voice\", \"learn\", \"universal\", \"device\", \"vcr\", \"function\", \"receiver\", \"dvr\", \"components\", \"controls\", \"touch\", \"original\", \"dvd\", \"setup\", \"turn\", \"software\", \"works\", \"easy\", \"volume\", \"using\", \"player\", \"box\", \"need\", \"like\", \"cable\", \"also\", \"system\", \"old\", \"watch\", \"everything\", \"get\", \"well\", \"mount\", \"screws\", \"sturdy\", \"bracket\", \"mounts\", \"bolts\", \"tilt\", \"stud\", \"weight\", \"holes\", \"screw\", \"studs\", \"arm\", \"plate\", \"swivel\", \"holds\", \"monitors\", \"lbs\", \"expectations\", \"secure\", \"drill\", \"brackets\", \"vesa\", \"arms\", \"duty\", \"bolt\", \"hole\", \"cheetah\", \"adjustable\", \"finder\", \"wall\", \"heavy\", \"hardware\", \"desk\", \"mounting\", \"fits\", \"hang\", \"fit\", \"inches\", \"install\", \"large\", \"mounted\", \"level\", \"installation\", \"solid\", \"easy\", \"hold\", \"flat\", \"monitor\", \"product\", \"stand\", \"well\", \"would\", \"inch\", \"included\", \"price\", \"need\", \"used\", \"two\", \"back\", \"good\", \"recommend\", \"works\", \"put\", \"needed\", \"little\", \"also\", \"antenna\", \"stations\", \"reception\", \"miles\", \"antennas\", \"leaf\", \"indoor\", \"attic\", \"splitter\", \"mohu\", \"strength\", \"uhf\", \"rabbit\", \"vhf\", \"amplified\", \"roof\", \"towers\", \"winegard\", \"ears\", \"abc\", \"cbs\", \"nbc\", \"pbs\", \"outdoor\", \"fox\", \"picks\", \"mast\", \"pole\", \"terk\", \"booster\", \"channels\", \"amplifier\", \"signal\", \"coax\", \"receive\", \"ota\", \"area\", \"signals\", \"cable\", \"local\", \"digital\", \"live\", \"outside\", \"channel\", \"air\", \"tuner\", \"get\", \"house\", \"clear\", \"broadcast\", \"station\", \"works\", \"away\", \"window\", \"well\", \"hdtv\", \"better\", \"good\", \"would\", \"even\", \"using\", \"bought\", \"two\"], \"Total\": [47214.0, 20889.0, 20703.0, 16986.0, 17312.0, 22662.0, 19149.0, 8591.0, 9111.0, 9795.0, 8340.0, 7349.0, 7276.0, 22352.0, 4938.0, 6143.0, 7349.0, 27820.0, 6212.0, 11414.0, 6465.0, 3842.0, 7008.0, 4930.0, 18964.0, 8420.0, 4596.0, 4464.0, 5387.0, 6529.0, 5980.059600436879, 3887.5783188324713, 3838.483207579708, 3763.4383368178774, 3507.208338783103, 3156.4943339686083, 2942.61890165546, 2485.5656585564716, 2217.585549378673, 2138.005367000665, 1590.8833408761618, 1496.6819907614026, 1404.1400879370003, 1314.2971235557718, 1250.2504743147285, 1243.852345213188, 1133.4953218258045, 1103.9143388922864, 1073.2056306295435, 1057.8135673860875, 979.9864817266492, 1007.279516131195, 964.406953152326, 910.1375459300551, 900.3424808123652, 884.7805324052421, 850.6734483504014, 836.9828295628984, 828.8551131170547, 822.9438968337658, 1425.1169904201995, 1355.1996421481092, 19149.609569111566, 6220.296725918646, 6101.575661576581, 1544.7643031965877, 8847.51423002589, 4012.2587868171536, 6198.627724742924, 8269.557181812572, 6501.477224924544, 1898.0654178651178, 11414.820643297953, 5624.72454052933, 6185.963836297411, 8927.693435980686, 3633.038949673673, 4638.136095264793, 10454.88083155333, 8359.731159674056, 2943.3662749068417, 7152.309945054799, 22363.287058376613, 4433.5218569579, 6907.867116815278, 10200.262669008693, 7376.921193500355, 13202.80279370802, 16079.34446277358, 27863.702132481547, 6666.797797130659, 20148.72405883942, 7405.127402622197, 8757.123405270951, 27348.959295752345, 21176.723624148803, 17505.948740231303, 27820.886914892333, 17774.260883730956, 16151.005403421987, 22662.258831995903, 5387.359514135221, 4939.5297638649145, 2770.488084775138, 2265.470956899544, 1664.069309469005, 1330.5826094358174, 1299.6773986652977, 2663.9525794922506, 1170.6230556665314, 1112.461983428252, 967.0807367812408, 860.4664008879028, 811.5418033336051, 769.2321658866108, 744.5067760790786, 694.5704644942715, 629.5789502877554, 601.3398359872085, 686.7018734401843, 542.3490540219635, 515.7513583704092, 506.077101206444, 501.73220493149057, 495.5837176605002, 471.6104072693774, 466.8370034065001, 468.4620661883284, 509.8050518835152, 439.8890337202706, 669.1641677075276, 3064.5086276903107, 2148.4254797739477, 785.6873829071949, 7008.410235798188, 1977.6891075154285, 872.5479753310991, 1424.5403904001644, 1138.5861001129333, 992.940024033547, 5374.374756868395, 1892.6820563428007, 4022.2063546029462, 1970.6698140602532, 2050.2742786396702, 2019.0482886146042, 2734.6974735815625, 3433.4364651612977, 4302.193107581366, 1690.7162692693153, 1304.74869338541, 3133.690017772028, 2911.3075679842923, 3786.7794353950817, 7126.254283096464, 2210.2680328670863, 4164.5999373992, 5482.361681922475, 5465.942549233343, 6116.5703404295255, 6218.755513578661, 7734.729480201172, 4853.259850515015, 25305.698226209595, 21176.723624148803, 12911.02711413592, 17774.260883730956, 27348.959295752345, 7735.371780964336, 7145.552382375514, 27863.702132481547, 9167.27669412323, 11904.632619454898, 21723.385932360485, 27820.886914892333, 14470.874778377827, 9574.226924561808, 9643.566346851052, 18964.21580659451, 12105.428241411286, 10416.904034006686, 16151.005403421987, 11553.459157818483, 8230.49742239534, 22352.3938287983, 12387.474257253036, 17505.948740231303, 47214.08988746286, 9111.165778647399, 8340.174818423198, 7349.4778668205, 7276.9546898756, 6143.265326163897, 3777.6651805455604, 2378.342416644341, 2333.1645428319853, 2290.064021290515, 2032.4282663499362, 1658.9307235796787, 1636.5800452819187, 1552.871949085946, 1534.9656285446683, 1335.9200448160998, 1246.491274371995, 1222.0553957628074, 1221.4023244930893, 1062.3287404629946, 984.0898010973823, 755.5355092985462, 586.586519628944, 549.502961304402, 539.9154235813025, 532.5018273139444, 511.4385067031709, 526.3474463667634, 493.995943162801, 490.19613160563097, 4596.6157184859, 9795.941488056977, 3114.5000549922183, 881.9588635644178, 1456.9860991106914, 3476.7563327963458, 7349.796517344388, 1233.9757045004894, 2701.2962652984384, 6529.488726337262, 3159.648363911391, 2088.2037046098717, 2762.490114749432, 3093.5572492118667, 3194.3926922056103, 8420.811418856645, 9220.32716217591, 6426.789361571512, 4680.898543663926, 18964.21580659451, 22352.3938287983, 3586.081115446881, 13810.334449008675, 8207.502124246155, 14862.672945530825, 15201.950039560585, 27348.959295752345, 22662.258831995903, 20148.72405883942, 7775.668814222247, 9979.063147481034, 9733.420116979056, 8532.733286481794, 27820.886914892333, 21723.385932360485, 20703.4778261316, 3848.733683896107, 3038.1807617006893, 2605.3676684538455, 2360.5654881509486, 2074.1261905303863, 2078.3857139392253, 2042.2249872408756, 1937.4386233889422, 1713.026231303535, 1722.6391487438593, 1680.569861729037, 1490.4731700030225, 1257.784986916911, 1276.2993716490705, 1240.2419358808604, 1159.4950001474392, 1135.4598366902767, 1039.3791177915464, 939.581344667181, 918.4925267600055, 883.8998032325742, 788.991635089509, 743.1534711311078, 714.8435945879833, 699.2049593663826, 679.1357683111315, 654.5056179702206, 645.8290317793113, 580.8381549182335, 17312.812659087173, 2626.661749762448, 2509.465536986385, 882.6373075498517, 4464.727393129484, 1305.9218754235674, 1631.8543872293924, 3110.6494108223173, 1662.3669645091554, 6465.4689501269, 3578.6890256513248, 5080.608632867756, 4967.652065490389, 2842.8357519750202, 2784.6474834781056, 22352.3938287983, 2772.6902973701135, 4711.671285366346, 5274.7375451659545, 10416.904034006686, 6142.306880986952, 21723.385932360485, 25305.698226209595, 6189.08895735037, 4618.276162054462, 21176.723624148803, 15201.950039560585, 11945.526603514527, 11377.352258803583, 11238.737675488363, 27863.702132481547, 9952.945678753416, 18964.21580659451, 7249.591897310435, 6357.044459966327, 12139.131097650488, 20148.72405883942, 20889.84505739913, 4938.701501608252, 3842.8970385757793, 3174.4576507211686, 2399.173675460748, 1992.1029247290355, 1567.8049123108017, 1487.355205280321, 1412.0689765954764, 1317.9712911168842, 1311.5482914511797, 1262.2714141392516, 1230.7252230827944, 1199.5721556757494, 1140.6453359466261, 1074.18114165392, 1038.308336255841, 925.921573059258, 1229.2198023693218, 816.7743669906805, 792.0025181447546, 777.5614082717098, 753.1328805412436, 675.2380539463146, 660.4789779701894, 693.9718922128641, 491.66561311935595, 472.7895192195505, 433.7128077048696, 432.9776770508342, 16986.001078524165, 1770.9467634057733, 8591.662396806038, 1305.0045427235143, 1845.8840534284384, 1060.2840413550496, 3496.4089505484258, 2407.24760344991, 22662.258831995903, 4930.037306510981, 6212.311963254182, 4126.604557241657, 1503.585570446332, 6222.166587249771, 2078.992321091383, 2616.2330283011665, 27820.886914892333, 4318.874787442811, 6527.387431287963, 1869.0268273978015, 1625.3410456715255, 18964.21580659451, 6224.936130337328, 2271.6792585211015, 21723.385932360485, 7376.921193500355, 16079.34446277358, 27863.702132481547, 25305.698226209595, 17505.948740231303, 13810.334449008675, 14470.874778377827, 11377.352258803583], \"loglift\": [30.0, 29.0, 28.0, 27.0, 26.0, 25.0, 24.0, 23.0, 22.0, 21.0, 20.0, 19.0, 18.0, 17.0, 16.0, 15.0, 14.0, 13.0, 12.0, 11.0, 10.0, 9.0, 8.0, 7.0, 6.0, 5.0, 4.0, 3.0, 2.0, 1.0, 1.1723, 1.1723, 1.1723, 1.1722, 1.1722, 1.1722, 1.1721, 1.172, 1.172, 1.1719, 1.1717, 1.1716, 1.1715, 1.1715, 1.1714, 1.1714, 1.1713, 1.1712, 1.1712, 1.1712, 1.171, 1.171, 1.171, 1.1709, 1.1709, 1.1709, 1.1708, 1.1708, 1.1707, 1.1707, 1.1702, 1.1704, 1.1385, 1.1501, 1.1304, 1.1525, 1.0662, 1.0983, 1.0721, 1.0495, 1.059, 1.1316, 0.9819, 1.0277, 1.0178, 0.9662, 1.0549, 1.0197, 0.9124, 0.9366, 1.0733, 0.9481, 0.7774, 1.0068, 0.9085, 0.7769, 0.8384, 0.6167, 0.5493, 0.2638, 0.8309, 0.3298, 0.7774, 0.6763, 0.0201, 0.0754, 0.1801, -0.2574, 0.0681, 0.1365, -0.1887, 1.4287, 1.4286, 1.4284, 1.4282, 1.428, 1.4278, 1.4277, 1.4276, 1.4276, 1.4275, 1.4273, 1.4271, 1.427, 1.4269, 1.4267, 1.4266, 1.4265, 1.4263, 1.426, 1.426, 1.4259, 1.4258, 1.4257, 1.4257, 1.4256, 1.4256, 1.4256, 1.4255, 1.4254, 1.4254, 1.4219, 1.4241, 1.4247, 1.3573, 1.3916, 1.4125, 1.3841, 1.3919, 1.3952, 1.3, 1.3598, 1.2953, 1.3439, 1.3312, 1.3294, 1.2969, 1.2362, 1.2038, 1.3235, 1.3574, 1.2285, 1.228, 1.1647, 1.0327, 1.2567, 1.1163, 1.0467, 1.0425, 1.0079, 0.9961, 0.9133, 1.0248, 0.4916, 0.5437, 0.6915, 0.5763, 0.4105, 0.856, 0.8831, 0.346, 0.7712, 0.6505, 0.3719, 0.2168, 0.5236, 0.7158, 0.7023, 0.3017, 0.5607, 0.5771, 0.2261, 0.4395, 0.703, -0.1882, 0.3194, -0.0208, 1.7014, 1.7013, 1.7013, 1.7013, 1.7013, 1.7012, 1.7011, 1.7009, 1.7008, 1.7008, 1.7007, 1.7006, 1.7006, 1.7005, 1.7005, 1.7004, 1.7003, 1.7003, 1.7003, 1.7001, 1.7, 1.6995, 1.699, 1.6988, 1.6987, 1.6987, 1.6986, 1.6986, 1.6985, 1.6985, 1.6982, 1.6568, 1.6691, 1.6914, 1.6787, 1.647, 1.597, 1.6542, 1.5941, 1.4192, 1.5114, 1.5701, 1.4867, 1.4553, 1.436, 1.1479, 1.1089, 1.2202, 1.2182, 0.5848, 0.4716, 1.3129, 0.5917, 0.8545, 0.4698, 0.4253, 0.0176, 0.0287, 0.0978, 0.7426, 0.5369, 0.5406, 0.6192, -0.467, -0.2671, 1.8688, 1.8687, 1.8686, 1.8686, 1.8685, 1.8684, 1.8684, 1.8684, 1.8683, 1.8682, 1.8682, 1.8682, 1.8681, 1.8679, 1.8679, 1.8679, 1.8678, 1.8678, 1.8675, 1.8675, 1.8675, 1.8674, 1.8672, 1.8671, 1.867, 1.8669, 1.8669, 1.8668, 1.8667, 1.8665, 1.8437, 1.8619, 1.8601, 1.8651, 1.8423, 1.8541, 1.8471, 1.8197, 1.8406, 1.6866, 1.7289, 1.6755, 1.6683, 1.6836, 1.6581, 1.0347, 1.5775, 1.3265, 1.2647, 0.9347, 1.1562, 0.4847, 0.3772, 1.1349, 1.3013, 0.3441, 0.5274, 0.6414, 0.6401, 0.639, -0.0887, 0.6927, 0.1241, 0.9149, 0.9882, 0.3483, -0.1573, 2.1694, 2.1692, 2.1691, 2.169, 2.1689, 2.1687, 2.1685, 2.1685, 2.1684, 2.1684, 2.1683, 2.1683, 2.1683, 2.1682, 2.1682, 2.1681, 2.168, 2.1679, 2.1676, 2.1676, 2.1676, 2.1675, 2.1674, 2.1672, 2.1672, 2.1668, 2.1664, 2.1662, 2.166, 2.166, 2.0765, 2.133, 2.0273, 2.1135, 2.0717, 2.1155, 1.949, 1.9964, 1.5824, 1.8171, 1.7677, 1.8413, 2.0428, 1.5642, 1.9256, 1.84, 0.8711, 1.4756, 1.2128, 1.9186, 1.9964, 0.4126, 1.1346, 1.7715, 0.1145, 0.9107, 0.328, -0.1417, -0.1045, 0.0569, 0.1863, 0.1109, 0.3347], \"logprob\": [30.0, 29.0, 28.0, 27.0, 26.0, 25.0, 24.0, 23.0, 22.0, 21.0, 20.0, 19.0, 18.0, 17.0, 16.0, 15.0, 14.0, 13.0, 12.0, 11.0, 10.0, 9.0, 8.0, 7.0, 6.0, 5.0, 4.0, 3.0, 2.0, 1.0, -5.408, -5.8387, -5.8514, -5.8712, -5.9417, -6.0471, -6.1173, -6.2862, -6.4003, -6.4369, -6.7328, -6.7939, -6.8578, -6.924, -6.974, -6.9791, -7.0722, -7.0986, -7.1269, -7.1414, -7.2179, -7.1904, -7.234, -7.292, -7.3028, -7.3203, -7.3597, -7.3759, -7.3857, -7.3929, -6.8443, -6.8943, -4.278, -5.3908, -5.4298, -6.7813, -5.1224, -5.881, -5.4723, -5.2067, -5.4377, -6.5963, -4.9519, -5.6139, -5.5287, -5.2133, -6.0238, -5.8147, -5.1092, -5.3087, -6.2159, -5.4532, -4.4839, -5.8727, -5.5276, -5.2694, -5.532, -5.1716, -5.0418, -4.7776, -5.6406, -5.0358, -5.5892, -5.5226, -5.04, -5.2404, -5.326, -5.3003, -5.4228, -5.4503, -5.4367, -5.256, -5.3428, -5.9213, -6.1227, -6.4315, -6.6553, -6.6789, -5.9613, -6.7836, -6.8346, -6.9749, -7.0919, -7.1506, -7.2042, -7.237, -7.3065, -7.405, -7.451, -7.3185, -7.5546, -7.6049, -7.624, -7.6327, -7.645, -7.6947, -7.7049, -7.7015, -7.6169, -7.7645, -7.345, -5.8269, -6.1799, -7.1852, -5.0643, -6.2952, -7.0926, -6.6308, -6.8471, -6.9806, -5.3871, -6.3709, -5.6816, -6.3464, -6.3195, -6.3367, -6.0658, -5.899, -5.7058, -6.5201, -6.7453, -5.998, -6.0721, -5.8725, -5.3723, -6.3189, -5.8258, -5.6205, -5.6277, -5.5498, -5.5451, -5.4097, -5.7643, -4.6461, -4.7721, -5.1192, -4.9147, -4.6495, -5.4669, -5.5192, -4.6954, -5.3819, -5.2413, -4.9185, -4.8261, -5.173, -5.3939, -5.4001, -5.1244, -5.3144, -5.4482, -5.3606, -5.4823, -5.5578, -5.45, -5.5327, -5.5269, -2.8126, -4.4579, -4.5463, -4.6728, -4.6827, -4.8521, -5.3385, -5.8015, -5.8206, -5.8393, -5.9588, -6.162, -6.1755, -6.2281, -6.2397, -6.3787, -6.4481, -6.4679, -6.4684, -6.6082, -6.6848, -6.9495, -7.2032, -7.2687, -7.2863, -7.3002, -7.3406, -7.3119, -7.3754, -7.3832, -5.1452, -4.43, -5.5636, -6.8029, -6.3137, -5.4756, -4.7771, -6.5043, -5.7809, -5.0732, -5.7068, -6.0623, -5.8659, -5.7841, -5.7713, -5.0901, -5.0384, -5.288, -5.607, -4.8413, -4.7902, -5.7787, -5.1516, -5.4092, -5.2001, -5.222, -5.0424, -5.2193, -5.2678, -5.5752, -5.5313, -5.5525, -5.6056, -5.51, -5.5574, -3.4696, -5.1522, -5.3888, -5.5426, -5.6413, -5.7708, -5.7687, -5.7863, -5.839, -5.9622, -5.9566, -5.9814, -6.1015, -6.2714, -6.2568, -6.2855, -6.3529, -6.3739, -6.4626, -6.5635, -6.5863, -6.6247, -6.7385, -6.7985, -6.8375, -6.8596, -6.8888, -6.9258, -6.9392, -7.0455, -3.6736, -5.5411, -5.5885, -6.6285, -5.0302, -6.2477, -6.0319, -5.4142, -6.0199, -4.8156, -5.3648, -5.0678, -5.0975, -5.6403, -5.6865, -4.2271, -5.7714, -5.4921, -5.4411, -5.0906, -5.3973, -4.8056, -4.7605, -5.411, -5.5374, -4.9717, -5.1199, -5.2469, -5.297, -5.3104, -5.1301, -5.3781, -5.3021, -5.4728, -5.531, -5.524, -5.5229, -3.16, -4.6024, -4.8534, -5.0445, -5.3247, -5.5108, -5.7505, -5.8032, -5.8552, -5.9243, -5.9292, -5.9675, -5.9928, -6.0185, -6.069, -6.1291, -6.1631, -6.2778, -5.9947, -6.4035, -6.4343, -6.4528, -6.4849, -6.5942, -6.6163, -6.5672, -6.9123, -6.9516, -7.0381, -7.0398, -3.4598, -5.6642, -4.1907, -5.989, -5.684, -6.1947, -5.168, -5.4938, -3.6656, -4.9563, -4.7745, -5.11, -5.9181, -4.9764, -5.7112, -5.567, -4.1718, -5.4301, -5.2799, -5.8247, -5.8866, -5.0136, -5.4055, -5.7767, -5.1758, -5.4596, -5.2632, -5.1831, -5.2422, -5.4492, -5.557, -5.5856, -5.6024]}, \"token.table\": {\"Topic\": [5, 3, 3, 4, 1, 3, 5, 1, 2, 3, 4, 5, 1, 3, 5, 5, 3, 5, 2, 3, 5, 5, 2, 1, 3, 5, 4, 4, 2, 4, 5, 5, 1, 3, 1, 2, 3, 4, 5, 1, 2, 3, 4, 5, 3, 3, 1, 2, 3, 4, 5, 1, 2, 3, 4, 5, 1, 1, 3, 1, 3, 3, 1, 4, 4, 5, 1, 2, 3, 4, 5, 1, 2, 3, 4, 5, 4, 4, 1, 1, 1, 5, 1, 2, 3, 3, 3, 1, 2, 3, 4, 5, 1, 3, 5, 1, 1, 2, 3, 4, 2, 3, 5, 2, 2, 5, 1, 3, 5, 1, 3, 5, 3, 1, 2, 5, 4, 1, 1, 3, 5, 1, 1, 5, 3, 3, 1, 3, 1, 3, 3, 1, 3, 4, 1, 1, 2, 1, 1, 3, 3, 3, 1, 3, 1, 2, 3, 4, 5, 1, 2, 3, 4, 3, 1, 2, 3, 4, 5, 2, 2, 4, 5, 2, 3, 3, 1, 2, 3, 5, 2, 1, 4, 1, 2, 3, 4, 4, 1, 2, 3, 1, 2, 3, 5, 1, 5, 1, 2, 3, 4, 5, 1, 5, 1, 1, 2, 3, 4, 5, 1, 2, 3, 4, 5, 4, 2, 1, 2, 3, 2, 4, 1, 2, 3, 4, 5, 2, 4, 5, 4, 5, 1, 2, 3, 1, 2, 4, 5, 5, 2, 1, 2, 3, 4, 1, 3, 1, 1, 2, 3, 4, 5, 1, 4, 1, 1, 2, 3, 4, 5, 2, 2, 2, 4, 5, 1, 2, 3, 4, 5, 4, 5, 3, 2, 1, 4, 5, 1, 5, 4, 5, 3, 4, 5, 4, 4, 4, 1, 2, 3, 5, 1, 1, 2, 1, 2, 4, 5, 4, 5, 2, 3, 4, 5, 5, 2, 4, 5, 2, 4, 5, 2, 3, 3, 2, 4, 5, 4, 1, 2, 3, 4, 5, 1, 3, 3, 1, 2, 4, 1, 4, 5, 2, 1, 2, 3, 4, 5, 1, 2, 3, 4, 5, 1, 2, 3, 5, 1, 2, 5, 3, 2, 1, 2, 3, 4, 5, 1, 2, 4, 5, 1, 2, 3, 4, 5, 3, 3, 5, 2, 3, 5, 1, 2, 3, 4, 5, 5, 1, 2, 4, 4, 4, 5, 4, 5, 4, 5, 4, 1, 2, 3, 1, 2, 1, 2, 3, 4, 5, 5, 1, 2, 3, 4, 5, 1, 2, 3, 4, 5, 1, 2, 3, 5, 1, 2, 3, 4, 5, 1, 2, 3, 5, 1, 2, 1, 2, 3, 5, 1, 3, 5, 5, 3, 5, 1, 3, 2, 1, 4, 5, 1, 5, 1, 1, 4, 1, 4, 1, 3, 5, 2, 4, 3, 3, 2, 3, 4, 5, 1, 2, 3, 4, 5, 1, 2, 4, 5, 1, 2, 3, 4, 5, 1, 2, 3, 4, 5, 2, 1, 2, 3, 3, 1, 2, 3, 4, 5, 1, 2, 3, 4, 5, 1, 2, 4, 5, 5, 1, 1, 2, 3, 4, 5, 1, 2, 3, 5, 1, 3, 5, 1, 2, 3, 4, 5, 2, 3, 2, 3, 1, 3, 3, 1, 5, 1, 2, 3, 4, 5, 1, 2, 3, 4, 5, 1, 4, 4, 4, 1, 3, 4, 5, 1, 3, 4, 1, 2, 3, 4, 5, 2, 1, 2, 3, 1, 2, 3, 4, 5, 1, 4, 1, 1, 2, 5, 1, 2, 4, 5, 1, 3, 5, 1, 3, 5, 2, 2, 2, 3, 2, 4, 2, 4, 2, 3, 1, 2, 4, 5, 1, 2, 3, 4, 5, 1, 2, 3, 2, 1, 4, 2, 5, 1, 1, 2, 4, 3, 5, 5, 1, 2, 5, 4, 4, 1, 4, 1, 2, 3, 4, 5, 4, 1, 2, 3, 4, 5, 2, 5, 1, 2, 3, 4, 5, 4, 3, 1, 2, 3, 4, 5, 1, 2, 3, 5, 1, 3, 4, 1, 2, 4, 5, 1, 2, 3, 4, 5, 5, 3, 4, 1, 2, 3, 1, 2, 3, 1, 2, 3, 4, 5, 1, 2, 3, 4, 5, 1, 2, 3, 4, 5, 1, 2, 3, 4, 1, 2, 1, 2, 4, 5, 1, 1, 2, 3, 5, 3, 4, 1, 3, 4, 5, 1, 2, 3, 4, 5, 1, 2, 3, 4, 5, 1, 5, 1, 2, 3, 4, 5, 4, 1, 2, 3, 4, 5, 2, 3, 1, 3, 5, 2, 3, 5, 1, 2, 3, 1, 2, 3, 4, 5, 1, 2, 3, 4, 5, 1, 2, 3, 1, 2], \"Freq\": [0.9978275922183774, 0.9987492191330384, 0.9988518734040635, 0.9971679319304179, 0.11880755762981147, 0.0971624560373357, 0.783552677647623, 0.430449093186875, 0.14958763598123387, 0.20115417671929026, 0.13181976150171107, 0.08700302782850132, 0.9042323960877092, 0.033233162104204836, 0.06227184743797605, 0.9985575394079347, 0.035009522183922406, 0.9638911994831539, 0.9977389414399949, 0.0014397387322366449, 0.9999116768269913, 0.9995108001255796, 0.9997476474084097, 0.19591529757769183, 0.0017160464021403663, 0.8019656852669312, 0.9990116091770914, 0.9984478695506163, 0.8761481016260351, 0.09361181720211392, 0.02961936403660636, 0.99908884893433, 0.8564550553808444, 0.14338913441351622, 0.2753441905446697, 0.23309476107369645, 0.0849807915975089, 0.05140614992665945, 0.3553450113680335, 0.17359600840716502, 0.3121346988684443, 0.1603382917220458, 0.2922036348586007, 0.06175070724478345, 0.9995008741087023, 0.9994355662856003, 0.5735145876456279, 0.18177958403981867, 0.06559213324103458, 0.07793799665707225, 0.10111489362214914, 0.5361536983027562, 0.1639370315190889, 0.08066249236732105, 0.06069899194333489, 0.15858855476998357, 0.9984758729165374, 0.9992850109529631, 0.9972648713287472, 0.8471820194379762, 0.15247471915337377, 0.9988925796241694, 0.9976309794026075, 0.9982766721685233, 0.9994570289235399, 0.9954323810310387, 0.22099562389817687, 0.40439849626395596, 0.08976651514813376, 0.15714322975123646, 0.12763568397121097, 0.261864068076013, 0.23878611963046506, 0.2918048466715489, 0.08612179011749656, 0.121445180595376, 0.9994750574092074, 0.9978506577039318, 0.9996554699161321, 0.9993700996990034, 0.2215056487853637, 0.7779449597437652, 0.015106652604320054, 0.9668257666764835, 0.017120872951562727, 0.9998720494527571, 0.9998591374343133, 0.289907221703678, 0.4782733352979459, 0.021609434906579256, 0.17272057290921772, 0.03748733510675398, 0.2563292583967188, 0.1877129738715169, 0.5559022202241114, 0.9989998209635442, 0.0326886684048982, 0.9053770582447563, 0.05794809399050136, 0.003466979982337688, 0.9967658643245323, 0.001494401595688954, 0.001494401595688954, 0.9986858126839114, 0.9994628799223807, 0.9974715760381098, 0.11185814301825621, 0.3421637736865912, 0.5459513101049085, 0.03779582946169108, 0.050983159367327835, 0.91116207566759, 0.9971796766942191, 0.017174413500603992, 0.8178455708987621, 0.16453088133578622, 0.9976996103182585, 0.9987501384432035, 0.6029977600430807, 0.012715653984648296, 0.384227231246963, 0.998032795835292, 0.05363966002287748, 0.9455905781175831, 0.999034544453555, 0.9987194315572187, 0.9777668603263904, 0.02202467278275493, 0.9995940097657131, 0.997967654359526, 0.9991363764961337, 0.0584234190039389, 0.8768301655427224, 0.06416998480760502, 0.9976378744149572, 0.9054258801291551, 0.09410993200591969, 0.9995265843019178, 0.04358948045173506, 0.9563144095359578, 0.9988036222935085, 0.9972953356821982, 0.19294186688821693, 0.8065187231274809, 0.23564125659360183, 0.32968786979385745, 0.12762892314987478, 0.16645846902912195, 0.14062592291403028, 0.019021845226423063, 0.9067079557928327, 0.05413909795212718, 0.019997324468803732, 0.9975598917892048, 0.16664265726167307, 0.7314027867709744, 0.05546751271966351, 0.0036017865402378905, 0.04298131938017216, 0.9996903017214097, 0.0011329681982012976, 0.9958790462189405, 0.0022659363964025953, 0.09905036122864519, 0.9008412660643679, 0.999794030357356, 0.2940934085098596, 0.0008048533347286798, 0.03589645872889912, 0.6689940918264786, 0.9977719154677173, 0.9985089220591326, 0.9983750256898982, 0.04543816522790755, 0.9330674394474968, 0.02007732882163357, 0.0010567015169280825, 0.9974209818736001, 0.42454341062602774, 0.0004750136062948562, 0.5748852170183497, 0.06867852843326257, 0.026268745898436835, 0.8269907594291018, 0.0778567649519935, 0.0008135241541606306, 0.9981941371550938, 0.037445653759089946, 0.19845749112941816, 0.29231768418386345, 0.4340922083924131, 0.037669343447017604, 0.9800847914902442, 0.019420438404694405, 0.9982658628257267, 0.37061687408518457, 0.23466308858537888, 0.15966001280334322, 0.11413263169269401, 0.1209303209676843, 0.13125922988526892, 0.3709245201668537, 0.3388128871413504, 0.14614308898833064, 0.012774335765619921, 0.9986731330580542, 0.9965853016715606, 0.7105360240622222, 0.06749867233016676, 0.2218456363918148, 0.998709373059022, 0.9968353406148185, 0.22100640012194436, 0.4591489863422835, 0.15296566120184749, 0.09408102171667719, 0.07274479000593076, 0.044042250317043376, 0.9518912641515725, 0.0038577153562373762, 0.9847449715036699, 0.013783366630689003, 0.014898894235663075, 0.983327019553763, 0.001146068787358698, 0.24301355732437796, 0.003608061549794258, 0.5813223873462631, 0.17212575981665548, 0.9977607493659607, 0.9982958069177488, 0.03998080528500201, 0.021100980567084395, 0.8980873483464341, 0.04035099792652981, 0.03146572427986194, 0.9680526398345282, 0.9994498432486283, 0.2392806534300872, 0.29754622939676456, 0.11433855468846438, 0.07584229814292985, 0.27296038488028873, 0.9978128178660753, 0.0014033935553671947, 0.9996135953970623, 0.4029974174504981, 0.338612577579967, 0.018123937644714715, 0.14115137971616432, 0.09912537777168721, 0.9988105891174329, 0.9986135112761748, 0.9974920535589162, 0.9780284396022203, 0.020835192322353063, 0.21731340749990907, 0.5639030835898889, 0.03399965863918863, 0.0903641117444595, 0.09450095233934178, 0.9910476806095677, 0.00836831575906752, 0.9997989153995317, 0.9957056585287101, 0.8263817973818494, 0.1733710990160797, 0.00017521081254783194, 0.7158813089467425, 0.2839938159900446, 0.9928952596335879, 0.006852804706060039, 0.24741313541244345, 0.7469279933515603, 0.0054099082087268975, 0.9989986341818233, 0.998327627016383, 0.9988171627109333, 0.06413707588962324, 0.35495356439997267, 0.08103962657533623, 0.4996671832845016, 0.9996178131035638, 0.9976389883463683, 0.0014757973200390064, 0.4937721886143827, 0.025528797709775022, 0.47987676707615073, 0.0008078733452460449, 0.9721078645695741, 0.027671387234034905, 0.22735756008425936, 0.16542969133749919, 0.5666616521338159, 0.04049129879595857, 0.9988487647304655, 0.05769109756418813, 0.8331955565101379, 0.1090408144309722, 0.018291594920274143, 0.8305087616686009, 0.15055389665148716, 0.9979761418868288, 0.0013431711196323403, 0.9987945245021344, 0.9987564763936033, 0.8690333185443452, 0.1304947137492634, 0.9987143211559716, 0.7708361414964725, 0.0009564910553374766, 0.040650869851842755, 0.18747224684614544, 0.9994463515336761, 0.021963147088041552, 0.977360045417849, 0.9988361638299684, 0.7897383150126815, 0.02380459325772851, 0.18636962962583428, 0.17915908527143243, 0.8180927219585409, 0.0026169304590209232, 0.9968043387947116, 0.3158072636914356, 0.36118376180896156, 0.18563777674671977, 0.08943667558055476, 0.04793601050127036, 0.20940543269130693, 0.30842405192614203, 0.15569483390502364, 0.21854941500001465, 0.10791546688655078, 0.15387953732703977, 0.08118054331426508, 0.04483104630787773, 0.7202047006865546, 0.2943182596374473, 0.002636896881658728, 0.7030372762945502, 0.999559203776413, 0.9958956822952622, 0.8134239881862931, 0.0019041872485771115, 0.049396857448382715, 0.10148197924769782, 0.03371531540127709, 0.6087615479749032, 0.19195801203260407, 0.17231685910600805, 0.026949488899282902, 0.23061914214040372, 0.4900656770483579, 0.16074404880166726, 0.10204479251411885, 0.016502637888670194, 0.9971873320363698, 0.9979839041664503, 0.9966123050404349, 0.7676708003714791, 0.23185929230346014, 0.9995408189739632, 0.673452289049622, 0.0010803325270497244, 0.24618077460145593, 0.04983033781016854, 0.029574102927986203, 0.9985042988946946, 0.37196163471641913, 0.0815206436942203, 0.5463778956435881, 0.998710645455781, 0.9996388130441466, 0.0003381074454633275, 0.823917034844939, 0.17576634307609423, 0.9736316727174322, 0.026205407340220744, 0.9993368164709657, 0.858103323889805, 0.002156038502235691, 0.13971129494487278, 0.8925663813376428, 0.10736021612505163, 0.35477667531372126, 0.30035281883889386, 0.1290322148959503, 0.12822731144410415, 0.08761064495094513, 0.9979919164517432, 0.1374165810678051, 0.22220833453664224, 0.27910892937802634, 0.26141383109787336, 0.09985561036904171, 0.005820314807141681, 0.20056490213799033, 0.25672307473662764, 0.41434349194624825, 0.12254122256117214, 0.31726605036843014, 0.6486828419595779, 0.018331642038520547, 0.015597976120495552, 0.23828361379864174, 0.37175013485839675, 0.24823734267145098, 0.06578116472465229, 0.07590800192568427, 0.31395732782699626, 0.2371966150547399, 0.3120533414788593, 0.13678638764246723, 0.998876607990925, 0.999350705911694, 0.0028174369488010043, 0.218820936356878, 0.7669689471736068, 0.010956699245337239, 0.045270887920425266, 0.006602004488395352, 0.9478592158339041, 0.9981664926331106, 0.11838368463935284, 0.8812268659951826, 0.9988761869443308, 0.9974400058819237, 0.9960650004324946, 0.9586048464223553, 0.041300807197543775, 0.9984957760170696, 0.0014409805515484292, 0.9971585416715131, 0.9977618366736278, 0.8990095741249488, 0.10081927836553362, 0.9990130667316212, 0.9985808489245157, 0.571184744034481, 0.42875407727332315, 0.9962149769679655, 0.9953068065143788, 0.002545541704640355, 0.9995353748713472, 0.996452363652445, 0.6728640053406151, 0.11506746285282676, 0.16811075670449568, 0.04406241870218001, 0.33376267856374303, 0.41262284738115257, 0.021910849300166492, 0.21759739994648103, 0.014072054076400031, 0.03755068427598975, 0.9184694397235331, 0.0030446500764316014, 0.04059533435242135, 0.011126591702466701, 0.6823701567037366, 0.1017809536061708, 0.13096545643231297, 0.07387327277867235, 9.599781247244216e-05, 0.42661427862753293, 0.06412653873159135, 0.3928230486372333, 0.1163493487165999, 0.9981001553742866, 0.0028281676773019714, 0.00021755135979245933, 0.9968203305690486, 0.9985627546921312, 0.26939834697006876, 0.5793813799771868, 0.00153941912554325, 0.10426065895724738, 0.04548283780014148, 0.03627790415313885, 0.3143625230608496, 0.1280072055289462, 0.38512512697932955, 0.1362835334726281, 0.6734698687489504, 0.1582057231016391, 0.11505464260613835, 0.05325692939911029, 0.9985982061223438, 0.9985411208953574, 0.3313780549598664, 0.42629058105787904, 0.09254955864329036, 0.10318291218954073, 0.04658421553595405, 0.05200760027245219, 0.011918408395770293, 0.029254275153254357, 0.906882529750885, 0.2458079134934551, 0.7541172374092043, 0.9995063519639645, 0.1999408079005253, 0.2788119306150541, 0.094846292793013, 0.30835092434508143, 0.1180555021523202, 0.9002101817224305, 0.09936616986160862, 0.9312138085744769, 0.06821236951697814, 0.9985107997582537, 0.9999769160548163, 0.9997313862791644, 0.9990620383692121, 0.9989004260006824, 0.020386820757259397, 0.874892954204827, 0.0004972395306648634, 0.06265218086377279, 0.04151950081051609, 0.2660726539005568, 0.5970473837282659, 0.047060469397377395, 0.05908416075439964, 0.030641019909830886, 0.9979875999301185, 0.9990484665665154, 0.9995495443336698, 0.9983169688541005, 0.6731199208095755, 0.11646758897782925, 0.10176208531901243, 0.10852661700206817, 0.8887876085914342, 0.02394689437827649, 0.08697952440845254, 0.10204097980315899, 0.7984299900315516, 0.0011621979476441797, 0.00023243958952883596, 0.09808950678116878, 0.9975125723702122, 0.8840860325724879, 0.00012092545924941702, 0.11572566450169208, 0.10737146118428723, 0.27612903047999526, 0.5529087970883801, 0.022884220515034956, 0.040671008024351224, 0.9284047211109654, 0.07128154368798285, 0.997972949868503, 0.027226750789356373, 0.9634756650298045, 0.008782822835276248, 0.13688909195467525, 0.8245383389865651, 0.02446528451955898, 0.013688909195467523, 0.07483999839647286, 0.05773038756555293, 0.867352516408267, 0.08058996495498505, 0.07809749181204736, 0.8412096857414677, 0.9966042583466133, 0.9983981872557415, 0.9308815809149023, 0.06891719858704748, 0.9964593291556325, 0.0019615341125110877, 0.9975216706026178, 0.0014562360154782741, 0.3830461146027206, 0.616761925743477, 0.0010773356476177418, 0.12820294206651128, 0.8097972951260026, 0.061049020031672036, 0.0673259912056002, 0.6794802481999976, 0.11964999524038732, 0.09184143365546549, 0.04189579344044143, 0.9663382395977762, 0.00020888154327971384, 0.03336882653893429, 0.9968790083683305, 0.9996555886438442, 0.00016722241362392845, 0.9978484352938658, 0.999242971403526, 0.9988161665737699, 0.509417725396558, 0.00032561056273349825, 0.4902067021952817, 0.15812066069728642, 0.8410542535921811, 0.9996554759165546, 0.042820828676443934, 0.9560978468412564, 0.9988194933718632, 0.9994001702806846, 0.9990658753528866, 0.9986807869454672, 0.9996113589699553, 0.12307883084242367, 0.483931868949036, 0.05917017830233003, 0.2643825625993227, 0.06937612281443624, 0.9989819225191723, 0.5386031864345678, 0.040639590953515624, 0.38324677544771063, 0.0374244334413704, 0.00012860630048580895, 0.9965475508359543, 0.9960508251671574, 0.13148662583879506, 0.4835348077967676, 0.1659137234558928, 0.15160366480782206, 0.06750614623111639, 0.999333273929891, 0.9992972611267107, 0.1580704543691831, 0.00032325246292266483, 0.7816244553470036, 0.059801705640692995, 0.9987399347475541, 0.008026807923006847, 0.24309761138249308, 0.029431629051025105, 0.7193548814808993, 0.3258236550463145, 0.618037993239714, 0.05617112677732547, 0.7678202128539633, 0.002316199737116028, 0.14707868330686777, 0.082804140601898, 0.19723393887744264, 0.18000673209492093, 0.17051418958210282, 0.2925988335664022, 0.15961534447479317, 0.9989927569261174, 0.946859568197652, 0.05263526761244542, 0.037027563019434044, 0.8789859683608363, 0.0839167383003254, 0.08035835953820074, 0.667592525394283, 0.25199557362876795, 0.13703874716736, 0.22050095298645464, 0.246870656931304, 0.2929967104983262, 0.10263256202027084, 0.23706884232879766, 0.16219737532575038, 0.3296082377155427, 0.13345078693096338, 0.1376505403992194, 0.044571379970778174, 0.0008103887267414214, 0.9538275313746529, 0.9974757209063654, 0.9986894029939668, 0.4460430437996153, 0.5180382526300741, 0.03577943711574317, 0.00010908364974311941, 0.03590048594098661, 0.9632454326419647, 0.8651090315512717, 0.001244505388585882, 0.13351764954685677, 0.00017778648408369743, 0.9982855510252445, 0.2991872729565457, 0.6564136070603994, 0.04414238453457232, 0.00016349031309100857, 0.9898420845523217, 0.009070717842403864, 0.3215208922724879, 0.6778987763351415, 0.9748849209167092, 0.02506813933391704, 0.16058911434044096, 0.41972905862334386, 0.23394463570582755, 0.13456773007231396, 0.05121669284520236, 0.46253012259757237, 0.04982832284758387, 0.3132506316748108, 0.007191716699651281, 0.16715604386189478, 0.9599247648952618, 0.039513917325545905, 0.7989027382616066, 0.09423528974244362, 0.08500750172612125, 0.0005592598797771135, 0.02125187543153031, 0.9992574611801505, 0.13432528469943392, 0.3474596466454172, 0.1396651520829618, 0.25046740029116515, 0.1281107838651558, 0.998516272578319, 0.0007507641147205406, 0.32046777610406996, 0.007483450815617018, 0.6717497614489158, 0.9929813779945134, 0.006526331764669822, 0.9979246913397761, 0.13370818352285466, 0.8182047316291153, 0.047866891475962285, 0.0014764649530229156, 0.32392586451499183, 0.32735337244165214, 0.17464471158613917, 0.17258820683014298, 0.1713843246383175, 0.3916509203344165, 0.10910586126963213, 0.22492957709045494, 0.10290172500765016, 0.9987297308138366, 0.8419793311610143, 0.15789940170617625, 0.004189114346636291, 0.9951473859009321], \"Term\": [\"abc\", \"activities\", \"activity\", \"adjustable\", \"air\", \"air\", \"air\", \"also\", \"also\", \"also\", \"also\", \"also\", \"amazing\", \"amazing\", \"amazing\", \"amplified\", \"amplifier\", \"amplifier\", \"android\", \"android\", \"antenna\", \"antennas\", \"apps\", \"area\", \"area\", \"area\", \"arm\", \"arms\", \"arrived\", \"arrived\", \"arrived\", \"attic\", \"audio\", \"audio\", \"away\", \"away\", \"away\", \"away\", \"away\", \"back\", \"back\", \"back\", \"back\", \"back\", \"batteries\", \"battery\", \"best\", \"best\", \"best\", \"best\", \"best\", \"better\", \"better\", \"better\", \"better\", \"better\", \"bezel\", \"blacks\", \"blaster\", \"blu-ray\", \"blu-ray\", \"bluetooth\", \"blur\", \"bolt\", \"bolts\", \"booster\", \"bought\", \"bought\", \"bought\", \"bought\", \"bought\", \"box\", \"box\", \"box\", \"box\", \"box\", \"bracket\", \"brackets\", \"bright\", \"brightness\", \"broadcast\", \"broadcast\", \"browser\", \"browser\", \"browser\", \"button\", \"buttons\", \"buy\", \"buy\", \"buy\", \"buy\", \"buy\", \"cable\", \"cable\", \"cable\", \"calibration\", \"called\", \"called\", \"called\", \"called\", \"cant\", \"cant\", \"cant\", \"capture\", \"card\", \"cbs\", \"channel\", \"channel\", \"channel\", \"channels\", \"channels\", \"channels\", \"charging\", \"cheap\", \"cheap\", \"cheap\", \"cheetah\", \"cinema\", \"clear\", \"clear\", \"clear\", \"cnet\", \"coax\", \"coax\", \"code\", \"codes\", \"color\", \"color\", \"colors\", \"command\", \"commands\", \"components\", \"components\", \"components\", \"composite\", \"content\", \"content\", \"contrast\", \"control\", \"control\", \"controller\", \"controlling\", \"controls\", \"controls\", \"could\", \"could\", \"could\", \"could\", \"could\", \"customer\", \"customer\", \"customer\", \"customer\", \"database\", \"days\", \"days\", \"days\", \"days\", \"days\", \"delivery\", \"desk\", \"desk\", \"desk\", \"device\", \"device\", \"devices\", \"digital\", \"digital\", \"digital\", \"digital\", \"dimming\", \"dlp\", \"drill\", \"drive\", \"drive\", \"drive\", \"drive\", \"duty\", \"dvd\", \"dvd\", \"dvd\", \"dvr\", \"dvr\", \"dvr\", \"dvr\", \"ears\", \"ears\", \"easy\", \"easy\", \"easy\", \"easy\", \"easy\", \"effect\", \"effect\", \"energy\", \"even\", \"even\", \"even\", \"even\", \"even\", \"everything\", \"everything\", \"everything\", \"everything\", \"everything\", \"expectations\", \"facebook\", \"features\", \"features\", \"features\", \"feels\", \"finder\", \"first\", \"first\", \"first\", \"first\", \"first\", \"fit\", \"fit\", \"fit\", \"fits\", \"fits\", \"flash\", \"flash\", \"flash\", \"flat\", \"flat\", \"flat\", \"flat\", \"fox\", \"friday\", \"function\", \"function\", \"function\", \"function\", \"functions\", \"functions\", \"games\", \"get\", \"get\", \"get\", \"get\", \"get\", \"glare\", \"glare\", \"glasses\", \"good\", \"good\", \"good\", \"good\", \"good\", \"guess\", \"guy\", \"guys\", \"hang\", \"hang\", \"happy\", \"happy\", \"happy\", \"happy\", \"happy\", \"hardware\", \"hardware\", \"harmony\", \"hauppauge\", \"hdmi\", \"hdmi\", \"hdmi\", \"hdtv\", \"hdtv\", \"heavy\", \"heavy\", \"hold\", \"hold\", \"hold\", \"holds\", \"hole\", \"holes\", \"house\", \"house\", \"house\", \"house\", \"image\", \"images\", \"images\", \"inch\", \"inch\", \"inch\", \"inch\", \"inches\", \"inches\", \"included\", \"included\", \"included\", \"included\", \"indoor\", \"install\", \"install\", \"install\", \"installation\", \"installation\", \"installation\", \"iphone\", \"iphone\", \"keys\", \"laptop\", \"large\", \"large\", \"lbs\", \"lcd\", \"lcd\", \"lcd\", \"lcd\", \"leaf\", \"learn\", \"learn\", \"learning\", \"led\", \"led\", \"led\", \"level\", \"level\", \"level\", \"lighter\", \"like\", \"like\", \"like\", \"like\", \"like\", \"little\", \"little\", \"little\", \"little\", \"little\", \"live\", \"live\", \"live\", \"live\", \"local\", \"local\", \"local\", \"logitech\", \"lol\", \"look\", \"look\", \"look\", \"look\", \"look\", \"looks\", \"looks\", \"looks\", \"looks\", \"love\", \"love\", \"love\", \"love\", \"love\", \"macro\", \"macros\", \"mast\", \"media\", \"media\", \"miles\", \"model\", \"model\", \"model\", \"model\", \"model\", \"mohu\", \"monitor\", \"monitor\", \"monitor\", \"monitors\", \"mount\", \"mount\", \"mounted\", \"mounted\", \"mounting\", \"mounting\", \"mounts\", \"movie\", \"movie\", \"movie\", \"movies\", \"movies\", \"much\", \"much\", \"much\", \"much\", \"much\", \"nbc\", \"need\", \"need\", \"need\", \"need\", \"need\", \"needed\", \"needed\", \"needed\", \"needed\", \"needed\", \"netflix\", \"netflix\", \"netflix\", \"netflix\", \"new\", \"new\", \"new\", \"new\", \"new\", \"old\", \"old\", \"old\", \"old\", \"optical\", \"option\", \"original\", \"original\", \"original\", \"original\", \"ota\", \"ota\", \"ota\", \"outdoor\", \"outside\", \"outside\", \"outstanding\", \"pad\", \"pairs\", \"panasonic\", \"panasonic\", \"pbs\", \"picks\", \"picks\", \"pixels\", \"plasma\", \"plasma\", \"plasmas\", \"plate\", \"player\", \"player\", \"pole\", \"pop\", \"pop\", \"press\", \"pressing\", \"pretty\", \"pretty\", \"pretty\", \"pretty\", \"price\", \"price\", \"price\", \"price\", \"price\", \"prime\", \"prime\", \"prime\", \"prime\", \"problems\", \"problems\", \"problems\", \"problems\", \"problems\", \"product\", \"product\", \"product\", \"product\", \"product\", \"professional\", \"program\", \"program\", \"program\", \"programmed\", \"purchase\", \"purchase\", \"purchase\", \"purchase\", \"purchase\", \"put\", \"put\", \"put\", \"put\", \"put\", \"quality\", \"quality\", \"quality\", \"quality\", \"rabbit\", \"ratio\", \"really\", \"really\", \"really\", \"really\", \"really\", \"receive\", \"receive\", \"receive\", \"receive\", \"receiver\", \"receiver\", \"reception\", \"recommend\", \"recommend\", \"recommend\", \"recommend\", \"recommend\", \"record\", \"record\", \"recording\", \"recording\", \"refresh\", \"remote\", \"remotes\", \"resolution\", \"roof\", \"said\", \"said\", \"said\", \"said\", \"said\", \"say\", \"say\", \"say\", \"say\", \"say\", \"scenes\", \"screw\", \"screws\", \"secure\", \"see\", \"see\", \"see\", \"see\", \"seen\", \"seen\", \"seen\", \"service\", \"service\", \"service\", \"service\", \"service\", \"services\", \"settings\", \"settings\", \"settings\", \"setup\", \"setup\", \"setup\", \"setup\", \"setup\", \"sharp\", \"sharp\", \"sharpness\", \"shipped\", \"shipped\", \"shipped\", \"shipping\", \"shipping\", \"shipping\", \"shipping\", \"signal\", \"signal\", \"signal\", \"signals\", \"signals\", \"signals\", \"skype\", \"sleek\", \"smart\", \"smart\", \"snap\", \"snap\", \"soap\", \"soap\", \"software\", \"software\", \"solid\", \"solid\", \"solid\", \"solid\", \"something\", \"something\", \"something\", \"something\", \"something\", \"sound\", \"sound\", \"sound\", \"speak\", \"speakers\", \"speakers\", \"speed\", \"splitter\", \"sports\", \"stand\", \"stand\", \"stand\", \"station\", \"station\", \"stations\", \"stream\", \"stream\", \"strength\", \"stud\", \"studs\", \"stunning\", \"sturdy\", \"sure\", \"sure\", \"sure\", \"sure\", \"sure\", \"swivel\", \"system\", \"system\", \"system\", \"system\", \"system\", \"tablet\", \"terk\", \"thing\", \"thing\", \"thing\", \"thing\", \"thing\", \"tilt\", \"tivo\", \"touch\", \"touch\", \"touch\", \"touch\", \"towers\", \"tuner\", \"tuner\", \"tuner\", \"tuner\", \"turn\", \"turn\", \"turn\", \"tvs\", \"tvs\", \"tvs\", \"tvs\", \"two\", \"two\", \"two\", \"two\", \"two\", \"uhf\", \"universal\", \"universal\", \"update\", \"update\", \"update\", \"usb\", \"usb\", \"usb\", \"used\", \"used\", \"used\", \"used\", \"used\", \"using\", \"using\", \"using\", \"using\", \"using\", \"vcr\", \"vcr\", \"vcr\", \"vesa\", \"vhf\", \"video\", \"video\", \"video\", \"video\", \"videos\", \"videos\", \"viewing\", \"viewing\", \"viewing\", \"viewing\", \"vivid\", \"vizio\", \"vizio\", \"vizio\", \"vizio\", \"voice\", \"voice\", \"volume\", \"volume\", \"wall\", \"wall\", \"want\", \"want\", \"want\", \"want\", \"want\", \"watch\", \"watch\", \"watch\", \"watch\", \"watch\", \"watched\", \"watched\", \"watching\", \"watching\", \"watching\", \"watching\", \"watching\", \"weight\", \"well\", \"well\", \"well\", \"well\", \"well\", \"wifi\", \"wifi\", \"window\", \"window\", \"window\", \"windows\", \"windows\", \"winegard\", \"wireless\", \"wireless\", \"wireless\", \"works\", \"works\", \"works\", \"works\", \"works\", \"would\", \"would\", \"would\", \"would\", \"would\", \"xbr\", \"yes\", \"yes\", \"youtube\", \"youtube\"]}, \"R\": 30, \"lambda.step\": 0.01, \"plot.opts\": {\"xlab\": \"PC1\", \"ylab\": \"PC2\"}, \"topic.order\": [4, 1, 5, 3, 2]};\n",
       "\n",
       "function LDAvis_load_lib(url, callback){\n",
       "  var s = document.createElement('script');\n",
       "  s.src = url;\n",
       "  s.async = true;\n",
       "  s.onreadystatechange = s.onload = callback;\n",
       "  s.onerror = function(){console.warn(\"failed to load library \" + url);};\n",
       "  document.getElementsByTagName(\"head\")[0].appendChild(s);\n",
       "}\n",
       "\n",
       "if(typeof(LDAvis) !== \"undefined\"){\n",
       "   // already loaded: just create the visualization\n",
       "   !function(LDAvis){\n",
       "       new LDAvis(\"#\" + \"ldavis_el3696565345283606424892354\", ldavis_el3696565345283606424892354_data);\n",
       "   }(LDAvis);\n",
       "}else if(typeof define === \"function\" && define.amd){\n",
       "   // require.js is available: use it to load d3/LDAvis\n",
       "   require.config({paths: {d3: \"https://cdnjs.cloudflare.com/ajax/libs/d3/3.5.5/d3.min\"}});\n",
       "   require([\"d3\"], function(d3){\n",
       "      window.d3 = d3;\n",
       "      LDAvis_load_lib(\"https://cdn.rawgit.com/bmabey/pyLDAvis/files/ldavis.v1.0.0.js\", function(){\n",
       "        new LDAvis(\"#\" + \"ldavis_el3696565345283606424892354\", ldavis_el3696565345283606424892354_data);\n",
       "      });\n",
       "    });\n",
       "}else{\n",
       "    // require.js not available: dynamically load d3 & LDAvis\n",
       "    LDAvis_load_lib(\"https://cdnjs.cloudflare.com/ajax/libs/d3/3.5.5/d3.min.js\", function(){\n",
       "         LDAvis_load_lib(\"https://cdn.rawgit.com/bmabey/pyLDAvis/files/ldavis.v1.0.0.js\", function(){\n",
       "                 new LDAvis(\"#\" + \"ldavis_el3696565345283606424892354\", ldavis_el3696565345283606424892354_data);\n",
       "            })\n",
       "         });\n",
       "}\n",
       "</script>"
      ],
      "text/plain": [
       "<IPython.core.display.HTML object>"
      ]
     },
     "execution_count": 31,
     "metadata": {},
     "output_type": "execute_result"
    }
   ],
   "source": [
    "lda.display_topic_model()"
   ]
  },
  {
   "cell_type": "code",
   "execution_count": null,
   "metadata": {},
   "outputs": [],
   "source": [
    "for name, group in df_prod.groupby('product'):\n",
    "    count = group.count()\n",
    "    if (count[1] > 100):\n",
    "        lda = LdaReviewAnalyzer(df_prod)\n",
    "        lda.fit_transform(num_topics=2, rating=[0,1])\n",
    "        topics_dict = lda.get_topics()\n",
    "        lda.display_topic_model()\n",
    "        print (name)\n",
    "        print (topics_dict)\n",
    "        print (\"____________\")"
   ]
  },
  {
   "cell_type": "code",
   "execution_count": null,
   "metadata": {},
   "outputs": [],
   "source": [
    "from src.w2v_review_analyzer import W2VReviewAnalyzer\n",
    "import pandas as pd\n",
    "df = pd.DataFrame()\n",
    "w2v = W2VReviewAnalyzer(df)\n",
    "# w2v.fit()"
   ]
  },
  {
   "cell_type": "code",
   "execution_count": null,
   "metadata": {},
   "outputs": [],
   "source": [
    "import pickle\n",
    "#pickle.dump( w2v.model, open( f'static/w2v.pkl', \"wb\" ) )\n",
    "w2v.model = pickle.load(open( f'static/w2v.pkl', \"rb\" ) )"
   ]
  },
  {
   "cell_type": "code",
   "execution_count": null,
   "metadata": {},
   "outputs": [],
   "source": [
    "w2v.model.wv.vocab\n"
   ]
  },
  {
   "cell_type": "code",
   "execution_count": null,
   "metadata": {},
   "outputs": [],
   "source": [
    "#w2v.model.wv.most_similar(positive=['samsung',['screen'])\n",
    "\n",
    "samsung_vec = w2v.model.wv.get_vector('samsung')\n",
    "broken_vec = w2v.model.wv.get_vector('broken')\n",
    "\n",
    "w2v.model.wv.most_similar(positive=['ln46c630','cost'])\n",
    "\n",
    "#w2v.model.wv.similarity('defective','samsung')"
   ]
  },
  {
   "cell_type": "code",
   "execution_count": null,
   "metadata": {},
   "outputs": [],
   "source": [
    "import tensorflow as tf\n",
    "import os\n",
    "from tensorflow.contrib.tensorboard.plugins import projector\n",
    "import warnings\n",
    "warnings.filterwarnings(\"ignore\")\n",
    "\n",
    "def visualize(model, output_path):\n",
    "    meta_file = \"w2x_metadata.tsv\"\n",
    "    placeholder = np.zeros((len(model.wv.index2word), 100))\n",
    "\n",
    "    with open(os.path.join(output_path,meta_file), 'wb') as file_metadata:\n",
    "        for i, word in enumerate(model.wv.index2word):\n",
    "            placeholder[i] = model[word]\n",
    "            # temporary solution for https://github.com/tensorflow/tensorflow/issues/9094\n",
    "            if word == '':\n",
    "                print(\"Emply Line, should replecaed by any thing else, or will cause a bug of tensorboard\")\n",
    "                file_metadata.write(\"{0}\".format('<Empty Line>').encode('utf-8') + b'\\n')\n",
    "            else:\n",
    "                file_metadata.write(\"{0}\".format(word).encode('utf-8') + b'\\n')\n",
    "\n",
    "    # define the model without training\n",
    "    sess = tf.InteractiveSession()\n",
    "\n",
    "    embedding = tf.Variable(placeholder, trainable = False, name = 'w2x_metadata')\n",
    "    tf.global_variables_initializer().run()\n",
    "\n",
    "    saver = tf.train.Saver()\n",
    "    writer = tf.summary.FileWriter(output_path, sess.graph)\n",
    "\n",
    "    # adding into projector\n",
    "    config = projector.ProjectorConfig()\n",
    "    embed = config.embeddings.add()\n",
    "    embed.tensor_name = 'w2x_metadata'\n",
    "    embed.metadata_path = meta_file\n",
    "\n",
    "    # Specify the width and height of a single thumbnail.\n",
    "    projector.visualize_embeddings(writer, config)\n",
    "    saver.save(sess, os.path.join(output_path,'w2x_metadata.ckpt'))\n",
    "    print('Run `tensorboard --logdir={0}` to run visualize result on tensorboard'.format(output_path))"
   ]
  },
  {
   "cell_type": "code",
   "execution_count": null,
   "metadata": {},
   "outputs": [],
   "source": [
    "\n",
    "visualize(w2v.model.wv, 'data/tensor/')"
   ]
  },
  {
   "cell_type": "code",
   "execution_count": null,
   "metadata": {},
   "outputs": [],
   "source": [
    "l = [{'a':4},{'b':2},{'c':3}]"
   ]
  },
  {
   "cell_type": "code",
   "execution_count": null,
   "metadata": {},
   "outputs": [],
   "source": [
    "sorted(l)"
   ]
  },
  {
   "cell_type": "code",
   "execution_count": null,
   "metadata": {},
   "outputs": [],
   "source": []
  }
 ],
 "metadata": {
  "kernelspec": {
   "display_name": "Python 3",
   "language": "python",
   "name": "python3"
  },
  "language_info": {
   "codemirror_mode": {
    "name": "ipython",
    "version": 3
   },
   "file_extension": ".py",
   "mimetype": "text/x-python",
   "name": "python",
   "nbconvert_exporter": "python",
   "pygments_lexer": "ipython3",
   "version": "3.6.4"
  }
 },
 "nbformat": 4,
 "nbformat_minor": 2
}
