{
 "cells": [
  {
   "cell_type": "code",
   "execution_count": 1,
   "metadata": {},
   "outputs": [],
   "source": [
    "from src.load_review_data import ReviewDataLoader\n",
    "rdl = ReviewDataLoader()\n",
    "#df = rdl.retrieve_reviews('65UJ6300')\n",
    "df = rdl.retrieve_all_reviews()"
   ]
  },
  {
   "cell_type": "code",
   "execution_count": 2,
   "metadata": {},
   "outputs": [
    {
     "data": {
      "text/html": [
       "<div>\n",
       "<style scoped>\n",
       "    .dataframe tbody tr th:only-of-type {\n",
       "        vertical-align: middle;\n",
       "    }\n",
       "\n",
       "    .dataframe tbody tr th {\n",
       "        vertical-align: top;\n",
       "    }\n",
       "\n",
       "    .dataframe thead th {\n",
       "        text-align: right;\n",
       "    }\n",
       "</style>\n",
       "<table border=\"1\" class=\"dataframe\">\n",
       "  <thead>\n",
       "    <tr style=\"text-align: right;\">\n",
       "      <th></th>\n",
       "      <th>id</th>\n",
       "      <th>product</th>\n",
       "      <th>url</th>\n",
       "      <th>p_no</th>\n",
       "      <th>r_no</th>\n",
       "      <th>r_stars</th>\n",
       "      <th>r_date</th>\n",
       "      <th>r_name</th>\n",
       "      <th>r_title</th>\n",
       "      <th>r_text</th>\n",
       "      <th>r_comments</th>\n",
       "      <th>brand_name</th>\n",
       "      <th>category</th>\n",
       "      <th>model</th>\n",
       "      <th>rating</th>\n",
       "      <th>reviews</th>\n",
       "    </tr>\n",
       "  </thead>\n",
       "  <tbody>\n",
       "    <tr>\n",
       "      <th>0</th>\n",
       "      <td>475</td>\n",
       "      <td>Samsung Electronics UN65MU6300 65-Inch 4K Ultr...</td>\n",
       "      <td>https://www.amazon.com/Samsung-Electronics-UN6...</td>\n",
       "      <td>1</td>\n",
       "      <td>1</td>\n",
       "      <td>5.0 out of 5 stars</td>\n",
       "      <td>August 28, 2017</td>\n",
       "      <td>James Barrow</td>\n",
       "      <td>Someone here complained that the television is...</td>\n",
       "      <td>Before I purchased this television, I read alm...</td>\n",
       "      <td>Verified Purchase          Helpful          No...</td>\n",
       "      <td>Samsung</td>\n",
       "      <td>tv</td>\n",
       "      <td>UN65MU6300</td>\n",
       "      <td>5</td>\n",
       "      <td>Someone here complained that the television is...</td>\n",
       "    </tr>\n",
       "    <tr>\n",
       "      <th>1</th>\n",
       "      <td>504</td>\n",
       "      <td>Samsung Electronics UN65MU6300 65-Inch 4K Ultr...</td>\n",
       "      <td>https://www.amazon.com/Samsung-Electronics-UN6...</td>\n",
       "      <td>3</td>\n",
       "      <td>30</td>\n",
       "      <td>5.0 out of 5 stars</td>\n",
       "      <td>June 25, 2017</td>\n",
       "      <td>Alex C. Tarpenning</td>\n",
       "      <td>This is a great tv, after all</td>\n",
       "      <td>This is a great tv, after all, its a Samsung. ...</td>\n",
       "      <td>Verified Purchase          Helpful          No...</td>\n",
       "      <td>Samsung</td>\n",
       "      <td>tv</td>\n",
       "      <td>UN65MU6300</td>\n",
       "      <td>5</td>\n",
       "      <td>This is a great tv, after all This is a great ...</td>\n",
       "    </tr>\n",
       "  </tbody>\n",
       "</table>\n",
       "</div>"
      ],
      "text/plain": [
       "    id                                            product  \\\n",
       "0  475  Samsung Electronics UN65MU6300 65-Inch 4K Ultr...   \n",
       "1  504  Samsung Electronics UN65MU6300 65-Inch 4K Ultr...   \n",
       "\n",
       "                                                 url  p_no  r_no  \\\n",
       "0  https://www.amazon.com/Samsung-Electronics-UN6...     1     1   \n",
       "1  https://www.amazon.com/Samsung-Electronics-UN6...     3    30   \n",
       "\n",
       "              r_stars           r_date              r_name  \\\n",
       "0  5.0 out of 5 stars  August 28, 2017        James Barrow   \n",
       "1  5.0 out of 5 stars    June 25, 2017  Alex C. Tarpenning   \n",
       "\n",
       "                                             r_title  \\\n",
       "0  Someone here complained that the television is...   \n",
       "1                      This is a great tv, after all   \n",
       "\n",
       "                                              r_text  \\\n",
       "0  Before I purchased this television, I read alm...   \n",
       "1  This is a great tv, after all, its a Samsung. ...   \n",
       "\n",
       "                                          r_comments brand_name category  \\\n",
       "0  Verified Purchase          Helpful          No...    Samsung       tv   \n",
       "1  Verified Purchase          Helpful          No...    Samsung       tv   \n",
       "\n",
       "        model  rating                                            reviews  \n",
       "0  UN65MU6300       5  Someone here complained that the television is...  \n",
       "1  UN65MU6300       5  This is a great tv, after all This is a great ...  "
      ]
     },
     "execution_count": 2,
     "metadata": {},
     "output_type": "execute_result"
    }
   ],
   "source": [
    "df.head(2)"
   ]
  },
  {
   "cell_type": "code",
   "execution_count": 6,
   "metadata": {
    "scrolled": true
   },
   "outputs": [
    {
     "name": "stderr",
     "output_type": "stream",
     "text": [
      "/Users/bhaskarballapragada/Documents/Galvanize/product_review_sentiments/src/LdaReviewAnalyzer2.py:40: DeprecationWarning: invalid escape sequence \\-\n",
      "  token_pattern='[a-zA-Z\\-][a-zA-Z\\-]{2,}')\n",
      "/anaconda3/lib/python3.6/site-packages/sklearn/decomposition/online_lda.py:294: DeprecationWarning: n_topics has been renamed to n_components in version 0.19 and will be removed in 0.21\n",
      "  DeprecationWarning)\n"
     ]
    },
    {
     "name": "stdout",
     "output_type": "stream",
     "text": [
      "topic 0 [137.43068529367167, 139.66903431483246, 161.38469490937277, 162.7971831185222, 163.7586936799302, 164.63742554273142, 197.78948291340828, 258.31116197516434, 330.5548519927113] [ 128 1001 1925  248  367  100 2028 1659 1540] 17088.287001206198\n",
      "topic 1 [65.96164438098606, 69.42185906011892, 72.85495754109574, 86.69275320423347, 93.00196037608909, 95.7996864785506, 98.44312979999462, 99.19458888681984, 108.90828284302904] [ 358 1925  742 1126  319 1029  812 1601 1117] 6832.5366263114665\n",
      "topic 2 [144.1041806242093, 155.84367448490417, 179.90581496544132, 185.24698129282083, 191.33261739327193, 204.59250445901202, 211.09691086598775, 250.04301085826978, 251.2056738898483] [ 172  205 1595 1597 1965 1540   73  947 1292] 18021.70623637986\n",
      "topic 3 [133.67474123157584, 140.29655174969957, 143.09907605736765, 145.0874982508587, 153.48177729033418, 176.01244044094062, 176.81011592582348, 177.28344616717604, 213.9087248650314] [1675 1001  947  884 1562   73 1830  769 1163] 15342.274008995082\n",
      "topic 4 [374.59492317972496, 517.8923417846534, 591.4334325970013, 633.3900529076251, 659.522961758034, 711.6504515142789, 733.5573604941972, 1169.6349950649594, 1704.8184977880867] [1597 1352  562 1402 1681 1042  769 1713 1292] 25358.159034617216\n"
     ]
    },
    {
     "data": {
      "text/plain": [
       "(3686, 2065)"
      ]
     },
     "execution_count": 6,
     "metadata": {},
     "output_type": "execute_result"
    }
   ],
   "source": [
    "from src.LdaReviewAnalyzer2 import LdaReviewAnalyzer\n",
    "lda = LdaReviewAnalyzer(df)\n",
    "data_vectorizer = lda.fit()\n",
    "tpc_dict = lda.get_topics()\n",
    "data_vectorizer.todense().shape\n"
   ]
  },
  {
   "cell_type": "code",
   "execution_count": 17,
   "metadata": {},
   "outputs": [
    {
     "data": {
      "text/plain": [
       "matrix([[0, 0, 0, ..., 0, 0, 0]])"
      ]
     },
     "execution_count": 17,
     "metadata": {},
     "output_type": "execute_result"
    }
   ],
   "source": [
    "import numpy as np\n",
    "data_vectorizer.todense()[128]"
   ]
  },
  {
   "cell_type": "code",
   "execution_count": 21,
   "metadata": {},
   "outputs": [
    {
     "name": "stderr",
     "output_type": "stream",
     "text": [
      "/anaconda3/lib/python3.6/site-packages/sklearn/decomposition/online_lda.py:294: DeprecationWarning: n_topics has been renamed to n_components in version 0.19 and will be removed in 0.21\n",
      "  DeprecationWarning)\n"
     ]
    }
   ],
   "source": [
    "from sklearn.decomposition import NMF, LatentDirichletAllocation\n",
    "from sklearn.feature_extraction.text import CountVectorizer\n",
    "\n",
    "n_topics = 5 # number of topics\n",
    "n_iter = 100 # number of iterations\n",
    "\n",
    "# vectorizer: ignore English stopwords & words that occur less than 5 times\n",
    "cvectorizer = CountVectorizer(min_df=5, stop_words='english')\n",
    "cvz = cvectorizer.fit_transform(df['reviews'].values)\n",
    "\n",
    "# train an LDA model\n",
    "lda_model = LatentDirichletAllocation(n_topics=n_topics, max_iter=10, learning_method='online', random_state=40)\n",
    "#lda_model = lda.LDA(n_topics=n_topics, n_iter=n_iter)\n",
    "X_topics = lda_model.fit_transform(cvz)"
   ]
  },
  {
   "cell_type": "code",
   "execution_count": null,
   "metadata": {},
   "outputs": [],
   "source": []
  }
 ],
 "metadata": {
  "kernelspec": {
   "display_name": "Python 3",
   "language": "python",
   "name": "python3"
  },
  "language_info": {
   "codemirror_mode": {
    "name": "ipython",
    "version": 3
   },
   "file_extension": ".py",
   "mimetype": "text/x-python",
   "name": "python",
   "nbconvert_exporter": "python",
   "pygments_lexer": "ipython3",
   "version": "3.6.4"
  }
 },
 "nbformat": 4,
 "nbformat_minor": 2
}
