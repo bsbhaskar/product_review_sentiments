{
 "cells": [
  {
   "cell_type": "code",
   "execution_count": 1,
   "metadata": {},
   "outputs": [
    {
     "name": "stdout",
     "output_type": "stream",
     "text": [
      "[nltk_data] Downloading package stopwords to\n",
      "[nltk_data]     /Users/bhaskarballapragada/nltk_data...\n",
      "[nltk_data]   Package stopwords is already up-to-date!\n",
      "[nltk_data] Downloading package wordnet to\n",
      "[nltk_data]     /Users/bhaskarballapragada/nltk_data...\n",
      "[nltk_data]   Package wordnet is already up-to-date!\n"
     ]
    },
    {
     "data": {
      "text/plain": [
       "True"
      ]
     },
     "execution_count": 1,
     "metadata": {},
     "output_type": "execute_result"
    }
   ],
   "source": [
    "import psycopg2\n",
    "import pandas as pd\n",
    "import nltk\n",
    "import spacy \n",
    "from nltk.stem.wordnet import WordNetLemmatizer\n",
    "from collections import Counter\n",
    "from nltk.corpus import stopwords\n",
    "import string\n",
    "import numpy as np\n",
    "from sklearn.naive_bayes import MultinomialNB, GaussianNB\n",
    "from sklearn.feature_extraction.text import TfidfVectorizer, CountVectorizer\n",
    "from src import galgraphs\n",
    "from sklearn.metrics import log_loss\n",
    "import matplotlib.pyplot as plt\n",
    "%matplotlib inline\n",
    "nltk.download('stopwords')\n",
    "nltk.download('wordnet')"
   ]
  },
  {
   "cell_type": "code",
   "execution_count": 2,
   "metadata": {},
   "outputs": [],
   "source": [
    "def retrieve_reviews(product):\n",
    "    conn = psycopg2.connect(dbname='product_reviews', user='postgres', password='', host='localhost')\n",
    "    cursor = conn.cursor()\n",
    "    p_no = 0\n",
    "    r_no = 0\n",
    "    cursor.execute(\"select * from reviews where r_comments like 'Verified%' product_name = '{}'\".format(product))\n",
    "    rows = cursor.fetchall()\n",
    "    df = pd.DataFrame(rows)\n",
    "    cursor.close()\n",
    "    conn.close()\n",
    "    return df\n",
    "\n",
    "def retrieve_all_reviews():\n",
    "    conn = psycopg2.connect(dbname='product_reviews', user='postgres', password='', host='localhost')\n",
    "    cursor = conn.cursor()\n",
    "    p_no = 0\n",
    "    r_no = 0\n",
    "    cursor.execute(\"select * from reviews where r_comments like 'Verified%' \")\n",
    "    rows = cursor.fetchall()\n",
    "    df = pd.DataFrame(rows)\n",
    "    cursor.close()\n",
    "    conn.close()\n",
    "    return df\n"
   ]
  },
  {
   "cell_type": "code",
   "execution_count": 3,
   "metadata": {},
   "outputs": [
    {
     "data": {
      "text/html": [
       "<div>\n",
       "<style scoped>\n",
       "    .dataframe tbody tr th:only-of-type {\n",
       "        vertical-align: middle;\n",
       "    }\n",
       "\n",
       "    .dataframe tbody tr th {\n",
       "        vertical-align: top;\n",
       "    }\n",
       "\n",
       "    .dataframe thead th {\n",
       "        text-align: right;\n",
       "    }\n",
       "</style>\n",
       "<table border=\"1\" class=\"dataframe\">\n",
       "  <thead>\n",
       "    <tr style=\"text-align: right;\">\n",
       "      <th></th>\n",
       "      <th>rating</th>\n",
       "      <th>product</th>\n",
       "      <th>reviews</th>\n",
       "    </tr>\n",
       "  </thead>\n",
       "  <tbody>\n",
       "    <tr>\n",
       "      <th>0</th>\n",
       "      <td>1</td>\n",
       "      <td>LG Electronics 65UJ6300 65-Inch 4K Ultra HD Sm...</td>\n",
       "      <td>TV Great, TruMotion Bad! Now that I found the ...</td>\n",
       "    </tr>\n",
       "    <tr>\n",
       "      <th>1</th>\n",
       "      <td>1</td>\n",
       "      <td>LG Electronics 65UJ6300 65-Inch 4K Ultra HD Sm...</td>\n",
       "      <td>Hint: Turn OFF Smart Picture Mode Hint: Turn o...</td>\n",
       "    </tr>\n",
       "    <tr>\n",
       "      <th>2</th>\n",
       "      <td>1</td>\n",
       "      <td>LG Electronics 65UJ6300 65-Inch 4K Ultra HD Sm...</td>\n",
       "      <td>43UJ6300 Needed an upgrade for my 7yr old HDTV...</td>\n",
       "    </tr>\n",
       "  </tbody>\n",
       "</table>\n",
       "</div>"
      ],
      "text/plain": [
       "   rating                                            product  \\\n",
       "0       1  LG Electronics 65UJ6300 65-Inch 4K Ultra HD Sm...   \n",
       "1       1  LG Electronics 65UJ6300 65-Inch 4K Ultra HD Sm...   \n",
       "2       1  LG Electronics 65UJ6300 65-Inch 4K Ultra HD Sm...   \n",
       "\n",
       "                                             reviews  \n",
       "0  TV Great, TruMotion Bad! Now that I found the ...  \n",
       "1  Hint: Turn OFF Smart Picture Mode Hint: Turn o...  \n",
       "2  43UJ6300 Needed an upgrade for my 7yr old HDTV...  "
      ]
     },
     "execution_count": 3,
     "metadata": {},
     "output_type": "execute_result"
    }
   ],
   "source": [
    "df = retrieve_all_reviews()\n",
    "columns = ['id','p_name','url','p_no','r_no','r_stars','r_date','r_name','r_title','r_text','r_comments']\n",
    "df.columns = columns\n",
    "\n",
    "df_new = df.copy()\n",
    "df_new = df_new[df_new['r_stars'].apply(lambda x: x in ['5.0 out of 5 stars','1.0 out of 5 stars'])]\n",
    "df_new['rating'] = df_new['r_stars'].apply(lambda x: 1 if x == '5.0 out of 5 stars' else 0)\n",
    "df_new = df_new[['rating','p_name','r_name','r_title','r_text']]\n",
    "\n",
    "df_nb = df_new[['rating','p_name']].copy()\n",
    "df_nb.columns = ['rating','product']\n",
    "df_nb['reviews'] = df['r_title'] + ' ' + df['r_text']\n",
    "df_nb.head(3)"
   ]
  },
  {
   "cell_type": "code",
   "execution_count": 13,
   "metadata": {},
   "outputs": [],
   "source": [
    "# from nltk.corpus import stopwords\n",
    "# from nltk.stem.wordnet import WordNetLemmatizer\n",
    "# import string\n",
    "# stopwords = set(stopwords.words('english'))\n",
    "# punctuation = set(string.punctuation)\n",
    "# lemmatize = WordNetLemmatizer()\n",
    "\n",
    "# def cleaning(article):\n",
    "#     one = \" \".join([i for i in article.lower().split() if i not in stopwords])\n",
    "#     two = \"\".join(i for i in one if i not in punctuation)\n",
    "#     three = \" \".join(lemmatize.lemmatize(i) for i in two.split())\n",
    "#     return three\n",
    "\n",
    "# df_text = df_new[['r_text']]\n",
    "# df_text.info()\n",
    "\n",
    "# data = df_text.applymap(cleaning)['r_text']\n",
    "# text = data\n",
    "# text_list = [i.split() for i in text]\n",
    "# len(text_list)"
   ]
  },
  {
   "cell_type": "code",
   "execution_count": 12,
   "metadata": {},
   "outputs": [
    {
     "name": "stderr",
     "output_type": "stream",
     "text": [
      "/anaconda3/lib/python3.6/site-packages/sklearn/model_selection/_split.py:2026: FutureWarning: From version 0.21, test_size will always complement train_size unless both are specified.\n",
      "  FutureWarning)\n"
     ]
    }
   ],
   "source": [
    "from sklearn.model_selection import train_test_split\n",
    "df_new['des'] = df_new['r_title'] + \" \" + df_new['r_text']\n",
    "df_new.head(2)\n",
    "X_train, X_test, y_train, y_test = train_test_split(df_new['des'], df_new['rating'], train_size=0.8)"
   ]
  },
  {
   "cell_type": "code",
   "execution_count": 14,
   "metadata": {},
   "outputs": [
    {
     "name": "stderr",
     "output_type": "stream",
     "text": [
      "/anaconda3/lib/python3.6/site-packages/sklearn/naive_bayes.py:461: RuntimeWarning: divide by zero encountered in log\n",
      "  self.class_log_prior_ = (np.log(self.class_count_) -\n"
     ]
    },
    {
     "name": "stdout",
     "output_type": "stream",
     "text": [
      "LG Electronics 65UJ6300 65-Inch 4K Ultra HD Smart LED TV (2017 Model) \n",
      "\n",
      "Positive Words \n",
      "\t ['excellent', 'value', 'use', 'amazing', 'clear', 'perfect', 'lg', 'easy', 'nice', 'sound', 'works', 'quality', 'awesome', 'price', 'good', 'love', 'picture', 'tv', 'great']\n",
      "\n",
      "Negative Words \n",
      "\t ['shattered', 'disappointed', 'working', 'damaged', 'arrival', 'defective', 'item', 'product', 'picture', 'opened', 'days', 'cracked', 'return', 'came', 'arrived', 'box', 'broken', 'screen', 'tv']\n",
      "______________________________________________________________________________\n",
      "Samsung Electronics UN65MU6300 65-Inch 4K Ultra HD Smart LED TV (2017 Model) \n",
      "\n",
      "Positive Words \n",
      "\t ['beautiful', 'works', 'happy', 'smart', 'amazing', 'awesome', 'sound', 'nice', 'samsung', 'set', 'quality', 'easy', 'price', 'excellent', 'good', 'love', 'picture', 'great', 'tv']\n",
      "\n",
      "Negative Words \n",
      "\t ['bought', 'customer', 'received', 'dont', 'cracked', 'problem', 'service', 'box', 'return', 'just', 'work', 'broken', 'buy', 'picture', 'working', 'remote', 'screen', 'star', 'samsung']\n",
      "______________________________________________________________________________\n",
      "Samsung Electronics UN65MU6500 Curved 65-Inch 4K Ultra HD Smart LED TV (2017 Model) \n",
      "\n",
      "Positive Words \n",
      "\t ['samsung', 'like', 'television', 'set', 'nice', 'perfect', 'easy', 'amazing', 'quality', 'price', 'beautiful', 'awesome', 'sound', 'excellent', 'good', 'picture', 'great', 'love', 'tv']\n",
      "\n",
      "Negative Words \n",
      "\t ['got', 'wont', 'product', 'came', 'smart', 'sound', 'refund', 'right', 'disappointed', 'return', 'damaged', 'amazon', 'screen', 'arrived', 'quality', 'picture', 'samsung', 'star', 'broken']\n",
      "______________________________________________________________________________\n",
      "Samsung Electronics UN65MU7000 65-Inch 4K Ultra HD Smart LED TV (2017 Model) \n",
      "\n",
      "Positive Words \n",
      "\t ['product', 'best', 'nice', 'remote', 'set', '4k', 'like', 'price', 'amazing', 'sound', 'quality', 'excellent', 'samsung', 'easy', 'love', 'good', 'picture', 'great', 'tv']\n",
      "\n",
      "Negative Words \n",
      "\t ['works', 'return', 'junk', 'power', 'great', 'months', 'good', 'worked', 'got', 'just', 'picture', 'buy', 'star', 'turn', 'screen', 'remote', 'broken', 'smart', 'samsung']\n",
      "______________________________________________________________________________\n",
      "Samsung Electronics UN65MU8000 65-Inch 4K Ultra HD Smart LED TV (2017 Model) \n",
      "\n",
      "Positive Words \n",
      "\t ['far', 'fantastic', 'sound', 'like', 'product', 'amazing', 'beautiful', 'set', 'good', 'quality', 'excellent', 'best', 'samsung', 'easy', 'awesome', 'love', 'picture', 'great', 'tv']\n",
      "\n",
      "Negative Words \n",
      "\t ['work', 'use', 'connect', 'just', 'product', 'turn', 'bought', 'days', 'way', 'disappointed', 'buy', 'week', 'support', 'box', 'broken', 'amazon', 'samsung', 'screen', 'star']\n",
      "______________________________________________________________________________\n",
      "None\n"
     ]
    }
   ],
   "source": [
    "nlp = spacy.load(\"en\")\n",
    "\n",
    "def pos_neg_sentiments(df_product):\n",
    "    #positive sentiments\n",
    "    g = df_product.groupby('p_name')\n",
    "    for name, group in g:\n",
    "        group_pos = group[group['rating'] == 1]\n",
    "        group_neg = group[group['rating'] == 0]\n",
    "        \n",
    "        if ((group_pos.shape[0] > 20) and (group_neg.shape[0] > 20)):\n",
    "            \n",
    "            tfidf_pos = TfidfVectorizer(stop_words='english',max_features=10000)\n",
    "\n",
    "            X_pos_descr_vectors = tfidf_pos.fit_transform(group_pos['des'])\n",
    "            nb_pos = MultinomialNB()\n",
    "            nb_pos.fit(X_pos_descr_vectors, group_pos['rating'].transpose()) \n",
    "            y_hat_pos = nb_pos.predict_proba(X_pos_descr_vectors)\n",
    "            arr = np.argsort(nb_pos.feature_log_prob_[0])[-20:-1]\n",
    "            list_of_pos_words = []\n",
    "            for i in arr:\n",
    "                list_of_pos_words.append(tfidf_pos.get_feature_names()[i])\n",
    "                \n",
    "            tfidf_neg = TfidfVectorizer(stop_words='english',max_features=10000)            \n",
    "            X_neg_descr_vectors = tfidf_neg.fit_transform(group_neg['des'])\n",
    "            nb_neg = MultinomialNB()\n",
    "            nb_neg.fit(X_neg_descr_vectors, group_neg['rating'].transpose()) \n",
    "            y_hat_neg = nb_neg.predict_proba(X_neg_descr_vectors)\n",
    "            arr = np.argsort(nb_neg.feature_log_prob_[0])[-20:-1]\n",
    "                \n",
    "            list_of_neg_words = []\n",
    "            for i in arr:\n",
    "                list_of_neg_words.append(tfidf_neg.get_feature_names()[i])\n",
    "\n",
    "            print (name, '\\n')    \n",
    "            print (\"Positive Words \\n\\t\", list_of_pos_words)\n",
    "            print (\"\\nNegative Words \\n\\t\", list_of_neg_words)\n",
    "            print (\"______________________________________________________________________________\")\n",
    "            tokens = nlp(' '.join(list_of_pos_words))\n",
    "            #for token1 in tokens:\n",
    "                #for token2 in tokens:\n",
    "                    #print(token1.text, token2.text, token1.similarity(token2))\n",
    "            \n",
    "            \n",
    "            \n",
    "\n",
    "print (pos_neg_sentiments(df_new))"
   ]
  },
  {
   "cell_type": "code",
   "execution_count": 4,
   "metadata": {},
   "outputs": [
    {
     "name": "stdout",
     "output_type": "stream",
     "text": [
      "[nltk_data] Downloading package stopwords to\n",
      "[nltk_data]     /Users/bhaskarballapragada/nltk_data...\n",
      "[nltk_data]   Package stopwords is already up-to-date!\n",
      "[nltk_data] Downloading package wordnet to\n",
      "[nltk_data]     /Users/bhaskarballapragada/nltk_data...\n",
      "[nltk_data]   Package wordnet is already up-to-date!\n"
     ]
    }
   ],
   "source": [
    "from src.naive_review_analyzer import NaiveReviewAnalyzer"
   ]
  },
  {
   "cell_type": "code",
   "execution_count": 5,
   "metadata": {},
   "outputs": [],
   "source": [
    "nra = NaiveReviewAnalyzer(df_nb)"
   ]
  },
  {
   "cell_type": "code",
   "execution_count": 6,
   "metadata": {},
   "outputs": [],
   "source": [
    "nra.create_bow()"
   ]
  },
  {
   "cell_type": "code",
   "execution_count": 8,
   "metadata": {},
   "outputs": [
    {
     "name": "stderr",
     "output_type": "stream",
     "text": [
      "/anaconda3/lib/python3.6/site-packages/sklearn/naive_bayes.py:461: RuntimeWarning: divide by zero encountered in log\n",
      "  self.class_log_prior_ = (np.log(self.class_count_) -\n"
     ]
    },
    {
     "name": "stdout",
     "output_type": "stream",
     "text": [
      "LG Electronics 65UJ6300 65-Inch 4K Ultra HD Smart LED TV (2017 Model) \n",
      "\t [('shattered', 'VERB'), ('disappointed', 'ADJ'), ('working', 'VERB'), ('damaged', 'VERB'), ('arrival', 'NOUN'), ('defective', 'ADJ'), ('item', 'NOUN'), ('product', 'NOUN'), ('picture', 'NOUN'), ('opened', 'VERB'), ('days', 'NOUN'), ('cracked', 'VERB'), ('return', 'NOUN'), ('came', 'VERB'), ('arrived', 'VERB'), ('box', 'NOUN'), ('broken', 'VERB'), ('screen', 'NOUN'), ('tv', 'NOUN')]\n",
      "LG Electronics 65UJ7700 65-Inch 4K Ultra HD Smart LED TV (2017 Model) \n",
      "\t [('switched', 'VERB'), ('best', 'ADJ'), ('gaming', 'NOUN'), ('watch', 'NOUN'), ('quality', 'NOUN'), ('box', 'NOUN'), ('blurry', 'VERB'), ('bought', 'VERB'), ('credit', 'NOUN'), ('screen', 'NOUN'), ('star', 'NOUN'), ('great', 'ADJ'), ('buy', 'NOUN'), ('received', 'VERB'), ('damaged', 'VERB'), ('returned', 'VERB'), ('sony', 'ADJ'), ('picture', 'NOUN'), ('lg', 'INTJ')]\n",
      "Samsung Electronics QN65Q7C Curved 65-Inch 4K Ultra HD Smart QLED TV (2017 Model) \n",
      "\t [('times', 'NOUN'), ('replacement', 'NOUN'), ('calling', 'VERB'), ('brings', 'VERB'), ('figure', 'NOUN'), ('software', 'NOUN'), ('person', 'NOUN'), ('time', 'NOUN'), ('came', 'VERB'), ('party', 'NOUN'), ('techconnect', 'NOUN'), ('work', 'NOUN'), ('going', 'VERB'), ('able', 'ADJ'), ('wednesday', 'NOUN'), ('didn', 'NOUN'), ('called', 'VERB'), ('tv', 'NOUN'), ('samsung', 'VERB')]\n",
      "Samsung Electronics QN65Q7F 65-Inch 4K Ultra HD Smart QLED TV (2017 Model) \n",
      "\t [('pixels', 'NOUN'), ('buy', 'VERB'), ('black', 'ADJ'), ('old', 'ADJ'), ('time', 'NOUN'), ('like', 'ADP'), ('dead', 'ADJ'), ('great', 'ADJ'), ('motion', 'NOUN'), ('bad', 'ADJ'), ('lines', 'NOUN'), ('got', 'VERB'), ('new', 'ADJ'), ('customer', 'NOUN'), ('service', 'NOUN'), ('picture', 'NOUN'), ('star', 'NOUN'), ('screen', 'NOUN'), ('samsung', 'VERB')]\n",
      "Samsung Electronics QN65Q8C Curved 65-Inch 4K Ultra HD Smart QLED TV (2017 Model) \n",
      "\t [('closed', 'VERB'), ('received', 'VERB'), ('retaped', 'ADJ'), ('screen', 'NOUN'), ('cracked', 'VERB'), ('damaged', 'VERB'), ('opened', 'VERB'), ('arrived', 'ADJ'), ('weeks', 'NOUN'), ('television', 'NOUN'), ('turn', 'NOUN'), ('like', 'ADP'), ('thinking', 'VERB'), ('buying', 'VERB'), ('recommend', 'VERB'), ('product', 'NOUN'), ('samsung', 'ADJ'), ('amazon', 'NOUN'), ('box', 'NOUN')]\n",
      "Samsung Electronics QN65Q9 65-Inch 4K Ultra HD Smart QLED TV (2017 Model) \n",
      "\t [('warehouse', 'NOUN'), ('help', 'NOUN'), ('stopped', 'VERB'), ('stuck', 'ADJ'), ('deals', 'NOUN'), ('tvs', 'ADV'), ('great', 'ADJ'), ('weeks', 'NOUN'), ('times', 'NOUN'), ('12', 'NUM'), ('2017', 'NUM'), ('past', 'ADP'), ('box', 'NOUN'), ('update', 'NOUN'), ('amazon', 'NOUN'), ('new', 'ADJ'), ('samsung', 'NOUN'), ('star', 'NOUN'), ('broke', 'VERB')]\n",
      "Samsung Electronics UN65MU6290 65-Inch 4K Ultra HD Smart LED TV (2017 Model) \n",
      "\t [('flickering', 'VERB'), ('loved', 'VERB'), ('replacement', 'NOUN'), ('money', 'NOUN'), ('repair', 'NOUN'), ('weeks', 'NOUN'), ('amazon', 'NOUN'), ('working', 'VERB'), ('shipped', 'VERB'), ('tvs', 'DET'), ('star', 'NOUN'), ('pixels', 'NOUN'), ('buy', 'VERB'), ('messed', 'VERB'), ('broken', 'ADJ'), ('great', 'ADJ'), ('screen', 'NOUN'), ('worked', 'VERB'), ('samsung', 'ADJ')]\n",
      "Samsung Electronics UN65MU6300 65-Inch 4K Ultra HD Smart LED TV (2017 Model) \n",
      "\t [('bought', 'VERB'), ('customer', 'NOUN'), ('received', 'VERB'), ('do', 'VERB'), ('nt', 'ADV'), ('cracked', 'ADJ'), ('problem', 'NOUN'), ('service', 'NOUN'), ('box', 'NOUN'), ('return', 'NOUN'), ('just', 'ADV'), ('work', 'NOUN'), ('broken', 'VERB'), ('buy', 'VERB'), ('picture', 'NOUN'), ('working', 'VERB'), ('remote', 'ADJ'), ('screen', 'NOUN'), ('star', 'NOUN'), ('samsung', 'VERB')]\n",
      "Samsung Electronics UN65MU6500 Curved 65-Inch 4K Ultra HD Smart LED TV (2017 Model) \n",
      "\t [('got', 'VERB'), ('wo', 'VERB'), ('nt', 'ADV'), ('product', 'NOUN'), ('came', 'VERB'), ('smart', 'ADJ'), ('sound', 'NOUN'), ('refund', 'VERB'), ('right', 'ADV'), ('disappointed', 'ADJ'), ('return', 'NOUN'), ('damaged', 'VERB'), ('amazon', 'NOUN'), ('screen', 'NOUN'), ('arrived', 'VERB'), ('quality', 'NOUN'), ('picture', 'NOUN'), ('samsung', 'VERB'), ('star', 'NOUN'), ('broken', 'VERB')]\n",
      "Samsung Electronics UN65MU7000 65-Inch 4K Ultra HD Smart LED TV (2017 Model) \n",
      "\t [('works', 'VERB'), ('return', 'VERB'), ('junk', 'NOUN'), ('power', 'NOUN'), ('great', 'ADJ'), ('months', 'NOUN'), ('good', 'ADJ'), ('worked', 'VERB'), ('got', 'VERB'), ('just', 'ADV'), ('picture', 'NOUN'), ('buy', 'VERB'), ('star', 'NOUN'), ('turn', 'VERB'), ('screen', 'NOUN'), ('remote', 'ADJ'), ('broken', 'VERB'), ('smart', 'ADJ'), ('samsung', 'NOUN')]\n",
      "Samsung Electronics UN65MU7500 Curved 65-Inch 4K Ultra HD Smart LED TV (2017 Model) \n",
      "\t [('went', 'VERB'), ('help', 'NOUN'), ('half', 'ADV'), ('new', 'ADJ'), ('brand', 'NOUN'), ('received', 'VERB'), ('refurbished', 'ADJ'), ('thought', 'NOUN'), ('think', 'VERB'), ('buyed', 'VERB'), ('got', 'VERB'), ('black', 'ADJ'), ('line', 'NOUN'), ('just', 'ADV'), ('middle', 'ADJ'), ('right', 'ADJ'), ('buy', 'NOUN'), ('picture', 'NOUN'), ('tv', 'NOUN')]\n",
      "Samsung Electronics UN65MU7600 Curved 65-Inch 4K Ultra HD Smart LED TV (2017 Model) \n",
      "\t [('time', 'NOUN'), ('smart', 'ADJ'), ('manual', 'NOUN'), ('guide', 'NOUN'), ('lasted', 'VERB'), ('phone', 'NOUN'), ('warranty', 'NOUN'), ('correctly', 'ADV'), ('cuz', 'VERB'), ('star', 'NOUN'), ('months', 'NOUN'), ('tv', 'ADP'), ('voice', 'NOUN'), ('waste', 'NOUN'), ('money', 'NOUN'), ('don', 'VERB'), ('later', 'ADV'), ('weeks', 'NOUN'), ('disappointed', 'ADJ')]\n",
      "Samsung Electronics UN65MU8000 65-Inch 4K Ultra HD Smart LED TV (2017 Model) \n",
      "\t [('work', 'NOUN'), ('use', 'NOUN'), ('connect', 'NOUN'), ('just', 'ADV'), ('product', 'NOUN'), ('turn', 'NOUN'), ('bought', 'VERB'), ('days', 'NOUN'), ('way', 'ADV'), ('disappointed', 'VERB'), ('buy', 'NOUN'), ('week', 'NOUN'), ('support', 'NOUN'), ('box', 'NOUN'), ('broken', 'VERB'), ('amazon', 'PROPN'), ('samsung', 'ADJ'), ('screen', 'NOUN'), ('star', 'NOUN')]\n",
      "Samsung Electronics UN65MU8500 Curved 65-Inch 4K Ultra HD Smart LED TV (2017 Model) \n",
      "\t [('comes', 'VERB'), ('newest', 'ADJ'), ('like', 'INTJ'), ('let', 'VERB'), ('kills', 'NOUN'), ('killed', 'VERB'), ('issues', 'NOUN'), ('initial', 'ADJ'), ('seconds', 'NOUN'), ('trying', 'VERB'), ('turn', 'NOUN'), ('called', 'VERB'), ('fresh', 'ADJ'), ('screen', 'NOUN'), ('samsung', 'NOUN'), ('tv', 'NOUN'), ('box', 'NOUN'), ('update', 'NOUN'), ('software', 'NOUN')]\n",
      "Samsung Electronics UN65MU9000 65-Inch 4K Ultra HD Smart LED TV (2017 Model) \n",
      "\t [('months', 'NOUN'), ('use', 'VERB'), ('common', 'ADJ'), ('issue', 'NOUN'), ('picture', 'NOUN'), ('stay', 'VERB'), ('going', 'VERB'), ('i', 'PRON'), ('m', 'VERB'), ('hdmi', 'ADJ'), ('buy', 'VERB'), ('connect', 'VERB'), ('connected', 'VERB'), ('screen', 'NOUN'), ('issues', 'NOUN'), ('internet', 'NOUN'), ('great', 'ADJ'), ('television', 'NOUN'), ('avoid', 'NOUN'), ('samsung', 'NOUN')]\n",
      "Samsung UN65LS003AFXZA Flat 65 LED 4K UHD The Frame SmartTV 2017 \n",
      "\t [('number', 'NOUN'), ('does', 'VERB'), ('nt', 'ADV'), ('propertly', 'ADV'), ('aparently', 'ADV'), ('module', 'ADJ'), ('problems', 'NOUN'), ('remote', 'ADJ'), ('days', 'NOUN'), ('problem', 'NOUN'), ('service', 'NOUN'), ('product', 'NOUN'), ('new', 'ADJ'), ('box', 'NOUN'), ('art', 'NOUN'), ('dumb', 'ADJ'), ('cable', 'NOUN'), ('quality', 'NOUN'), ('samsung', 'VERB'), ('work', 'NOUN')]\n",
      "Sony KD60X690E 60-Inch 4K Ultra HD Smart LED TV (2017 Model) \n",
      "\t [('issues', 'NOUN'), ('power', 'NOUN'), ('work', 'NOUN'), ('time', 'NOUN'), ('toxic', 'ADJ'), ('looks', 'VERB'), ('ok', 'ADJ'), ('hdr', 'ADJ'), ('quality', 'NOUN'), ('great', 'ADJ'), ('do', 'VERB'), ('nt', 'ADV'), ('buy', 'VERB'), ('expect', 'VERB'), ('arrived', 'VERB'), ('picture', 'NOUN'), ('screen', 'NOUN'), ('broken', 'VERB'), ('star', 'NOUN'), ('sony', 'NOUN')]\n"
     ]
    }
   ],
   "source": [
    "for name, group in df_nb.groupby('product'):\n",
    "    print(name, '\\n\\t',nra.create_word_list(product=name, rating=0))"
   ]
  },
  {
   "cell_type": "code",
   "execution_count": null,
   "metadata": {},
   "outputs": [],
   "source": []
  }
 ],
 "metadata": {
  "kernelspec": {
   "display_name": "Python 3",
   "language": "python",
   "name": "python3"
  },
  "language_info": {
   "codemirror_mode": {
    "name": "ipython",
    "version": 3
   },
   "file_extension": ".py",
   "mimetype": "text/x-python",
   "name": "python",
   "nbconvert_exporter": "python",
   "pygments_lexer": "ipython3",
   "version": "3.6.4"
  }
 },
 "nbformat": 4,
 "nbformat_minor": 2
}
