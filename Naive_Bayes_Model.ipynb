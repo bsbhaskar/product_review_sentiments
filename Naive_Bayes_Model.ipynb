{
 "cells": [
  {
   "cell_type": "code",
   "execution_count": 3,
   "metadata": {},
   "outputs": [
    {
     "name": "stdout",
     "output_type": "stream",
     "text": [
      "[nltk_data] Downloading package stopwords to\n",
      "[nltk_data]     /Users/bhaskarballapragada/nltk_data...\n",
      "[nltk_data]   Package stopwords is already up-to-date!\n",
      "[nltk_data] Downloading package wordnet to\n",
      "[nltk_data]     /Users/bhaskarballapragada/nltk_data...\n",
      "[nltk_data]   Package wordnet is already up-to-date!\n"
     ]
    },
    {
     "data": {
      "text/plain": [
       "True"
      ]
     },
     "execution_count": 3,
     "metadata": {},
     "output_type": "execute_result"
    }
   ],
   "source": [
    "import psycopg2\n",
    "import pandas as pd\n",
    "import nltk\n",
    "import spacy \n",
    "from nltk.stem.wordnet import WordNetLemmatizer\n",
    "from collections import Counter\n",
    "from nltk.corpus import stopwords\n",
    "import string\n",
    "import numpy as np\n",
    "from sklearn.naive_bayes import MultinomialNB, GaussianNB\n",
    "from sklearn.feature_extraction.text import TfidfVectorizer, CountVectorizer\n",
    "from src import galgraphs\n",
    "from sklearn.metrics import log_loss\n",
    "import matplotlib.pyplot as plt\n",
    "%matplotlib inline\n",
    "nltk.download('stopwords')\n",
    "nltk.download('wordnet')"
   ]
  },
  {
   "cell_type": "code",
   "execution_count": 4,
   "metadata": {},
   "outputs": [],
   "source": [
    "def retrieve_reviews(product):\n",
    "    conn = psycopg2.connect(dbname='product_reviews', user='postgres', password='', host='localhost')\n",
    "    cursor = conn.cursor()\n",
    "    p_no = 0\n",
    "    r_no = 0\n",
    "    cursor.execute(\"select * from reviews where r_comments like 'Verified%' product_name = '{}'\".format(product))\n",
    "    rows = cursor.fetchall()\n",
    "    df = pd.DataFrame(rows)\n",
    "    cursor.close()\n",
    "    conn.close()\n",
    "    return df\n",
    "\n",
    "def retrieve_all_reviews():\n",
    "    conn = psycopg2.connect(dbname='product_reviews', user='postgres', password='', host='localhost')\n",
    "    cursor = conn.cursor()\n",
    "    p_no = 0\n",
    "    r_no = 0\n",
    "    cursor.execute(\"select * from reviews where r_comments like 'Verified%' \")\n",
    "    rows = cursor.fetchall()\n",
    "    df = pd.DataFrame(rows)\n",
    "    cursor.close()\n",
    "    conn.close()\n",
    "    return df\n"
   ]
  },
  {
   "cell_type": "code",
   "execution_count": 5,
   "metadata": {},
   "outputs": [
    {
     "data": {
      "text/html": [
       "<div>\n",
       "<style scoped>\n",
       "    .dataframe tbody tr th:only-of-type {\n",
       "        vertical-align: middle;\n",
       "    }\n",
       "\n",
       "    .dataframe tbody tr th {\n",
       "        vertical-align: top;\n",
       "    }\n",
       "\n",
       "    .dataframe thead th {\n",
       "        text-align: right;\n",
       "    }\n",
       "</style>\n",
       "<table border=\"1\" class=\"dataframe\">\n",
       "  <thead>\n",
       "    <tr style=\"text-align: right;\">\n",
       "      <th></th>\n",
       "      <th>rating</th>\n",
       "      <th>product</th>\n",
       "      <th>reviews</th>\n",
       "    </tr>\n",
       "  </thead>\n",
       "  <tbody>\n",
       "    <tr>\n",
       "      <th>0</th>\n",
       "      <td>1</td>\n",
       "      <td>LG Electronics 65UJ6300 65-Inch 4K Ultra HD Sm...</td>\n",
       "      <td>TV Great, TruMotion Bad! Now that I found the ...</td>\n",
       "    </tr>\n",
       "    <tr>\n",
       "      <th>1</th>\n",
       "      <td>1</td>\n",
       "      <td>LG Electronics 65UJ6300 65-Inch 4K Ultra HD Sm...</td>\n",
       "      <td>Hint: Turn OFF Smart Picture Mode Hint: Turn o...</td>\n",
       "    </tr>\n",
       "    <tr>\n",
       "      <th>2</th>\n",
       "      <td>1</td>\n",
       "      <td>LG Electronics 65UJ6300 65-Inch 4K Ultra HD Sm...</td>\n",
       "      <td>43UJ6300 Needed an upgrade for my 7yr old HDTV...</td>\n",
       "    </tr>\n",
       "  </tbody>\n",
       "</table>\n",
       "</div>"
      ],
      "text/plain": [
       "   rating                                            product  \\\n",
       "0       1  LG Electronics 65UJ6300 65-Inch 4K Ultra HD Sm...   \n",
       "1       1  LG Electronics 65UJ6300 65-Inch 4K Ultra HD Sm...   \n",
       "2       1  LG Electronics 65UJ6300 65-Inch 4K Ultra HD Sm...   \n",
       "\n",
       "                                             reviews  \n",
       "0  TV Great, TruMotion Bad! Now that I found the ...  \n",
       "1  Hint: Turn OFF Smart Picture Mode Hint: Turn o...  \n",
       "2  43UJ6300 Needed an upgrade for my 7yr old HDTV...  "
      ]
     },
     "execution_count": 5,
     "metadata": {},
     "output_type": "execute_result"
    }
   ],
   "source": [
    "df = retrieve_all_reviews()\n",
    "columns = ['id','p_name','url','p_no','r_no','r_stars','r_date','r_name','r_title','r_text','r_comments']\n",
    "df.columns = columns\n",
    "\n",
    "df_new = df.copy()\n",
    "df_new = df_new[df_new['r_stars'].apply(lambda x: x in ['5.0 out of 5 stars','1.0 out of 5 stars'])]\n",
    "df_new['rating'] = df_new['r_stars'].apply(lambda x: 1 if x == '5.0 out of 5 stars' else 0)\n",
    "df_new = df_new[['rating','p_name','r_name','r_title','r_text']]\n",
    "\n",
    "df_nb = df_new[['rating','p_name']].copy()\n",
    "df_nb.columns = ['rating','product']\n",
    "df_nb['reviews'] = df['r_title'] + ' ' + df['r_text']\n",
    "df_nb.head(3)"
   ]
  },
  {
   "cell_type": "code",
   "execution_count": 13,
   "metadata": {},
   "outputs": [],
   "source": [
    "# from nltk.corpus import stopwords\n",
    "# from nltk.stem.wordnet import WordNetLemmatizer\n",
    "# import string\n",
    "# stopwords = set(stopwords.words('english'))\n",
    "# punctuation = set(string.punctuation)\n",
    "# lemmatize = WordNetLemmatizer()\n",
    "\n",
    "# def cleaning(article):\n",
    "#     one = \" \".join([i for i in article.lower().split() if i not in stopwords])\n",
    "#     two = \"\".join(i for i in one if i not in punctuation)\n",
    "#     three = \" \".join(lemmatize.lemmatize(i) for i in two.split())\n",
    "#     return three\n",
    "\n",
    "# df_text = df_new[['r_text']]\n",
    "# df_text.info()\n",
    "\n",
    "# data = df_text.applymap(cleaning)['r_text']\n",
    "# text = data\n",
    "# text_list = [i.split() for i in text]\n",
    "# len(text_list)"
   ]
  },
  {
   "cell_type": "code",
   "execution_count": 6,
   "metadata": {},
   "outputs": [
    {
     "name": "stderr",
     "output_type": "stream",
     "text": [
      "/anaconda3/lib/python3.6/site-packages/sklearn/model_selection/_split.py:2026: FutureWarning: From version 0.21, test_size will always complement train_size unless both are specified.\n",
      "  FutureWarning)\n"
     ]
    }
   ],
   "source": [
    "from sklearn.model_selection import train_test_split\n",
    "df_new['des'] = df_new['r_title'] + \" \" + df_new['r_text']\n",
    "df_new.head(2)\n",
    "X_train, X_test, y_train, y_test = train_test_split(df_new['des'], df_new['rating'], train_size=0.8)"
   ]
  },
  {
   "cell_type": "code",
   "execution_count": 14,
   "metadata": {},
   "outputs": [
    {
     "name": "stderr",
     "output_type": "stream",
     "text": [
      "/anaconda3/lib/python3.6/site-packages/sklearn/naive_bayes.py:461: RuntimeWarning: divide by zero encountered in log\n",
      "  self.class_log_prior_ = (np.log(self.class_count_) -\n"
     ]
    },
    {
     "name": "stdout",
     "output_type": "stream",
     "text": [
      "LG Electronics 65UJ6300 65-Inch 4K Ultra HD Smart LED TV (2017 Model) \n",
      "\n",
      "Positive Words \n",
      "\t ['excellent', 'value', 'use', 'amazing', 'clear', 'perfect', 'lg', 'easy', 'nice', 'sound', 'works', 'quality', 'awesome', 'price', 'good', 'love', 'picture', 'tv', 'great']\n",
      "\n",
      "Negative Words \n",
      "\t ['shattered', 'disappointed', 'working', 'damaged', 'arrival', 'defective', 'item', 'product', 'picture', 'opened', 'days', 'cracked', 'return', 'came', 'arrived', 'box', 'broken', 'screen', 'tv']\n",
      "______________________________________________________________________________\n",
      "Samsung Electronics UN65MU6300 65-Inch 4K Ultra HD Smart LED TV (2017 Model) \n",
      "\n",
      "Positive Words \n",
      "\t ['beautiful', 'works', 'happy', 'smart', 'amazing', 'awesome', 'sound', 'nice', 'samsung', 'set', 'quality', 'easy', 'price', 'excellent', 'good', 'love', 'picture', 'great', 'tv']\n",
      "\n",
      "Negative Words \n",
      "\t ['bought', 'customer', 'received', 'dont', 'cracked', 'problem', 'service', 'box', 'return', 'just', 'work', 'broken', 'buy', 'picture', 'working', 'remote', 'screen', 'star', 'samsung']\n",
      "______________________________________________________________________________\n",
      "Samsung Electronics UN65MU6500 Curved 65-Inch 4K Ultra HD Smart LED TV (2017 Model) \n",
      "\n",
      "Positive Words \n",
      "\t ['samsung', 'like', 'television', 'set', 'nice', 'perfect', 'easy', 'amazing', 'quality', 'price', 'beautiful', 'awesome', 'sound', 'excellent', 'good', 'picture', 'great', 'love', 'tv']\n",
      "\n",
      "Negative Words \n",
      "\t ['got', 'wont', 'product', 'came', 'smart', 'sound', 'refund', 'right', 'disappointed', 'return', 'damaged', 'amazon', 'screen', 'arrived', 'quality', 'picture', 'samsung', 'star', 'broken']\n",
      "______________________________________________________________________________\n",
      "Samsung Electronics UN65MU7000 65-Inch 4K Ultra HD Smart LED TV (2017 Model) \n",
      "\n",
      "Positive Words \n",
      "\t ['product', 'best', 'nice', 'remote', 'set', '4k', 'like', 'price', 'amazing', 'sound', 'quality', 'excellent', 'samsung', 'easy', 'love', 'good', 'picture', 'great', 'tv']\n",
      "\n",
      "Negative Words \n",
      "\t ['works', 'return', 'junk', 'power', 'great', 'months', 'good', 'worked', 'got', 'just', 'picture', 'buy', 'star', 'turn', 'screen', 'remote', 'broken', 'smart', 'samsung']\n",
      "______________________________________________________________________________\n",
      "Samsung Electronics UN65MU8000 65-Inch 4K Ultra HD Smart LED TV (2017 Model) \n",
      "\n",
      "Positive Words \n",
      "\t ['far', 'fantastic', 'sound', 'like', 'product', 'amazing', 'beautiful', 'set', 'good', 'quality', 'excellent', 'best', 'samsung', 'easy', 'awesome', 'love', 'picture', 'great', 'tv']\n",
      "\n",
      "Negative Words \n",
      "\t ['work', 'use', 'connect', 'just', 'product', 'turn', 'bought', 'days', 'way', 'disappointed', 'buy', 'week', 'support', 'box', 'broken', 'amazon', 'samsung', 'screen', 'star']\n",
      "______________________________________________________________________________\n",
      "None\n"
     ]
    }
   ],
   "source": [
    "nlp = spacy.load(\"en\")\n",
    "\n",
    "def pos_neg_sentiments(df_product):\n",
    "    #positive sentiments\n",
    "    g = df_product.groupby('p_name')\n",
    "    for name, group in g:\n",
    "        group_pos = group[group['rating'] == 1]\n",
    "        group_neg = group[group['rating'] == 0]\n",
    "        \n",
    "        if ((group_pos.shape[0] > 20) and (group_neg.shape[0] > 20)):\n",
    "            \n",
    "            tfidf_pos = TfidfVectorizer(stop_words='english',max_features=10000)\n",
    "\n",
    "            X_pos_descr_vectors = tfidf_pos.fit_transform(group_pos['des'])\n",
    "            nb_pos = MultinomialNB()\n",
    "            nb_pos.fit(X_pos_descr_vectors, group_pos['rating'].transpose()) \n",
    "            y_hat_pos = nb_pos.predict_proba(X_pos_descr_vectors)\n",
    "            arr = np.argsort(nb_pos.feature_log_prob_[0])[-20:-1]\n",
    "            list_of_pos_words = []\n",
    "            for i in arr:\n",
    "                list_of_pos_words.append(tfidf_pos.get_feature_names()[i])\n",
    "                \n",
    "            tfidf_neg = TfidfVectorizer(stop_words='english',max_features=10000)            \n",
    "            X_neg_descr_vectors = tfidf_neg.fit_transform(group_neg['des'])\n",
    "            nb_neg = MultinomialNB()\n",
    "            nb_neg.fit(X_neg_descr_vectors, group_neg['rating'].transpose()) \n",
    "            y_hat_neg = nb_neg.predict_proba(X_neg_descr_vectors)\n",
    "            arr = np.argsort(nb_neg.feature_log_prob_[0])[-20:-1]\n",
    "                \n",
    "            list_of_neg_words = []\n",
    "            for i in arr:\n",
    "                list_of_neg_words.append(tfidf_neg.get_feature_names()[i])\n",
    "\n",
    "            print (name, '\\n')    \n",
    "            print (\"Positive Words \\n\\t\", list_of_pos_words)\n",
    "            print (\"\\nNegative Words \\n\\t\", list_of_neg_words)\n",
    "            print (\"______________________________________________________________________________\")\n",
    "            tokens = nlp(' '.join(list_of_pos_words))\n",
    "            #for token1 in tokens:\n",
    "                #for token2 in tokens:\n",
    "                    #print(token1.text, token2.text, token1.similarity(token2))\n",
    "            \n",
    "            \n",
    "            \n",
    "\n",
    "print (pos_neg_sentiments(df_new))"
   ]
  },
  {
   "cell_type": "code",
   "execution_count": 7,
   "metadata": {},
   "outputs": [],
   "source": [
    "from src.naive_review_analyzer import NaiveReviewAnalyzer"
   ]
  },
  {
   "cell_type": "code",
   "execution_count": 8,
   "metadata": {},
   "outputs": [],
   "source": [
    "nra = NaiveReviewAnalyzer(df_nb)"
   ]
  },
  {
   "cell_type": "code",
   "execution_count": 9,
   "metadata": {},
   "outputs": [],
   "source": [
    "nra.create_bow()"
   ]
  },
  {
   "cell_type": "code",
   "execution_count": 11,
   "metadata": {},
   "outputs": [
    {
     "name": "stderr",
     "output_type": "stream",
     "text": [
      "/anaconda3/lib/python3.6/site-packages/sklearn/naive_bayes.py:461: RuntimeWarning: divide by zero encountered in log\n",
      "  self.class_log_prior_ = (np.log(self.class_count_) -\n"
     ]
    },
    {
     "name": "stdout",
     "output_type": "stream",
     "text": [
      "LG Electronics 65UJ6300 65-Inch 4K Ultra HD Smart LED TV (2017 Model) \n",
      "\t [('excellent', 'ADJ'), ('value', 'NOUN'), ('use', 'VERB'), ('amazing', 'ADJ'), ('clear', 'ADJ'), ('perfect', 'ADJ'), ('lg', 'ADV'), ('easy', 'ADV'), ('nice', 'ADJ'), ('sound', 'ADJ'), ('works', 'NOUN'), ('quality', 'ADV'), ('awesome', 'ADJ'), ('price', 'NOUN'), ('good', 'ADJ'), ('love', 'NOUN'), ('picture', 'NOUN'), ('tv', 'NOUN'), ('great', 'ADJ')]\n",
      "LG Electronics 65UJ7700 65-Inch 4K Ultra HD Smart LED TV (2017 Model) \n",
      "\t [('quality', 'NOUN'), ('amazing', 'ADJ'), ('like', 'ADP'), ('beautiful', 'ADJ'), ('4k', 'NUM'), ('lg', 'ADV'), ('easy', 'ADJ'), ('remote', 'ADV'), ('far', 'ADV'), ('happy', 'ADJ'), ('works', 'NOUN'), ('sound', 'ADJ'), ('price', 'NOUN'), ('awesome', 'ADJ'), ('good', 'ADJ'), ('love', 'NOUN'), ('picture', 'NOUN'), ('great', 'ADJ'), ('tv', 'NOUN')]\n",
      "Samsung Electronics QN65Q7C Curved 65-Inch 4K Ultra HD Smart QLED TV (2017 Model) \n",
      "\t [('set', 'VERB'), ('easy', 'ADV'), ('smart', 'ADJ'), ('better', 'ADJ'), ('quality', 'NOUN'), ('period', 'NOUN'), ('simply', 'ADV'), ('truely', 'ADV'), ('dislikes', 'VERB'), ('oh', 'INTJ'), ('seen', 'VERB'), ('samsung', 'NOUN'), ('like', 'ADP'), ('awesome', 'ADJ'), ('best', 'ADJ'), ('picture', 'NOUN'), ('great', 'ADJ'), ('love', 'NOUN'), ('stars', 'NOUN')]\n",
      "Samsung Electronics QN65Q7F 65-Inch 4K Ultra HD Smart QLED TV (2017 Model) \n",
      "\t [('just', 'ADV'), ('really', 'ADV'), ('nice', 'ADJ'), ('qled', 'ADJ'), ('colors', 'NOUN'), ('best', 'ADV'), ('beautiful', 'ADJ'), ('remote', 'NOUN'), ('set', 'VERB'), ('amazing', 'ADJ'), ('smart', 'ADJ'), ('4k', 'NOUN'), ('easy', 'ADJ'), ('samsung', 'NOUN'), ('like', 'ADP'), ('quality', 'NOUN'), ('great', 'ADJ'), ('picture', 'NOUN'), ('stars', 'NOUN')]\n",
      "Samsung Electronics QN65Q8C Curved 65-Inch 4K Ultra HD Smart QLED TV (2017 Model) \n",
      "\t [('series', 'NOUN'), ('view', 'VERB'), ('espectacular', 'ADJ'), ('expecting', 'VERB'), ('heavy', 'ADJ'), ('kinda', 'ADV'), ('good', 'ADJ'), ('love', 'NOUN'), ('day', 'NOUN'), ('works', 'VERB'), ('amazing', 'ADJ'), ('color', 'NOUN'), ('fantastic', 'ADJ'), ('satisfactory', 'ADJ'), ('sound', 'ADJ'), ('best', 'ADJ'), ('picture', 'NOUN'), ('great', 'ADJ'), ('tv', 'NOUN')]\n",
      "Samsung Electronics QN65Q9 65-Inch 4K Ultra HD Smart QLED TV (2017 Model) \n",
      "\t [('sling', 'VERB'), ('app', 'NOUN'), ('included', 'VERB'), ('use', 'NOUN'), ('4k', 'PROPN'), ('delivered', 'VERB'), ('savings', 'NOUN'), ('excellent', 'ADJ'), ('product', 'NOUN'), ('supreme', 'ADJ'), ('resolution', 'NOUN'), ('time', 'NOUN'), ('legs', 'NOUN'), ('amazing', 'ADJ'), ('tv', 'ADP'), ('best', 'ADJ'), ('picture', 'NOUN'), ('sound', 'NOUN'), ('great', 'ADJ')]\n",
      "Samsung Electronics UN65MU6290 65-Inch 4K Ultra HD Smart LED TV (2017 Model) \n",
      "\t [('amazing', 'ADJ'), ('sound', 'ADV'), ('fantastic', 'ADJ'), ('best', 'ADJ'), ('smart', 'ADJ'), ('excellent', 'ADJ'), ('value', 'NOUN'), ('samsung', 'VERB'), ('awesome', 'ADJ'), ('nice', 'ADJ'), ('features', 'NOUN'), ('easy', 'ADV'), ('good', 'ADJ'), ('quality', 'NOUN'), ('price', 'NOUN'), ('love', 'NOUN'), ('picture', 'NOUN'), ('great', 'ADJ'), ('tv', 'NOUN')]\n",
      "Samsung Electronics UN65MU6300 65-Inch 4K Ultra HD Smart LED TV (2017 Model) \n",
      "\t [('beautiful', 'ADJ'), ('works', 'NOUN'), ('happy', 'ADJ'), ('smart', 'ADJ'), ('amazing', 'ADJ'), ('awesome', 'ADJ'), ('sound', 'NOUN'), ('nice', 'ADJ'), ('samsung', 'NOUN'), ('set', 'VERB'), ('quality', 'NOUN'), ('easy', 'ADJ'), ('price', 'NOUN'), ('excellent', 'ADJ'), ('good', 'ADJ'), ('love', 'NOUN'), ('picture', 'NOUN'), ('great', 'ADJ'), ('tv', 'NOUN')]\n",
      "Samsung Electronics UN65MU6500 Curved 65-Inch 4K Ultra HD Smart LED TV (2017 Model) \n",
      "\t [('samsung', 'NOUN'), ('like', 'ADP'), ('television', 'NOUN'), ('set', 'VERB'), ('nice', 'ADJ'), ('perfect', 'ADJ'), ('easy', 'ADJ'), ('amazing', 'ADJ'), ('quality', 'NOUN'), ('price', 'NOUN'), ('beautiful', 'ADJ'), ('awesome', 'ADJ'), ('sound', 'ADJ'), ('excellent', 'ADJ'), ('good', 'ADJ'), ('picture', 'NOUN'), ('great', 'ADJ'), ('love', 'NOUN'), ('tv', 'NOUN')]\n",
      "Samsung Electronics UN65MU7000 65-Inch 4K Ultra HD Smart LED TV (2017 Model) \n",
      "\t [('product', 'NOUN'), ('best', 'ADV'), ('nice', 'ADJ'), ('remote', 'ADJ'), ('set', 'VERB'), ('4k', 'NOUN'), ('like', 'ADP'), ('price', 'NOUN'), ('amazing', 'ADJ'), ('sound', 'ADJ'), ('quality', 'NOUN'), ('excellent', 'ADJ'), ('samsung', 'NOUN'), ('easy', 'ADJ'), ('love', 'NOUN'), ('good', 'ADJ'), ('picture', 'NOUN'), ('great', 'ADJ'), ('tv', 'NOUN')]\n",
      "Samsung Electronics UN65MU7500 Curved 65-Inch 4K Ultra HD Smart LED TV (2017 Model) \n",
      "\t [('nice', 'ADJ'), ('price', 'NOUN'), ('excellent', 'ADJ'), ('looks', 'VERB'), ('sound', 'ADJ'), ('works', 'NOUN'), ('smart', 'ADJ'), ('product', 'NOUN'), ('fantastic', 'ADJ'), ('samsung', 'VERB'), ('best', 'ADV'), ('like', 'ADP'), ('screen', 'NOUN'), ('curved', 'ADJ'), ('good', 'ADJ'), ('love', 'NOUN'), ('picture', 'NOUN'), ('great', 'ADJ'), ('tv', 'NOUN')]\n",
      "Samsung Electronics UN65MU7600 Curved 65-Inch 4K Ultra HD Smart LED TV (2017 Model) \n",
      "\t [('item', 'NOUN'), ('amazing', 'ADJ'), ('like', 'ADP'), ('set', 'VERB'), ('nice', 'ADJ'), ('veryhappylovethetv', 'NOUN'), ('monitor', 'NOUN'), ('4k', 'NUM'), ('curved', 'ADJ'), ('price', 'NOUN'), ('beautiful', 'ADJ'), ('excellent', 'ADJ'), ('quality', 'NOUN'), ('good', 'ADJ'), ('samsung', 'ADJ'), ('picture', 'NOUN'), ('great', 'ADJ'), ('tv', 'NOUN'), ('love', 'NOUN')]\n",
      "Samsung Electronics UN65MU8000 65-Inch 4K Ultra HD Smart LED TV (2017 Model) \n",
      "\t [('far', 'ADV'), ('fantastic', 'ADJ'), ('sound', 'NOUN'), ('like', 'ADP'), ('product', 'NOUN'), ('amazing', 'ADJ'), ('beautiful', 'ADJ'), ('set', 'VERB'), ('good', 'ADJ'), ('quality', 'NOUN'), ('excellent', 'ADJ'), ('best', 'ADJ'), ('samsung', 'ADJ'), ('easy', 'ADJ'), ('awesome', 'ADJ'), ('love', 'NOUN'), ('picture', 'NOUN'), ('great', 'ADJ'), ('tv', 'NOUN')]\n",
      "Samsung Electronics UN65MU8500 Curved 65-Inch 4K Ultra HD Smart LED TV (2017 Model) \n",
      "\t [('4k', 'NOUN'), ('easy', 'ADV'), ('far', 'ADV'), ('set', 'VERB'), ('awesome', 'ADJ'), ('money', 'NOUN'), ('price', 'NOUN'), ('purchase', 'NOUN'), ('product', 'NOUN'), ('beautiful', 'ADJ'), ('good', 'ADJ'), ('sound', 'ADJ'), ('quality', 'NOUN'), ('nice', 'ADJ'), ('best', 'ADJ'), ('love', 'NOUN'), ('picture', 'NOUN'), ('great', 'ADJ'), ('tv', 'NOUN')]\n",
      "Samsung Electronics UN65MU9000 65-Inch 4K Ultra HD Smart LED TV (2017 Model) \n",
      "\t [('best', 'ADJ'), ('like', 'ADP'), ('beautiful', 'ADJ'), ('easy', 'ADJ'), ('amazing', 'ADJ'), ('really', 'ADV'), ('far', 'ADV'), ('set', 'ADJ'), ('quality', 'NOUN'), ('price', 'NOUN'), ('love', 'NOUN'), ('4k', 'NUM'), ('samsung', 'ADJ'), ('remote', 'ADJ'), ('awesome', 'ADJ'), ('good', 'ADJ'), ('picture', 'NOUN'), ('great', 'ADJ'), ('stars', 'NOUN')]\n",
      "Samsung UN65LS003AFXZA Flat 65 LED 4K UHD The Frame SmartTV 2017 \n",
      "\t [('family', 'NOUN'), ('happy', 'ADJ'), ('frame', 'NOUN'), ('cable', 'NOUN'), ('purchase', 'NOUN'), ('fabulous', 'ADJ'), ('pictures', 'NOUN'), ('satisfied', 'ADJ'), ('room', 'NOUN'), ('living', 'VERB'), ('love', 'VERB'), ('people', 'NOUN'), ('definition', 'VERB'), ('beautiful', 'ADJ'), ('awesome', 'ADJ'), ('picture', 'NOUN'), ('art', 'NOUN'), ('stars', 'NOUN'), ('great', 'ADJ')]\n",
      "Sony KD60X690E 60-Inch 4K Ultra HD Smart LED TV (2017 Model) \n",
      "\t [('just', 'ADV'), ('buy', 'VERB'), ('use', 'NOUN'), ('4k', 'NOUN'), ('easy', 'ADJ'), ('sound', 'NOUN'), ('really', 'ADV'), ('set', 'VERB'), ('happy', 'ADJ'), ('price', 'NOUN'), ('awesome', 'ADJ'), ('excellent', 'ADJ'), ('quality', 'NOUN'), ('love', 'NOUN'), ('sony', 'ADJ'), ('good', 'ADJ'), ('picture', 'NOUN'), ('tv', 'ADP'), ('great', 'ADJ')]\n"
     ]
    }
   ],
   "source": [
    "for name, group in df_nb.groupby('product'):\n",
    "    print(name, '\\n\\t',nra.create_word_list(product=name, rating=1))"
   ]
  },
  {
   "cell_type": "code",
   "execution_count": null,
   "metadata": {},
   "outputs": [],
   "source": []
  }
 ],
 "metadata": {
  "kernelspec": {
   "display_name": "Python 3",
   "language": "python",
   "name": "python3"
  },
  "language_info": {
   "codemirror_mode": {
    "name": "ipython",
    "version": 3
   },
   "file_extension": ".py",
   "mimetype": "text/x-python",
   "name": "python",
   "nbconvert_exporter": "python",
   "pygments_lexer": "ipython3",
   "version": "3.6.4"
  }
 },
 "nbformat": 4,
 "nbformat_minor": 2
}
