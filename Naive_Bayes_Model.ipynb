{
 "cells": [
  {
   "cell_type": "code",
   "execution_count": 68,
   "metadata": {},
   "outputs": [],
   "source": [
    "import psycopg2\n",
    "import pandas as pd\n",
    "import nltk\n",
    "from nltk.stem.wordnet import WordNetLemmatizer\n",
    "from collections import Counter\n",
    "from nltk.corpus import stopwords\n",
    "import string\n",
    "import numpy as np\n",
    "from sklearn.naive_bayes import MultinomialNB, GaussianNB\n",
    "from sklearn.feature_extraction.text import TfidfVectorizer, CountVectorizer\n",
    "from src import galgraphs\n",
    "from sklearn.metrics import log_loss\n",
    "import matplotlib.pyplot as plt\n",
    "%matplotlib inline"
   ]
  },
  {
   "cell_type": "code",
   "execution_count": 4,
   "metadata": {},
   "outputs": [],
   "source": [
    "def retrieve_reviews(product):\n",
    "    conn = psycopg2.connect(dbname='product_reviews', user='postgres', password='', host='localhost')\n",
    "    cursor = conn.cursor()\n",
    "    p_no = 0\n",
    "    r_no = 0\n",
    "    cursor.execute(\"select * from reviews where product_name = '{}'\".format(product))\n",
    "    rows = cursor.fetchall()\n",
    "    df = pd.DataFrame(rows)\n",
    "    cursor.close()\n",
    "    conn.close()\n",
    "    return df\n",
    "\n",
    "def retrieve_all_reviews():\n",
    "    conn = psycopg2.connect(dbname='product_reviews', user='postgres', password='', host='localhost')\n",
    "    cursor = conn.cursor()\n",
    "    p_no = 0\n",
    "    r_no = 0\n",
    "    cursor.execute(\"select * from reviews\")\n",
    "    rows = cursor.fetchall()\n",
    "    df = pd.DataFrame(rows)\n",
    "    cursor.close()\n",
    "    conn.close()\n",
    "    return df\n"
   ]
  },
  {
   "cell_type": "code",
   "execution_count": 9,
   "metadata": {},
   "outputs": [
    {
     "data": {
      "text/html": [
       "<div>\n",
       "<style scoped>\n",
       "    .dataframe tbody tr th:only-of-type {\n",
       "        vertical-align: middle;\n",
       "    }\n",
       "\n",
       "    .dataframe tbody tr th {\n",
       "        vertical-align: top;\n",
       "    }\n",
       "\n",
       "    .dataframe thead th {\n",
       "        text-align: right;\n",
       "    }\n",
       "</style>\n",
       "<table border=\"1\" class=\"dataframe\">\n",
       "  <thead>\n",
       "    <tr style=\"text-align: right;\">\n",
       "      <th></th>\n",
       "      <th>id</th>\n",
       "      <th>p_name</th>\n",
       "      <th>url</th>\n",
       "      <th>p_no</th>\n",
       "      <th>r_no</th>\n",
       "      <th>r_stars</th>\n",
       "      <th>r_date</th>\n",
       "      <th>r_name</th>\n",
       "      <th>r_title</th>\n",
       "      <th>r_text</th>\n",
       "      <th>r_comments</th>\n",
       "    </tr>\n",
       "  </thead>\n",
       "  <tbody>\n",
       "    <tr>\n",
       "      <th>0</th>\n",
       "      <td>1</td>\n",
       "      <td>LG Electronics 65UJ6300 65-Inch 4K Ultra HD Sm...</td>\n",
       "      <td>https://www.amazon.com/LG-Electronics-65UJ6300...</td>\n",
       "      <td>1</td>\n",
       "      <td>1</td>\n",
       "      <td>5.0 out of 5 stars</td>\n",
       "      <td>September 22, 2017</td>\n",
       "      <td>Prime Customer</td>\n",
       "      <td>TV Great, TruMotion Bad!</td>\n",
       "      <td>Now that I found the TruMotion setting so that...</td>\n",
       "      <td>Verified Purchase          Helpful          No...</td>\n",
       "    </tr>\n",
       "    <tr>\n",
       "      <th>1</th>\n",
       "      <td>2</td>\n",
       "      <td>LG Electronics 65UJ6300 65-Inch 4K Ultra HD Sm...</td>\n",
       "      <td>https://www.amazon.com/LG-Electronics-65UJ6300...</td>\n",
       "      <td>1</td>\n",
       "      <td>2</td>\n",
       "      <td>5.0 out of 5 stars</td>\n",
       "      <td>December 30, 2017</td>\n",
       "      <td>GMC</td>\n",
       "      <td>Hint: Turn OFF Smart Picture Mode</td>\n",
       "      <td>Hint: Turn off Smart Picture Mode and then tur...</td>\n",
       "      <td>Verified Purchase          Helpful          No...</td>\n",
       "    </tr>\n",
       "  </tbody>\n",
       "</table>\n",
       "</div>"
      ],
      "text/plain": [
       "   id                                             p_name  \\\n",
       "0   1  LG Electronics 65UJ6300 65-Inch 4K Ultra HD Sm...   \n",
       "1   2  LG Electronics 65UJ6300 65-Inch 4K Ultra HD Sm...   \n",
       "\n",
       "                                                 url  p_no  r_no  \\\n",
       "0  https://www.amazon.com/LG-Electronics-65UJ6300...     1     1   \n",
       "1  https://www.amazon.com/LG-Electronics-65UJ6300...     1     2   \n",
       "\n",
       "              r_stars              r_date          r_name  \\\n",
       "0  5.0 out of 5 stars  September 22, 2017  Prime Customer   \n",
       "1  5.0 out of 5 stars   December 30, 2017             GMC   \n",
       "\n",
       "                             r_title  \\\n",
       "0           TV Great, TruMotion Bad!   \n",
       "1  Hint: Turn OFF Smart Picture Mode   \n",
       "\n",
       "                                              r_text  \\\n",
       "0  Now that I found the TruMotion setting so that...   \n",
       "1  Hint: Turn off Smart Picture Mode and then tur...   \n",
       "\n",
       "                                          r_comments  \n",
       "0  Verified Purchase          Helpful          No...  \n",
       "1  Verified Purchase          Helpful          No...  "
      ]
     },
     "execution_count": 9,
     "metadata": {},
     "output_type": "execute_result"
    }
   ],
   "source": [
    "df = retrieve_all_reviews()\n",
    "columns = ['id','p_name','url','p_no','r_no','r_stars','r_date','r_name','r_title','r_text','r_comments']\n",
    "df.columns = columns\n",
    "df.head(2)"
   ]
  },
  {
   "cell_type": "code",
   "execution_count": 11,
   "metadata": {},
   "outputs": [
    {
     "data": {
      "text/html": [
       "<div>\n",
       "<style scoped>\n",
       "    .dataframe tbody tr th:only-of-type {\n",
       "        vertical-align: middle;\n",
       "    }\n",
       "\n",
       "    .dataframe tbody tr th {\n",
       "        vertical-align: top;\n",
       "    }\n",
       "\n",
       "    .dataframe thead th {\n",
       "        text-align: right;\n",
       "    }\n",
       "</style>\n",
       "<table border=\"1\" class=\"dataframe\">\n",
       "  <thead>\n",
       "    <tr style=\"text-align: right;\">\n",
       "      <th></th>\n",
       "      <th>rating</th>\n",
       "      <th>p_name</th>\n",
       "      <th>r_name</th>\n",
       "      <th>r_title</th>\n",
       "      <th>r_text</th>\n",
       "    </tr>\n",
       "  </thead>\n",
       "  <tbody>\n",
       "    <tr>\n",
       "      <th>0</th>\n",
       "      <td>1</td>\n",
       "      <td>LG Electronics 65UJ6300 65-Inch 4K Ultra HD Sm...</td>\n",
       "      <td>Prime Customer</td>\n",
       "      <td>TV Great, TruMotion Bad!</td>\n",
       "      <td>Now that I found the TruMotion setting so that...</td>\n",
       "    </tr>\n",
       "    <tr>\n",
       "      <th>1</th>\n",
       "      <td>1</td>\n",
       "      <td>LG Electronics 65UJ6300 65-Inch 4K Ultra HD Sm...</td>\n",
       "      <td>GMC</td>\n",
       "      <td>Hint: Turn OFF Smart Picture Mode</td>\n",
       "      <td>Hint: Turn off Smart Picture Mode and then tur...</td>\n",
       "    </tr>\n",
       "    <tr>\n",
       "      <th>2</th>\n",
       "      <td>1</td>\n",
       "      <td>LG Electronics 65UJ6300 65-Inch 4K Ultra HD Sm...</td>\n",
       "      <td>AncientGhost</td>\n",
       "      <td>43UJ6300</td>\n",
       "      <td>Needed an upgrade for my 7yr old HDTV and deci...</td>\n",
       "    </tr>\n",
       "  </tbody>\n",
       "</table>\n",
       "</div>"
      ],
      "text/plain": [
       "   rating                                             p_name          r_name  \\\n",
       "0       1  LG Electronics 65UJ6300 65-Inch 4K Ultra HD Sm...  Prime Customer   \n",
       "1       1  LG Electronics 65UJ6300 65-Inch 4K Ultra HD Sm...             GMC   \n",
       "2       1  LG Electronics 65UJ6300 65-Inch 4K Ultra HD Sm...    AncientGhost   \n",
       "\n",
       "                             r_title  \\\n",
       "0           TV Great, TruMotion Bad!   \n",
       "1  Hint: Turn OFF Smart Picture Mode   \n",
       "2                           43UJ6300   \n",
       "\n",
       "                                              r_text  \n",
       "0  Now that I found the TruMotion setting so that...  \n",
       "1  Hint: Turn off Smart Picture Mode and then tur...  \n",
       "2  Needed an upgrade for my 7yr old HDTV and deci...  "
      ]
     },
     "execution_count": 11,
     "metadata": {},
     "output_type": "execute_result"
    }
   ],
   "source": [
    "df_new = df.copy()\n",
    "df_new = df_new[df_new['r_stars'].apply(lambda x: x in ['5.0 out of 5 stars','1.0 out of 5 stars'])]\n",
    "df_new['rating'] = df_new['r_stars'].apply(lambda x: 1 if x == '5.0 out of 5 stars' else 0)\n",
    "df_new = df_new[['rating','p_name','r_name','r_title','r_text']]\n",
    "df_new.head(3)"
   ]
  },
  {
   "cell_type": "code",
   "execution_count": 12,
   "metadata": {},
   "outputs": [
    {
     "name": "stdout",
     "output_type": "stream",
     "text": [
      "[nltk_data] Downloading package stopwords to\n",
      "[nltk_data]     /Users/bhaskarballapragada/nltk_data...\n",
      "[nltk_data]   Package stopwords is already up-to-date!\n",
      "[nltk_data] Downloading package wordnet to\n",
      "[nltk_data]     /Users/bhaskarballapragada/nltk_data...\n",
      "[nltk_data]   Package wordnet is already up-to-date!\n"
     ]
    },
    {
     "data": {
      "text/plain": [
       "True"
      ]
     },
     "execution_count": 12,
     "metadata": {},
     "output_type": "execute_result"
    }
   ],
   "source": [
    "nltk.download('stopwords')\n",
    "nltk.download('wordnet')"
   ]
  },
  {
   "cell_type": "code",
   "execution_count": 13,
   "metadata": {},
   "outputs": [],
   "source": [
    "# from nltk.corpus import stopwords\n",
    "# from nltk.stem.wordnet import WordNetLemmatizer\n",
    "# import string\n",
    "# stopwords = set(stopwords.words('english'))\n",
    "# punctuation = set(string.punctuation)\n",
    "# lemmatize = WordNetLemmatizer()\n",
    "\n",
    "# def cleaning(article):\n",
    "#     one = \" \".join([i for i in article.lower().split() if i not in stopwords])\n",
    "#     two = \"\".join(i for i in one if i not in punctuation)\n",
    "#     three = \" \".join(lemmatize.lemmatize(i) for i in two.split())\n",
    "#     return three\n",
    "\n",
    "# df_text = df_new[['r_text']]\n",
    "# df_text.info()\n",
    "\n",
    "# data = df_text.applymap(cleaning)['r_text']\n",
    "# text = data\n",
    "# text_list = [i.split() for i in text]\n",
    "# len(text_list)"
   ]
  },
  {
   "cell_type": "code",
   "execution_count": 172,
   "metadata": {},
   "outputs": [
    {
     "name": "stderr",
     "output_type": "stream",
     "text": [
      "/anaconda3/lib/python3.6/site-packages/sklearn/model_selection/_split.py:2026: FutureWarning: From version 0.21, test_size will always complement train_size unless both are specified.\n",
      "  FutureWarning)\n"
     ]
    }
   ],
   "source": [
    "from sklearn.model_selection import train_test_split\n",
    "df_new['des'] = df_new['r_title'] + \" \" + df_new['r_text']\n",
    "df_new.head(2)\n",
    "X_train, X_test, y_train, y_test = train_test_split(df_new['des'], df_new['rating'], train_size=0.8)"
   ]
  },
  {
   "cell_type": "code",
   "execution_count": 173,
   "metadata": {},
   "outputs": [],
   "source": [
    "def pos_neg_sentiments(df_product):\n",
    "    #positive sentiments\n",
    "    g = df_product.groupby('p_name')\n",
    "    for name, group in g:\n",
    "        tfidf = TfidfVectorizer(stop_words='english',max_features=10000)\n",
    "        X_descr_vectors = tfidf.fit_transform(group['des'])\n",
    "        nb = MultinomialNB()\n",
    "        nb.fit(X_descr_vectors, group['rating'].transpose()) \n",
    "        y_hat = nb.predict_proba(X_descr_vectors)\n",
    "        arr = np.argsort(nb.feature_log_prob_[0])[-30:-1]\n",
    "        print (name)\n",
    "        list_of_words = []\n",
    "        for i in arr:\n",
    "            list_of_words.append(tfidf.get_feature_names()[i])\n",
    "        print (\"\\t\",list_of_words)\n",
    "        print (\"______________________________________________________________________________\")"
   ]
  },
  {
   "cell_type": "code",
   "execution_count": 174,
   "metadata": {},
   "outputs": [
    {
     "name": "stderr",
     "output_type": "stream",
     "text": [
      "/anaconda3/lib/python3.6/site-packages/sklearn/naive_bayes.py:461: RuntimeWarning: divide by zero encountered in log\n",
      "  self.class_log_prior_ = (np.log(self.class_count_) -\n"
     ]
    },
    {
     "name": "stdout",
     "output_type": "stream",
     "text": [
      "LG 60SJ8000 60-Inch 4K TV - Smart - HDR - LED - SJ8000\n",
      "\t ['sony', 'giving', 'buying', 'buy', 'trouble', 'bought', 'changed', 'came', 'samsung', 'auto', 'days', 'dim', 'products', 'lg', 'power', 'performed', 'worst', 'dimmest', 'currently', 'section', 'listed', 'box', 'customer', 'open', 'damage', 'service', 'cracks', 'picture', 'oled']\n",
      "______________________________________________________________________________\n",
      "LG 65SJ8000 65 WebOS 3.5 Smart UHD 4K HDR LED HDTV\n",
      "\t ['models', 'logo', 'like', 'helmets', 'lower', 'clear', 'better', 'blurry', 'close', 'hd', 'awful', 'tvs', 'bad', 'banding', 'problem', 'buy', 'hockey', 'number', 'defective', 'motion', 'distracting', 'vertical', 'especially', 'issue', 'panning', 'tv', 'extremely', 'picture', 'watching']\n",
      "______________________________________________________________________________\n",
      "LG Electronics 65UJ6300 65-Inch 4K Ultra HD Smart LED TV (2017 Model)\n",
      "\t ['bought', 'just', 'went', 'working', 'white', 'disappointed', 'arrival', 'defective', 'bad', 'samsung', 'like', 'service', 'opened', 'item', 'product', 'cracked', 'days', 'dont', 'buy', 'came', 'smart', 'return', 'picture', 'arrived', 'box', 'broken', 'lg', 'screen', 'tv']\n",
      "______________________________________________________________________________\n",
      "LG Electronics 65UJ7700 65-Inch 4K Ultra HD Smart LED TV (2017 Model)\n",
      "\t ['set', 'horrible', 'true', 'hdr', 'support', 'arrived', 'gaming', 'watch', 'plastic', 'switched', 'box', 'blurry', 'best', 'credit', 'amazon', 'screen', 'star', 'apps', 'great', 'quality', 'damaged', 'received', 'returned', 'reviews', 'bought', 'buy', 'sony', 'picture', 'lg']\n",
      "______________________________________________________________________________\n",
      "Samsung Electronics QN65Q7C Curved 65-Inch 4K Ultra HD Smart QLED TV (2017 Model)\n",
      "\t ['chromrcast', 'use', 'way', 'end', 'better', 'suck', '12', 'firmware', 'programs', 'entered', 'enter', 'internet', 'mildly', 'connection', 'amozon', 'looses', 'times', 'weeks', 'later', 'called', 'bad', 'customer', 'arrived', 'time', 'tvs', 'smart', 'credentials', 'service', 'samsung']\n",
      "______________________________________________________________________________\n",
      "Samsung Electronics QN65Q7F 65-Inch 4K Ultra HD Smart QLED TV (2017 Model)\n",
      "\t ['dead', 'just', 'terrible', 'got', 'went', 'box', 'lines', 'money', 'looks', 'bad', '4k', 'use', 'amazon', 'motion', 'time', 'buy', 'new', 'black', 'really', 'customer', 'like', 'service', 'great', 'star', 'oled', 'screen', 'remote', 'picture', 'samsung']\n",
      "______________________________________________________________________________\n",
      "Samsung Electronics QN65Q8C Curved 65-Inch 4K Ultra HD Smart QLED TV (2017 Model)\n",
      "\t ['picture', 'turn', 'weeks', 'television', 'repair', 'opened', 'retaped', 'received', 'closed', 'cracked', 'arrived', 'removed', 'screens', 'thinking', 'like', 'damaged', 'product', 'recommend', 'buying', 'grade', 'fake', 'com', 'star', 'reviews', 'fakespot', 'samsung', 'amazon', 'screen', 'box']\n",
      "______________________________________________________________________________\n",
      "Samsung Electronics QN65Q9 65-Inch 4K Ultra HD Smart QLED TV (2017 Model)\n",
      "\t ['2017', 'image', 'absolutely', 'gets', 'im', 'buy', 'past', 'sony', 'update', '4k', 'love', 'superior', 'tacky', 'tvs', 'amazon', 'box', 'honestly', 'dropping', '20k', 'people', 'wait', 'wut', 'pay', 'just', 'oled', 'new', 'star', 'broke', 'samsung']\n",
      "______________________________________________________________________________\n",
      "Samsung Electronics UN65MU6290 65-Inch 4K Ultra HD Smart LED TV (2017 Model)\n",
      "\t ['doesnt', '30hz', 'stopped', 'pixels', 'warranty', 'house', 'weeks', 'costco', 'months', '2017', 'days', 'messed', 'ago', 'problem', 'watching', 'buyer', 'beware', 'buy', 'turns', 'broken', 'worked', 'box', '4k', 'tvs', 'great', 'screen', 'star', 'bought', 'samsung']\n",
      "______________________________________________________________________________\n",
      "Samsung Electronics UN65MU6300 65-Inch 4K Ultra HD Smart LED TV (2017 Model)\n",
      "\t ['sound', 'ads', 'defective', 'time', 'support', 'product', 'bought', 'turn', 'warranty', 'day', 'return', 'smart', 'customer', 'terrible', 'problem', 'months', 'box', 'dont', 'broken', 'service', 'picture', 'work', 'just', 'working', 'buy', 'remote', 'screen', 'star', 'samsung']\n",
      "______________________________________________________________________________\n",
      "Samsung Electronics UN65MU6500 Curved 65-Inch 4K Ultra HD Smart LED TV (2017 Model)\n",
      "\t ['bad', 'ads', 'great', 'app', 'got', 'poor', 'working', 'wont', 'product', 'tvs', 'came', 'refund', 'right', 'disappointed', 'customer', 'sound', 'return', 'damaged', 'service', 'buy', 'smart', 'amazon', 'arrived', 'quality', 'screen', 'star', 'picture', 'broken', 'samsung']\n",
      "______________________________________________________________________________\n",
      "Samsung Electronics UN65MU7000 65-Inch 4K Ultra HD Smart LED TV (2017 Model)\n",
      "\t ['damaged', 'bad', 'quality', 'im', 'product', 'weeks', 'return', 'power', 'terrible', 'new', 'great', 'year', 'junk', 'worked', 'good', 'works', 'star', 'months', 'turn', 'picture', 'remote', 'service', 'got', 'broken', 'screen', 'just', 'buy', 'smart', 'samsung']\n",
      "______________________________________________________________________________\n",
      "Samsung Electronics UN65MU7500 Curved 65-Inch 4K Ultra HD Smart LED TV (2017 Model)\n",
      "\t ['purchase', 'way', 'monthes', 'manufactures', 'lasted', 'months', 'helped', 'clear', 'dark', 'defect', 'went', 'help', 'half', 'new', 'brand', 'received', 'refurbished', 'thought', 'think', 'buyed', 'got', 'black', 'line', 'just', 'middle', 'right', 'buy', 'picture', 'tv']\n",
      "______________________________________________________________________________\n",
      "Samsung Electronics UN65MU7600 Curved 65-Inch 4K Ultra HD Smart LED TV (2017 Model)\n",
      "\t ['repair', 'samgsung', 'came', 'great', 'went', 'screen', 'error', 'warning', 'time', 'guide', 'smart', 'manual', 'lasted', 'phone', 'warranty', 'months', 'cuz', 'correctly', 'voice', 'don', 'waste', 'money', 'later', 'weeks', 'tv', 'disappointed', 'worked', 'samsung', 'hacked']\n",
      "______________________________________________________________________________\n",
      "Samsung Electronics UN65MU8000 65-Inch 4K Ultra HD Smart LED TV (2017 Model)\n",
      "\t ['money', 'garbage', 'warranty', 'like', 'terrible', 'picture', 'work', 'advertisements', 'broken', 'product', 'just', 'dont', 'time', 'months', 'customer', 'tvs', 'buy', 'service', 'model', 'use', 'new', 'support', 'connect', 'ads', 'amazon', 'box', 'star', 'screen', 'samsung']\n",
      "______________________________________________________________________________\n",
      "Samsung Electronics UN65MU8500 Curved 65-Inch 4K Ultra HD Smart LED TV (2017 Model)\n",
      "\t ['comes', 'way', 'issues', '1500', 'wont', 'kills', 'blanks', 'initial', 'startup', 'right', 'newest', 'smart', 'seconds', 'setup', 'sits', 'day', 'like', 'turn', 'long', 'shipping', 'called', 'big', 'fresh', 'screen', 'samsung', 'box', 'software', 'update', 'amazon']\n",
      "______________________________________________________________________________\n",
      "Samsung Electronics UN65MU9000 65-Inch 4K Ultra HD Smart LED TV (2017 Model)\n",
      "\t ['recently', 'bought', 'started', 'picture', 'nice', 'quality', 'issue', 'days', 'replacement', 'hdmi', 'months', 'year', 'tvs', 'dont', 'working', 'problem', 'connected', 'internet', 'customer', 'great', 'service', 'issues', 'screen', 'avoid', 'box', 'television', 'buy', 'connect', 'samsung']\n",
      "______________________________________________________________________________\n",
      "Samsung UN65LS003AFXZA Flat 65 LED 4K UHD The Frame SmartTV 2017\n",
      "\t ['mode', 'customer', 'problem', 'worked', 'slideshow', 'television', 'fix', 'dont', 'picture', 'dumb', 'problems', 'months', 'box', 'cable', 'warranty', 'quality', 'money', 'just', 'worth', 'buy', 'set', 'new', 'watching', 'product', 'turns', 'service', 'work', 'art', 'samsung']\n",
      "______________________________________________________________________________\n",
      "Sony KD60X690E 60-Inch 4K Ultra HD Smart LED TV (2017 Model)\n",
      "\t ['away', 'brag', 'sound', 'just', 'return', 'software', 'huge', 'power', 'work', 'toxic', 'time', 'looks', 'ok', 'black', 'hdr', 'set', 'quality', 'like', 'great', 'dont', 'expect', 'issues', 'arrived', 'picture', 'buy', 'broken', 'screen', 'star', 'sony']\n",
      "______________________________________________________________________________\n",
      "VIZIO 65 Class 4K (2160P) Smart XLED Home Theater Display (E65-E1)\n",
      "\t ['yr', 'remotes', 'old', 'new', 'replaced', 'junk', 'lasted', 'vizio', 'design', 'hdmi', 'support', 'buy', 'content', '50', '10', 'months', 'smart', 'quit', 'remote', 'wouldnt', 'got', 'soundbar', 'port', 'hdr', 'stand', 'came', 'broken', 'beware', 'tv']\n",
      "______________________________________________________________________________\n",
      "VIZIO M65-E0 SmartCast 65 4K UHD HDR XLED Plus Display\n",
      "\t ['screen', 'defect', 'im', 'television', 'worthless', 'update', 'wouldnt', 'think', 'feature', 'simply', 'picture', 'reviews', 'deal', 'equally', 'descent', 'new', 'app', 'great', 'time', 'damage', 'warranty', 'frame', 'smartcast', 'good', 'like', 'remote', 'doesnt', 'vizio', 'work']\n",
      "______________________________________________________________________________\n",
      "None\n"
     ]
    }
   ],
   "source": [
    "print (pos_neg_sentiments(df_new[df_new['rating'] == 0]))"
   ]
  },
  {
   "cell_type": "code",
   "execution_count": 175,
   "metadata": {},
   "outputs": [
    {
     "name": "stderr",
     "output_type": "stream",
     "text": [
      "/anaconda3/lib/python3.6/site-packages/sklearn/naive_bayes.py:461: RuntimeWarning: divide by zero encountered in log\n",
      "  self.class_log_prior_ = (np.log(self.class_count_) -\n"
     ]
    },
    {
     "name": "stdout",
     "output_type": "stream",
     "text": [
      "LG 60SJ8000 60-Inch 4K TV - Smart - HDR - LED - SJ8000\n",
      "\t ['blow', 'going', 'omg', 'looks', 'samsung', 'product', 'cool', 'outstanding', 'uhd', 'good', 'crystal', 'clear', 'new', 'love', 'tvs', 'oled', '120', 'really', 'picked', 'better', 'happy', 'lg', '60', 'seller', 'exellent', 'stars', 'picture', 'great', 'best']\n",
      "______________________________________________________________________________\n",
      "LG 65 Class 4K UHD HDR Smart LED TV - 65UJ6540\n",
      "\t ['easy', 'excellent', 'inch', 'replacing', 'saving', 'just', '4k', 'club', 'power', 'connection', 'luxury', 'response', 'fast', 'seller', 'resolution', 'ship', 'skin', 'deal', 'purchased', '65', 'box', 'price', 'local', 'uhd', 'wonderful', 'love', 'stars', 'picture', 'great']\n",
      "______________________________________________________________________________\n",
      "LG 65SJ8000 65 WebOS 3.5 Smart UHD 4K HDR LED HDTV\n",
      "\t ['im', 'wall', 'hot', 'sound', 'just', 'real', 'ive', 'brilliant', 'interface', 'price', '4k', 'clear', 'remote', 'love', 'lg', 'set', 'great', 'beautiful', 'television', 'excellent', 'bold', 'excelente', 'really', 'happy', 'like', 'good', 'quality', 'picture', 'stars']\n",
      "______________________________________________________________________________\n",
      "LG Electronics 65UJ6300 65-Inch 4K Ultra HD Smart LED TV (2017 Model)\n",
      "\t ['setup', 'product', 'delivery', 'beautiful', 'best', 'happy', 'smart', 'set', '4k', 'value', 'perfect', 'excellent', 'like', 'use', 'clear', 'nice', 'amazing', 'lg', 'easy', 'works', 'sound', 'quality', 'awesome', 'price', 'good', 'love', 'picture', 'tv', 'great']\n",
      "______________________________________________________________________________\n",
      "LG Electronics 65UJ7700 65-Inch 4K Ultra HD Smart LED TV (2017 Model)\n",
      "\t ['bought', 'television', 'features', 'nice', 'just', 'set', 'product', 'smart', 'like', 'amazing', 'beautiful', 'perfect', 'quality', 'far', 'lg', 'easy', '4k', 'remote', 'works', 'happy', 'best', 'awesome', 'sound', 'price', 'love', 'good', 'picture', 'great', 'tv']\n",
      "______________________________________________________________________________\n",
      "Samsung Electronics QN65Q7C Curved 65-Inch 4K Ultra HD Smart QLED TV (2017 Model)\n",
      "\t ['viewing', 'dislikes', 'experience', 'oh', 'tvs', 'use', 'colors', 'easy', 'color', 'box', 'curve', 'remote', 'seen', 'screen', 'good', 'quality', 'design', 'product', 'smart', 'awesome', 'television', 'qled', 'best', 'like', 'great', 'samsung', 'picture', 'love', 'stars']\n",
      "______________________________________________________________________________\n",
      "Samsung Electronics QN65Q7F 65-Inch 4K Ultra HD Smart QLED TV (2017 Model)\n",
      "\t ['television', 'good', 'use', 'better', 'design', 'room', 'looks', 'connect', 'screen', 'just', 'beautiful', 'box', 'best', 'really', 'colors', 'love', 'smart', 'amazing', 'set', '4k', 'like', 'qled', 'easy', 'remote', 'quality', 'samsung', 'stars', 'great', 'picture']\n",
      "______________________________________________________________________________\n",
      "Samsung Electronics QN65Q8C Curved 65-Inch 4K Ultra HD Smart QLED TV (2017 Model)\n",
      "\t ['4k', 'experience', 'phone', 'works', 'curve', 'satisfactory', 'good', 'day', 'view', 'just', 'like', 'quality', 'connect', 'love', 'box', 'amazing', 'screen', 'smart', 'fantastic', 'television', 'color', 'remote', 'samsung', 'best', 'sound', 'qled', 'picture', 'great', 'stars']\n",
      "______________________________________________________________________________\n",
      "Samsung Electronics QN65Q9 65-Inch 4K Ultra HD Smart QLED TV (2017 Model)\n",
      "\t ['resolution', 'years', 'box', 'legs', 'bright', 'wall', 'q9', 'delivered', 'excellent', 'good', 'use', 'time', 'remote', 'just', 'set', 'love', 'connect', 'amazing', 'quality', 'new', 'like', 'television', '4k', 'samsung', 'sound', 'best', 'picture', 'great', 'stars']\n",
      "______________________________________________________________________________\n",
      "Samsung Electronics UN65MU6290 65-Inch 4K Ultra HD Smart LED TV (2017 Model)\n",
      "\t ['pleased', 'television', 'set', 'buy', 'really', 'far', 'bought', '4k', 'perfect', 'sound', 'fantastic', 'product', 'amazing', 'excellent', 'best', 'smart', 'value', 'awesome', 'nice', 'features', 'samsung', 'easy', 'quality', 'good', 'price', 'love', 'picture', 'great', 'stars']\n",
      "______________________________________________________________________________\n",
      "Samsung Electronics UN65MU6300 65-Inch 4K Ultra HD Smart LED TV (2017 Model)\n",
      "\t ['like', 'perfect', 'really', 'features', 'clear', 'best', 'use', 'product', '4k', 'remote', 'works', 'beautiful', 'happy', 'smart', 'nice', 'amazing', 'awesome', 'sound', 'samsung', 'set', 'easy', 'quality', 'excellent', 'price', 'good', 'love', 'picture', 'great', 'tv']\n",
      "______________________________________________________________________________\n",
      "Samsung Electronics UN65MU6500 Curved 65-Inch 4K Ultra HD Smart LED TV (2017 Model)\n",
      "\t ['buy', 'purchase', 'just', 'screen', '4k', 'curved', 'fantastic', 'curve', 'remote', 'television', 'best', 'samsung', 'nice', 'like', 'set', 'perfect', 'easy', 'beautiful', 'price', 'quality', 'amazing', 'awesome', 'sound', 'excellent', 'good', 'picture', 'great', 'love', 'tv']\n",
      "______________________________________________________________________________\n",
      "Samsung Electronics UN65MU7000 65-Inch 4K Ultra HD Smart LED TV (2017 Model)\n",
      "\t ['perfect', 'works', 'looks', 'smart', 'happy', 'really', 'color', 'beautiful', 'product', 'awesome', 'use', 'nice', 'best', 'remote', 'like', 'set', '4k', 'price', 'amazing', 'sound', 'quality', 'excellent', 'easy', 'samsung', 'love', 'good', 'picture', 'great', 'tv']\n",
      "______________________________________________________________________________\n",
      "Samsung Electronics UN65MU7500 Curved 65-Inch 4K Ultra HD Smart LED TV (2017 Model)\n",
      "\t ['value', 'arrived', 'time', 'ok', 'recommend', 'awesome', 'ive', 'quality', 'amazing', 'buy', 'nice', 'price', 'excellent', 'looks', 'works', 'smart', 'product', 'sound', 'fantastic', 'samsung', 'best', 'like', 'screen', 'curved', 'good', 'love', 'picture', 'great', 'tv']\n",
      "______________________________________________________________________________\n",
      "Samsung Electronics UN65MU7600 Curved 65-Inch 4K Ultra HD Smart LED TV (2017 Model)\n",
      "\t ['amazon', 'purchase', 'remote', 'color', 'item', 'hdr', 'easy', 'veryhappylovethetv', 'nice', 'computer', 'screen', 'use', 'set', 'amazing', 'setup', 'price', 'beautiful', 'like', '4k', 'monitor', 'curved', 'excellent', 'quality', 'good', 'samsung', 'picture', 'great', 'tv', 'love']\n",
      "______________________________________________________________________________\n",
      "Samsung Electronics UN65MU8000 65-Inch 4K Ultra HD Smart LED TV (2017 Model)\n",
      "\t ['just', 'setup', 'really', 'buy', 'nice', 'tvs', '4k', 'use', 'far', 'fantastic', 'price', 'remote', 'sound', 'like', 'product', 'set', 'amazing', 'good', 'beautiful', 'quality', 'best', 'excellent', 'easy', 'samsung', 'awesome', 'love', 'picture', 'great', 'tv']\n",
      "______________________________________________________________________________\n",
      "Samsung Electronics UN65MU8500 Curved 65-Inch 4K Ultra HD Smart LED TV (2017 Model)\n",
      "\t ['room', 'worth', 'super', 'color', 'curve', 'time', 'satisfied', 'set', 'easy', 'amazing', 'samsung', 'buy', 'money', 'awesome', 'far', '4k', 'purchase', 'product', 'beautiful', 'price', 'good', 'sound', 'nice', 'quality', 'love', 'best', 'picture', 'great', 'tv']\n",
      "______________________________________________________________________________\n",
      "Samsung Electronics UN65MU9000 65-Inch 4K Ultra HD Smart LED TV (2017 Model)\n",
      "\t ['screen', 'happy', 'recommend', 'sound', 'highly', 'purchase', 'looks', 'colors', 'just', 'excellent', 'beautiful', 'like', 'best', 'easy', 'far', 'really', 'amazing', 'price', 'set', 'quality', '4k', 'love', 'remote', 'samsung', 'awesome', 'good', 'picture', 'great', 'stars']\n",
      "______________________________________________________________________________\n",
      "Samsung UN65LS003AFXZA Flat 65 LED 4K UHD The Frame SmartTV 2017\n",
      "\t ['use', 'box', 'sound', 'good', 'ive', 'mount', 'cable', 'pictures', 'just', 'screen', 'amazing', 'easy', 'love', 'piece', 'really', 'look', 'beautiful', 'living', 'mode', 'quality', 'like', 'samsung', 'room', 'stars', 'picture', 'wall', 'frame', 'great', 'art']\n",
      "______________________________________________________________________________\n",
      "Sony KD60X690E 60-Inch 4K Ultra HD Smart LED TV (2017 Model)\n",
      "\t ['perfect', 'friday', 'deal', 'black', 'purchase', 'far', 'super', 'better', '70', 'buy', 'just', 'use', 'amazing', '4k', 'easy', 'sound', 'really', 'happy', 'awesome', 'set', 'price', 'quality', 'excellent', 'love', 'good', 'sony', 'picture', 'great', 'tv']\n",
      "______________________________________________________________________________\n",
      "VIZIO M65-E0 SmartCast 65 4K UHD HDR XLED Plus Display\n",
      "\t ['crank', 'television', 'sounds', 'low', 'excellent', 'love', 'little', 'just', 'purchase', 'ended', 'product', 'setup', 'laws', 'buying', 'install', 'gave', 'content', 'picture', 'value', 'beautifully', 'sports', 'flow', 'stars', 'amazing', 'perfectly', 'smartcast', 'easy', 'works', 'tv']\n",
      "______________________________________________________________________________\n",
      "None\n"
     ]
    }
   ],
   "source": [
    "print (pos_neg_sentiments(df_new[df_new['rating'] == 1]))"
   ]
  },
  {
   "cell_type": "code",
   "execution_count": 73,
   "metadata": {},
   "outputs": [
    {
     "name": "stderr",
     "output_type": "stream",
     "text": [
      "/anaconda3/lib/python3.6/site-packages/sklearn/model_selection/_split.py:2026: FutureWarning: From version 0.21, test_size will always complement train_size unless both are specified.\n",
      "  FutureWarning)\n"
     ]
    }
   ],
   "source": [
    "# create tfidf for all postivie and negative ratings\n",
    "tfidf = TfidfVectorizer(stop_words='english',max_features=10000)\n",
    "X_train_descr_vectors = tfidf.fit_transform(X_train)\n",
    "X_test_descr_vectors = tfidf.transform(X_test)\n",
    "\n",
    "# create tfidf for all products within positive ratings\n",
    "X_pos = df_new[df_new['rating'] == 1]['des']\n",
    "y_pos = df_new[df_new['rating'] == 1]['p_name']\n",
    "X_pos_train, X_pos_test, y_pos_train, y_pos_test = train_test_split(X_pos, y_pos, train_size=0.8)\n",
    "\n",
    "tfidf_pos = TfidfVectorizer(stop_words='english',max_features=10000)\n",
    "X_pos_train_descr_vectors = tfidf_pos.fit_transform(X_pos_train)\n",
    "X_pos_test_descr_vectors = tfidf_pos.transform(X_pos_test)\n",
    "\n",
    "# create tfidf for all products within negative ratings\n",
    "X_neg = df_new[df_new['rating'] == 0]['des']\n",
    "y_neg = df_new[df_new['rating'] == 0]['p_name']\n",
    "X_neg_train, X_neg_test, y_neg_train, y_neg_test = train_test_split(X_neg, y_neg, train_size=0.8)\n",
    "\n",
    "tfidf_neg = TfidfVectorizer(stop_words='english',max_features=10000)\n",
    "X_neg_train_descr_vectors = tfidf_neg.fit_transform(X_neg_train)\n",
    "X_neg_test_descr_vectors = tfidf_neg.transform(X_neg_test)"
   ]
  },
  {
   "cell_type": "code",
   "execution_count": 74,
   "metadata": {},
   "outputs": [
    {
     "data": {
      "text/plain": [
       "((2813, 8900), (2867, 8085), (650, 4784))"
      ]
     },
     "execution_count": 74,
     "metadata": {},
     "output_type": "execute_result"
    }
   ],
   "source": [
    "X_train_descr_vectors.todense().shape, X_pos_descr_vectors.todense().shape, X_neg_descr_vectors.todense().shape"
   ]
  },
  {
   "cell_type": "code",
   "execution_count": 75,
   "metadata": {
    "scrolled": true
   },
   "outputs": [
    {
     "data": {
      "text/plain": [
       "((2813,), (704,))"
      ]
     },
     "execution_count": 75,
     "metadata": {},
     "output_type": "execute_result"
    }
   ],
   "source": [
    "y_train.shape, y_test.shape"
   ]
  },
  {
   "cell_type": "code",
   "execution_count": 80,
   "metadata": {},
   "outputs": [
    {
     "name": "stdout",
     "output_type": "stream",
     "text": [
      "0.8752221827230715\n"
     ]
    },
    {
     "data": {
      "image/png": "[encoded data removed]",
      "text/plain": [
       "<matplotlib.figure.Figure at 0x1a37962cc0>"
      ]
     },
     "metadata": {},
     "output_type": "display_data"
    },
    {
     "name": "stdout",
     "output_type": "stream",
     "text": [
      "0.859375\n"
     ]
    },
    {
     "data": {
      "image/png": "[encoded data removed]",
      "text/plain": [
       "<matplotlib.figure.Figure at 0x1a1c369dd8>"
      ]
     },
     "metadata": {},
     "output_type": "display_data"
    }
   ],
   "source": [
    "nb = MultinomialNB()\n",
    "nb.fit(X_train_descr_vectors, y_train.transpose())\n",
    "y_hat_train = nb.predict_proba(X_train_descr_vectors)\n",
    "y_hat = nb.predict_proba(X_test_descr_vectors)\n",
    "\n",
    "log_loss(y_train, y_hat_train)\n",
    "print(nb.score(X_train_descr_vectors, y_train))\n",
    "\n",
    "fig, ax = plt.subplots(1,1)\n",
    "galgraphs.plot_roc(ax, nb, X_train_descr_vectors.todense(), y_train)\n",
    "plt.show()\n",
    "\n",
    "log_loss(y_test, y_hat)\n",
    "print(nb.score(X_test_descr_vectors, y_test))\n",
    "# np.argmax(y_hat, axis=1)\n",
    "# y_test\n",
    "# X_test_descr_vectors.shape[0]\n",
    "# X_test_descr_vectors.shape\n",
    "# nb.decision\n",
    "\n",
    "\n",
    "# galgraphs.roc_curve(y_test_one_hot, y_hat[:,0])\n",
    "fig, ax = plt.subplots(1,1)\n",
    "galgraphs.plot_roc(ax, nb, X_test_descr_vectors.todense(), y_test)\n",
    "plt.show()"
   ]
  },
  {
   "cell_type": "code",
   "execution_count": 151,
   "metadata": {},
   "outputs": [
    {
     "name": "stdout",
     "output_type": "stream",
     "text": [
      "cracked\n",
      "lg\n",
      "like\n",
      "picture\n",
      "smart\n",
      "bought\n",
      "days\n",
      "turn\n",
      "dont\n",
      "remote\n",
      "time\n",
      "tvs\n",
      "new\n",
      "amazon\n",
      "problem\n",
      "working\n",
      "support\n",
      "warranty\n",
      "work\n",
      "just\n",
      "months\n",
      "box\n",
      "customer\n",
      "broken\n",
      "return\n",
      "service\n",
      "buy\n",
      "screen\n",
      "samsung\n"
     ]
    }
   ],
   "source": [
    "arr_0 = np.argsort(nb.feature_log_prob_[0])[-30:-1]\n",
    "for i in arr_0:\n",
    "    print (tfidf.get_feature_names()[i])"
   ]
  },
  {
   "cell_type": "code",
   "execution_count": 152,
   "metadata": {},
   "outputs": [
    {
     "name": "stdout",
     "output_type": "stream",
     "text": [
      "just\n",
      "excellent\n",
      "clear\n",
      "really\n",
      "beautiful\n",
      "product\n",
      "nice\n",
      "use\n",
      "starsexcellent\n",
      "happy\n",
      "awesome\n",
      "best\n",
      "smart\n",
      "like\n",
      "starslove\n",
      "remote\n",
      "amazing\n",
      "4k\n",
      "set\n",
      "samsung\n",
      "sound\n",
      "easy\n",
      "price\n",
      "quality\n",
      "good\n",
      "love\n",
      "starsgreat\n",
      "picture\n",
      "great\n"
     ]
    }
   ],
   "source": [
    "arr_1 = np.argsort(nb.feature_log_prob_[1])[-30:-1]\n",
    "for i in arr_1:\n",
    "    print (tfidf.get_feature_names()[i])"
   ]
  },
  {
   "cell_type": "code",
   "execution_count": 79,
   "metadata": {},
   "outputs": [
    {
     "data": {
      "text/plain": [
       "(0.36197121674662014, 0.36585365853658536)"
      ]
     },
     "execution_count": 79,
     "metadata": {},
     "output_type": "execute_result"
    }
   ],
   "source": [
    "from sklearn.preprocessing import LabelBinarizer\n",
    "lb = LabelBinarizer()\n",
    "lb.fit(y_pos_train)\n",
    "y_pos_train_one_hot = lb.transform(y_pos_train)\n",
    "y_pos_test_one_hot = lb.transform(y_pos_test)\n",
    "\n",
    "nb = MultinomialNB()\n",
    "nb.fit(X_pos_train_descr_vectors, y_pos_train.transpose())\n",
    "y_pos_hat_train = nb.predict_proba(X_pos_train_descr_vectors)\n",
    "y_pos_hat = nb.predict_proba(X_pos_test_descr_vectors)\n",
    "\n",
    "log_loss(y_pos_train_one_hot, y_pos_hat_train)\n",
    "train_score = nb.score(X_pos_train_descr_vectors, y_pos_train)\n",
    "\n",
    "# fig, ax = plt.subplots(1,1)\n",
    "# galgraphs.plot_roc(ax, nb, X_pos_train_descr_vectors.todense(), y_pos_train)\n",
    "# plt.show()\n",
    "\n",
    "log_loss(y_pos_test_one_hot, y_pos_hat)\n",
    "test_score = nb.score(X_pos_test_descr_vectors, y_pos_test)\n",
    "# np.argmax(y_hat, axis=1)\n",
    "# y_test\n",
    "# X_test_descr_vectors.shape[0]\n",
    "# X_test_descr_vectors.shape\n",
    "# nb.decision\n",
    "\n",
    "y_pos_test_one_hot\n",
    "# galgraphs.roc_curve(y_test_one_hot, y_hat[:,0])\n",
    "# fig, ax = plt.subplots(1,1)\n",
    "# galgraphs.plot_roc(ax, nb, X_pos_test_descr_vectors.todense(), y_pos_test)\n",
    "# plt.show()\n",
    "train_score, test_score"
   ]
  },
  {
   "cell_type": "code",
   "execution_count": null,
   "metadata": {},
   "outputs": [],
   "source": []
  }
 ],
 "metadata": {
  "kernelspec": {
   "display_name": "Python 3",
   "language": "python",
   "name": "python3"
  },
  "language_info": {
   "codemirror_mode": {
    "name": "ipython",
    "version": 3
   },
   "file_extension": ".py",
   "mimetype": "text/x-python",
   "name": "python",
   "nbconvert_exporter": "python",
   "pygments_lexer": "ipython3",
   "version": "3.6.4"
  }
 },
 "nbformat": 4,
 "nbformat_minor": 2
}
