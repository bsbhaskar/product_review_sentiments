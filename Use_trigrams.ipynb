{
 "cells": [
  {
   "cell_type": "code",
   "execution_count": 29,
   "metadata": {},
   "outputs": [],
   "source": [
    "import psycopg2\n",
    "import pandas as pd\n",
    "import numpy as np\n",
    "import warnings\n",
    "warnings.filterwarnings(\"ignore\")"
   ]
  },
  {
   "cell_type": "code",
   "execution_count": 30,
   "metadata": {},
   "outputs": [
    {
     "data": {
      "text/html": [
       "<div>\n",
       "<style scoped>\n",
       "    .dataframe tbody tr th:only-of-type {\n",
       "        vertical-align: middle;\n",
       "    }\n",
       "\n",
       "    .dataframe tbody tr th {\n",
       "        vertical-align: top;\n",
       "    }\n",
       "\n",
       "    .dataframe thead th {\n",
       "        text-align: right;\n",
       "    }\n",
       "</style>\n",
       "<table border=\"1\" class=\"dataframe\">\n",
       "  <thead>\n",
       "    <tr style=\"text-align: right;\">\n",
       "      <th></th>\n",
       "      <th>id</th>\n",
       "      <th>product</th>\n",
       "      <th>url</th>\n",
       "      <th>p_no</th>\n",
       "      <th>r_no</th>\n",
       "      <th>r_stars</th>\n",
       "      <th>r_date</th>\n",
       "      <th>r_name</th>\n",
       "      <th>r_title</th>\n",
       "      <th>r_text</th>\n",
       "      <th>r_comments</th>\n",
       "      <th>brand_name</th>\n",
       "      <th>category</th>\n",
       "      <th>model</th>\n",
       "      <th>rating</th>\n",
       "      <th>reviews</th>\n",
       "    </tr>\n",
       "  </thead>\n",
       "  <tbody>\n",
       "    <tr>\n",
       "      <th>0</th>\n",
       "      <td>6897</td>\n",
       "      <td>LG Electronics 55UJ6300 55-Inch 4K Ultra HD Sm...</td>\n",
       "      <td>https://www.amazon.com/LG-Electronics-55UJ6300...</td>\n",
       "      <td>14</td>\n",
       "      <td>134</td>\n",
       "      <td>4.0 out of 5 stars</td>\n",
       "      <td>February 10, 2018</td>\n",
       "      <td>Richard Monigold</td>\n",
       "      <td>Four Stars</td>\n",
       "      <td>nice tv</td>\n",
       "      <td>Verified Purchase          Helpful          No...</td>\n",
       "      <td>LG</td>\n",
       "      <td>tv</td>\n",
       "      <td>55UJ6300</td>\n",
       "      <td>4</td>\n",
       "      <td>Four Stars nice tv</td>\n",
       "    </tr>\n",
       "    <tr>\n",
       "      <th>1</th>\n",
       "      <td>6898</td>\n",
       "      <td>LG Electronics 55UJ6300 55-Inch 4K Ultra HD Sm...</td>\n",
       "      <td>https://www.amazon.com/LG-Electronics-55UJ6300...</td>\n",
       "      <td>14</td>\n",
       "      <td>135</td>\n",
       "      <td>5.0 out of 5 stars</td>\n",
       "      <td>May 15, 2018</td>\n",
       "      <td>Amazon Customer</td>\n",
       "      <td>Five Stars</td>\n",
       "      <td>Love it</td>\n",
       "      <td>Verified Purchase          Helpful          No...</td>\n",
       "      <td>LG</td>\n",
       "      <td>tv</td>\n",
       "      <td>55UJ6300</td>\n",
       "      <td>5</td>\n",
       "      <td>Five Stars Love it</td>\n",
       "    </tr>\n",
       "  </tbody>\n",
       "</table>\n",
       "</div>"
      ],
      "text/plain": [
       "     id                                            product  \\\n",
       "0  6897  LG Electronics 55UJ6300 55-Inch 4K Ultra HD Sm...   \n",
       "1  6898  LG Electronics 55UJ6300 55-Inch 4K Ultra HD Sm...   \n",
       "\n",
       "                                                 url  p_no  r_no  \\\n",
       "0  https://www.amazon.com/LG-Electronics-55UJ6300...    14   134   \n",
       "1  https://www.amazon.com/LG-Electronics-55UJ6300...    14   135   \n",
       "\n",
       "              r_stars             r_date            r_name     r_title  \\\n",
       "0  4.0 out of 5 stars  February 10, 2018  Richard Monigold  Four Stars   \n",
       "1  5.0 out of 5 stars       May 15, 2018   Amazon Customer  Five Stars   \n",
       "\n",
       "    r_text                                         r_comments brand_name  \\\n",
       "0  nice tv  Verified Purchase          Helpful          No...         LG   \n",
       "1  Love it  Verified Purchase          Helpful          No...         LG   \n",
       "\n",
       "  category     model  rating             reviews  \n",
       "0       tv  55UJ6300       4  Four Stars nice tv  \n",
       "1       tv  55UJ6300       5  Five Stars Love it  "
      ]
     },
     "execution_count": 30,
     "metadata": {},
     "output_type": "execute_result"
    }
   ],
   "source": [
    "from src.load_review_data import ReviewDataLoader\n",
    "rdl = ReviewDataLoader()\n",
    "df = rdl.retrieve_all_reviews()\n",
    "#df = rdl.retrieve_reviews('LG Electronics 65UJ6300 65-Inch 4K Ultra HD Smart LED TV (2017 Model)')\n",
    "df.head(2)"
   ]
  },
  {
   "cell_type": "code",
   "execution_count": 31,
   "metadata": {},
   "outputs": [
    {
     "data": {
      "text/html": [
       "<div>\n",
       "<style scoped>\n",
       "    .dataframe tbody tr th:only-of-type {\n",
       "        vertical-align: middle;\n",
       "    }\n",
       "\n",
       "    .dataframe tbody tr th {\n",
       "        vertical-align: top;\n",
       "    }\n",
       "\n",
       "    .dataframe thead th {\n",
       "        text-align: right;\n",
       "    }\n",
       "</style>\n",
       "<table border=\"1\" class=\"dataframe\">\n",
       "  <thead>\n",
       "    <tr style=\"text-align: right;\">\n",
       "      <th></th>\n",
       "      <th>rating</th>\n",
       "      <th>product</th>\n",
       "      <th>reviews</th>\n",
       "      <th>model</th>\n",
       "      <th>review_length</th>\n",
       "    </tr>\n",
       "  </thead>\n",
       "  <tbody>\n",
       "    <tr>\n",
       "      <th>3</th>\n",
       "      <td>1</td>\n",
       "      <td>LG Electronics 55UJ6300 55-Inch 4K Ultra HD Sm...</td>\n",
       "      <td>Five Stars Great Value</td>\n",
       "      <td>55UJ6300</td>\n",
       "      <td>11</td>\n",
       "    </tr>\n",
       "    <tr>\n",
       "      <th>7</th>\n",
       "      <td>1</td>\n",
       "      <td>LG Electronics 55UJ6300 55-Inch 4K Ultra HD Sm...</td>\n",
       "      <td>Four Stars Very nice to, Im satisfied.</td>\n",
       "      <td>55UJ6300</td>\n",
       "      <td>27</td>\n",
       "    </tr>\n",
       "  </tbody>\n",
       "</table>\n",
       "</div>"
      ],
      "text/plain": [
       "   rating                                            product  \\\n",
       "3       1  LG Electronics 55UJ6300 55-Inch 4K Ultra HD Sm...   \n",
       "7       1  LG Electronics 55UJ6300 55-Inch 4K Ultra HD Sm...   \n",
       "\n",
       "                                  reviews     model  review_length  \n",
       "3                  Five Stars Great Value  55UJ6300             11  \n",
       "7  Four Stars Very nice to, Im satisfied.  55UJ6300             27  "
      ]
     },
     "execution_count": 31,
     "metadata": {},
     "output_type": "execute_result"
    }
   ],
   "source": [
    "df_new = df.copy()\n",
    "df_new = df_new[df_new['r_stars'].apply(lambda x: x in ['5.0 out of 5 stars','4.0 out of 5 stars','2.0 out of 5 stars','1.0 out of 5 stars'])]\n",
    "df_new['rating'] = df_new['r_stars'].apply(lambda x: 1 if x in ['4.0 out of 5 stars','5.0 out of 5 stars'] else 0)\n",
    "df_new['reviews'] = df['r_title'] + ' ' + df['r_text']\n",
    "df_new['review_length'] = df['r_text'].apply(lambda x: len(x))\n",
    "df_new = df_new[['rating','product','reviews','model','review_length']]\n",
    "df_new = df_new[df_new['review_length'] < 1000]\n",
    "df_new = df_new[df_new['review_length'] > 10]\n",
    "df_new.head(2)"
   ]
  },
  {
   "cell_type": "code",
   "execution_count": 32,
   "metadata": {},
   "outputs": [
    {
     "data": {
      "text/plain": [
       "rating           7073\n",
       "product          7073\n",
       "reviews          7073\n",
       "model            7073\n",
       "review_length    7073\n",
       "dtype: int64"
      ]
     },
     "execution_count": 32,
     "metadata": {},
     "output_type": "execute_result"
    }
   ],
   "source": [
    "df_new.count()"
   ]
  },
  {
   "cell_type": "code",
   "execution_count": 56,
   "metadata": {},
   "outputs": [],
   "source": [
    "from src.Trigrams import Trigrams\n",
    "tr = Trigrams()\n",
    "tr.build_trigrams2(df_new)"
   ]
  },
  {
   "cell_type": "code",
   "execution_count": 57,
   "metadata": {},
   "outputs": [
    {
     "data": {
      "text/html": [
       "<div>\n",
       "<style scoped>\n",
       "    .dataframe tbody tr th:only-of-type {\n",
       "        vertical-align: middle;\n",
       "    }\n",
       "\n",
       "    .dataframe tbody tr th {\n",
       "        vertical-align: top;\n",
       "    }\n",
       "\n",
       "    .dataframe thead th {\n",
       "        text-align: right;\n",
       "    }\n",
       "</style>\n",
       "<table border=\"1\" class=\"dataframe\">\n",
       "  <thead>\n",
       "    <tr style=\"text-align: right;\">\n",
       "      <th></th>\n",
       "      <th>rating</th>\n",
       "      <th>product</th>\n",
       "      <th>reviews</th>\n",
       "      <th>model</th>\n",
       "      <th>review_length</th>\n",
       "    </tr>\n",
       "  </thead>\n",
       "  <tbody>\n",
       "    <tr>\n",
       "      <th>3</th>\n",
       "      <td>1</td>\n",
       "      <td>LG Electronics 55UJ6300 55-Inch 4K Ultra HD Sm...</td>\n",
       "      <td>great value</td>\n",
       "      <td>55UJ6300</td>\n",
       "      <td>11</td>\n",
       "    </tr>\n",
       "    <tr>\n",
       "      <th>7</th>\n",
       "      <td>1</td>\n",
       "      <td>LG Electronics 55UJ6300 55-Inch 4K Ultra HD Sm...</td>\n",
       "      <td>satisfied</td>\n",
       "      <td>55UJ6300</td>\n",
       "      <td>27</td>\n",
       "    </tr>\n",
       "  </tbody>\n",
       "</table>\n",
       "</div>"
      ],
      "text/plain": [
       "   rating                                            product      reviews  \\\n",
       "3       1  LG Electronics 55UJ6300 55-Inch 4K Ultra HD Sm...  great value   \n",
       "7       1  LG Electronics 55UJ6300 55-Inch 4K Ultra HD Sm...    satisfied   \n",
       "\n",
       "      model  review_length  \n",
       "3  55UJ6300             11  \n",
       "7  55UJ6300             27  "
      ]
     },
     "execution_count": 57,
     "metadata": {},
     "output_type": "execute_result"
    }
   ],
   "source": [
    "df_trigrams = tr.df_prod[['rating','product','review_trigrams','model','review_length']]\n",
    "df_trigrams = df_trigrams.rename(columns={'review_trigrams':'reviews'})\n",
    "df_trigrams.head(2)"
   ]
  },
  {
   "cell_type": "code",
   "execution_count": 58,
   "metadata": {},
   "outputs": [],
   "source": [
    "from src.naive_review_analyzer import NaiveReviewAnalyzer\n",
    "from src.LdaReviewAnalyzer import LdaReviewAnalyzer"
   ]
  },
  {
   "cell_type": "code",
   "execution_count": 59,
   "metadata": {},
   "outputs": [],
   "source": [
    "nra = NaiveReviewAnalyzer()\n"
   ]
  },
  {
   "cell_type": "code",
   "execution_count": 60,
   "metadata": {},
   "outputs": [
    {
     "data": {
      "text/html": [
       "<div>\n",
       "<style scoped>\n",
       "    .dataframe tbody tr th:only-of-type {\n",
       "        vertical-align: middle;\n",
       "    }\n",
       "\n",
       "    .dataframe tbody tr th {\n",
       "        vertical-align: top;\n",
       "    }\n",
       "\n",
       "    .dataframe thead th {\n",
       "        text-align: right;\n",
       "    }\n",
       "</style>\n",
       "<table border=\"1\" class=\"dataframe\">\n",
       "  <thead>\n",
       "    <tr style=\"text-align: right;\">\n",
       "      <th></th>\n",
       "      <th>product</th>\n",
       "      <th>reviews</th>\n",
       "      <th>model</th>\n",
       "      <th>review_length</th>\n",
       "    </tr>\n",
       "    <tr>\n",
       "      <th>rating</th>\n",
       "      <th></th>\n",
       "      <th></th>\n",
       "      <th></th>\n",
       "      <th></th>\n",
       "    </tr>\n",
       "  </thead>\n",
       "  <tbody>\n",
       "    <tr>\n",
       "      <th>0</th>\n",
       "      <td>64</td>\n",
       "      <td>64</td>\n",
       "      <td>64</td>\n",
       "      <td>64</td>\n",
       "    </tr>\n",
       "    <tr>\n",
       "      <th>1</th>\n",
       "      <td>254</td>\n",
       "      <td>254</td>\n",
       "      <td>254</td>\n",
       "      <td>254</td>\n",
       "    </tr>\n",
       "  </tbody>\n",
       "</table>\n",
       "</div>"
      ],
      "text/plain": [
       "        product  reviews  model  review_length\n",
       "rating                                        \n",
       "0            64       64     64             64\n",
       "1           254      254    254            254"
      ]
     },
     "execution_count": 60,
     "metadata": {},
     "output_type": "execute_result"
    }
   ],
   "source": [
    "df_test = df_trigrams[df_trigrams['model'] == '65UJ6300']\n",
    "df_test.groupby('rating').count()"
   ]
  },
  {
   "cell_type": "code",
   "execution_count": 61,
   "metadata": {},
   "outputs": [],
   "source": [
    "total_count = df_test['rating'].count()\n",
    "df_neg = df_test[df_test['rating'].apply(lambda x: x in [1,2])]\n",
    "neg_count = df_neg['rating'].count()\n",
    "df_pos = df_test[df_test['rating'].apply(lambda x: x in [4,5])]\n",
    "pos_count = df_pos['rating'].count()\n",
    "nra.create_bow(df_test)\n",
    "neg_nouns,neg_adjs  = nra.create_word_list(rating=[0])\n",
    "pos_nouns, pos_adjs = nra.create_word_list(rating=[1])"
   ]
  },
  {
   "cell_type": "code",
   "execution_count": 54,
   "metadata": {},
   "outputs": [
    {
     "data": {
      "image/png": "[encoded data removed]",
      "text/plain": [
       "<matplotlib.figure.Figure at 0x1a7807da20>"
      ]
     },
     "metadata": {},
     "output_type": "display_data"
    }
   ],
   "source": [
    "import matplotlib.pyplot as plt; plt.rcdefaults()\n",
    "import numpy as np\n",
    "import matplotlib.pyplot as plt\n",
    "%matplotlib inline\n",
    " \n",
    "max_count = 15    \n",
    "objects = [x[0] for i,x in enumerate(pos_adjs) if i < max_count]\n",
    "#y_pos = list(range(len(objects)))\n",
    "y_pos = list(range(len(objects)-1,-1,-1))\n",
    "performance = [x[1] for i,x in enumerate(pos_adjs) if i < max_count]\n",
    "    \n",
    "fig, ax = plt.subplots(1,1, figsize=(8,10))\n",
    "ax.barh(y_pos, performance, align='center', alpha=0.5)\n",
    "plt.yticks(y_pos, objects, fontsize=20)\n",
    "plt.xticks(fontsize=20)\n",
    "ax.set_xlabel('Relative Probability', fontsize=30)\n",
    "ax.set_title('Positive Keywords', fontsize=30)\n",
    " \n",
    "plt.show()"
   ]
  },
  {
   "cell_type": "code",
   "execution_count": 62,
   "metadata": {},
   "outputs": [
    {
     "data": {
      "image/png": "[encoded data removed]",
      "text/plain": [
       "<matplotlib.figure.Figure at 0x1a4a7451d0>"
      ]
     },
     "metadata": {},
     "output_type": "display_data"
    }
   ],
   "source": [
    "max_count = 15    \n",
    "objects = [x[0] for i,x in enumerate(neg_adjs) if i < max_count]\n",
    "#y_pos = list(range(len(objects)))\n",
    "y_neg = list(range(len(objects)-1,-1,-1))\n",
    "performance = [x[1] for i,x in enumerate(neg_adjs) if i < max_count]\n",
    "    \n",
    "fig, ax = plt.subplots(1,1, figsize=(8,10))\n",
    "ax.barh(y_neg, performance, align='center', alpha=0.5)\n",
    "plt.yticks(y_neg, objects, fontsize=20)\n",
    "plt.xticks(fontsize=20)\n",
    "ax.set_xlabel('Relative Probability', fontsize=30)\n",
    "ax.set_title('Negative Keywords', fontsize=30)\n",
    " \n",
    "plt.show()"
   ]
  },
  {
   "cell_type": "code",
   "execution_count": null,
   "metadata": {},
   "outputs": [],
   "source": []
  }
 ],
 "metadata": {
  "kernelspec": {
   "display_name": "Python 3",
   "language": "python",
   "name": "python3"
  },
  "language_info": {
   "codemirror_mode": {
    "name": "ipython",
    "version": 3
   },
   "file_extension": ".py",
   "mimetype": "text/x-python",
   "name": "python",
   "nbconvert_exporter": "python",
   "pygments_lexer": "ipython3",
   "version": "3.6.4"
  }
 },
 "nbformat": 4,
 "nbformat_minor": 2
}
